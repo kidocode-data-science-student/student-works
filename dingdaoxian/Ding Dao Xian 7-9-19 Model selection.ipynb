{
 "cells": [
  {
   "cell_type": "markdown",
   "metadata": {},
   "source": [
    "#### An Optimal model is the model that fits the data with best values for the evaluation metrics."
   ]
  },
  {
   "cell_type": "markdown",
   "metadata": {},
   "source": [
    "There are 3 methods :\n",
    "<ul>\n",
    "    <li>Best Subset</li>\n",
    "    <li>Forward stepwise</li>\n",
    "    <li>Backward stepwise</li>\n",
    "</ul>"
   ]
  },
  {
   "cell_type": "markdown",
   "metadata": {},
   "source": [
    "## Best subset\n",
    "Suppose there are k variables\n",
    "<ol>\n",
    "<li>Start with the NULL model i.e. model with no predictors</li>\n",
    "<li>Find the optimal model with 1 variable</li>\n",
    "<ul><li>Call this model M1</li></ul>\n",
    "<li>Find the optimal model with 2 variables</li>\n",
    "<ul><li>Call this model M2</li></ul>\n",
    "<li>And so on…  Repeat this process. Test all the combination of predictors for the optimal model</li>\n",
    "<ul><li>Until MK</li></ul>\n",
    "<li> The best model among M1…Mk i.e. the model that has the best fit</li>\n",
    "</ol>"
   ]
  },
  {
   "cell_type": "markdown",
   "metadata": {},
   "source": [
    "## Forward stepwise\n",
    "Suppose there are k variables\n",
    "<ol>\n",
    "<li>Start with the NULL model i.e. model with no predictors</li>\n",
    "<li>Find the optimal model with 1 variable</li>\n",
    "<ul><li>Call this model M1</li></ul>\n",
    "<li>Find the optimal model with M1 + 1 variable</li>\n",
    "<ul><li>Call this model M2</li></ul>\n",
    "<li>And so on…  Repeat this process</li>\n",
    "<ul><li>Until MK</li></ul>\n",
    "<li>Mk will be the best model</li>\n",
    "</ol>"
   ]
  },
  {
   "cell_type": "markdown",
   "metadata": {},
   "source": [
    "### Backward stepwise is forward but start with Mk then end with M1"
   ]
  }
 ],
 "metadata": {
  "kernelspec": {
   "display_name": "Python 3",
   "language": "python",
   "name": "python3"
  },
  "language_info": {
   "codemirror_mode": {
    "name": "ipython",
    "version": 3
   },
   "file_extension": ".py",
   "mimetype": "text/x-python",
   "name": "python",
   "nbconvert_exporter": "python",
   "pygments_lexer": "ipython3",
   "version": "3.7.3"
  }
 },
 "nbformat": 4,
 "nbformat_minor": 2
}
