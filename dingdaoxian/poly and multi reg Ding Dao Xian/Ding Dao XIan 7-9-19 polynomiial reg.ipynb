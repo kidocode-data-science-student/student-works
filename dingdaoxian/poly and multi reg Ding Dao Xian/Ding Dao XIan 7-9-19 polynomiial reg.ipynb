{
 "cells": [
  {
   "cell_type": "markdown",
   "metadata": {
    "scrolled": true
   },
   "source": [
    "%%html\n",
    "<h1 style=\"color:orange\">Polynomial Regression</h1>\n",
    "<img src=\"https://miro.medium.com/max/1400/1*iuUjOUrTypcB8z3XqqQgtQ.png\"/>\n",
    "<p>Polynomial regression is a form of linear regression in  which the relationship between the independent variable of x and the dependent variable y is modelled as an \"nth\" degree polynomial.\n",
    "</p>\n",
    "<p>There are two main ways to perform linear regression in Python — with Statsmodels and scikit-learn. It is also possible to use the Scipy library, but I feel this is not as common as the two other libraries I’ve mentioned. Let’s look into doing linear regression in both of them:</p>\n",
    "</br>\n",
    "<h2>When to use polynomial regression?</h2>\n",
    "<p>After a simple scatter plot, you could see that a straight line would not be convenient as some point will be completely out of zone which identifies whether the graph requires a polynomial or a linear regression.</p>\n",
    "<iframe width=\"560\" height=\"315\" src=\"https://www.youtube.com/embed/Qnt2vBRW8Io\" align=\"center\" frameborder=\"0\" allow=\"accelerometer; autoplay; encrypted-media; gyroscope; picture-in-picture\" allowfullscreen></iframe>"
   ]
  },
  {
   "cell_type": "markdown",
   "metadata": {},
   "source": [
    "The main difference between the linear and the polynomial regression is that the order of the (polyfit) is more than one in the polynomial regression. <img src=\"https://www.techeos.com/wp-content/uploads/2018/07/regression_equations.png\">\n",
    "Here the linear regression will be using this formula as a first order to find the coeffecients of the x and y.\n",
    "In the figure above, the order is more than one so that the line is curved leaning to the power of the x value. \n",
    "\n",
    "<h2>Functions to use:</h2>\n",
    "There are many functions that could be used to get the coeffecients of (x,y). \n",
    "<h3>polyfit</h3>\n",
    "the polyfit function allows you to put an equation for the program with an order that you can choose that determines the shape of the regression.\n",
    "\n",
    "example: yfit = np.poly1d(np.polyfit(x,y,\"order\"))</br>\n",
    "\n",
    "x_plot=np.arange(min(x),max(x),0.1)</br>\n",
    "\n",
    "y_plot=[yfit(i) for i in xx]</br>\n"
   ]
  },
  {
   "cell_type": "markdown",
   "metadata": {},
   "source": [
    "<h1 align=\"center\" style=\"background-color:yellow\">Tasks</h1>"
   ]
  },
  {
   "cell_type": "markdown",
   "metadata": {},
   "source": [
    "<h2 style=\"color:red\">Task 1:</h2>\n",
    "<p>There is a data-set <b>built in python</b> called \"boston\" that has a full data on crimes. Retrieve that data as a dataframe so you could see what u are dealing with, then do a polynomial regression by storing the first 40 rows of \"CRIM\" column as (x) and using the first 40 rows of (y), which is already given in the boston data-set.\n",
    "\n",
    "y = boston.target(a stored info table)</p>\n",
    "</br>\n",
    "\n",
    "Make sure to import \"sklearn\" to be able to retrieve this data-set:\n",
    "\n",
    "<p style=\"color:purple\">from sklearn.datasets import load_boston"
   ]
  },
  {
   "cell_type": "code",
   "execution_count": 2,
   "metadata": {},
   "outputs": [
    {
     "data": {
      "text/html": [
       "<div>\n",
       "<style scoped>\n",
       "    .dataframe tbody tr th:only-of-type {\n",
       "        vertical-align: middle;\n",
       "    }\n",
       "\n",
       "    .dataframe tbody tr th {\n",
       "        vertical-align: top;\n",
       "    }\n",
       "\n",
       "    .dataframe thead th {\n",
       "        text-align: right;\n",
       "    }\n",
       "</style>\n",
       "<table border=\"1\" class=\"dataframe\">\n",
       "  <thead>\n",
       "    <tr style=\"text-align: right;\">\n",
       "      <th></th>\n",
       "      <th>CRIM</th>\n",
       "      <th>ZN</th>\n",
       "      <th>INDUS</th>\n",
       "      <th>CHAS</th>\n",
       "      <th>NOX</th>\n",
       "      <th>RM</th>\n",
       "      <th>AGE</th>\n",
       "      <th>DIS</th>\n",
       "      <th>RAD</th>\n",
       "      <th>TAX</th>\n",
       "      <th>PTRATIO</th>\n",
       "      <th>B</th>\n",
       "      <th>LSTAT</th>\n",
       "    </tr>\n",
       "  </thead>\n",
       "  <tbody>\n",
       "    <tr>\n",
       "      <th>0</th>\n",
       "      <td>0.00632</td>\n",
       "      <td>18.0</td>\n",
       "      <td>2.31</td>\n",
       "      <td>0.0</td>\n",
       "      <td>0.538</td>\n",
       "      <td>6.575</td>\n",
       "      <td>65.2</td>\n",
       "      <td>4.0900</td>\n",
       "      <td>1.0</td>\n",
       "      <td>296.0</td>\n",
       "      <td>15.3</td>\n",
       "      <td>396.90</td>\n",
       "      <td>4.98</td>\n",
       "    </tr>\n",
       "    <tr>\n",
       "      <th>1</th>\n",
       "      <td>0.02731</td>\n",
       "      <td>0.0</td>\n",
       "      <td>7.07</td>\n",
       "      <td>0.0</td>\n",
       "      <td>0.469</td>\n",
       "      <td>6.421</td>\n",
       "      <td>78.9</td>\n",
       "      <td>4.9671</td>\n",
       "      <td>2.0</td>\n",
       "      <td>242.0</td>\n",
       "      <td>17.8</td>\n",
       "      <td>396.90</td>\n",
       "      <td>9.14</td>\n",
       "    </tr>\n",
       "    <tr>\n",
       "      <th>2</th>\n",
       "      <td>0.02729</td>\n",
       "      <td>0.0</td>\n",
       "      <td>7.07</td>\n",
       "      <td>0.0</td>\n",
       "      <td>0.469</td>\n",
       "      <td>7.185</td>\n",
       "      <td>61.1</td>\n",
       "      <td>4.9671</td>\n",
       "      <td>2.0</td>\n",
       "      <td>242.0</td>\n",
       "      <td>17.8</td>\n",
       "      <td>392.83</td>\n",
       "      <td>4.03</td>\n",
       "    </tr>\n",
       "    <tr>\n",
       "      <th>3</th>\n",
       "      <td>0.03237</td>\n",
       "      <td>0.0</td>\n",
       "      <td>2.18</td>\n",
       "      <td>0.0</td>\n",
       "      <td>0.458</td>\n",
       "      <td>6.998</td>\n",
       "      <td>45.8</td>\n",
       "      <td>6.0622</td>\n",
       "      <td>3.0</td>\n",
       "      <td>222.0</td>\n",
       "      <td>18.7</td>\n",
       "      <td>394.63</td>\n",
       "      <td>2.94</td>\n",
       "    </tr>\n",
       "    <tr>\n",
       "      <th>4</th>\n",
       "      <td>0.06905</td>\n",
       "      <td>0.0</td>\n",
       "      <td>2.18</td>\n",
       "      <td>0.0</td>\n",
       "      <td>0.458</td>\n",
       "      <td>7.147</td>\n",
       "      <td>54.2</td>\n",
       "      <td>6.0622</td>\n",
       "      <td>3.0</td>\n",
       "      <td>222.0</td>\n",
       "      <td>18.7</td>\n",
       "      <td>396.90</td>\n",
       "      <td>5.33</td>\n",
       "    </tr>\n",
       "  </tbody>\n",
       "</table>\n",
       "</div>"
      ],
      "text/plain": [
       "      CRIM    ZN  INDUS  CHAS    NOX     RM   AGE     DIS  RAD    TAX  \\\n",
       "0  0.00632  18.0   2.31   0.0  0.538  6.575  65.2  4.0900  1.0  296.0   \n",
       "1  0.02731   0.0   7.07   0.0  0.469  6.421  78.9  4.9671  2.0  242.0   \n",
       "2  0.02729   0.0   7.07   0.0  0.469  7.185  61.1  4.9671  2.0  242.0   \n",
       "3  0.03237   0.0   2.18   0.0  0.458  6.998  45.8  6.0622  3.0  222.0   \n",
       "4  0.06905   0.0   2.18   0.0  0.458  7.147  54.2  6.0622  3.0  222.0   \n",
       "\n",
       "   PTRATIO       B  LSTAT  \n",
       "0     15.3  396.90   4.98  \n",
       "1     17.8  396.90   9.14  \n",
       "2     17.8  392.83   4.03  \n",
       "3     18.7  394.63   2.94  \n",
       "4     18.7  396.90   5.33  "
      ]
     },
     "execution_count": 2,
     "metadata": {},
     "output_type": "execute_result"
    }
   ],
   "source": [
    "import pandas as pd\n",
    "from sklearn.datasets import load_boston\n",
    "from sklearn.linear_model import LinearRegression\n",
    "from sklearn.preprocessing import PolynomialFeatures \n",
    "import numpy as np\n",
    "from matplotlib import pyplot as plt\n",
    "\n",
    "boston = load_boston()\n",
    "data=pd.DataFrame(boston.data,columns=boston.feature_names)\n",
    "data.head()"
   ]
  },
  {
   "cell_type": "code",
   "execution_count": 3,
   "metadata": {},
   "outputs": [
    {
     "data": {
      "image/png": "[encoded data removed]",
      "text/plain": [
       "<Figure size 432x288 with 1 Axes>"
      ]
     },
     "metadata": {
      "needs_background": "light"
     },
     "output_type": "display_data"
    }
   ],
   "source": [
    "# Data\n",
    "x = data[\"DIS\"][:40].values.reshape(-1,1) \n",
    "#reshapes data array of [l1 l2 l3 l4 l5 l6] , example (3,2) ==> ([l1 l2 l3],[l4 l5 l6]) in other words (rows, collumn)\n",
    "# if negative, then consireder unknown\n",
    "y = boston.target[:40]\n",
    "\n",
    "xx=np.linspace(min(x),max(x),40)\n",
    "plt.scatter(x,y)\n",
    "plt.grid(True)\n",
    "\n",
    "\n",
    "# Linear Regression\n",
    "LINR = LinearRegression().fit(x,y)\n",
    "plt.title('Crime Vs Price', fontsize=14)\n",
    "plt.plot(x,LINR.predict(x),c='purple',lw=3)\n",
    "plt.show()\n"
   ]
  },
  {
   "cell_type": "code",
   "execution_count": 38,
   "metadata": {},
   "outputs": [
    {
     "data": {
      "image/png": "[encoded data removed]",
      "text/plain": [
       "<Figure size 432x288 with 1 Axes>"
      ]
     },
     "metadata": {
      "needs_background": "light"
     },
     "output_type": "display_data"
    }
   ],
   "source": [
    "# Data\n",
    "x = data[\"DIS\"][:40].values.reshape(-1,1)\n",
    "y = boston.target[:40]\n",
    "\n",
    "xx=np.linspace(min(x),max(x),40)\n",
    "plt.scatter(x,y)\n",
    "plt.grid(True)\n",
    "\n",
    "# Polynomial Regression\n",
    "poly = PolynomialFeatures(degree=3)\n",
    "x_poly = poly.fit_transform(x)\n",
    "poly.fit(x_poly,y)\n",
    "olp = LinearRegression().fit(x_poly,y)\n",
    "\n",
    "plt.title('Crime Vs Price', fontsize=14)\n",
    "plt.plot(xx,olp.predict(poly.fit_transform(xx)),c='purple',lw=5)\n",
    "plt.show()"
   ]
  },
  {
   "cell_type": "markdown",
   "metadata": {},
   "source": [
    "<h2 style=\"color:red\">Task 2:</h2>\n",
    "<p>With the data-set of the task above do another polynomial regression by storing \"AGE\" as the x. The (y) doesn't change as it is our main data to compare with."
   ]
  },
  {
   "cell_type": "code",
   "execution_count": 81,
   "metadata": {
    "scrolled": false
   },
   "outputs": [
    {
     "name": "stdout",
     "output_type": "stream",
     "text": [
      "           9             8             7             6            5\n",
      "4.213e-13 x - 2.826e-10 x + 8.136e-08 x - 1.318e-05 x + 0.001321 x\n",
      "            4         3         2\n",
      " - 0.08472 x + 3.462 x - 86.54 x + 1195 x - 6901\n"
     ]
    },
    {
     "data": {
      "image/png": "[encoded data removed]",
      "text/plain": [
       "<Figure size 432x288 with 1 Axes>"
      ]
     },
     "metadata": {
      "needs_background": "light"
     },
     "output_type": "display_data"
    },
    {
     "data": {
      "text/html": [
       "<table class=\"simpletable\">\n",
       "<caption>OLS Regression Results</caption>\n",
       "<tr>\n",
       "  <th>Dep. Variable:</th>            <td>y</td>        <th>  R-squared:         </th> <td>   0.624</td>\n",
       "</tr>\n",
       "<tr>\n",
       "  <th>Model:</th>                   <td>OLS</td>       <th>  Adj. R-squared:    </th> <td>   0.614</td>\n",
       "</tr>\n",
       "<tr>\n",
       "  <th>Method:</th>             <td>Least Squares</td>  <th>  F-statistic:       </th> <td>   63.09</td>\n",
       "</tr>\n",
       "<tr>\n",
       "  <th>Date:</th>             <td>Sat, 07 Sep 2019</td> <th>  Prob (F-statistic):</th> <td>1.36e-09</td>\n",
       "</tr>\n",
       "<tr>\n",
       "  <th>Time:</th>                 <td>12:51:32</td>     <th>  Log-Likelihood:    </th> <td> -108.72</td>\n",
       "</tr>\n",
       "<tr>\n",
       "  <th>No. Observations:</th>      <td>    40</td>      <th>  AIC:               </th> <td>   221.4</td>\n",
       "</tr>\n",
       "<tr>\n",
       "  <th>Df Residuals:</th>          <td>    38</td>      <th>  BIC:               </th> <td>   224.8</td>\n",
       "</tr>\n",
       "<tr>\n",
       "  <th>Df Model:</th>              <td>     1</td>      <th>                     </th>     <td> </td>   \n",
       "</tr>\n",
       "<tr>\n",
       "  <th>Covariance Type:</th>      <td>nonrobust</td>    <th>                     </th>     <td> </td>   \n",
       "</tr>\n",
       "</table>\n",
       "<table class=\"simpletable\">\n",
       "<tr>\n",
       "      <td></td>         <th>coef</th>     <th>std err</th>      <th>t</th>      <th>P>|t|</th>  <th>[0.025</th>    <th>0.975]</th>  \n",
       "</tr>\n",
       "<tr>\n",
       "  <th>Intercept</th> <td> 1.255e-09</td> <td>    2.596</td> <td> 4.84e-10</td> <td> 1.000</td> <td>   -5.255</td> <td>    5.255</td>\n",
       "</tr>\n",
       "<tr>\n",
       "  <th>yfit(x)</th>   <td>    1.0000</td> <td>    0.126</td> <td>    7.943</td> <td> 0.000</td> <td>    0.745</td> <td>    1.255</td>\n",
       "</tr>\n",
       "</table>\n",
       "<table class=\"simpletable\">\n",
       "<tr>\n",
       "  <th>Omnibus:</th>       <td> 6.709</td> <th>  Durbin-Watson:     </th> <td>   1.353</td>\n",
       "</tr>\n",
       "<tr>\n",
       "  <th>Prob(Omnibus):</th> <td> 0.035</td> <th>  Jarque-Bera (JB):  </th> <td>   6.385</td>\n",
       "</tr>\n",
       "<tr>\n",
       "  <th>Skew:</th>          <td> 0.557</td> <th>  Prob(JB):          </th> <td>  0.0411</td>\n",
       "</tr>\n",
       "<tr>\n",
       "  <th>Kurtosis:</th>      <td> 4.609</td> <th>  Cond. No.          </th> <td>    90.2</td>\n",
       "</tr>\n",
       "</table><br/><br/>Warnings:<br/>[1] Standard Errors assume that the covariance matrix of the errors is correctly specified."
      ],
      "text/plain": [
       "<class 'statsmodels.iolib.summary.Summary'>\n",
       "\"\"\"\n",
       "                            OLS Regression Results                            \n",
       "==============================================================================\n",
       "Dep. Variable:                      y   R-squared:                       0.624\n",
       "Model:                            OLS   Adj. R-squared:                  0.614\n",
       "Method:                 Least Squares   F-statistic:                     63.09\n",
       "Date:                Sat, 07 Sep 2019   Prob (F-statistic):           1.36e-09\n",
       "Time:                        12:51:32   Log-Likelihood:                -108.72\n",
       "No. Observations:                  40   AIC:                             221.4\n",
       "Df Residuals:                      38   BIC:                             224.8\n",
       "Df Model:                           1                                         \n",
       "Covariance Type:            nonrobust                                         \n",
       "==============================================================================\n",
       "                 coef    std err          t      P>|t|      [0.025      0.975]\n",
       "------------------------------------------------------------------------------\n",
       "Intercept   1.255e-09      2.596   4.84e-10      1.000      -5.255       5.255\n",
       "yfit(x)        1.0000      0.126      7.943      0.000       0.745       1.255\n",
       "==============================================================================\n",
       "Omnibus:                        6.709   Durbin-Watson:                   1.353\n",
       "Prob(Omnibus):                  0.035   Jarque-Bera (JB):                6.385\n",
       "Skew:                           0.557   Prob(JB):                       0.0411\n",
       "Kurtosis:                       4.609   Cond. No.                         90.2\n",
       "==============================================================================\n",
       "\n",
       "Warnings:\n",
       "[1] Standard Errors assume that the covariance matrix of the errors is correctly specified.\n",
       "\"\"\""
      ]
     },
     "execution_count": 81,
     "metadata": {},
     "output_type": "execute_result"
    }
   ],
   "source": [
    "import statsmodels.formula.api as smf  #step 1 for full report summary\n",
    "boston = load_boston()\n",
    "data=pd.DataFrame(boston.data,columns=boston.feature_names)\n",
    "\n",
    "#Data\n",
    "x = data[\"AGE\"][:40]\n",
    "y = boston.target[:40]\n",
    "plt.scatter(x,y)\n",
    "plt.grid(True)\n",
    "plt.title('Crime Vs Price', fontsize=14)\n",
    "\n",
    "\n",
    "#Reg line\n",
    "yfit=np.poly1d(np.polyfit(x,y,9))\n",
    "print(yfit)\n",
    "xx=np.arange(min(x),max(x),0.1)\n",
    "yy=[yfit(i) for i in xx]\n",
    "plt.plot(xx,yy,c='purple',lw=5)\n",
    "plt.show()\n",
    "\n",
    "results = smf.ols(formula='y ~ yfit(x)', data=x).fit() #step 2 \n",
    "results.summary() # step 3\n"
   ]
  },
  {
   "cell_type": "markdown",
   "metadata": {},
   "source": [
    "<h2 style=\"color:red\">Task 3:</h2>\n",
    "<p>Also, by using the data-set of the task above do another polynomial regression by storing \"DIS\" as the x. The (y) doesn't change as it is our main data to compare with.</p>"
   ]
  },
  {
   "cell_type": "code",
   "execution_count": 86,
   "metadata": {},
   "outputs": [
    {
     "name": "stdout",
     "output_type": "stream",
     "text": [
      "        2\n",
      "-0.919 x + 12.17 x - 15.97\n"
     ]
    },
    {
     "data": {
      "image/png": "[encoded data removed]",
      "text/plain": [
       "<Figure size 432x288 with 1 Axes>"
      ]
     },
     "metadata": {
      "needs_background": "light"
     },
     "output_type": "display_data"
    }
   ],
   "source": [
    "z = data['DIS'][:40]\n",
    "y = boston.target[:40]\n",
    "plt.scatter(z,y)\n",
    "plt.grid(True)\n",
    "\n",
    "zfit=np.poly1d(np.polyfit(z,y,2))\n",
    "print(zfit)\n",
    "zz=np.arange(min(z),max(z),0.1)\n",
    "yy=[zfit(i) for i in zz]\n",
    "plt.plot(zz,yy,c='purple',lw=5)\n",
    "plt.show()"
   ]
  },
  {
   "cell_type": "markdown",
   "metadata": {},
   "source": [
    "<h2 style=\"color:red\">Task 4:</h2>\n",
    "<p>Download the dataset in the link below then import it using \"pandas. Store the first 40 rows of \"GRE Score\" as (x) and the first 40 rows of \"Chance of Admit\" as (y). Scatter the (x,y) and find the polynomial regression with their coefficients into a graph.</p>\n",
    "</br>\n",
    "\n",
    "<a href=\"https://www.kaggle.com/prim22zz/admission/downloads/predict_admission.csv/1\" download>\n",
    "  <h5><em>Download dataset<em></h5>\n",
    "</a>\n",
    "<p></p>\n",
    "</br>"
   ]
  },
  {
   "cell_type": "code",
   "execution_count": 8,
   "metadata": {},
   "outputs": [
    {
     "data": {
      "text/html": [
       "<div>\n",
       "<style scoped>\n",
       "    .dataframe tbody tr th:only-of-type {\n",
       "        vertical-align: middle;\n",
       "    }\n",
       "\n",
       "    .dataframe tbody tr th {\n",
       "        vertical-align: top;\n",
       "    }\n",
       "\n",
       "    .dataframe thead th {\n",
       "        text-align: right;\n",
       "    }\n",
       "</style>\n",
       "<table border=\"1\" class=\"dataframe\">\n",
       "  <thead>\n",
       "    <tr style=\"text-align: right;\">\n",
       "      <th></th>\n",
       "      <th>Serial No.</th>\n",
       "      <th>GRE Score</th>\n",
       "      <th>TOEFL Score</th>\n",
       "      <th>University Rating</th>\n",
       "      <th>SOP</th>\n",
       "      <th>LOR</th>\n",
       "      <th>CGPA</th>\n",
       "      <th>Research</th>\n",
       "      <th>Chance of Admit</th>\n",
       "    </tr>\n",
       "  </thead>\n",
       "  <tbody>\n",
       "    <tr>\n",
       "      <th>0</th>\n",
       "      <td>1</td>\n",
       "      <td>337</td>\n",
       "      <td>118</td>\n",
       "      <td>4</td>\n",
       "      <td>4.5</td>\n",
       "      <td>4.5</td>\n",
       "      <td>9.65</td>\n",
       "      <td>1</td>\n",
       "      <td>0.92</td>\n",
       "    </tr>\n",
       "    <tr>\n",
       "      <th>1</th>\n",
       "      <td>2</td>\n",
       "      <td>324</td>\n",
       "      <td>107</td>\n",
       "      <td>4</td>\n",
       "      <td>4.0</td>\n",
       "      <td>4.5</td>\n",
       "      <td>8.87</td>\n",
       "      <td>1</td>\n",
       "      <td>0.76</td>\n",
       "    </tr>\n",
       "    <tr>\n",
       "      <th>2</th>\n",
       "      <td>3</td>\n",
       "      <td>316</td>\n",
       "      <td>104</td>\n",
       "      <td>3</td>\n",
       "      <td>3.0</td>\n",
       "      <td>3.5</td>\n",
       "      <td>8.00</td>\n",
       "      <td>1</td>\n",
       "      <td>0.72</td>\n",
       "    </tr>\n",
       "    <tr>\n",
       "      <th>3</th>\n",
       "      <td>4</td>\n",
       "      <td>322</td>\n",
       "      <td>110</td>\n",
       "      <td>3</td>\n",
       "      <td>3.5</td>\n",
       "      <td>2.5</td>\n",
       "      <td>8.67</td>\n",
       "      <td>1</td>\n",
       "      <td>0.80</td>\n",
       "    </tr>\n",
       "    <tr>\n",
       "      <th>4</th>\n",
       "      <td>5</td>\n",
       "      <td>314</td>\n",
       "      <td>103</td>\n",
       "      <td>2</td>\n",
       "      <td>2.0</td>\n",
       "      <td>3.0</td>\n",
       "      <td>8.21</td>\n",
       "      <td>0</td>\n",
       "      <td>0.65</td>\n",
       "    </tr>\n",
       "  </tbody>\n",
       "</table>\n",
       "</div>"
      ],
      "text/plain": [
       "   Serial No.  GRE Score  TOEFL Score  University Rating  SOP  LOR   CGPA  \\\n",
       "0           1        337          118                  4  4.5   4.5  9.65   \n",
       "1           2        324          107                  4  4.0   4.5  8.87   \n",
       "2           3        316          104                  3  3.0   3.5  8.00   \n",
       "3           4        322          110                  3  3.5   2.5  8.67   \n",
       "4           5        314          103                  2  2.0   3.0  8.21   \n",
       "\n",
       "   Research  Chance of Admit  \n",
       "0         1             0.92  \n",
       "1         1             0.76  \n",
       "2         1             0.72  \n",
       "3         1             0.80  \n",
       "4         0             0.65  "
      ]
     },
     "execution_count": 8,
     "metadata": {},
     "output_type": "execute_result"
    }
   ],
   "source": [
    "import pandas as pd\n",
    "from matplotlib import pyplot as plt\n",
    "from sklearn.linear_model import LinearRegression\n",
    "from sklearn.preprocessing import PolynomialFeatures \n",
    "import numpy as np\n",
    "\n",
    "D = pd.read_csv('predict_admission.csv')\n",
    "D.head()"
   ]
  },
  {
   "cell_type": "code",
   "execution_count": 22,
   "metadata": {},
   "outputs": [
    {
     "name": "stdout",
     "output_type": "stream",
     "text": [
      "           2\n",
      "0.0001018 x - 0.05358 x + 7.42\n"
     ]
    },
    {
     "data": {
      "image/png": "[encoded data removed]",
      "text/plain": [
       "<Figure size 432x288 with 1 Axes>"
      ]
     },
     "metadata": {
      "needs_background": "light"
     },
     "output_type": "display_data"
    }
   ],
   "source": [
    "#Data\n",
    "x = D['GRE Score'].iloc[:60]\n",
    "y = D[\"Chance of Admit\"].iloc[:60]\n",
    "plt.scatter(x,y)\n",
    "\n",
    "#Equation\n",
    "yfit=np.poly1d(np.polyfit(x,y,2))\n",
    "print(yfit)\n",
    "\n",
    "#Line\n",
    "xx=np.arange(min(x),max(x))\n",
    "yy=[yfit(i) for i in xx]\n",
    "plt.plot(xx,yy,c='purple',lw=5)\n",
    "plt.show()\n"
   ]
  },
  {
   "cell_type": "code",
   "execution_count": 23,
   "metadata": {},
   "outputs": [
    {
     "data": {
      "text/html": [
       "<table class=\"simpletable\">\n",
       "<caption>OLS Regression Results</caption>\n",
       "<tr>\n",
       "  <th>Dep. Variable:</th>            <td>y</td>        <th>  R-squared:         </th> <td>   0.664</td>\n",
       "</tr>\n",
       "<tr>\n",
       "  <th>Model:</th>                   <td>OLS</td>       <th>  Adj. R-squared:    </th> <td>   0.658</td>\n",
       "</tr>\n",
       "<tr>\n",
       "  <th>Method:</th>             <td>Least Squares</td>  <th>  F-statistic:       </th> <td>   114.4</td>\n",
       "</tr>\n",
       "<tr>\n",
       "  <th>Date:</th>             <td>Sat, 07 Sep 2019</td> <th>  Prob (F-statistic):</th> <td>2.40e-15</td>\n",
       "</tr>\n",
       "<tr>\n",
       "  <th>Time:</th>                 <td>13:13:49</td>     <th>  Log-Likelihood:    </th> <td>  55.991</td>\n",
       "</tr>\n",
       "<tr>\n",
       "  <th>No. Observations:</th>      <td>    60</td>      <th>  AIC:               </th> <td>  -108.0</td>\n",
       "</tr>\n",
       "<tr>\n",
       "  <th>Df Residuals:</th>          <td>    58</td>      <th>  BIC:               </th> <td>  -103.8</td>\n",
       "</tr>\n",
       "<tr>\n",
       "  <th>Df Model:</th>              <td>     1</td>      <th>                     </th>     <td> </td>   \n",
       "</tr>\n",
       "<tr>\n",
       "  <th>Covariance Type:</th>      <td>nonrobust</td>    <th>                     </th>     <td> </td>   \n",
       "</tr>\n",
       "</table>\n",
       "<table class=\"simpletable\">\n",
       "<tr>\n",
       "      <td></td>         <th>coef</th>     <th>std err</th>      <th>t</th>      <th>P>|t|</th>  <th>[0.025</th>    <th>0.975]</th>  \n",
       "</tr>\n",
       "<tr>\n",
       "  <th>Intercept</th> <td> 6.668e-15</td> <td>    0.066</td> <td> 1.01e-13</td> <td> 1.000</td> <td>   -0.132</td> <td>    0.132</td>\n",
       "</tr>\n",
       "<tr>\n",
       "  <th>yfit(x)</th>   <td>    1.0000</td> <td>    0.093</td> <td>   10.698</td> <td> 0.000</td> <td>    0.813</td> <td>    1.187</td>\n",
       "</tr>\n",
       "</table>\n",
       "<table class=\"simpletable\">\n",
       "<tr>\n",
       "  <th>Omnibus:</th>       <td> 3.387</td> <th>  Durbin-Watson:     </th> <td>   1.171</td>\n",
       "</tr>\n",
       "<tr>\n",
       "  <th>Prob(Omnibus):</th> <td> 0.184</td> <th>  Jarque-Bera (JB):  </th> <td>   2.494</td>\n",
       "</tr>\n",
       "<tr>\n",
       "  <th>Skew:</th>          <td>-0.457</td> <th>  Prob(JB):          </th> <td>   0.287</td>\n",
       "</tr>\n",
       "<tr>\n",
       "  <th>Kurtosis:</th>      <td> 3.404</td> <th>  Cond. No.          </th> <td>    11.1</td>\n",
       "</tr>\n",
       "</table><br/><br/>Warnings:<br/>[1] Standard Errors assume that the covariance matrix of the errors is correctly specified."
      ],
      "text/plain": [
       "<class 'statsmodels.iolib.summary.Summary'>\n",
       "\"\"\"\n",
       "                            OLS Regression Results                            \n",
       "==============================================================================\n",
       "Dep. Variable:                      y   R-squared:                       0.664\n",
       "Model:                            OLS   Adj. R-squared:                  0.658\n",
       "Method:                 Least Squares   F-statistic:                     114.4\n",
       "Date:                Sat, 07 Sep 2019   Prob (F-statistic):           2.40e-15\n",
       "Time:                        13:13:49   Log-Likelihood:                 55.991\n",
       "No. Observations:                  60   AIC:                            -108.0\n",
       "Df Residuals:                      58   BIC:                            -103.8\n",
       "Df Model:                           1                                         \n",
       "Covariance Type:            nonrobust                                         \n",
       "==============================================================================\n",
       "                 coef    std err          t      P>|t|      [0.025      0.975]\n",
       "------------------------------------------------------------------------------\n",
       "Intercept   6.668e-15      0.066   1.01e-13      1.000      -0.132       0.132\n",
       "yfit(x)        1.0000      0.093     10.698      0.000       0.813       1.187\n",
       "==============================================================================\n",
       "Omnibus:                        3.387   Durbin-Watson:                   1.171\n",
       "Prob(Omnibus):                  0.184   Jarque-Bera (JB):                2.494\n",
       "Skew:                          -0.457   Prob(JB):                        0.287\n",
       "Kurtosis:                       3.404   Cond. No.                         11.1\n",
       "==============================================================================\n",
       "\n",
       "Warnings:\n",
       "[1] Standard Errors assume that the covariance matrix of the errors is correctly specified.\n",
       "\"\"\""
      ]
     },
     "execution_count": 23,
     "metadata": {},
     "output_type": "execute_result"
    }
   ],
   "source": [
    "import statsmodels.formula.api as smf\n",
    "results = smf.ols(formula='y ~ yfit(x)', data=x).fit()\n",
    "results.summary() "
   ]
  }
 ],
 "metadata": {
  "kernelspec": {
   "display_name": "Python 3",
   "language": "python",
   "name": "python3"
  },
  "language_info": {
   "codemirror_mode": {
    "name": "ipython",
    "version": 3
   },
   "file_extension": ".py",
   "mimetype": "text/x-python",
   "name": "python",
   "nbconvert_exporter": "python",
   "pygments_lexer": "ipython3",
   "version": "3.7.3"
  }
 },
 "nbformat": 4,
 "nbformat_minor": 2
}
