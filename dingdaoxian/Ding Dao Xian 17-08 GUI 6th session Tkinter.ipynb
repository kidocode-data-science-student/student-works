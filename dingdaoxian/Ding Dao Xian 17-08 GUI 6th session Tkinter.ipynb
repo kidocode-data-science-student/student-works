{
 "cells": [
  {
   "cell_type": "markdown",
   "metadata": {},
   "source": [
    "Labels "
   ]
  },
  {
   "cell_type": "code",
   "execution_count": 3,
   "metadata": {},
   "outputs": [],
   "source": [
    "import tkinter as tk\n",
    "root = tk.Tk()\n",
    "\n",
    "w = tk.Label(root,text = \"yhgjk\")\n",
    "w.pack()\n",
    "\n",
    "p = tk.Label(root,text = \"123yhgjk\")\n",
    "p.pack()\n",
    "root.mainloop()"
   ]
  },
  {
   "cell_type": "markdown",
   "metadata": {},
   "source": [
    "Buttons "
   ]
  },
  {
   "cell_type": "code",
   "execution_count": 3,
   "metadata": {},
   "outputs": [],
   "source": [
    "import tkinter as tk\n",
    "    \n",
    "\n",
    "def write_slogan():\n",
    "    print(\"Tkinter is easy to use!\")\n",
    "\n",
    "root = tk.Tk()\n",
    "\n",
    "button = tk.Button(root, \n",
    "                   text=\"QUIT\", \n",
    "                   fg=\"red\")\n",
    "button.pack(side=tk.RIGHT)\n",
    "\n",
    "# there is command in button\n",
    "slogan = tk.Button(root,\n",
    "                   text=\"Hello\",\n",
    "                   command=write_slogan)\n",
    "slogan.pack(side=tk.LEFT)\n",
    "\n",
    "root.mainloop()"
   ]
  },
  {
   "cell_type": "code",
   "execution_count": 5,
   "metadata": {},
   "outputs": [],
   "source": [
    "\n",
    "import tkinter as tk\n",
    "\n",
    "counter = 0 \n",
    "def counter_label(label):\n",
    "  def count():\n",
    "    global counter\n",
    "    counter += 1\n",
    "    label.config(text=str(counter))\n",
    "    label.after(1000, count)\n",
    "  count()\n",
    " \n",
    " \n",
    "root = tk.Tk()\n",
    "root.title(\"Counting Seconds\")\n",
    "k = tk.Label(root, fg=\"green\" ,)\n",
    "k.pack()\n",
    "\n",
    "# no command in labels\n",
    "counter_label(k)\n",
    "\n",
    "button = tk.Button(root, text='Stop', width=25, command=root.destroy)\n",
    "button.pack()\n",
    "root.mainloop()"
   ]
  },
  {
   "cell_type": "markdown",
   "metadata": {},
   "source": [
    "Variable "
   ]
  },
  {
   "cell_type": "code",
   "execution_count": null,
   "metadata": {},
   "outputs": [],
   "source": [
    "#x = StringVar() # Holds a string; default value \"\"\n",
    "#x = IntVar() # Holds an integer; default value 0\n",
    "#x = DoubleVar() # Holds a float; default value 0.0\n",
    "#x = BooleanVar() # Holds a boolean, returns 0 for False and 1 for True"
   ]
  },
  {
   "cell_type": "markdown",
   "metadata": {},
   "source": [
    "RadioButton"
   ]
  },
  {
   "cell_type": "code",
   "execution_count": 4,
   "metadata": {},
   "outputs": [],
   "source": [
    "\n",
    "import tkinter as tk\n",
    "\n",
    "counter = 0 \n",
    "def counter_label(label):\n",
    "  def count():\n",
    "    global counter\n",
    "    counter += 1\n",
    "    label.config(text=str(counter))\n",
    "    label.after(1000, count)\n",
    "  count()\n",
    " \n",
    " \n",
    "root = tk.Tk()\n",
    "root.title(\"Counting Seconds\")\n",
    "k = tk.Label(root, fg=\"green\" ,)\n",
    "k.pack()\n",
    "\n",
    "# no command in labels\n",
    "counter_label(k)\n",
    "\n",
    "button = tk.Button(root, text='Stop', width=25, command=root.destroy)\n",
    "button.pack()\n",
    "root.mainloop()"
   ]
  },
  {
   "cell_type": "code",
   "execution_count": 4,
   "metadata": {},
   "outputs": [],
   "source": [
    "import tkinter as tk\n",
    "\n",
    "root = tk.Tk()\n",
    "\n",
    "v = tk.IntVar()\n",
    "v.set(1)  # initializing the choice, i.e. Python\n",
    "\n",
    "languages = [\n",
    "    (\"Python\",1),\n",
    "    (\"Perl\",2),\n",
    "    (\"Java\",3),\n",
    "    (\"C++\",4),\n",
    "    (\"C\",5)\n",
    "]\n",
    "\n",
    "def ShowChoice():\n",
    "    print(v.get())\n",
    "\n",
    "tk.Label(root, \n",
    "         text=\"\"\"Choose your favourite \n",
    "programming language:\"\"\",\n",
    "         justify = tk.LEFT,\n",
    "         padx = 20).pack()\n",
    "\n",
    "for val, language in enumerate(languages):\n",
    "    tk.Radiobutton(root, \n",
    "                  text=language,\n",
    "                  padx = 20, \n",
    "                  variable=v, \n",
    "                  command=ShowChoice,\n",
    "                  value=val).pack(anchor=tk.W)\n",
    "\n",
    "    tk.Radiobutton(root, \n",
    "                  text=language,\n",
    "                  indicatoron = 0,\n",
    "                  width = 20,\n",
    "                  padx = 20, \n",
    "                  variable=v, \n",
    "                  command=ShowChoice,\n",
    "                  value=val).pack(anchor=tk.W)"
   ]
  },
  {
   "cell_type": "markdown",
   "metadata": {},
   "source": [
    "Checkbox"
   ]
  },
  {
   "cell_type": "code",
   "execution_count": 6,
   "metadata": {},
   "outputs": [],
   "source": [
    "from tkinter import *\n",
    "root = Tk()\n",
    "var1 = IntVar()\n",
    "Checkbutton(root, text=\"male\", variable=var1).grid(row=0, sticky=W)\n",
    "var2 = IntVar()\n",
    "Checkbutton(root, text=\"female\", variable=var2).grid(row=1, sticky=W)\n",
    "mainloop()"
   ]
  },
  {
   "cell_type": "code",
   "execution_count": 7,
   "metadata": {},
   "outputs": [],
   "source": [
    "from tkinter import *\n",
    "master = Tk()\n",
    "\n",
    "def var_states():\n",
    "   print(\"male: %d,\\nfemale: %d\" % (var1.get(), var2.get()))\n",
    "\n",
    "Label(master, text=\"Your sex:\").grid(row=0, sticky=W)\n",
    "var1 = IntVar()\n",
    "Checkbutton(master, text=\"male\", variable=var1).grid(row=1, sticky=W)\n",
    "var2 = IntVar()\n",
    "Checkbutton(master, text=\"female\", variable=var2).grid(row=2, sticky=W)\n",
    "Button(master, text='Quit', command=master.quit).grid(row=3, sticky=W, pady=4)\n",
    "Button(master, text='Show', command=var_states).grid(row=4, sticky=W, pady=4)\n",
    "mainloop()"
   ]
  },
  {
   "cell_type": "markdown",
   "metadata": {},
   "source": [
    "Slider"
   ]
  },
  {
   "cell_type": "code",
   "execution_count": 9,
   "metadata": {},
   "outputs": [],
   "source": [
    "from tkinter import *\n",
    "\n",
    "master = Tk()\n",
    "w = Scale(master, from_=0, to=42)\n",
    "w.pack()\n",
    "w = Scale(master, from_=0, to=200, orient=HORIZONTAL)\n",
    "w.pack()\n",
    "\n",
    "mainloop()"
   ]
  },
  {
   "cell_type": "code",
   "execution_count": 11,
   "metadata": {},
   "outputs": [
    {
     "name": "stdout",
     "output_type": "stream",
     "text": [
      "19 150\n",
      "19 150\n",
      "19 150\n",
      "19 150\n",
      "19 150\n",
      "19 150\n",
      "19 150\n"
     ]
    }
   ],
   "source": [
    "from tkinter import *\n",
    "\n",
    "def show_values():\n",
    "    # to get values of respective sliders\n",
    "    print (w1.get(), w2.get())\n",
    "\n",
    "master = Tk()\n",
    "w1 = Scale(master, from_=0, to=42)\n",
    "w1.set(19)\n",
    "w1.pack()\n",
    "w2 = Scale(master, from_=0, to=200, orient=HORIZONTAL)\n",
    "w2.set(23)\n",
    "w2.pack()\n",
    "Button(master, text='Show', command=show_values).pack()\n",
    "\n",
    "mainloop()"
   ]
  },
  {
   "cell_type": "markdown",
   "metadata": {},
   "source": [
    "Entry widget"
   ]
  },
  {
   "cell_type": "code",
   "execution_count": 15,
   "metadata": {},
   "outputs": [],
   "source": [
    "import tkinter as tk\n",
    "\n",
    "master = tk.Tk()\n",
    "tk.Label(master, text=\"First Name\").grid(row=0)\n",
    "tk.Label(master, text=\"Last Name\").grid(row=1)\n",
    "\n",
    "e1 = tk.Entry(master)\n",
    "e2 = tk.Entry(master)\n",
    "\n",
    "e1.grid(row=0, column=1)\n",
    "e2.grid(row=1, column=1)\n",
    "\n",
    "master.mainloop()"
   ]
  },
  {
   "cell_type": "code",
   "execution_count": 21,
   "metadata": {},
   "outputs": [
    {
     "ename": "AttributeError",
     "evalue": "'NoneType' object has no attribute 'tk'",
     "output_type": "error",
     "traceback": [
      "\u001b[1;31m---------------------------------------------------------------------------\u001b[0m",
      "\u001b[1;31mAttributeError\u001b[0m                            Traceback (most recent call last)",
      "\u001b[1;32m<ipython-input-21-e5cb86710be6>\u001b[0m in \u001b[0;36m<module>\u001b[1;34m\u001b[0m\n\u001b[0;32m     33\u001b[0m \u001b[0mmaster\u001b[0m\u001b[1;33m.\u001b[0m\u001b[0mmainloop\u001b[0m\u001b[1;33m(\u001b[0m\u001b[1;33m)\u001b[0m\u001b[1;33m\u001b[0m\u001b[1;33m\u001b[0m\u001b[0m\n\u001b[0;32m     34\u001b[0m \u001b[1;33m\u001b[0m\u001b[0m\n\u001b[1;32m---> 35\u001b[1;33m \u001b[0mtk\u001b[0m\u001b[1;33m.\u001b[0m\u001b[0mmainloop\u001b[0m\u001b[1;33m(\u001b[0m\u001b[1;33m)\u001b[0m\u001b[1;33m\u001b[0m\u001b[1;33m\u001b[0m\u001b[0m\n\u001b[0m",
      "\u001b[1;32mc:\\users\\user\\appdata\\local\\programs\\python\\python37-32\\lib\\tkinter\\__init__.py\u001b[0m in \u001b[0;36mmainloop\u001b[1;34m(n)\u001b[0m\n\u001b[0;32m    558\u001b[0m \u001b[1;32mdef\u001b[0m \u001b[0mmainloop\u001b[0m\u001b[1;33m(\u001b[0m\u001b[0mn\u001b[0m\u001b[1;33m=\u001b[0m\u001b[1;36m0\u001b[0m\u001b[1;33m)\u001b[0m\u001b[1;33m:\u001b[0m\u001b[1;33m\u001b[0m\u001b[1;33m\u001b[0m\u001b[0m\n\u001b[0;32m    559\u001b[0m     \u001b[1;34m\"\"\"Run the main loop of Tcl.\"\"\"\u001b[0m\u001b[1;33m\u001b[0m\u001b[1;33m\u001b[0m\u001b[0m\n\u001b[1;32m--> 560\u001b[1;33m     \u001b[0m_default_root\u001b[0m\u001b[1;33m.\u001b[0m\u001b[0mtk\u001b[0m\u001b[1;33m.\u001b[0m\u001b[0mmainloop\u001b[0m\u001b[1;33m(\u001b[0m\u001b[0mn\u001b[0m\u001b[1;33m)\u001b[0m\u001b[1;33m\u001b[0m\u001b[1;33m\u001b[0m\u001b[0m\n\u001b[0m\u001b[0;32m    561\u001b[0m \u001b[1;33m\u001b[0m\u001b[0m\n\u001b[0;32m    562\u001b[0m \u001b[0mgetint\u001b[0m \u001b[1;33m=\u001b[0m \u001b[0mint\u001b[0m\u001b[1;33m\u001b[0m\u001b[1;33m\u001b[0m\u001b[0m\n",
      "\u001b[1;31mAttributeError\u001b[0m: 'NoneType' object has no attribute 'tk'"
     ]
    }
   ],
   "source": [
    "import tkinter as tk\n",
    "\n",
    "def show_entry_fields():\n",
    "    print(\"First Name: %s\\nLast Name: %s\" % (e1.get(), e2.get()))\n",
    "    e1.delete(0, tk.END)\n",
    "    e2.delete(0, tk.END)\n",
    "\n",
    "master = tk.Tk()\n",
    "tk.Label(master, text=\"First Name\").grid(row=0)\n",
    "tk.Label(master, text=\"Last Name\").grid(row=1)\n",
    "\n",
    "e1 = tk.Entry(master)\n",
    "e2 = tk.Entry(master)\n",
    "\n",
    "#insert initial values\n",
    "e1.insert(10, \"Miller\")\n",
    "e2.insert(10, \"Jill\")\n",
    "\n",
    "e1.grid(row=0, column=1)\n",
    "e2.grid(row=1, column=1)\n",
    "\n",
    "tk.Button(master, \n",
    "          text='Quit', \n",
    "          command=master.quit).grid(row=3, \n",
    "                                    column=0, \n",
    "                                    sticky=tk.W, \n",
    "                                    pady=4)\n",
    "tk.Button(master, text='Show', command=show_entry_fields).grid(row=3, \n",
    "                                                               column=1, \n",
    "                                                               sticky=tk.W, \n",
    "                                                               pady=4)\n",
    "\n",
    "master.mainloop()\n",
    "\n",
    "tk.mainloop()"
   ]
  },
  {
   "cell_type": "code",
   "execution_count": 23,
   "metadata": {},
   "outputs": [],
   "source": [
    "import tkinter as tk\n",
    "\n",
    "fields = 'Last Name', 'First Name', 'Job', 'Country'\n",
    "\n",
    "def fetch(entries):\n",
    "    for entry in entries:\n",
    "        field = entry[0]\n",
    "        text  = entry[1].get()\n",
    "        print('%s: \"%s\"' % (field, text)) \n",
    "\n",
    "def makeform(root, fields):\n",
    "    entries = []\n",
    "    for field in fields:\n",
    "        row = tk.Frame(root)\n",
    "        lab = tk.Label(row, width=15, text=field, anchor='w')\n",
    "        ent = tk.Entry(row)\n",
    "        row.pack(side=tk.TOP, fill=tk.X, padx=5, pady=5)\n",
    "        lab.pack(side=tk.LEFT)\n",
    "        ent.pack(side=tk.RIGHT, expand=tk.YES, fill=tk.X)\n",
    "        entries.append((field, ent))\n",
    "    return entries\n",
    "\n",
    "if __name__ == '__main__':\n",
    "    root = tk.Tk()\n",
    "    ents = makeform(root, fields)\n",
    "    #there has to be string/ssilent in bind for it to function\n",
    "    root.bind(\"\"\"23rewf\"\"\", (lambda event, e=ents: fetch(e)))   \n",
    "    b1 = tk.Button(root, text='Show',\n",
    "                  command=(lambda e=ents: fetch(e)))\n",
    "    b1.pack(side=tk.LEFT, padx=5, pady=5)\n",
    "    b2 = tk.Button(root, text='Quit', command=root.quit)\n",
    "    b2.pack(side=tk.LEFT, padx=5, pady=5)\n",
    "    root.mainloop()"
   ]
  }
 ],
 "metadata": {
  "kernelspec": {
   "display_name": "Python 3",
   "language": "python",
   "name": "python3"
  },
  "language_info": {
   "codemirror_mode": {
    "name": "ipython",
    "version": 3
   },
   "file_extension": ".py",
   "mimetype": "text/x-python",
   "name": "python",
   "nbconvert_exporter": "python",
   "pygments_lexer": "ipython3",
   "version": "3.7.3"
  }
 },
 "nbformat": 4,
 "nbformat_minor": 2
}
