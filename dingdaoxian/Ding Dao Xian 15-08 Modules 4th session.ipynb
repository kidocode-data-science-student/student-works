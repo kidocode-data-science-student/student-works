{
 "cells": [
  {
   "cell_type": "markdown",
   "metadata": {},
   "source": [
    "## Modules"
   ]
  },
  {
   "cell_type": "markdown",
   "metadata": {},
   "source": [
    "### Collections module"
   ]
  },
  {
   "cell_type": "code",
   "execution_count": 7,
   "metadata": {},
   "outputs": [
    {
     "name": "stdout",
     "output_type": "stream",
     "text": [
      "Counter({'e': 2, 'i': 2, 'f': 2, 'w': 1, 'h': 1, 'q': 1, 'o': 1, 'd': 1, 'j': 1, '1': 1, '2': 1, '3': 1})\n"
     ]
    },
    {
     "data": {
      "text/plain": [
       "Counter({1: 4, 2: 6, 3: 4, 4: 1, 5: 1, 7: 1, 31: 1, 12: 1})"
      ]
     },
     "execution_count": 7,
     "metadata": {},
     "output_type": "execute_result"
    }
   ],
   "source": [
    "#Counter : counts each element in a database and places in a dictionary\n",
    "\n",
    "#Example\n",
    "from collections import Counter\n",
    "\n",
    "l = [1,2,3,4,1,3,2,2,2,5,2,7,2,1,31,3,1,3,12]\n",
    "s = \"weifhqodfjie123\"\n",
    "print(Counter(s))\n",
    "Counter(l)"
   ]
  },
  {
   "cell_type": "code",
   "execution_count": 15,
   "metadata": {},
   "outputs": [
    {
     "data": {
      "text/plain": [
       "Counter({'A': 1, 'B': 1, 'CEWEFCASDFC': 1, ',': 1, 'WEFDS': 1})"
      ]
     },
     "execution_count": 15,
     "metadata": {},
     "output_type": "execute_result"
    }
   ],
   "source": [
    "#Example 2\n",
    "from collections import Counter\n",
    "\n",
    "s = \"A B CEWEFCASDFC , WEFDS, A, B\"\n",
    "k = s.split(\" \")\n",
    "Counter(k)"
   ]
  },
  {
   "cell_type": "markdown",
   "metadata": {},
   "source": [
    "### most_common"
   ]
  },
  {
   "cell_type": "code",
   "execution_count": 5,
   "metadata": {},
   "outputs": [
    {
     "data": {
      "text/plain": [
       "[('A', 2), ('B', 1), ('CEWEFCASDFC', 1)]"
      ]
     },
     "execution_count": 5,
     "metadata": {},
     "output_type": "execute_result"
    }
   ],
   "source": [
    "#most_common : count the top n number of most common appearance\n",
    "\n",
    "#Example\n",
    "from collections import Counter\n",
    "\n",
    "w = \"A B CEWEFCASDFC , WEFDS, A\"\n",
    "s = w.split(\" \")\n",
    "c = Counter(k)\n",
    "c.most_common(3)"
   ]
  },
  {
   "cell_type": "markdown",
   "metadata": {},
   "source": [
    "#### others"
   ]
  },
  {
   "cell_type": "code",
   "execution_count": 10,
   "metadata": {},
   "outputs": [
    {
     "data": {
      "text/plain": [
       "dict_items([])"
      ]
     },
     "execution_count": 10,
     "metadata": {},
     "output_type": "execute_result"
    }
   ],
   "source": [
    "#c.clear() : resets all counts\n",
    "#c.items() : convers to (element,count) pairs\n"
   ]
  },
  {
   "cell_type": "markdown",
   "metadata": {},
   "source": [
    "### defaultdict"
   ]
  },
  {
   "cell_type": "code",
   "execution_count": null,
   "metadata": {},
   "outputs": [],
   "source": [
    "# defaultdict : returns the value of an unfound key in a dictionary with the inputted default value"
   ]
  },
  {
   "cell_type": "code",
   "execution_count": 10,
   "metadata": {},
   "outputs": [
    {
     "data": {
      "text/plain": [
       "defaultdict(int,\n",
       "            {'1': 1, '2': 1, '3': 1, 's': 2, 'd': 2, 'f': 2, 'a': 1, 'e': 1})"
      ]
     },
     "execution_count": 10,
     "metadata": {},
     "output_type": "execute_result"
    }
   ],
   "source": [
    "from collections import defaultdict\n",
    "\n",
    "d = defaultdict(int)\n",
    "name = \"123sdfadesf\"\n",
    "\n",
    "for i in name:\n",
    "    d[i] +=1\n",
    "    \n",
    "d"
   ]
  },
  {
   "cell_type": "markdown",
   "metadata": {},
   "source": [
    "### OrderedDict"
   ]
  },
  {
   "cell_type": "code",
   "execution_count": 21,
   "metadata": {},
   "outputs": [
    {
     "name": "stdout",
     "output_type": "stream",
     "text": [
      "a 1\n",
      "b 2\n",
      "c 3\n",
      "d 4\n",
      "e 5\n"
     ]
    }
   ],
   "source": [
    "# ordered dict : records the order at which the key is added into the dict\n",
    "\n",
    "from collections import OrderedDict\n",
    "d = OrderedDict\n",
    "\n",
    "d = {}\n",
    "d['a'] = 1\n",
    "d['b'] = 2\n",
    "d['c'] = 3\n",
    "d['d'] = 4\n",
    "d['e'] = 5\n",
    "for k,v in d.items():\n",
    "    print(k,v)\n"
   ]
  },
  {
   "cell_type": "markdown",
   "metadata": {},
   "source": [
    "### namedtuple"
   ]
  },
  {
   "cell_type": "code",
   "execution_count": 5,
   "metadata": {},
   "outputs": [
    {
     "name": "stdout",
     "output_type": "stream",
     "text": [
      "3\n"
     ]
    }
   ],
   "source": [
    "# namedtuple : assigns an element/name to each element of a tuple\n",
    "# difererence between namedtuple and dict: namedtuple are immutable and ordered\n",
    "\n",
    "# Syntax:\n",
    "# sth =  namedtuple(\"self\" , \"parameter1 parameter2 parameter3......\")\n",
    "# sth2 = sth(.........)\n",
    "# sth2.parametern\n",
    "\n",
    "from collections import namedtuple\n",
    "a = namedtuple(\"A\" , \"B C D E\")\n",
    "\n",
    "k = a(B = 3, C = 5, D = 6, E = 8)\n",
    "print(k.B)"
   ]
  },
  {
   "cell_type": "code",
   "execution_count": null,
   "metadata": {},
   "outputs": [],
   "source": [
    "### "
   ]
  }
 ],
 "metadata": {
  "kernelspec": {
   "display_name": "Python 3",
   "language": "python",
   "name": "python3"
  },
  "language_info": {
   "codemirror_mode": {
    "name": "ipython",
    "version": 3
   },
   "file_extension": ".py",
   "mimetype": "text/x-python",
   "name": "python",
   "nbconvert_exporter": "python",
   "pygments_lexer": "ipython3",
   "version": "3.7.3"
  }
 },
 "nbformat": 4,
 "nbformat_minor": 2
}
