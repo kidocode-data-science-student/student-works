{
 "cells": [
  {
   "cell_type": "markdown",
   "metadata": {},
   "source": [
    "1-create random 80 numbers for age between 20 to 80"
   ]
  },
  {
   "cell_type": "markdown",
   "metadata": {},
   "source": [
    "2-create 80 numbers for income between 20k and 100k"
   ]
  },
  {
   "cell_type": "markdown",
   "metadata": {},
   "source": [
    "3-find the statistic for this set of data"
   ]
  },
  {
   "cell_type": "markdown",
   "metadata": {},
   "source": [
    "4- create 5 empty list with name group1 to 5."
   ]
  },
  {
   "cell_type": "markdown",
   "metadata": {},
   "source": [
    "5- use for loop and if elif to devide age data into 5 list.(age:20-30,31-40,41-50,51-60,61-70,71-80,81-90)"
   ]
  },
  {
   "cell_type": "markdown",
   "metadata": {},
   "source": [
    "6- sort all groups"
   ]
  },
  {
   "cell_type": "markdown",
   "metadata": {},
   "source": [
    "7-Drow pie chart for age(choose group1-5 as labels and len of group1 to 5 as sizes)"
   ]
  },
  {
   "cell_type": "markdown",
   "metadata": {},
   "source": [
    "8-now create 5 empty list for income(g1 to g5=20-40,40-60,60-80,80-100) and put it in the list with if-elif"
   ]
  },
  {
   "cell_type": "markdown",
   "metadata": {},
   "source": [
    "9-devide income to 5 groups from 20000 to 100000"
   ]
  },
  {
   "cell_type": "markdown",
   "metadata": {},
   "source": [
    "10- create pie chart for income"
   ]
  },
  {
   "cell_type": "markdown",
   "metadata": {},
   "source": [
    "11-create bar chart and horizontal barchart and compare age and income with barchart."
   ]
  },
  {
   "cell_type": "code",
   "execution_count": 1,
   "metadata": {},
   "outputs": [
    {
     "name": "stdout",
     "output_type": "stream",
     "text": [
      "[66, 33, 60, 79, 59, 31, 59, 66, 67, 80, 37, 20, 47, 33, 60, 75, 64, 71, 78, 32, 43, 70, 61, 73, 21, 33, 39, 30, 69, 24, 35, 53, 62, 70, 53, 53, 28, 48, 79, 69, 35, 81, 69, 59, 58, 20, 74, 44, 39, 20, 68, 69, 56, 27, 38, 41, 24, 51, 39, 37, 33, 25, 34, 71, 34, 45, 45, 60, 77, 38, 72, 32, 52, 60, 27, 70, 36, 48, 43, 60]\n"
     ]
    }
   ],
   "source": [
    "#1\n",
    "import random\n",
    "age = [random.randint(20,81) for i in range(80)]\n",
    "print(age)"
   ]
  },
  {
   "cell_type": "code",
   "execution_count": 2,
   "metadata": {},
   "outputs": [
    {
     "name": "stdout",
     "output_type": "stream",
     "text": [
      "[86046, 60007, 49431, 36748, 99160, 54689, 88249, 43159, 62683, 24006, 56825, 90213, 20105, 60676, 73684, 60885, 58898, 34326, 96381, 72669, 25045, 78301, 74353, 61607, 47999, 26841, 67295, 89773, 95292, 25796, 52605, 90318, 37942, 96908, 48110, 45086, 20523, 21692, 86037, 25386, 88720, 71010, 60313, 27898, 27510, 29644, 42060, 56600, 61530, 96216, 99989, 81071, 80673, 73331, 30184, 24115, 50883, 44764, 58239, 65181, 36478, 47972, 59436, 55288, 39405, 31194, 55785, 44695, 77930, 39214, 76880, 25204, 78014, 39407, 25972, 61856, 40484, 68574, 83372, 39099]\n"
     ]
    }
   ],
   "source": [
    "#2\n",
    "income = [random.randint(20000,100000+1) for i in range(80)]\n",
    "print(income)"
   ]
  },
  {
   "cell_type": "code",
   "execution_count": 3,
   "metadata": {},
   "outputs": [
    {
     "name": "stdout",
     "output_type": "stream",
     "text": [
      "56774.2375\n",
      "529232678.1060937\n",
      "38809.75\n"
     ]
    }
   ],
   "source": [
    "#3\n",
    "import numpy as np\n",
    "import scipy.stats as sp\n",
    "\n",
    "print(np.mean(income))\n",
    "print(np.var(income))\n",
    "print(np.percentile(income,25))"
   ]
  },
  {
   "cell_type": "code",
   "execution_count": 4,
   "metadata": {},
   "outputs": [],
   "source": [
    "#4\n",
    "A = []\n",
    "B = []\n",
    "C = []\n",
    "D = []\n",
    "E = []"
   ]
  },
  {
   "cell_type": "code",
   "execution_count": 5,
   "metadata": {},
   "outputs": [
    {
     "name": "stdout",
     "output_type": "stream",
     "text": [
      "[20, 21, 30, 24, 28, 20, 20, 27, 24, 25, 27]\n",
      "[33, 31, 37, 33, 32, 33, 39, 35, 35, 39, 38, 39, 37, 33, 34, 34, 38, 32, 36]\n",
      "[47, 43, 48, 44, 41, 45, 45, 48, 43]\n",
      "[60, 59, 59, 60, 53, 53, 53, 59, 58, 56, 51, 60, 52, 60, 60]\n",
      "[66, 66, 67, 64, 70, 61, 69, 62, 70, 69, 69, 68, 69, 70]\n"
     ]
    }
   ],
   "source": [
    "#5\n",
    "LIST = [A,B,C,D,E]\n",
    "\n",
    "for x in age:\n",
    "    if 20<=x and x<=30:\n",
    "        A.append(x)\n",
    "    elif 31<=x and x<=40:\n",
    "        B.append(x)\n",
    "    elif 41<=x and x<=50:\n",
    "        C.append(x)\n",
    "    elif 51<=x and x<=60:\n",
    "        D.append(x)\n",
    "    elif 61<=x and x<=70:\n",
    "        E.append(x)\n",
    "\n",
    "for i in range(len(LIST)):\n",
    "    print(LIST[i])"
   ]
  },
  {
   "cell_type": "code",
   "execution_count": 6,
   "metadata": {},
   "outputs": [
    {
     "name": "stdout",
     "output_type": "stream",
     "text": [
      "[20, 20, 20, 21, 24, 24, 25, 27, 27, 28, 30]\n",
      "[31, 32, 32, 33, 33, 33, 33, 34, 34, 35, 35, 36, 37, 37, 38, 38, 39, 39, 39]\n",
      "[41, 43, 43, 44, 45, 45, 47, 48, 48]\n",
      "[51, 52, 53, 53, 53, 56, 58, 59, 59, 59, 60, 60, 60, 60, 60]\n",
      "[61, 62, 64, 66, 66, 67, 68, 69, 69, 69, 69, 70, 70, 70]\n"
     ]
    }
   ],
   "source": [
    "#6\n",
    "for i in range(len(LIST)):\n",
    "    LIST[i].sort()\n",
    "    print(LIST[i])"
   ]
  },
  {
   "cell_type": "code",
   "execution_count": 8,
   "metadata": {},
   "outputs": [
    {
     "data": {
      "image/png": "[encoded data removed]",
      "text/plain": [
       "<Figure size 432x288 with 1 Axes>"
      ]
     },
     "metadata": {},
     "output_type": "display_data"
    }
   ],
   "source": [
    "#7\n",
    "import numpy as np\n",
    "import matplotlib.pyplot as plt\n",
    "\n",
    "labels = ['20-30','31-40','41-50','51-60','61-70']\n",
    "values = [len(A),len(B),len(C),len(D),len(E)]\n",
    "\n",
    "plt.pie(x=values,labels=labels)\n",
    "plt.show()"
   ]
  },
  {
   "cell_type": "code",
   "execution_count": 9,
   "metadata": {
    "scrolled": true
   },
   "outputs": [
    {
     "data": {
      "image/png": "[encoded data removed]",
      "text/plain": [
       "<Figure size 432x288 with 1 Axes>"
      ]
     },
     "metadata": {
      "needs_background": "light"
     },
     "output_type": "display_data"
    }
   ],
   "source": [
    "#11\n",
    "labels = ['20-30','31-40','41-50','51-60','61-70']\n",
    "values = [len(A),len(B),len(C),len(D),len(E)]\n",
    "plt.bar(labels,values)\n",
    "plt.show()"
   ]
  },
  {
   "cell_type": "code",
   "execution_count": 13,
   "metadata": {},
   "outputs": [
    {
     "data": {
      "image/png": "[encoded data removed]",
      "text/plain": [
       "<Figure size 432x288 with 1 Axes>"
      ]
     },
     "metadata": {
      "needs_background": "light"
     },
     "output_type": "display_data"
    }
   ],
   "source": [
    "#12\n",
    "plt.hist(x = age, bins=100)\n",
    "plt.show()"
   ]
  },
  {
   "cell_type": "code",
   "execution_count": 11,
   "metadata": {},
   "outputs": [],
   "source": [
    "#8\n",
    "P = []\n",
    "PP = []\n",
    "PPP = []\n",
    "PPPP = []\n",
    "PPPPP = []"
   ]
  },
  {
   "cell_type": "code",
   "execution_count": 12,
   "metadata": {},
   "outputs": [
    {
     "name": "stdout",
     "output_type": "stream",
     "text": [
      "[38128, 23342, 37734, 23824, 34054, 27319, 37340, 35554, 36700, 32617, 22372, 34376, 28561, 39850, 33736, 21905, 31544, 26005, 38423, 23505, 25866, 29292, 20593]\n",
      "[43325, 41651, 45694, 42284, 44030, 40944, 44117, 47108]\n",
      "[58214, 56459, 59052, 54207, 57683, 51250, 52396]\n",
      "[61121, 69914, 71069, 61243, 70522, 75972, 75015, 69213, 62045, 71618, 72856, 74463, 65582, 75749, 72102]\n",
      "[92756, 86891, 99493, 99848, 94524, 98118, 85938, 95138, 92794, 80306, 89110, 99640, 93330, 86705, 89648, 83431, 93032, 99878, 88899, 81207, 95722, 87396, 80085, 92179, 84061, 93118, 94666]\n"
     ]
    }
   ],
   "source": [
    "#9\n",
    "LISTS = [P,PP,PPP,PPPP,PPPPP]\n",
    "\n",
    "for y in income:\n",
    "    if y>=20000 and y<=40000:\n",
    "        P.append(y)\n",
    "    elif y>=40001 and y<=50000:\n",
    "        PP.append(y)\n",
    "    elif y>=50001 and y<=60000:\n",
    "        PPP.append(y)\n",
    "    elif y>=60001 and y<=80000:\n",
    "        PPPP.append(y)\n",
    "    else:\n",
    "        PPPPP.append(y)\n",
    "        \n",
    "for i in range(len(LISTS)):\n",
    "               print(LISTS[i])"
   ]
  },
  {
   "cell_type": "code",
   "execution_count": 13,
   "metadata": {},
   "outputs": [
    {
     "data": {
      "image/png": "[encoded data removed]",
      "text/plain": [
       "<Figure size 432x288 with 1 Axes>"
      ]
     },
     "metadata": {},
     "output_type": "display_data"
    }
   ],
   "source": [
    "#10\n",
    "import numpy as np\n",
    "import matplotlib.pyplot as plt\n",
    "\n",
    "labels = ['20k-40k','40.001k-50k','50.001k-60','60.001k-80','80.001k-100000']\n",
    "values = [len(P),len(PP),len(PPP),len(PPPP),len(PPPPP)]\n",
    "\n",
    "plt.pie(x=values,labels=labels)\n",
    "plt.show()"
   ]
  },
  {
   "cell_type": "code",
   "execution_count": 14,
   "metadata": {},
   "outputs": [
    {
     "data": {
      "image/png": "[encoded data removed]",
      "text/plain": [
       "<Figure size 432x288 with 1 Axes>"
      ]
     },
     "metadata": {
      "needs_background": "light"
     },
     "output_type": "display_data"
    }
   ],
   "source": [
    "#11\n",
    "labels = ['20k-40k','40.001k-50k','50.001k-60','60.001k-80','80.001k-100000']\n",
    "values = [len(P),len(PP),len(PPP),len(PPPP),len(PPPPP)]\n",
    "plt.bar(labels,values)\n",
    "plt.show()"
   ]
  },
  {
   "cell_type": "code",
   "execution_count": 14,
   "metadata": {},
   "outputs": [
    {
     "data": {
      "image/png": "[encoded data removed]",
      "text/plain": [
       "<Figure size 432x288 with 1 Axes>"
      ]
     },
     "metadata": {
      "needs_background": "light"
     },
     "output_type": "display_data"
    }
   ],
   "source": [
    "#12\n",
    "plt.hist(x = income, bins=100)\n",
    "plt.show()"
   ]
  }
 ],
 "metadata": {
  "kernelspec": {
   "display_name": "Python 3",
   "language": "python",
   "name": "python3"
  },
  "language_info": {
   "codemirror_mode": {
    "name": "ipython",
    "version": 3
   },
   "file_extension": ".py",
   "mimetype": "text/x-python",
   "name": "python",
   "nbconvert_exporter": "python",
   "pygments_lexer": "ipython3",
   "version": "3.7.2"
  }
 },
 "nbformat": 4,
 "nbformat_minor": 2
}
