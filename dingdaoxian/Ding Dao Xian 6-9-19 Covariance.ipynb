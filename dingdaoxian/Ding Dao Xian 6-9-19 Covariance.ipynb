{
 "cells": [
  {
   "cell_type": "markdown",
   "metadata": {},
   "source": [
    "## 1.0 General Explanation about <font color = \"orange\">Covariance</font>\n",
    "\n",
    "-  Covariance measure the total variation of two variables from their expected value (mean).\n",
    "-  Covariance is a measure of the joint probability of two variables.\n",
    "-  Covariance does not indicate the strength of the relationship nor the dependency between the variables.\n",
    "-  The relationship between the two concpets can be expected using the formula:"
   ]
  },
  {
   "attachments": {
    "image.png": {
     "image/png": "[encoded data removed]"
    }
   },
   "cell_type": "markdown",
   "metadata": {},
   "source": [
    "![image.png](attachment:image.png)"
   ]
  },
  {
   "cell_type": "markdown",
   "metadata": {},
   "source": [
    "## 2.0 Example for <font color = \"orange\">Covariance</font>\n",
    "Study was conducted to investigate the relationship between <font color = \"red\"><strong>score in Data Science</strong></font> and <font color = \"red\"><strong>weight in kilograms</strong></font> among students."
   ]
  },
  {
   "cell_type": "code",
   "execution_count": 1,
   "metadata": {},
   "outputs": [
    {
     "data": {
      "text/html": [
       "<div>\n",
       "<style scoped>\n",
       "    .dataframe tbody tr th:only-of-type {\n",
       "        vertical-align: middle;\n",
       "    }\n",
       "\n",
       "    .dataframe tbody tr th {\n",
       "        vertical-align: top;\n",
       "    }\n",
       "\n",
       "    .dataframe thead th {\n",
       "        text-align: right;\n",
       "    }\n",
       "</style>\n",
       "<table border=\"1\" class=\"dataframe\">\n",
       "  <thead>\n",
       "    <tr style=\"text-align: right;\">\n",
       "      <th></th>\n",
       "      <th>Score( /50)</th>\n",
       "      <th>Weight(kg)</th>\n",
       "    </tr>\n",
       "  </thead>\n",
       "  <tbody>\n",
       "    <tr>\n",
       "      <th>0</th>\n",
       "      <td>3</td>\n",
       "      <td>30</td>\n",
       "    </tr>\n",
       "    <tr>\n",
       "      <th>1</th>\n",
       "      <td>5</td>\n",
       "      <td>32</td>\n",
       "    </tr>\n",
       "    <tr>\n",
       "      <th>2</th>\n",
       "      <td>8</td>\n",
       "      <td>34</td>\n",
       "    </tr>\n",
       "    <tr>\n",
       "      <th>3</th>\n",
       "      <td>10</td>\n",
       "      <td>35</td>\n",
       "    </tr>\n",
       "    <tr>\n",
       "      <th>4</th>\n",
       "      <td>13</td>\n",
       "      <td>38</td>\n",
       "    </tr>\n",
       "  </tbody>\n",
       "</table>\n",
       "</div>"
      ],
      "text/plain": [
       "   Score( /50)  Weight(kg)\n",
       "0            3          30\n",
       "1            5          32\n",
       "2            8          34\n",
       "3           10          35\n",
       "4           13          38"
      ]
     },
     "execution_count": 1,
     "metadata": {},
     "output_type": "execute_result"
    }
   ],
   "source": [
    "import pandas as pd\n",
    "\n",
    "D = pd.read_csv('1st.csv')\n",
    "D.head()"
   ]
  },
  {
   "cell_type": "code",
   "execution_count": 4,
   "metadata": {
    "scrolled": true
   },
   "outputs": [
    {
     "data": {
      "text/plain": [
       "175.86315789473682"
      ]
     },
     "execution_count": 4,
     "metadata": {},
     "output_type": "execute_result"
    }
   ],
   "source": [
    "# normal python method\n",
    "\n",
    "S = D['Score( /50)']\n",
    "W = D['Weight(kg)']\n",
    "\n",
    "# Args[0] = X , Args[1] = Y\n",
    "def co_variance(*Args):\n",
    "    return sum([(Args[0][i]-sum(Args[0])/len(Args[0]))*(Args[1][i]-sum(Args[1])/len(Args[1])) for i in range(len(Args[0]))])/(len(Args[0])-1)\n",
    "    \n",
    "co_variance(S,W)\n"
   ]
  },
  {
   "cell_type": "code",
   "execution_count": 5,
   "metadata": {},
   "outputs": [
    {
     "name": "stdout",
     "output_type": "stream",
     "text": [
      "1. Mean of score in Data Science among students is  28.85\n",
      "2. Mean of weight (kg) among students is  47.8\n",
      "3. The covariance is  175.86315789473682\n"
     ]
    }
   ],
   "source": [
    "score = [3, 5, 8, 10, 13, 15, 18, 20, 28, 32, 35, 39, 40, 40, 42, 43, 45, 46, 47, 48]\n",
    "weight = [30, 32, 34, 35, 38, 39, 41, 43, 44, 46, 47, 50, 51, 53, 54, 58, 60, 65, 66, 70]\n",
    "\n",
    "#1st Step: Find the mean of x and the mean of y\n",
    "meanScore = sum(score) / len(score)\n",
    "meanWeight = sum(weight) / len(weight)\n",
    "\n",
    "print (\"1. Mean of score in Data Science among students is \", meanScore)\n",
    "print (\"2. Mean of weight (kg) among students is \", meanWeight)\n",
    "\n",
    "#2nd Step: Find the difference of each value of x (assign as a) and y (assign as b) from their means.\n",
    "a = []\n",
    "for i in score:\n",
    "    differentFromMeanScore = i - meanScore\n",
    "    a.append(differentFromMeanScore)\n",
    "    #print \"List of a is \", a\n",
    "\n",
    "b = []\n",
    "for j in weight:\n",
    "    differentFromMeanWeight = j - meanWeight\n",
    "    b.append(differentFromMeanWeight)\n",
    "    #print \"List of b is \", b\n",
    "    \n",
    "#3rd Step: Multiply the results obtained\n",
    "ab = []\n",
    "for k in range (len(a)):\n",
    "    ab.append(a[k]*b[k])\n",
    "    #print \"List of (a x b) is \", ab\n",
    "\n",
    "#4th Step: Find the covariance\n",
    "covariance = sum(ab) / float(len(ab) - 1)\n",
    "print (\"3. The covariance is \", covariance)"
   ]
  },
  {
   "cell_type": "markdown",
   "metadata": {},
   "source": [
    "### 2.2 Calculating the <font color = \"orange\">Covariance</font> using NUMPY"
   ]
  },
  {
   "cell_type": "code",
   "execution_count": 9,
   "metadata": {},
   "outputs": [
    {
     "name": "stdout",
     "output_type": "stream",
     "text": [
      "1. The covariance of (score, score) is  246.87105263157895\n",
      "2. The covariance of (weight, weight) is  138.69473684210527\n",
      "3. The covariance of (score, weight) is  [[246.87105263 175.86315789]\n",
      " [175.86315789 138.69473684]]\n"
     ]
    }
   ],
   "source": [
    "import numpy as np\n",
    "\n",
    "print( \"1. The covariance of (score, score) is \", np.cov(score))\n",
    "print( \"2. The covariance of (weight, weight) is \", np.cov(weight))\n",
    "\n",
    "print( \"3. The covariance of (score, weight) is \", np.cov(score, weight))"
   ]
  },
  {
   "cell_type": "markdown",
   "metadata": {
    "collapsed": true
   },
   "source": [
    "### <font color =\"orange\">Question 1</font>\n",
    "Table below shows a list of 25 students with the days they present to class in one semester and the GPA they got for that semester. A student who has many absence has a decrease in GPA. By referring to table below, create list for Days Present as x and GPA as y."
   ]
  },
  {
   "cell_type": "code",
   "execution_count": 1,
   "metadata": {},
   "outputs": [
    {
     "data": {
      "text/html": [
       "<div>\n",
       "<style scoped>\n",
       "    .dataframe tbody tr th:only-of-type {\n",
       "        vertical-align: middle;\n",
       "    }\n",
       "\n",
       "    .dataframe tbody tr th {\n",
       "        vertical-align: top;\n",
       "    }\n",
       "\n",
       "    .dataframe thead th {\n",
       "        text-align: right;\n",
       "    }\n",
       "</style>\n",
       "<table border=\"1\" class=\"dataframe\">\n",
       "  <thead>\n",
       "    <tr style=\"text-align: right;\">\n",
       "      <th></th>\n",
       "      <th>Days Present</th>\n",
       "      <th>y</th>\n",
       "    </tr>\n",
       "  </thead>\n",
       "  <tbody>\n",
       "    <tr>\n",
       "      <th>0</th>\n",
       "      <td>180</td>\n",
       "      <td>4.00</td>\n",
       "    </tr>\n",
       "    <tr>\n",
       "      <th>1</th>\n",
       "      <td>150</td>\n",
       "      <td>2.50</td>\n",
       "    </tr>\n",
       "    <tr>\n",
       "      <th>2</th>\n",
       "      <td>170</td>\n",
       "      <td>4.00</td>\n",
       "    </tr>\n",
       "    <tr>\n",
       "      <th>3</th>\n",
       "      <td>180</td>\n",
       "      <td>3.90</td>\n",
       "    </tr>\n",
       "    <tr>\n",
       "      <th>4</th>\n",
       "      <td>177</td>\n",
       "      <td>3.75</td>\n",
       "    </tr>\n",
       "  </tbody>\n",
       "</table>\n",
       "</div>"
      ],
      "text/plain": [
       "   Days Present     y\n",
       "0           180  4.00\n",
       "1           150  2.50\n",
       "2           170  4.00\n",
       "3           180  3.90\n",
       "4           177  3.75"
      ]
     },
     "execution_count": 1,
     "metadata": {},
     "output_type": "execute_result"
    }
   ],
   "source": [
    "import pandas as pd\n",
    "import numpy as np\n",
    "x = [180, 150, 170, 180, 177, 180, 140, 169, 168, 152, 150, 170, 109, 180, 108, 175, 144, 120, 133, 160, 160, 159, 165, 180, 149]\n",
    "y = [4.00, 2.50, 4.00, 3.90, 3.75, 3.80, 2.90, 3.10, 3.25, 3.40, 3.30, 3.90, 1.35, 4.00, 1.00, 3.85, 2.98, 2.75, 2.75, 3.60, 3.50, 3.50, 3.50, 3.85, 2.95]\n",
    "\n",
    "Q1 = pd.DataFrame(x, columns = ['Days Present'])\n",
    "Q1['y'] = y\n",
    "Q1.style.set_properties(**{'text-align':'center'})\n",
    "Q1.head()"
   ]
  },
  {
   "cell_type": "markdown",
   "metadata": {},
   "source": [
    "### <font color = \"orange\">Question 2</font>\n",
    "\n",
    "By referring to previous table in Question 1, find:\n",
    "-  Mean of x (as meanX) and mean of y (as meanY)\n",
    "-  The difference for each value in x from mean of x (as a), and each value in y from mean of y\n",
    "-  Product of the results obtain\n",
    "-  Covariance and print it."
   ]
  },
  {
   "cell_type": "code",
   "execution_count": 2,
   "metadata": {},
   "outputs": [
    {
     "name": "stdout",
     "output_type": "stream",
     "text": [
      "mean of X =  157.12\n",
      "mean of Y =  3.2552000000000003\n"
     ]
    },
    {
     "data": {
      "text/html": [
       "<div>\n",
       "<style scoped>\n",
       "    .dataframe tbody tr th:only-of-type {\n",
       "        vertical-align: middle;\n",
       "    }\n",
       "\n",
       "    .dataframe tbody tr th {\n",
       "        vertical-align: top;\n",
       "    }\n",
       "\n",
       "    .dataframe thead th {\n",
       "        text-align: right;\n",
       "    }\n",
       "</style>\n",
       "<table border=\"1\" class=\"dataframe\">\n",
       "  <thead>\n",
       "    <tr style=\"text-align: right;\">\n",
       "      <th></th>\n",
       "      <th>Days Present</th>\n",
       "      <th>y</th>\n",
       "      <th>difference of x</th>\n",
       "      <th>difference of y</th>\n",
       "    </tr>\n",
       "  </thead>\n",
       "  <tbody>\n",
       "    <tr>\n",
       "      <th>0</th>\n",
       "      <td>180</td>\n",
       "      <td>4.00</td>\n",
       "      <td>22.88</td>\n",
       "      <td>0.7448</td>\n",
       "    </tr>\n",
       "    <tr>\n",
       "      <th>1</th>\n",
       "      <td>150</td>\n",
       "      <td>2.50</td>\n",
       "      <td>-7.12</td>\n",
       "      <td>-0.7552</td>\n",
       "    </tr>\n",
       "    <tr>\n",
       "      <th>2</th>\n",
       "      <td>170</td>\n",
       "      <td>4.00</td>\n",
       "      <td>12.88</td>\n",
       "      <td>0.7448</td>\n",
       "    </tr>\n",
       "    <tr>\n",
       "      <th>3</th>\n",
       "      <td>180</td>\n",
       "      <td>3.90</td>\n",
       "      <td>22.88</td>\n",
       "      <td>0.6448</td>\n",
       "    </tr>\n",
       "    <tr>\n",
       "      <th>4</th>\n",
       "      <td>177</td>\n",
       "      <td>3.75</td>\n",
       "      <td>19.88</td>\n",
       "      <td>0.4948</td>\n",
       "    </tr>\n",
       "  </tbody>\n",
       "</table>\n",
       "</div>"
      ],
      "text/plain": [
       "   Days Present     y  difference of x  difference of y\n",
       "0           180  4.00            22.88           0.7448\n",
       "1           150  2.50            -7.12          -0.7552\n",
       "2           170  4.00            12.88           0.7448\n",
       "3           180  3.90            22.88           0.6448\n",
       "4           177  3.75            19.88           0.4948"
      ]
     },
     "execution_count": 2,
     "metadata": {},
     "output_type": "execute_result"
    }
   ],
   "source": [
    "import numpy as np\n",
    "\n",
    "print(\"mean of X = \",np.mean(x))\n",
    "print(\"mean of Y = \",np.mean(y))\n",
    "diffx=[x[i]-np.mean(x) for i in range(len(x))]\n",
    "diffy=[y[i]-np.mean(y) for i in range(len(y))]\n",
    "Q1['difference of x'] = diffx\n",
    "Q1['difference of y'] = diffy\n",
    "Q1.head()"
   ]
  },
  {
   "cell_type": "code",
   "execution_count": 3,
   "metadata": {},
   "outputs": [
    {
     "data": {
      "text/html": [
       "<div>\n",
       "<style scoped>\n",
       "    .dataframe tbody tr th:only-of-type {\n",
       "        vertical-align: middle;\n",
       "    }\n",
       "\n",
       "    .dataframe tbody tr th {\n",
       "        vertical-align: top;\n",
       "    }\n",
       "\n",
       "    .dataframe thead th {\n",
       "        text-align: right;\n",
       "    }\n",
       "</style>\n",
       "<table border=\"1\" class=\"dataframe\">\n",
       "  <thead>\n",
       "    <tr style=\"text-align: right;\">\n",
       "      <th></th>\n",
       "      <th>Days Present</th>\n",
       "      <th>y</th>\n",
       "      <th>difference of x</th>\n",
       "      <th>difference of y</th>\n",
       "      <th>product</th>\n",
       "    </tr>\n",
       "  </thead>\n",
       "  <tbody>\n",
       "    <tr>\n",
       "      <th>0</th>\n",
       "      <td>180</td>\n",
       "      <td>4.00</td>\n",
       "      <td>22.88</td>\n",
       "      <td>0.7448</td>\n",
       "      <td>17.041024</td>\n",
       "    </tr>\n",
       "    <tr>\n",
       "      <th>1</th>\n",
       "      <td>150</td>\n",
       "      <td>2.50</td>\n",
       "      <td>-7.12</td>\n",
       "      <td>-0.7552</td>\n",
       "      <td>5.377024</td>\n",
       "    </tr>\n",
       "    <tr>\n",
       "      <th>2</th>\n",
       "      <td>170</td>\n",
       "      <td>4.00</td>\n",
       "      <td>12.88</td>\n",
       "      <td>0.7448</td>\n",
       "      <td>9.593024</td>\n",
       "    </tr>\n",
       "    <tr>\n",
       "      <th>3</th>\n",
       "      <td>180</td>\n",
       "      <td>3.90</td>\n",
       "      <td>22.88</td>\n",
       "      <td>0.6448</td>\n",
       "      <td>14.753024</td>\n",
       "    </tr>\n",
       "    <tr>\n",
       "      <th>4</th>\n",
       "      <td>177</td>\n",
       "      <td>3.75</td>\n",
       "      <td>19.88</td>\n",
       "      <td>0.4948</td>\n",
       "      <td>9.836624</td>\n",
       "    </tr>\n",
       "  </tbody>\n",
       "</table>\n",
       "</div>"
      ],
      "text/plain": [
       "   Days Present     y  difference of x  difference of y    product\n",
       "0           180  4.00            22.88           0.7448  17.041024\n",
       "1           150  2.50            -7.12          -0.7552   5.377024\n",
       "2           170  4.00            12.88           0.7448   9.593024\n",
       "3           180  3.90            22.88           0.6448  14.753024\n",
       "4           177  3.75            19.88           0.4948   9.836624"
      ]
     },
     "execution_count": 3,
     "metadata": {},
     "output_type": "execute_result"
    }
   ],
   "source": [
    "product = [diffx[i]*diffy[i] for i in range(len(x))]\n",
    "Q1['product'] = product\n",
    "Q1.head()"
   ]
  },
  {
   "cell_type": "code",
   "execution_count": 4,
   "metadata": {},
   "outputs": [
    {
     "name": "stdout",
     "output_type": "stream",
     "text": [
      "Covariance =  15.22268333333333\n"
     ]
    }
   ],
   "source": [
    "print(\"Covariance = \", sum(product)/(len(product)-1))"
   ]
  },
  {
   "cell_type": "markdown",
   "metadata": {},
   "source": [
    "### <font color = \"orange\">Question 3</font>\n",
    "\n",
    "By referring to table in Question 1, import **NUMPY** and use it to find the covariance of x and y, compare with your step by step result."
   ]
  },
  {
   "cell_type": "code",
   "execution_count": 5,
   "metadata": {},
   "outputs": [
    {
     "data": {
      "text/plain": [
       "array([[473.02666667,  15.22268333],\n",
       "       [ 15.22268333,   0.590926  ]])"
      ]
     },
     "execution_count": 5,
     "metadata": {},
     "output_type": "execute_result"
    }
   ],
   "source": [
    "np.cov(x,y)"
   ]
  },
  {
   "cell_type": "markdown",
   "metadata": {},
   "source": [
    "### <font color = \"crimson\">Question 10</font>\n",
    "\n",
    "Generate 20 random values for m in range (40, 60). Then, create list n which every value in m is connected with n using formula <em>n = 2m + 1</em>. Find the covariance of these two data using **NUMPY**."
   ]
  },
  {
   "cell_type": "code",
   "execution_count": 11,
   "metadata": {},
   "outputs": [
    {
     "name": "stdout",
     "output_type": "stream",
     "text": [
      "[[ 32.51315789  65.02631579]\n",
      " [ 65.02631579 130.05263158]]\n"
     ]
    }
   ],
   "source": [
    "import random\n",
    "import numpy\n",
    "m = [random.randint(40,60) for i in range(20)]\n",
    "n = [2*(m[i])+1 for i in range(20)]\n",
    "mean = np.mean(m)\n",
    "\n",
    "print(numpy.cov(m,n))\n"
   ]
  },
  {
   "cell_type": "code",
   "execution_count": 14,
   "metadata": {},
   "outputs": [
    {
     "data": {
      "text/plain": [
       "65.02631578947368"
      ]
     },
     "execution_count": 14,
     "metadata": {},
     "output_type": "execute_result"
    }
   ],
   "source": [
    "# alternative formula for this case\n",
    "\n",
    "# 2(sum(x*(x-mean)))/n-1\n",
    "\n",
    "sum([2*m[i]*(m[i]-mean) for i in range(20)])/(20-1)"
   ]
  },
  {
   "cell_type": "markdown",
   "metadata": {},
   "source": [
    "### <font color = \"crimson\">Question 11</font>\n",
    "\n",
    "Using the data of m and n in <font color = \"crimson\">Question 11</font>, draw a scatter plot of m and n."
   ]
  },
  {
   "cell_type": "code",
   "execution_count": 18,
   "metadata": {},
   "outputs": [
    {
     "name": "stdout",
     "output_type": "stream",
     "text": [
      " \n",
      "2 x + 1\n"
     ]
    },
    {
     "data": {
      "image/png": "[encoded data removed]",
      "text/plain": [
       "<Figure size 432x288 with 1 Axes>"
      ]
     },
     "metadata": {
      "needs_background": "light"
     },
     "output_type": "display_data"
    }
   ],
   "source": [
    "import matplotlib.pyplot as plt\n",
    "import numpy as np\n",
    "\n",
    "plt.scatter(m,n)\n",
    "\n",
    "plt.xlabel(\"m\", fontsize = 12); plt.ylabel(\"n\", fontsize = 12)\n",
    "plt.xticks(size = 10); plt.yticks(size = 10)\n",
    "plt.title(\"m versus n\", fontsize = 15)\n",
    "\n",
    "equation = np.poly1d(np.polyfit(m, n, 1))\n",
    "print(equation)\n",
    "\n",
    "mm = np.arange(40, 60, 0.1)\n",
    "nn = (2 * mm) + 1\n",
    "\n",
    "plt.plot(mm, nn)\n",
    "\n",
    "plt.show()"
   ]
  },
  {
   "cell_type": "markdown",
   "metadata": {},
   "source": [
    "### <font color = mediumturquoise>Question 12</font>\n",
    "\n",
    "List of x and y are given. Generate 30 random number from list x and y and assign it as two new list randomX and randomY. Then, draw a scatter plot of randomX and randomY with the line of best fit drawn on the scatter diagram. Try to get the best fit of line!\n",
    "\n",
    "\n",
    "x = [180, 150, 170, 180, 177, 180, 140, 169, 168, 152, 150, 170, 109, 180, 108, 175, 144, 120, 133, 160, 160, 159, 165, 180, 149, 180, 160, 155, 156, 145, 122, 131, 156, 166, 170, 155, 158, 170, 160, 165, 159, 119, 168, 175, 161, 160, 160, 150, 140, 148]\n",
    "\n",
    "y = [4.00, 2.50, 4.00, 3.90, 3.75, 3.80, 2.90, 3.10, 3.25, 3.40, 3.30, 3.90, 1.35, 4.00, 1.00, 3.85, 2.98, 2.75, 2.75, 3.60, 3.50, 3.50, 3.50, 3.85, 2.95, 3.95, 3.65, 3.55, 3.58, 2.98, 1.50, 1.75, 2.20, 3.00, 3.00, 3.00, 3.15, 3.90, 3.15, 3.85, 2.70, 1.00, 3.25, 3.90, 2.80, 3.50, 3.40, 2.30, 2.50, 2.35]"
   ]
  },
  {
   "cell_type": "code",
   "execution_count": 58,
   "metadata": {},
   "outputs": [
    {
     "name": "stdout",
     "output_type": "stream",
     "text": [
      "5.684341886080802e-14\n",
      " \n",
      "0.01246 x + 1.158\n"
     ]
    },
    {
     "data": {
      "image/png": "[encoded data removed]",
      "text/plain": [
       "<Figure size 432x288 with 1 Axes>"
      ]
     },
     "metadata": {
      "needs_background": "light"
     },
     "output_type": "display_data"
    }
   ],
   "source": [
    "x = [180, 150, 170, 180, 177, 180, 140, 169, 168, 152, 150, 170, 109, 180, 108, 175, 144, 120, 133, 160, 160, 159, 165, 180, 149, 180, 160, 155, 156, 145, 122, 131, 156, 166, 170, 155, 158, 170, 160, 165, 159, 119, 168, 175, 161, 160, 160, 150, 140, 148]\n",
    "y = [4.00, 2.50, 4.00, 3.90, 3.75, 3.80, 2.90, 3.10, 3.25, 3.40, 3.30, 3.90, 1.35, 4.00, 1.00, 3.85, 2.98, 2.75, 2.75, 3.60, 3.50, 3.50, 3.50, 3.85, 2.95, 3.95, 3.65, 3.55, 3.58, 2.98, 1.50, 1.75, 2.20, 3.00, 3.00, 3.00, 3.15, 3.90, 3.15, 3.85, 2.70, 1.00, 3.25, 3.90, 2.80, 3.50, 3.40, 2.30, 2.50, 2.35]\n",
    "\n",
    "randomx = list(np.random.choice(x, len(x) , replace = False))\n",
    "randomy = list(np.random.choice(y, len(y) , replace = False))\n",
    "print(sum(x)-sum(randomx) + sum(y) - sum(randomy))\n",
    "\n",
    "plt.scatter(randomx, randomy)\n",
    "plt.xlabel(\"RandomX\", fontsize = 12); plt.ylabel(\"RandomY\", fontsize = 12)\n",
    "plt.xticks(size = 10); plt.yticks(size = 10)\n",
    "plt.title(\"RandomX vs RandomY\", fontsize = 12)\n",
    "\n",
    "equation = np.poly1d(np.polyfit(randomx, randomy, 1))\n",
    "print(equation)\n",
    "\n",
    "randomXX = np.arange(110, 190, 0.1)\n",
    "randomYY = ((equation[1] * randomXX) + equation[0])\n",
    "plt.plot(randomXX, randomYY)\n",
    "plt.show()"
   ]
  }
 ],
 "metadata": {
  "kernelspec": {
   "display_name": "Python 3",
   "language": "python",
   "name": "python3"
  },
  "language_info": {
   "codemirror_mode": {
    "name": "ipython",
    "version": 3
   },
   "file_extension": ".py",
   "mimetype": "text/x-python",
   "name": "python",
   "nbconvert_exporter": "python",
   "pygments_lexer": "ipython3",
   "version": "3.7.3"
  }
 },
 "nbformat": 4,
 "nbformat_minor": 2
}
