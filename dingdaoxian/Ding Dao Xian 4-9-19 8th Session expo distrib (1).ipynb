{
 "cells": [
  {
   "cell_type": "markdown",
   "metadata": {},
   "source": [
    "### Computing expo distrib (Ae^(-Ax))"
   ]
  },
  {
   "cell_type": "code",
   "execution_count": 11,
   "metadata": {},
   "outputs": [
    {
     "name": "stdout",
     "output_type": "stream",
     "text": [
      "[1, 2, 3, 4, 5, 6, 7, 8, 9, 10, 11, 12, 13, 14, 15, 16, 17, 18, 19, 20]\n"
     ]
    },
    {
     "data": {
      "text/html": [
       "<div>\n",
       "<style scoped>\n",
       "    .dataframe tbody tr th:only-of-type {\n",
       "        vertical-align: middle;\n",
       "    }\n",
       "\n",
       "    .dataframe tbody tr th {\n",
       "        vertical-align: top;\n",
       "    }\n",
       "\n",
       "    .dataframe thead th {\n",
       "        text-align: right;\n",
       "    }\n",
       "</style>\n",
       "<table border=\"1\" class=\"dataframe\">\n",
       "  <thead>\n",
       "    <tr style=\"text-align: right;\">\n",
       "      <th></th>\n",
       "      <th>x</th>\n",
       "      <th>f(x)</th>\n",
       "    </tr>\n",
       "  </thead>\n",
       "  <tbody>\n",
       "    <tr>\n",
       "      <th>0</th>\n",
       "      <td>1</td>\n",
       "      <td>0.086586</td>\n",
       "    </tr>\n",
       "    <tr>\n",
       "      <th>1</th>\n",
       "      <td>2</td>\n",
       "      <td>0.078721</td>\n",
       "    </tr>\n",
       "    <tr>\n",
       "      <th>2</th>\n",
       "      <td>3</td>\n",
       "      <td>0.071569</td>\n",
       "    </tr>\n",
       "    <tr>\n",
       "      <th>3</th>\n",
       "      <td>4</td>\n",
       "      <td>0.065068</td>\n",
       "    </tr>\n",
       "    <tr>\n",
       "      <th>4</th>\n",
       "      <td>5</td>\n",
       "      <td>0.059157</td>\n",
       "    </tr>\n",
       "    <tr>\n",
       "      <th>5</th>\n",
       "      <td>6</td>\n",
       "      <td>0.053783</td>\n",
       "    </tr>\n",
       "    <tr>\n",
       "      <th>6</th>\n",
       "      <td>7</td>\n",
       "      <td>0.048897</td>\n",
       "    </tr>\n",
       "    <tr>\n",
       "      <th>7</th>\n",
       "      <td>8</td>\n",
       "      <td>0.044455</td>\n",
       "    </tr>\n",
       "    <tr>\n",
       "      <th>8</th>\n",
       "      <td>9</td>\n",
       "      <td>0.040416</td>\n",
       "    </tr>\n",
       "    <tr>\n",
       "      <th>9</th>\n",
       "      <td>10</td>\n",
       "      <td>0.036745</td>\n",
       "    </tr>\n",
       "    <tr>\n",
       "      <th>10</th>\n",
       "      <td>11</td>\n",
       "      <td>0.033407</td>\n",
       "    </tr>\n",
       "    <tr>\n",
       "      <th>11</th>\n",
       "      <td>12</td>\n",
       "      <td>0.030372</td>\n",
       "    </tr>\n",
       "    <tr>\n",
       "      <th>12</th>\n",
       "      <td>13</td>\n",
       "      <td>0.027613</td>\n",
       "    </tr>\n",
       "    <tr>\n",
       "      <th>13</th>\n",
       "      <td>14</td>\n",
       "      <td>0.025104</td>\n",
       "    </tr>\n",
       "    <tr>\n",
       "      <th>14</th>\n",
       "      <td>15</td>\n",
       "      <td>0.022824</td>\n",
       "    </tr>\n",
       "    <tr>\n",
       "      <th>15</th>\n",
       "      <td>16</td>\n",
       "      <td>0.020751</td>\n",
       "    </tr>\n",
       "    <tr>\n",
       "      <th>16</th>\n",
       "      <td>17</td>\n",
       "      <td>0.018865</td>\n",
       "    </tr>\n",
       "    <tr>\n",
       "      <th>17</th>\n",
       "      <td>18</td>\n",
       "      <td>0.017152</td>\n",
       "    </tr>\n",
       "    <tr>\n",
       "      <th>18</th>\n",
       "      <td>19</td>\n",
       "      <td>0.015594</td>\n",
       "    </tr>\n",
       "    <tr>\n",
       "      <th>19</th>\n",
       "      <td>20</td>\n",
       "      <td>0.014177</td>\n",
       "    </tr>\n",
       "  </tbody>\n",
       "</table>\n",
       "</div>"
      ],
      "text/plain": [
       "     x      f(x)\n",
       "0    1  0.086586\n",
       "1    2  0.078721\n",
       "2    3  0.071569\n",
       "3    4  0.065068\n",
       "4    5  0.059157\n",
       "5    6  0.053783\n",
       "6    7  0.048897\n",
       "7    8  0.044455\n",
       "8    9  0.040416\n",
       "9   10  0.036745\n",
       "10  11  0.033407\n",
       "11  12  0.030372\n",
       "12  13  0.027613\n",
       "13  14  0.025104\n",
       "14  15  0.022824\n",
       "15  16  0.020751\n",
       "16  17  0.018865\n",
       "17  18  0.017152\n",
       "18  19  0.015594\n",
       "19  20  0.014177"
      ]
     },
     "execution_count": 11,
     "metadata": {},
     "output_type": "execute_result"
    }
   ],
   "source": [
    "import math\n",
    "import numpy as np\n",
    "import matplotlib.pyplot as plt\n",
    "import pandas as pd\n",
    "\n",
    "\n",
    "# 1. Set a range of values for x\n",
    "x_values = [i for i in range(1,21)]\n",
    "print(x_values)\n",
    "\n",
    "# 2. Find the mean and lambda using numpy\n",
    "mean = np.mean(x_values)\n",
    "lamb = 1 / mean\n",
    "\n",
    "# 3. Find the pdf values for f(x) (values for y-axis) by using the formula\n",
    "pdf_values = []\n",
    "for i in x_values:\n",
    "    v = lamb*(math.exp(-lamb*i))\n",
    "    pdf_values.append(v)\n",
    "\n",
    "    \n",
    "# 4. Optional: Use pandas.DataFrame to show the datas\n",
    "question_table=pd.DataFrame([i for i in range(1,21)],columns=['x'])\n",
    "question_table['f(x)']=pdf_values\n",
    "question_table"
   ]
  },
  {
   "cell_type": "code",
   "execution_count": 19,
   "metadata": {},
   "outputs": [
    {
     "data": {
      "text/html": [
       "<div>\n",
       "<style scoped>\n",
       "    .dataframe tbody tr th:only-of-type {\n",
       "        vertical-align: middle;\n",
       "    }\n",
       "\n",
       "    .dataframe tbody tr th {\n",
       "        vertical-align: top;\n",
       "    }\n",
       "\n",
       "    .dataframe thead th {\n",
       "        text-align: right;\n",
       "    }\n",
       "</style>\n",
       "<table border=\"1\" class=\"dataframe\">\n",
       "  <thead>\n",
       "    <tr style=\"text-align: right;\">\n",
       "      <th></th>\n",
       "      <th>x</th>\n",
       "      <th>f(x)</th>\n",
       "    </tr>\n",
       "  </thead>\n",
       "  <tbody>\n",
       "    <tr>\n",
       "      <th>0</th>\n",
       "      <td>1</td>\n",
       "      <td>0.086586</td>\n",
       "    </tr>\n",
       "    <tr>\n",
       "      <th>1</th>\n",
       "      <td>2</td>\n",
       "      <td>0.078721</td>\n",
       "    </tr>\n",
       "    <tr>\n",
       "      <th>2</th>\n",
       "      <td>3</td>\n",
       "      <td>0.071569</td>\n",
       "    </tr>\n",
       "    <tr>\n",
       "      <th>3</th>\n",
       "      <td>4</td>\n",
       "      <td>0.065068</td>\n",
       "    </tr>\n",
       "    <tr>\n",
       "      <th>4</th>\n",
       "      <td>5</td>\n",
       "      <td>0.059157</td>\n",
       "    </tr>\n",
       "    <tr>\n",
       "      <th>5</th>\n",
       "      <td>6</td>\n",
       "      <td>0.053783</td>\n",
       "    </tr>\n",
       "    <tr>\n",
       "      <th>6</th>\n",
       "      <td>7</td>\n",
       "      <td>0.048897</td>\n",
       "    </tr>\n",
       "    <tr>\n",
       "      <th>7</th>\n",
       "      <td>8</td>\n",
       "      <td>0.044455</td>\n",
       "    </tr>\n",
       "    <tr>\n",
       "      <th>8</th>\n",
       "      <td>9</td>\n",
       "      <td>0.040416</td>\n",
       "    </tr>\n",
       "    <tr>\n",
       "      <th>9</th>\n",
       "      <td>10</td>\n",
       "      <td>0.036745</td>\n",
       "    </tr>\n",
       "    <tr>\n",
       "      <th>10</th>\n",
       "      <td>11</td>\n",
       "      <td>0.033407</td>\n",
       "    </tr>\n",
       "    <tr>\n",
       "      <th>11</th>\n",
       "      <td>12</td>\n",
       "      <td>0.030372</td>\n",
       "    </tr>\n",
       "    <tr>\n",
       "      <th>12</th>\n",
       "      <td>13</td>\n",
       "      <td>0.027613</td>\n",
       "    </tr>\n",
       "    <tr>\n",
       "      <th>13</th>\n",
       "      <td>14</td>\n",
       "      <td>0.025104</td>\n",
       "    </tr>\n",
       "    <tr>\n",
       "      <th>14</th>\n",
       "      <td>15</td>\n",
       "      <td>0.022824</td>\n",
       "    </tr>\n",
       "    <tr>\n",
       "      <th>15</th>\n",
       "      <td>16</td>\n",
       "      <td>0.020751</td>\n",
       "    </tr>\n",
       "    <tr>\n",
       "      <th>16</th>\n",
       "      <td>17</td>\n",
       "      <td>0.018865</td>\n",
       "    </tr>\n",
       "    <tr>\n",
       "      <th>17</th>\n",
       "      <td>18</td>\n",
       "      <td>0.017152</td>\n",
       "    </tr>\n",
       "    <tr>\n",
       "      <th>18</th>\n",
       "      <td>19</td>\n",
       "      <td>0.015594</td>\n",
       "    </tr>\n",
       "    <tr>\n",
       "      <th>19</th>\n",
       "      <td>20</td>\n",
       "      <td>0.014177</td>\n",
       "    </tr>\n",
       "  </tbody>\n",
       "</table>\n",
       "</div>"
      ],
      "text/plain": [
       "     x      f(x)\n",
       "0    1  0.086586\n",
       "1    2  0.078721\n",
       "2    3  0.071569\n",
       "3    4  0.065068\n",
       "4    5  0.059157\n",
       "5    6  0.053783\n",
       "6    7  0.048897\n",
       "7    8  0.044455\n",
       "8    9  0.040416\n",
       "9   10  0.036745\n",
       "10  11  0.033407\n",
       "11  12  0.030372\n",
       "12  13  0.027613\n",
       "13  14  0.025104\n",
       "14  15  0.022824\n",
       "15  16  0.020751\n",
       "16  17  0.018865\n",
       "17  18  0.017152\n",
       "18  19  0.015594\n",
       "19  20  0.014177"
      ]
     },
     "execution_count": 19,
     "metadata": {},
     "output_type": "execute_result"
    }
   ],
   "source": [
    "k = [i for i in range(1,21)] \n",
    "question_table=pd.DataFrame( {'x':k, 'f(x)':[(1/np.mean(k))*(math.exp(-(1/np.mean(k))*i)) for i in range(1,21)]})\n",
    "question_table"
   ]
  },
  {
   "cell_type": "code",
   "execution_count": 20,
   "metadata": {},
   "outputs": [
    {
     "data": {
      "image/png": "[encoded data removed]",
      "text/plain": [
       "<Figure size 432x288 with 1 Axes>"
      ]
     },
     "metadata": {
      "needs_background": "light"
     },
     "output_type": "display_data"
    }
   ],
   "source": [
    "plt.plot(x_values, pdf_values)\n",
    "plt.show()"
   ]
  },
  {
   "cell_type": "markdown",
   "metadata": {},
   "source": [
    "### Computing expo distrib cdf ( 1 - e^(-Ax))"
   ]
  },
  {
   "cell_type": "code",
   "execution_count": 21,
   "metadata": {},
   "outputs": [
    {
     "data": {
      "text/html": [
       "<div>\n",
       "<style scoped>\n",
       "    .dataframe tbody tr th:only-of-type {\n",
       "        vertical-align: middle;\n",
       "    }\n",
       "\n",
       "    .dataframe tbody tr th {\n",
       "        vertical-align: top;\n",
       "    }\n",
       "\n",
       "    .dataframe thead th {\n",
       "        text-align: right;\n",
       "    }\n",
       "</style>\n",
       "<table border=\"1\" class=\"dataframe\">\n",
       "  <thead>\n",
       "    <tr style=\"text-align: right;\">\n",
       "      <th></th>\n",
       "      <th>x</th>\n",
       "      <th>F(x)</th>\n",
       "    </tr>\n",
       "  </thead>\n",
       "  <tbody>\n",
       "    <tr>\n",
       "      <th>0</th>\n",
       "      <td>1</td>\n",
       "      <td>0.090844</td>\n",
       "    </tr>\n",
       "    <tr>\n",
       "      <th>1</th>\n",
       "      <td>2</td>\n",
       "      <td>0.173435</td>\n",
       "    </tr>\n",
       "    <tr>\n",
       "      <th>2</th>\n",
       "      <td>3</td>\n",
       "      <td>0.248523</td>\n",
       "    </tr>\n",
       "    <tr>\n",
       "      <th>3</th>\n",
       "      <td>4</td>\n",
       "      <td>0.316790</td>\n",
       "    </tr>\n",
       "    <tr>\n",
       "      <th>4</th>\n",
       "      <td>5</td>\n",
       "      <td>0.378855</td>\n",
       "    </tr>\n",
       "    <tr>\n",
       "      <th>5</th>\n",
       "      <td>6</td>\n",
       "      <td>0.435282</td>\n",
       "    </tr>\n",
       "    <tr>\n",
       "      <th>6</th>\n",
       "      <td>7</td>\n",
       "      <td>0.486583</td>\n",
       "    </tr>\n",
       "    <tr>\n",
       "      <th>7</th>\n",
       "      <td>8</td>\n",
       "      <td>0.533224</td>\n",
       "    </tr>\n",
       "    <tr>\n",
       "      <th>8</th>\n",
       "      <td>9</td>\n",
       "      <td>0.575627</td>\n",
       "    </tr>\n",
       "    <tr>\n",
       "      <th>9</th>\n",
       "      <td>10</td>\n",
       "      <td>0.614179</td>\n",
       "    </tr>\n",
       "    <tr>\n",
       "      <th>10</th>\n",
       "      <td>11</td>\n",
       "      <td>0.649228</td>\n",
       "    </tr>\n",
       "    <tr>\n",
       "      <th>11</th>\n",
       "      <td>12</td>\n",
       "      <td>0.681093</td>\n",
       "    </tr>\n",
       "    <tr>\n",
       "      <th>12</th>\n",
       "      <td>13</td>\n",
       "      <td>0.710064</td>\n",
       "    </tr>\n",
       "    <tr>\n",
       "      <th>13</th>\n",
       "      <td>14</td>\n",
       "      <td>0.736403</td>\n",
       "    </tr>\n",
       "    <tr>\n",
       "      <th>14</th>\n",
       "      <td>15</td>\n",
       "      <td>0.760349</td>\n",
       "    </tr>\n",
       "    <tr>\n",
       "      <th>15</th>\n",
       "      <td>16</td>\n",
       "      <td>0.782120</td>\n",
       "    </tr>\n",
       "    <tr>\n",
       "      <th>16</th>\n",
       "      <td>17</td>\n",
       "      <td>0.801913</td>\n",
       "    </tr>\n",
       "    <tr>\n",
       "      <th>17</th>\n",
       "      <td>18</td>\n",
       "      <td>0.819908</td>\n",
       "    </tr>\n",
       "    <tr>\n",
       "      <th>18</th>\n",
       "      <td>19</td>\n",
       "      <td>0.836268</td>\n",
       "    </tr>\n",
       "    <tr>\n",
       "      <th>19</th>\n",
       "      <td>20</td>\n",
       "      <td>0.851142</td>\n",
       "    </tr>\n",
       "  </tbody>\n",
       "</table>\n",
       "</div>"
      ],
      "text/plain": [
       "     x      F(x)\n",
       "0    1  0.090844\n",
       "1    2  0.173435\n",
       "2    3  0.248523\n",
       "3    4  0.316790\n",
       "4    5  0.378855\n",
       "5    6  0.435282\n",
       "6    7  0.486583\n",
       "7    8  0.533224\n",
       "8    9  0.575627\n",
       "9   10  0.614179\n",
       "10  11  0.649228\n",
       "11  12  0.681093\n",
       "12  13  0.710064\n",
       "13  14  0.736403\n",
       "14  15  0.760349\n",
       "15  16  0.782120\n",
       "16  17  0.801913\n",
       "17  18  0.819908\n",
       "18  19  0.836268\n",
       "19  20  0.851142"
      ]
     },
     "execution_count": 21,
     "metadata": {},
     "output_type": "execute_result"
    }
   ],
   "source": [
    "# Import All the libraries that requires\n",
    "import math\n",
    "import numpy as np\n",
    "import matplotlib.pyplot as plt\n",
    "import pandas as pd\n",
    "\n",
    "\n",
    "# 1. Set a range of values for x\n",
    "x_values = [i for i in range(1,21)]\n",
    "\n",
    "\n",
    "# 2. Find the mean and lambda using numpy\n",
    "mean = np.mean(x_values)\n",
    "lamb = 1 / mean\n",
    "\n",
    "\n",
    "# 3. Find the cdf values for F(x) (values for y-axis) using the formula\n",
    "cdf_values = []\n",
    "for i in x_values:\n",
    "    cdf_values.append(1 - math.exp((-lamb)*i))\n",
    "#                         ---- this part ---\n",
    "#   we can write in this way too math.e**((-lamb)*x))\n",
    "\n",
    "\n",
    "# 4. Optional: Use pandas.DataFrame to show the datas\n",
    "question_table=pd.DataFrame(x_values,columns=['x'])\n",
    "question_table['F(x)']=cdf_values\n",
    "question_table"
   ]
  },
  {
   "cell_type": "code",
   "execution_count": 22,
   "metadata": {},
   "outputs": [
    {
     "data": {
      "image/png": "[encoded data removed]",
      "text/plain": [
       "<Figure size 432x288 with 1 Axes>"
      ]
     },
     "metadata": {
      "needs_background": "light"
     },
     "output_type": "display_data"
    }
   ],
   "source": [
    "plt.plot(x_values, cdf_values)\n",
    "plt.show()"
   ]
  },
  {
   "cell_type": "markdown",
   "metadata": {},
   "source": [
    "## <u>Example of Exponential Distribution</u>\n",
    "\n",
    "<br>\n",
    "<div style=\"font-size:16px; line-height:20pt\">\n",
    "The <b>amount of time</b> spouses shop for anniversary cards can be modeled by an exponential distribution with the <b><em>average amount of time equal to eight minutes</em></b>. The shop opens from morning 10am and closes evening 7pm.<br><br>\n",
    "The table below represented to the information above.\n",
    "</div>\n",
    "\n",
    "<table style=\"font-size:14px;\">\n",
    "    <tr>\n",
    "        <td>x (minutes)</td>\n",
    "        <td>1</td>\n",
    "        <td>2</td>\n",
    "        <td>3</td>\n",
    "        <td>4</td>\n",
    "        <td>5</td>\n",
    "        <td>6</td>\n",
    "        <td>7</td>\n",
    "        <td>8</td>\n",
    "        <td>9</td>\n",
    "        <td>10</td>\n",
    "    </tr>\n",
    "    <tr>\n",
    "        <td>f(x)</td>\n",
    "        <td>-</td>\n",
    "        <td>-</td>\n",
    "        <td>-</td>\n",
    "        <td>-</td>\n",
    "        <td>-</td>\n",
    "        <td>-</td>\n",
    "        <td>-</td>\n",
    "        <td>-</td>\n",
    "        <td>-</td>\n",
    "        <td>-</td>\n",
    "    </tr>\n",
    "</table>\n",
    "\n",
    "<br>\n",
    "<div style=\"font-size:16px; line-height:20pt\">\n",
    "Question: \n",
    "    <ol>\n",
    "        <li>Graph the distribution</li>\n",
    "        <li><b>Find the probability</b> that a clerk <b>spends four to five minutes</b> with a customer.</li>\n",
    "        <li><b>Half</b> of all customers are <b>finished within how long</b>? (Find the <b>50th percentile</b>)</li>\n",
    "    </ol>\n",
    "</div>\n",
    "\n",
    "<br>"
   ]
  },
  {
   "cell_type": "code",
   "execution_count": 29,
   "metadata": {},
   "outputs": [
    {
     "name": "stdout",
     "output_type": "stream",
     "text": [
      "    x      f(x)\n",
      "0   1  0.110312\n",
      "1   2  0.097350\n",
      "2   3  0.085911\n",
      "3   4  0.075816\n",
      "4   5  0.066908\n",
      "5   6  0.059046\n",
      "6   7  0.052108\n",
      "7   8  0.045985\n",
      "8   9  0.040582\n",
      "9  10  0.035813\n"
     ]
    },
    {
     "data": {
      "text/plain": [
       "[<matplotlib.lines.Line2D at 0xceb9bf0>]"
      ]
     },
     "execution_count": 29,
     "metadata": {},
     "output_type": "execute_result"
    },
    {
     "data": {
      "image/png": "[encoded data removed]",
      "text/plain": [
       "<Figure size 432x288 with 1 Axes>"
      ]
     },
     "metadata": {
      "needs_background": "light"
     },
     "output_type": "display_data"
    }
   ],
   "source": [
    "1.\n",
    "# mean = 8, 1/lamb = 8\n",
    "# lamb = 1/8\n",
    "\n",
    "# f(x) = lamb * math.exp(-lamb*x)\n",
    "\n",
    "lamb = 1/8\n",
    "x = [i for i in range(1,11)]\n",
    "fx = [lamb*(math.exp(-lamb*i)) for i in x]\n",
    "\n",
    "table = pd.DataFrame({'x':x, 'f(x)' : fx})\n",
    "print(table)\n",
    "\n",
    "plt.plot(x,fx)"
   ]
  },
  {
   "cell_type": "code",
   "execution_count": 31,
   "metadata": {},
   "outputs": [
    {
     "data": {
      "text/plain": [
       "0.07126923119364315"
      ]
     },
     "execution_count": 31,
     "metadata": {},
     "output_type": "execute_result"
    }
   ],
   "source": [
    "2.\n",
    "# F(x) = 1 - math.exo(-lamb*x)\n",
    "\n",
    "def F(x):\n",
    "    return 1-math.exp(-lamb*x)\n",
    "\n",
    "F(5)- F(4)\n"
   ]
  },
  {
   "cell_type": "code",
   "execution_count": 34,
   "metadata": {},
   "outputs": [
    {
     "name": "stdout",
     "output_type": "stream",
     "text": [
      "5.545177444479562\n"
     ]
    }
   ],
   "source": [
    "3.\n",
    "# 0.5 = F(x) = 1 - math.exo(-lamb*x)\n",
    "# math.exo(-lamb*x) = 0.5\n",
    "#  -lamb*x = ln(0.5)\n",
    "# x = ln(0.5) / -lamb\n",
    "\n",
    "x = math.log(0.5)/(-1/8)\n",
    "print(x)"
   ]
  },
  {
   "cell_type": "markdown",
   "metadata": {},
   "source": [
    "### Using packages"
   ]
  },
  {
   "cell_type": "code",
   "execution_count": 10,
   "metadata": {},
   "outputs": [
    {
     "data": {
      "image/png": "[encoded data removed]",
      "text/plain": [
       "<Figure size 432x288 with 1 Axes>"
      ]
     },
     "metadata": {
      "needs_background": "light"
     },
     "output_type": "display_data"
    }
   ],
   "source": [
    "import numpy as np\n",
    "import matplotlib.pyplot as plt\n",
    "import scipy.stats as st\n",
    "\n",
    "mean = 8\n",
    "lamb = 1.0 / mean\n",
    "\n",
    "x = np.arange(1, 10)\n",
    "\n",
    "# use np.arange(start_value, stop_value) to generate ranged values\n",
    "\n",
    "# If wants to generate random numbers use\n",
    "# np.random.exponential(mean, scale_of_data) and sort() the list\n",
    "\n",
    "expo_pdf = st.expon.pdf(x, scale=1/lamb)\n",
    "\n",
    "plt.plot(x, expo_pdf, lw = 2, label = \"PDF\")\n",
    "plt.legend(loc='best')\n",
    "plt.show()"
   ]
  },
  {
   "cell_type": "code",
   "execution_count": 11,
   "metadata": {},
   "outputs": [
    {
     "name": "stdout",
     "output_type": "stream",
     "text": [
      "0.07126923119364315\n",
      "5.545177444479562\n"
     ]
    }
   ],
   "source": [
    "# CDF formula\n",
    "def cdf(x):\n",
    "    return (1 - np.exp(-0.125*x))\n",
    "\n",
    "# Question 2: P(4<x<5)\n",
    "prob_4_to_5 = cdf(5) - cdf(4)\n",
    "print(prob_4_to_5)\n",
    "\n",
    "\n",
    "# Question 3: Time if P(x>50) = 0.50\n",
    "time = np.log(0.5)/-0.125\n",
    "print(time) "
   ]
  },
  {
   "cell_type": "markdown",
   "metadata": {},
   "source": [
    "<br><br>\n",
    "\n",
    "# Exponential Distribution Exercise\n",
    "\n",
    "<br>\n",
    "\n",
    "### Task 1\n",
    "The number of days ahead travelers purchase their airline tickets can be modeled by an exponential distribution with the **average amount of time equal to 15 days**. \n",
    "\n",
    "Draw a Exponential Distributed graph without using scipy. Label your X-axis and Y-axis.\n",
    "\n",
    "> **Hints:** \n",
    "> 1. Set x with a range\n",
    "> 2. Find the **value** for **mean** and **lambda**\n",
    "> 3. Use PDF formula $ f(x)= \\lambda e^{-\\lambda x} $ to find f(x)"
   ]
  },
  {
   "cell_type": "code",
   "execution_count": 43,
   "metadata": {},
   "outputs": [
    {
     "data": {
      "image/png": "[encoded data removed]",
      "text/plain": [
       "<Figure size 432x288 with 1 Axes>"
      ]
     },
     "metadata": {
      "needs_background": "light"
     },
     "output_type": "display_data"
    }
   ],
   "source": [
    "# mean = 15\n",
    "import numpy as np\n",
    "import scipy.stats as st\n",
    "import matplotlib.pyplot as plt\n",
    " \n",
    "x = np.arange(1,50)\n",
    "fx = st.expon.pdf(x,scale = 15)\n",
    "\n",
    "\n",
    "plt.plot(x, fx)\n",
    "plt.show()"
   ]
  },
  {
   "cell_type": "markdown",
   "metadata": {},
   "source": [
    "### Task 2\n",
    "Refer the information in Task 1, solve the question below.\n",
    "\n",
    "a. ***Find the probability*** that a traveler will purchase a ticket ***fewer than ten days in advance***. <br>\n",
    "b. ***Find the probability*** that the traveler will purchase a ticket between ***4 to 6 days***\n",
    "\n",
    "> **Hints:**\n",
    "> 1. Use CDF formula: $ f(x) = 1 - e^{-\\lambda x} $<br><br>\n",
    "> 2. $ P(4 < x < 6) $ Use **P(x < 6) - P(x < 4)**"
   ]
  },
  {
   "cell_type": "code",
   "execution_count": 51,
   "metadata": {},
   "outputs": [
    {
     "name": "stdout",
     "output_type": "stream",
     "text": [
      "0.486582880967408\n",
      "0.09560829232900933\n"
     ]
    }
   ],
   "source": [
    "def f(x):\n",
    "    return st.expon.cdf(x , scale =  15)\n",
    "\n",
    "# a)\n",
    "print(f(10))\n",
    "\n",
    "# b)\n",
    "print(f(6)-f(4))"
   ]
  },
  {
   "cell_type": "markdown",
   "metadata": {},
   "source": [
    "### Task 3\n",
    "On the **average**, a certain computer part lasts **ten years**. The **length of time** the computer part lasts is exponentially distributed.\n",
    "\n",
    "Draw a Exponential Distributed graph without using scipy."
   ]
  },
  {
   "cell_type": "code",
   "execution_count": 57,
   "metadata": {},
   "outputs": [
    {
     "data": {
      "text/plain": [
       "[<matplotlib.lines.Line2D at 0xf9ceed0>]"
      ]
     },
     "execution_count": 57,
     "metadata": {},
     "output_type": "execute_result"
    },
    {
     "data": {
      "image/png": "[encoded data removed]",
      "text/plain": [
       "<Figure size 432x288 with 1 Axes>"
      ]
     },
     "metadata": {
      "needs_background": "light"
     },
     "output_type": "display_data"
    }
   ],
   "source": [
    "import numpy as np\n",
    "import scipy.stats as st\n",
    "import matplotlib.pyplot as plt\n",
    " \n",
    "lamb = 1/10\n",
    "x = [i for i in range(1,50)]\n",
    "fx = [lamb*(math.exp(-lamb*i)) for i in x]\n",
    "\n",
    "\n",
    "plt.plot(x,fx)"
   ]
  },
  {
   "cell_type": "markdown",
   "metadata": {},
   "source": [
    "### Task 4\n",
    "Refer the information in Task 3, solve the question below.\n",
    "\n",
    "a. What is the ***probability*** that a computer part ***lasts more than 7 years***?<br>\n",
    "b. Find **P(9 < x < 11)**\n",
    "\n",
    "> **Hints:**\n",
    "> 1. **Total probability = 1**"
   ]
  },
  {
   "cell_type": "code",
   "execution_count": 56,
   "metadata": {},
   "outputs": [
    {
     "name": "stdout",
     "output_type": "stream",
     "text": [
      "0.4965853037914094\n",
      "0.07369857604251961\n"
     ]
    }
   ],
   "source": [
    "# a)\n",
    "def F(x):\n",
    "    return 1-math.exp(-lamb*x)\n",
    "\n",
    "print(1-F(7))\n",
    "\n",
    "# b)\n",
    "print(F(11)-F(9))"
   ]
  },
  {
   "cell_type": "markdown",
   "metadata": {},
   "source": [
    "### Task 5\n",
    "Suppose that the **length of a phone call (in minutes)** is an exponential random variable with decay parameter = <b>$ \\frac{1}{12} $</b>\n",
    "\n",
    "a. Find <b>$ {\\overline{x}} $</b> and <b>$ \\lambda $</b> <br>\n",
    "b. Draw the graph. (Using Numpy and Scipy)\n",
    "\n",
    "> **Hints:**\n",
    "> 1. Decay parameter = Lambda\n",
    "> 2. PDF formula = ***st.expon.pdf(x_values, scale = 1 / lambda)***"
   ]
  },
  {
   "cell_type": "code",
   "execution_count": 61,
   "metadata": {},
   "outputs": [
    {
     "name": "stdout",
     "output_type": "stream",
     "text": [
      "mean =  12\n",
      "lambda =  0.08333333333333333\n"
     ]
    },
    {
     "data": {
      "image/png": "[encoded data removed]",
      "text/plain": [
       "<Figure size 432x288 with 1 Axes>"
      ]
     },
     "metadata": {
      "needs_background": "light"
     },
     "output_type": "display_data"
    }
   ],
   "source": [
    "print(\"mean = \" , 12 )\n",
    "print(\"lambda = \" , 1/12)\n",
    "\n",
    "x = np.arange(0,50)\n",
    "fx = st.expon.pdf(x, scale=12)\n",
    "\n",
    "plt.plot(x, fx)\n",
    "plt.show()"
   ]
  },
  {
   "cell_type": "markdown",
   "metadata": {},
   "source": [
    "### Task 6\n",
    "Refer the information in Task 5, solve the question below.\n",
    "\n",
    "If another person arrives at a public telephone just before you, **find the probability** that you will have to **wait more than five minutes**. \n",
    "\n",
    "> **Hints:**\n",
    "> $ P(x > 5) $"
   ]
  },
  {
   "cell_type": "code",
   "execution_count": 64,
   "metadata": {},
   "outputs": [
    {
     "data": {
      "text/plain": [
       "0.6592406302004438"
      ]
     },
     "execution_count": 64,
     "metadata": {},
     "output_type": "execute_result"
    }
   ],
   "source": [
    "1 - st.expon.cdf(5 ,scale =  12)"
   ]
  },
  {
   "cell_type": "markdown",
   "metadata": {},
   "source": [
    "### Task 7\n",
    "The time spent waiting between events is often modeled using the exponential distribution. For example, suppose that an **average of 30 customers per hour** arrive at a store and the time between arrivals is exponentially distributed.\n",
    "\n",
    "<br>\n",
    "\n",
    "**Plot a graph** that represented to the information above **using numpy and scipy**. Set the length of your data to 20 hours."
   ]
  },
  {
   "cell_type": "code",
   "execution_count": 66,
   "metadata": {},
   "outputs": [
    {
     "data": {
      "image/png": "[encoded data removed]",
      "text/plain": [
       "<Figure size 432x288 with 1 Axes>"
      ]
     },
     "metadata": {
      "needs_background": "light"
     },
     "output_type": "display_data"
    }
   ],
   "source": [
    "mean = 30\n",
    "lam = 1/30\n",
    "\n",
    "x = np.arange(1,21)\n",
    "fx = st.expon.pdf(x,scale = mean)\n",
    "\n",
    "plt.plot(x,fx)\n",
    "plt.show()"
   ]
  },
  {
   "cell_type": "markdown",
   "metadata": {},
   "source": [
    "### Task 8\n",
    "Refer the information in Task 7, solve the question below.\n",
    "\n",
    "a. Find the area when x is between 5 and 15. <br>\n",
    "b. **Seventy percent** of the customers arrive within how many minutes of the previous customer?\n",
    "\n",
    "> **Hints:**<br>\n",
    "> a. Area means find the probability. So $ P(5<x<15) $<br>\n",
    "> b. $ P(X < x) = 0.70 $"
   ]
  },
  {
   "cell_type": "code",
   "execution_count": 71,
   "metadata": {},
   "outputs": [
    {
     "name": "stdout",
     "output_type": "stream",
     "text": [
      "0.23995106517798065\n",
      "10.700248318161973\n"
     ]
    }
   ],
   "source": [
    "# a)\n",
    "def f(x):\n",
    "    return st.expon.cdf(x,scale = 30)\n",
    "    \n",
    "print(f(15)-f(5))\n",
    "\n",
    "# b)\n",
    "print(math.log(0.7)*-mean)"
   ]
  },
  {
   "cell_type": "markdown",
   "metadata": {},
   "source": [
    "### Task 9\n",
    "The time (in hours) required to repair a machine is an exponential distributed random variable with paramter $ \\lambda = \\frac{1}{2} $.\n",
    "\n",
    "Plot a **PDF** and **CDF** graph using **numpy**. Remember tp label x-axis and y-axis.\n",
    "\n",
    "> **Hints:**<br>\n",
    "> a. Generate your lists with ***np.random.exponential(mean,scale of data)*** <br>\n",
    "> b. Remeber to ***sort()*** your list. <br>\n",
    "> c. Use ***st.expon.pdf(lists_name, scale = 1/lambda)*** and ***st.expon.cdf(lists_name, scale = 1/lambda)***"
   ]
  },
  {
   "cell_type": "code",
   "execution_count": 72,
   "metadata": {},
   "outputs": [
    {
     "data": {
      "image/png": "[encoded data removed]",
      "text/plain": [
       "<Figure size 432x288 with 1 Axes>"
      ]
     },
     "metadata": {
      "needs_background": "light"
     },
     "output_type": "display_data"
    },
    {
     "data": {
      "image/png": "[encoded data removed]",
      "text/plain": [
       "<Figure size 432x288 with 1 Axes>"
      ]
     },
     "metadata": {
      "needs_background": "light"
     },
     "output_type": "display_data"
    }
   ],
   "source": [
    "import numpy as np\n",
    "import scipy.stats as st\n",
    "\n",
    "mean = 2\n",
    "\n",
    "time = np.random.exponential(mean,50)\n",
    "time.sort()\n",
    "expo_pdf = st.expon.pdf(time)\n",
    "expo_cdf = st.expon.cdf(time)\n",
    "\n",
    "plt.plot(time, expo_pdf, color=\"dodgerblue\", lw = 2, label = \"$ f(x)= \\lambda e^{-\\lambda x} $\")\n",
    "plt.xlabel(\"time (hours)\")\n",
    "plt.ylabel(\"f(x)\")\n",
    "plt.legend(loc=\"best\")\n",
    "plt.show()\n",
    "\n",
    "\n",
    "plt.plot(time, expo_cdf, color=\"red\", lw = 2, label = \"$ F(x) = 1 - e^{-\\lambda x} $\")\n",
    "plt.xlabel(\"time (hours)\")\n",
    "plt.ylabel(\"F(x)\")\n",
    "plt.legend(loc=\"best\")\n",
    "plt.show()"
   ]
  },
  {
   "cell_type": "markdown",
   "metadata": {},
   "source": [
    "### Task 10\n",
    "Refer the information in Task 9. Solve the question below.\n",
    "\n",
    "a. Find the **probability** that a repair time **exceeds 2 hours**. <br>\n",
    "b. Base on the PDF graph, find the **area between the 1 - 4 hours**."
   ]
  },
  {
   "cell_type": "code",
   "execution_count": 75,
   "metadata": {},
   "outputs": [
    {
     "name": "stdout",
     "output_type": "stream",
     "text": [
      "0.36787944117144233\n",
      "0.4711953764760207\n"
     ]
    }
   ],
   "source": [
    "#a)\n",
    "print(1- st.expon.cdf(2, scale = 2))\n",
    "\n",
    "#b)\n",
    "def f(x):\n",
    "    return st.expon.cdf(x,scale = 2)\n",
    "\n",
    "print(f(4)-f(1))"
   ]
  },
  {
   "cell_type": "markdown",
   "metadata": {},
   "source": [
    "# Other notes"
   ]
  },
  {
   "cell_type": "code",
   "execution_count": 77,
   "metadata": {},
   "outputs": [],
   "source": [
    "# loc means the location parameter / shift of graph\n",
    "\n",
    "# rvs(loc=0, scale=mean, size=1, random_state=None)\n",
    "# rvs : generates random value\n",
    "\n",
    "# pdf(x, loc=0, scale=mean)\n",
    "# Probability density function.\n",
    "\n",
    "# logpdf(x, loc=0, scale=mean)\n",
    "# Log of the probability density function.\n",
    "\n",
    "# cdf(x, loc=0, scale=mean)\n",
    "#Cumulative distribution function.\n",
    "\n",
    "#logcdf(x, loc=0, scale=mean)\n",
    "#Log of the cumulative distribution function.\n",
    "\n",
    "#sf(x, loc=0, scale=mean)\n",
    "#Survival function (also defined as 1 - cdf, but sf is sometimes more accurate).\n",
    "\n",
    "#logsf(x, loc=0, scale=1)\n",
    "#Log of the survival function.\n",
    "\n",
    "#ppf(q, loc=0, scale=1)\n",
    "#Percent point function (inverse of cdf — percentiles).\n",
    "\n",
    "#isf(q, loc=0, scale=1)\n",
    "#Inverse survival function (inverse of sf).\n",
    "\n",
    "#moment(n, loc=0, scale=1)\n",
    "#Non-central moment of order n\n",
    "\n",
    "#stats(loc=0, scale=1, moments=’mv’)\n",
    "#Mean(‘m’), variance(‘v’), skew(‘s’), and/or kurtosis(‘k’).\n",
    "\n",
    "#entropy(loc=0, scale=1)\n",
    "#(Differential) entropy of the RV.\n",
    "\n",
    "#fit(data, loc=0, scale=1)\n",
    "#Parameter estimates for generic data.\n",
    "\n",
    "#expect(func, args=(), loc=0, scale=1, lb=None, ub=None, conditional=False, **kwds)\n",
    "#Expected value of a function (of one argument) with respect to the distribution.\n",
    "\n",
    "#median(loc=0, scale=1)\n",
    "#Median of the distribution.\n",
    "\n",
    "#mean(loc=0, scale=1)\n",
    "#Mean of the distribution.\n",
    "\n",
    "#var(loc=0, scale=1)\n",
    "#Variance of the distribution.\n",
    "\n",
    "#std(loc=0, scale=1)\n",
    "#Standard deviation of the distribution.\n",
    "\n",
    "#interval(alpha, loc=0, scale=1)\n",
    "#Endpoints of the range that contains alpha percent of the distribution"
   ]
  },
  {
   "cell_type": "code",
   "execution_count": 82,
   "metadata": {},
   "outputs": [
    {
     "data": {
      "text/plain": [
       "array([2.19227214, 2.33706748, 3.25728408])"
      ]
     },
     "execution_count": 82,
     "metadata": {},
     "output_type": "execute_result"
    }
   ],
   "source": [
    "st.expon.rvs([1,2,3],random_state = 123)"
   ]
  }
 ],
 "metadata": {
  "kernelspec": {
   "display_name": "Python 3",
   "language": "python",
   "name": "python3"
  },
  "language_info": {
   "codemirror_mode": {
    "name": "ipython",
    "version": 3
   },
   "file_extension": ".py",
   "mimetype": "text/x-python",
   "name": "python",
   "nbconvert_exporter": "python",
   "pygments_lexer": "ipython3",
   "version": "3.7.3"
  }
 },
 "nbformat": 4,
 "nbformat_minor": 2
}
