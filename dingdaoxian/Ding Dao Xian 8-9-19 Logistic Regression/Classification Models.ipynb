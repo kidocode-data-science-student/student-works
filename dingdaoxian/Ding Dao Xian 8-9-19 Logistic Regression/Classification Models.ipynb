{
 "cells": [
  {
   "cell_type": "markdown",
   "metadata": {},
   "source": [
    "# Classification Categories"
   ]
  },
  {
   "cell_type": "markdown",
   "metadata": {},
   "source": [
    "### Binary Classifiers\n",
    "\n",
    "<font size=\"4\">\n",
    "Binary implies that the target will only take a 0 or 1 value."
   ]
  },
  {
   "cell_type": "markdown",
   "metadata": {},
   "source": [
    "<img src = \"Bin.png\" width = \"800\"/>"
   ]
  },
  {
   "cell_type": "markdown",
   "metadata": {},
   "source": [
    "<font size=\"4\">\n",
    "Those that the model normally wants(1) would be a potential defaulter and vice versa"
   ]
  },
  {
   "cell_type": "markdown",
   "metadata": {},
   "source": [
    "### Multi-class Classifiers \n",
    "\n",
    "<font size=\"4\">\n",
    "Model will split the target into multiple classes"
   ]
  },
  {
   "cell_type": "markdown",
   "metadata": {},
   "source": [
    "### Linear Classifiers \n",
    "<font size=\"4\">\n",
    "Let us say that we want to build a classifier that classifies potential loan defaulters. The features of income and credit rating determines potential defaulters."
   ]
  },
  {
   "cell_type": "markdown",
   "metadata": {},
   "source": [
    "<img src = \"Line.png\" width = \"500\"/>"
   ]
  },
  {
   "cell_type": "markdown",
   "metadata": {},
   "source": [
    "<font size=\"4\">\n",
    "The classifier creates a line. The line splits the feature space into two parts. The classifier creates a model that classifies the data in the following manner:\n",
    "    <ol>\n",
    "        <li>Anyone who falls on the left side of the line is a potential defaulter </li>\n",
    "        <li>Anyone who falls on the left side of the line is a potential non-defaulter.</li>"
   ]
  },
  {
   "cell_type": "markdown",
   "metadata": {},
   "source": [
    "### Non-Linear Classifiers \n",
    "<font size=\"4\">\n",
    " If there are three features, the classifier will fit a plane that divides the plane into two parts. If there are more than three features, the classifier creates a hyperplane."
   ]
  },
  {
   "cell_type": "markdown",
   "metadata": {},
   "source": [
    "<img src = \"multipin.png\" width = \"500\"/>"
   ]
  },
  {
   "cell_type": "markdown",
   "metadata": {},
   "source": [
    "<font size=\"4\">\n",
    "The classifier needs carve a curve to classify between defaulters and non-defaulters. Such kind of classifiers is called as non-linear classifiers."
   ]
  },
  {
   "cell_type": "markdown",
   "metadata": {},
   "source": [
    "# How to \"measure\" quality of classifier"
   ]
  },
  {
   "cell_type": "markdown",
   "metadata": {},
   "source": [
    "###  STEP 1 : Confusion matrix (easier to understand with example)"
   ]
  },
  {
   "cell_type": "markdown",
   "metadata": {},
   "source": [
    "Example :\n",
    "<font size = '4'>\n",
    "</br><br>\n",
    "The classifier classifies 35 applicants as defaulters.</br><br>\n",
    "The classifier classifies 65 applicants as non-defaulters.</br><br>"
   ]
  },
  {
   "cell_type": "markdown",
   "metadata": {},
   "source": [
    "<font size = \"4\">\n",
    "Based on the way classifier has performed, four more metrics are derived:\n",
    "    <ul>\n",
    "        <li>True Positive : Classifier was right and the guy was a defaulter </li>\n",
    "        <li>False Positive : Classifier was wrong and the guy was not a defaulter </li>\n",
    "        <li>True Negative : Classifier was right and the guy was not a defaulter </li>\n",
    "        <li>False Negative : Classifier was wrong and the guy was a defaulter </li>\n",
    "     </ul>\n",
    "In this case :\n",
    "    <ul>\n",
    "        <li> 12 TP </li>\n",
    "        <li> 23 FP </li>\n",
    "        <li> 57 TN </li>\n",
    "        <li> 8 FN </li>\n",
    "        "
   ]
  },
  {
   "cell_type": "markdown",
   "metadata": {},
   "source": [
    "These four metrics can be tabulated in a matrix called as The Confusion Matrix.\n",
    "<img src = \"cONFUSION MATRIX.png\" width = \"500\"/>\n"
   ]
  },
  {
   "cell_type": "markdown",
   "metadata": {},
   "source": [
    "###  STEP 2 : Getting Parameters"
   ]
  },
  {
   "cell_type": "markdown",
   "metadata": {},
   "source": [
    "<ol>\n",
    "    <li>Accuracy measures how often the classifier is correct for both true positives and true negative cases</li>\n",
    "    <ul>\n",
    "        <li> (TP + TN)/Total Predictions </li>\n",
    "        <li>In this case (12+57)/100 = 0.69 . I.E 69%</li>\n",
    "    </ul>\n",
    "    <li>Sensitivity or Recall measures how many times did the classifier get the true positives correct. </li>\n",
    "    <ul>\n",
    "        <li> (TP)/(TP+TN) </li>\n",
    "        <li>In this case 12/(12+8) =0.6 . I.E 60%</li>\n",
    "    </ul>\n",
    "    <li>Specificity measure how many times did the classifier get the true negatives correct. </li>\n",
    "    <ul>\n",
    "        <li> (TN)/(TN+FP) </li>\n",
    "        <li>In this case 57/(57+23) =0.7125 . I.E 71.25%</li>\n",
    "    </ul>\n",
    "    <li>Precision measures off the total predicted to be positive how many were actually positive. </li>\n",
    "    <ul>\n",
    "        <li> (TP)/(TP+FP) </li>\n",
    "        <li>In this case 2/(12+23) = 0.48 . I.E 48%</li>\n",
    "    </ul>"
   ]
  },
  {
   "cell_type": "markdown",
   "metadata": {},
   "source": [
    "###  STEP 2.5 : Analyse depending on context"
   ]
  },
  {
   "cell_type": "markdown",
   "metadata": {},
   "source": [
    "For Example :\n",
    "<img src = \"Dumb.png\" width = \"800\"/>"
   ]
  },
  {
   "cell_type": "markdown",
   "metadata": {},
   "source": [
    "<b>Context:</b> <br></br>\n",
    "<font size = \"4\">\n",
    "We built a classifier that flags out fraudulent transactions.<br></br>\n",
    "This classifier determines whether a transaction is genuine or not.<br></br>\n",
    "Historical patterns shows that there are two fraudulent transaction for every hundred transactions.<br></br>"
   ]
  },
  {
   "cell_type": "markdown",
   "metadata": {},
   "source": [
    "<b>Conclusion:</b> <br></br>\n",
    "<font size = \"4\">\n",
    "If this model is deployed based on the metrics of accuracy, recall, and precision, the company will be doomed for sure. <br></br>\n",
    "Although the model is performing well, it is, in fact, a dumb model. <br></br>\n",
    "It is not doing the very thing that it is supposed to do i.e. flag fraudulent transactions.<br></br>\n",
    "The most important metrics for this model is specificity. Its specificity is 0%."
   ]
  },
  {
   "cell_type": "markdown",
   "metadata": {},
   "source": [
    "https://towardsdatascience.com/data-science-simplified-part-10-an-introduction-to-classification-models-82490f6c171f"
   ]
  }
 ],
 "metadata": {
  "kernelspec": {
   "display_name": "Python 3",
   "language": "python",
   "name": "python3"
  },
  "language_info": {
   "codemirror_mode": {
    "name": "ipython",
    "version": 3
   },
   "file_extension": ".py",
   "mimetype": "text/x-python",
   "name": "python",
   "nbconvert_exporter": "python",
   "pygments_lexer": "ipython3",
   "version": "3.7.3"
  }
 },
 "nbformat": 4,
 "nbformat_minor": 2
}
