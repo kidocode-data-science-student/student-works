{
 "cells": [
  {
   "cell_type": "markdown",
   "metadata": {},
   "source": [
    "1.  <br></br>\n",
    "Hierarchical Principle: <br></br>\n",
    "When interactions are included in the model, the main effects needs to be included in the model as well. The main effects needs to be included even if the individual variables are not significant in the model."
   ]
  },
  {
   "cell_type": "markdown",
   "metadata": {},
   "source": [
    "2. <br></br>\n",
    "Check for interaction term: <br></br>\n",
    "Check if there are other variables within the variables. Then check the significance in change(Adjusted R-squared) on whether it's significant or not.  "
   ]
  },
  {
   "cell_type": "markdown",
   "metadata": {},
   "source": [
    "3. <br></br>\n",
    "Check for Non-linear relationships: <br></br>\n",
    "Check if they are truly linear. Some might be in logarithimic form. Use a hypothesis then math to check   "
   ]
  },
  {
   "cell_type": "markdown",
   "metadata": {},
   "source": [
    "4. <br></br>\n",
    "Check for Limitations of Regression Models: <br></br>\n",
    "Some models may not follow said assuptions. For example, in economics, the Demand and Supply model assumes that supply and demand do not interact with each other. This is not true when dealing with things such as Oil and Housing and assets"
   ]
  },
  {
   "cell_type": "markdown",
   "metadata": {},
   "source": [
    "5. <br></br>\n",
    "Check for Multi-Collinearity: <br></br>\n",
    "Collinearity refers to a situation where two predictor variables are correlated with each other. When there a lot of predictors and these predictors are correlated to each other, it is called as multi-collinearity. If the predictors are correlated with each other then the impact of a specific predictor on the target is difficult to be isolated."
   ]
  },
  {
   "cell_type": "markdown",
   "metadata": {},
   "source": [
    "6. <br></br>\n",
    "Check for Impact of outliers: <br></br>\n",
    "If there are outliers, the model is stretched to accommodate them. "
   ]
  }
 ],
 "metadata": {
  "kernelspec": {
   "display_name": "Python 3",
   "language": "python",
   "name": "python3"
  },
  "language_info": {
   "codemirror_mode": {
    "name": "ipython",
    "version": 3
   },
   "file_extension": ".py",
   "mimetype": "text/x-python",
   "name": "python",
   "nbconvert_exporter": "python",
   "pygments_lexer": "ipython3",
   "version": "3.7.3"
  }
 },
 "nbformat": 4,
 "nbformat_minor": 2
}
