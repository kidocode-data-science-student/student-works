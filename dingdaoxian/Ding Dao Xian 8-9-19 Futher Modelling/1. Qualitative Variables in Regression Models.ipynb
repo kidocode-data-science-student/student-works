{
 "cells": [
  {
   "cell_type": "markdown",
   "metadata": {},
   "source": [
    "Qualitative variables are variables that are not numerical. </br><br>\n",
    "It fits the data into categories. They are also called as categorical variables or factors."
   ]
  },
  {
   "cell_type": "markdown",
   "metadata": {},
   "source": [
    "For example :\n",
    "<ul class=\"\"><li id=\"3e9a\" class=\"kw kx dz ap ky b kz la lb lc ld le lf lg lh li lj mg mh mi\" data-selectable-paragraph=\"\">Fuel type has two unique values. Gas or diesel. This implies that there are two factors in fuel type.</li><li id=\"064f\" class=\"kw kx dz ap ky b kz mj lb mk ld ml lf mm lh mn lj mg mh mi\" data-selectable-paragraph=\"\">Drive wheels have three unique values. 4-Forward drive(4fwd), Reverse drive(rwd) and front wheel drive(fwd). It means that drive wheel has three factors.</li></ul>"
   ]
  },
  {
   "cell_type": "code",
   "execution_count": 10,
   "metadata": {},
   "outputs": [
    {
     "name": "stdout",
     "output_type": "stream",
     "text": [
      "price of car1 =  30\n",
      "price of Lorry 1 =  50\n"
     ]
    }
   ],
   "source": [
    "#Dummy variables\n",
    "\n",
    "# Case 1\n",
    "\n",
    "# Defining dummy variables\n",
    "# Var1 : If Gas, Var1 = 1 . If Diesel, Var = 0\n",
    "\n",
    "#Writing the code\n",
    "def price(Var1):\n",
    "    Gas = 30\n",
    "    Diesel = 50\n",
    "    price = Gas*Var1 + Diesel*(1-Var1)\n",
    "    return price\n",
    "\n",
    "Car1 = 1\n",
    "Lorry1 = 0\n",
    "\n",
    "print(\"price of car1 = \", price(Car1))\n",
    "print(\"price of Lorry 1 = \",price(Lorry1))\n"
   ]
  },
  {
   "cell_type": "code",
   "execution_count": 16,
   "metadata": {},
   "outputs": [
    {
     "name": "stdout",
     "output_type": "stream",
     "text": [
      "10\n",
      "20\n",
      "30\n"
     ]
    }
   ],
   "source": [
    "# Case 2\n",
    "\n",
    "#Defining dummy variables\n",
    "#Var1 : If fwd, Var1=1 . Else = 0\n",
    "#Var2 : If rwd, Var2=1 . Else = 0\n",
    "\n",
    "#Writing code\n",
    "def price(Var1,Var2):\n",
    "    fourfrwd = 10\n",
    "    fwd = 20\n",
    "    rwd = 30\n",
    "    price = fourfrwd + (fwd - fourfrwd)*Var1 + (rwd - fourfrwd)*Var2\n",
    "    return price\n",
    "\n",
    "#Say for car with four-frwd\n",
    "print(price(0,0))\n",
    "\n",
    "#Car with fwd\n",
    "print(price(1,0))\n",
    "\n",
    "#Car with rwd\n",
    "print(price(0,1))"
   ]
  },
  {
   "cell_type": "markdown",
   "metadata": {},
   "source": [
    "The number of dummy variables created by the regression model is one less than the number factor values in the qualitative variables."
   ]
  }
 ],
 "metadata": {
  "kernelspec": {
   "display_name": "Python 3",
   "language": "python",
   "name": "python3"
  },
  "language_info": {
   "codemirror_mode": {
    "name": "ipython",
    "version": 3
   },
   "file_extension": ".py",
   "mimetype": "text/x-python",
   "name": "python",
   "nbconvert_exporter": "python",
   "pygments_lexer": "ipython3",
   "version": "3.7.3"
  }
 },
 "nbformat": 4,
 "nbformat_minor": 2
}
