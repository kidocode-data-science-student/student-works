{
 "cells": [
  {
   "cell_type": "code",
   "execution_count": 73,
   "metadata": {},
   "outputs": [],
   "source": [
    "A = Person(\"ABC\",19,\"Male\",72.57,1.78)\n",
    "B = Person(\"DEF\",14,\"Female\",40,1.5)\n",
    "C = Person(\"GHI\",4 ,\"Male\",20,0.9)\n",
    "D = Person(\"JKL\",7,\"Female\",100,1.2)"
   ]
  },
  {
   "cell_type": "code",
   "execution_count": 78,
   "metadata": {},
   "outputs": [],
   "source": [
    "class Person():\n",
    "    def __init__(self,n,a,g,w,h):\n",
    "        self.name = n \n",
    "        self.age = a\n",
    "        self.gender = g\n",
    "        self.weight = w\n",
    "        self.height = h\n",
    "    def BMI(self):\n",
    "        bmi=self.weight/(self.height)**2\n",
    "        if bmi < 18.5 :\n",
    "            print(\"underweight\")\n",
    "        elif 18.5 < bmi < 24.9:\n",
    "            print(\"normal\")\n",
    "        elif 24.9 < bmi < 29.9:\n",
    "            print(\"overweight\")\n",
    "        elif 29.9 < bmi:\n",
    "            print(\"obese\")\n",
    "    \n",
    "    def grade(self):\n",
    "        n = self.age\n",
    "        if n < 7 :\n",
    "            print(\"kindergarden\")\n",
    "        if 6 < n < 13:\n",
    "            print(\"primary grade {}\".format(self.age-6))\n",
    "        if 12< n < 16:\n",
    "            print(\"secondary grade {}\".format(self.age-12))\n",
    "        if 15< n < 20:\n",
    "            print(\"high school grade{}\".format(self.age-15))\n",
    "        if 19 < n:\n",
    "            print(\"university\")"
   ]
  },
  {
   "cell_type": "markdown",
   "metadata": {},
   "source": [
    "Create a Child Class"
   ]
  },
  {
   "cell_type": "code",
   "execution_count": 91,
   "metadata": {},
   "outputs": [
    {
     "name": "stdout",
     "output_type": "stream",
     "text": [
      "normal\n"
     ]
    },
    {
     "data": {
      "text/plain": [
       "3.9"
      ]
     },
     "execution_count": 91,
     "metadata": {},
     "output_type": "execute_result"
    }
   ],
   "source": [
    "class Student(Person):\n",
    "    def __init__(self,n,a,g,w,h,s,gpa):\n",
    "        Person.__init__(self,n,a,g,w,h)\n",
    "        self.school = s\n",
    "        self.gpa = gpa\n",
    "    \n",
    "        \n",
    "A = Student(\"ABC\",19,\"Male\",72.57,1.78,\"school1\",3.5)\n",
    "D = Student(\"JKL\",7,\"Female\",100,1.2,\"school2\",3.9)\n",
    "A.gpa\n",
    "A.BMI()\n",
    "D.gpa"
   ]
  },
  {
   "cell_type": "markdown",
   "metadata": {},
   "source": [
    "Super in class"
   ]
  },
  {
   "cell_type": "code",
   "execution_count": 106,
   "metadata": {},
   "outputs": [
    {
     "data": {
      "text/plain": [
       "19"
      ]
     },
     "execution_count": 106,
     "metadata": {},
     "output_type": "execute_result"
    }
   ],
   "source": [
    "class Student(Person):\n",
    "    def __init__(self,n,a,g,w,h,s,gpa):\n",
    "        super().__init__(n,a,g,w,h)\n",
    "        self.school = s\n",
    "        self.gpa = gpa\n",
    "        \n",
    "A = Student(\"ABC\",19,\"Male\",72.57,1.78,\"school1\",3.5)\n",
    "A.gpa\n",
    "A.age"
   ]
  },
  {
   "cell_type": "code",
   "execution_count": 115,
   "metadata": {},
   "outputs": [
    {
     "data": {
      "text/plain": [
       "19"
      ]
     },
     "execution_count": 115,
     "metadata": {},
     "output_type": "execute_result"
    }
   ],
   "source": [
    "class Z(Student):\n",
    "    def __init__(self,n,a,g,w,h,s,gpa):\n",
    "        super().__init__(n,a,g,w,h,s,gpa)\n",
    "\n",
    "A = Z(\"ABC\",19,\"Male\",72.57,1.78,\"school1\",3.5)\n",
    "A.age"
   ]
  },
  {
   "cell_type": "code",
   "execution_count": 16,
   "metadata": {
    "scrolled": true
   },
   "outputs": [
    {
     "name": "stdout",
     "output_type": "stream",
     "text": [
      "__main__\n",
      "File1 is being run directly\n",
      "__main__\n"
     ]
    }
   ],
   "source": [
    "# File1.py \n",
    "  \n",
    "print(__name__)\n",
    "  \n",
    "if __name__ == \"__main__\": \n",
    "    print (\"File1 is being run directly\")\n",
    "else: \n",
    "    print (\"File1 is being imported\")\n",
    "    \n",
    "import File1 \n",
    "print (__name__ )"
   ]
  },
  {
   "cell_type": "code",
   "execution_count": 17,
   "metadata": {
    "scrolled": true
   },
   "outputs": [
    {
     "name": "stdout",
     "output_type": "stream",
     "text": [
      "__main__\n",
      "File2 is being run directly\n"
     ]
    }
   ],
   "source": [
    "# File2.py \n",
    "\n",
    "import File1 \n",
    "\n",
    "print (__name__ )\n",
    "\n",
    "if __name__ == \"__main__\": \n",
    "    print (\"File2 is being run directly\")\n",
    "else: \n",
    "    print (\"File2 is being imported\")\n"
   ]
  },
  {
   "cell_type": "code",
   "execution_count": 19,
   "metadata": {},
   "outputs": [
    {
     "ename": "SyntaxError",
     "evalue": "invalid syntax (<ipython-input-19-9f64143abb74>, line 1)",
     "output_type": "error",
     "traceback": [
      "\u001b[1;36m  File \u001b[1;32m\"<ipython-input-19-9f64143abb74>\"\u001b[1;36m, line \u001b[1;32m1\u001b[0m\n\u001b[1;33m    python File1\u001b[0m\n\u001b[1;37m               ^\u001b[0m\n\u001b[1;31mSyntaxError\u001b[0m\u001b[1;31m:\u001b[0m invalid syntax\n"
     ]
    }
   ],
   "source": [
    "python File1"
   ]
  },
  {
   "cell_type": "markdown",
   "metadata": {},
   "source": [
    "##https://rszalski.github.io/magicmethods/#intro"
   ]
  }
 ],
 "metadata": {
  "kernelspec": {
   "display_name": "Python 3",
   "language": "python",
   "name": "python3"
  },
  "language_info": {
   "codemirror_mode": {
    "name": "ipython",
    "version": 3
   },
   "file_extension": ".py",
   "mimetype": "text/x-python",
   "name": "python",
   "nbconvert_exporter": "python",
   "pygments_lexer": "ipython3",
   "version": "3.7.3"
  }
 },
 "nbformat": 4,
 "nbformat_minor": 2
}
