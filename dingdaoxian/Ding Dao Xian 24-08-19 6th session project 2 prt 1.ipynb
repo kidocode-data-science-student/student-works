{
 "cells": [
  {
   "cell_type": "markdown",
   "metadata": {},
   "source": [
    "## Project 2"
   ]
  },
  {
   "cell_type": "markdown",
   "metadata": {},
   "source": [
    "# Section 1 Assignment\n",
    "\n",
    "### Task 1.\n",
    "\n",
    "A = [13, 18, 13, 14, 13, 16, 14, 21, 13]<br>\n",
    "B = [42, 23, 29, 20, 44, 39, 46, 39, 24]<br>\n",
    "C = [324, 129, 418, 363, 379, 368, 362, 141, 324]<br>\n",
    "D = [0.34, 0.55, 0.34, 0.70, 0.24, 0.21, 0.18, 0.34, 0.43, 0.38]\n",
    "\n",
    "Base on the lists above, find the mean, median, mode, and range for the following list of values\n"
   ]
  },
  {
   "cell_type": "code",
   "execution_count": 1,
   "metadata": {},
   "outputs": [
    {
     "name": "stdout",
     "output_type": "stream",
     "text": [
      "[15.0, 14, 13, 8]\n",
      "[34.0, 39, 39, 26]\n",
      "[312.0, 362, 324, 289]\n",
      "[0.3710000000000001, 0.34, 0.34, 0.52]\n"
     ]
    }
   ],
   "source": [
    "import numpy as np\n",
    "from scipy import stats\n",
    "\n",
    "A = [13, 18, 13, 14, 13, 16, 14, 21, 13]\n",
    "B = [42, 23, 29, 20, 44, 39, 46, 39, 24]\n",
    "C = [324, 129, 418, 363, 379, 368, 362, 141, 324]\n",
    "D = [0.34, 0.55, 0.34, 0.70, 0.24, 0.21, 0.18, 0.34, 0.43, 0.38]\n",
    "\n",
    "\n",
    "def fk(x):\n",
    "    x.sort()\n",
    "    return [sum(x)/len(x) , x[int(len(x)/2)] , stats.mode(x)[0][0] , max(x)-min(x)]\n",
    "\n",
    "print(fk(A))\n",
    "print(fk(B))\n",
    "print(fk(C))\n",
    "print(fk(D))"
   ]
  },
  {
   "cell_type": "code",
   "execution_count": 2,
   "metadata": {},
   "outputs": [
    {
     "name": "stdout",
     "output_type": "stream",
     "text": [
      "(15.0, 14.0, ModeResult(mode=array([13]), count=array([4])), 8)\n",
      "(34.0, 39.0, ModeResult(mode=array([39]), count=array([2])), 26)\n",
      "(312.0, 362.0, ModeResult(mode=array([324]), count=array([2])), 289)\n",
      "(0.37100000000000005, 0.34, ModeResult(mode=array([0.34]), count=array([3])), 0.52)\n"
     ]
    }
   ],
   "source": [
    "#Alt method\n",
    "\n",
    "#task1\n",
    "import numpy as np\n",
    "from scipy import stats\n",
    "\n",
    "A = [13, 18, 13, 14, 13, 16, 14, 21, 13]\n",
    "B = [42, 23, 29, 20, 44, 39, 46, 39, 24]\n",
    "C = [324, 129, 418, 363, 379, 368, 362, 141, 324]\n",
    "D = [0.34, 0.55, 0.34, 0.70, 0.24, 0.21, 0.18, 0.34, 0.43, 0.38]\n",
    "\n",
    "def fen(lists):\n",
    "    mean = np.mean(lists)\n",
    "    median = np.median(lists)\n",
    "    mode = stats.mode(lists)\n",
    "    ranges = max(lists)-min(lists)\n",
    "    return mean, median, mode, ranges\n",
    "\n",
    "print (fen(A))\n",
    "print (fen(B))\n",
    "print (fen(C))\n",
    "print (fen(D))\n",
    "    \n",
    "    "
   ]
  },
  {
   "cell_type": "markdown",
   "metadata": {},
   "source": [
    "### Task 2.\n",
    "\n",
    "A student has gotten the following grades on his tests: **87, 95, 76, and 88**. He wants an 85 or better overall. What is the minimum grade he must get on the last test in order to achieve that average?\n",
    "\n",
    "Hint: _you need to have 5 items inside the list and 85 is the mean value._\n"
   ]
  },
  {
   "cell_type": "code",
   "execution_count": 7,
   "metadata": {},
   "outputs": [
    {
     "data": {
      "text/plain": [
       "79"
      ]
     },
     "execution_count": 7,
     "metadata": {},
     "output_type": "execute_result"
    }
   ],
   "source": [
    "k = [87, 95, 76, 88]\n",
    "#f(list,wanted score)\n",
    "\n",
    "def fmn(*args):\n",
    "    return args[1]*(len(args[0])+1)-sum(args[0])\n",
    "f(k,85)"
   ]
  },
  {
   "cell_type": "code",
   "execution_count": 4,
   "metadata": {},
   "outputs": [
    {
     "name": "stdout",
     "output_type": "stream",
     "text": [
      "[87, 95, 76, 88, 79]\n",
      "79\n"
     ]
    }
   ],
   "source": [
    "#ALT Method\n",
    "#task2\n",
    "\n",
    "kl = [87, 95, 76, 88]\n",
    "x = (85*5)-sum(kl)\n",
    "kl.append(x)\n",
    "print (kl)\n",
    "print (x)"
   ]
  },
  {
   "cell_type": "markdown",
   "metadata": {},
   "source": [
    ".\n",
    "### Task 3.\n",
    "\n",
    "Five friends compare their marks in a French test. See the table below:\n",
    "![image.png](section1-assignment-table-q3.PNG)\n",
    "\n",
    "Find the mean, median, mode, and range between the five friends."
   ]
  },
  {
   "cell_type": "code",
   "execution_count": 5,
   "metadata": {},
   "outputs": [
    {
     "data": {
      "text/plain": [
       "[52.8, 54, 25, 54]"
      ]
     },
     "execution_count": 5,
     "metadata": {},
     "output_type": "execute_result"
    }
   ],
   "source": [
    "M = [41,54,79,25,65]\n",
    "fk(M)"
   ]
  },
  {
   "cell_type": "code",
   "execution_count": 6,
   "metadata": {},
   "outputs": [
    {
     "name": "stdout",
     "output_type": "stream",
     "text": [
      "(52.8, 54.0, ModeResult(mode=array([25]), count=array([1])), 54)\n"
     ]
    }
   ],
   "source": [
    "#Alt method\n",
    "\n",
    "#task3\n",
    "marks = [41,54, 79, 25, 65]\n",
    "print (fen(marks))"
   ]
  },
  {
   "cell_type": "markdown",
   "metadata": {},
   "source": [
    "### Task 4.\n",
    "\n",
    "Sara wanted to know the ages of the children on the school bus. She conducted a survey and her results are shown below:\n",
    "![image.png](section1-assignment-table-q4.PNG)\n",
    "\n",
    "Find the mean."
   ]
  },
  {
   "cell_type": "code",
   "execution_count": 8,
   "metadata": {},
   "outputs": [
    {
     "data": {
      "text/plain": [
       "[13.0]"
      ]
     },
     "execution_count": 8,
     "metadata": {},
     "output_type": "execute_result"
    }
   ],
   "source": [
    "A=[i for i in range(11,17)]\n",
    "f=[6,7,5,7,3,2]\n",
    "\n",
    "[sum([f[i]*A[i] for i in range(len(A))])/sum(f)]"
   ]
  },
  {
   "cell_type": "markdown",
   "metadata": {},
   "source": [
    "### Task 5.\n",
    "\n",
    "Lists = [10, 18, 4, 15, 3, 21, x]\n",
    "\n",
    "1. If x is the median of the 7 numbers listed above, which of the following could be the value of x?<br>\n",
    "a. 5 $\\;\\;\\;\\;\\;\\;$ b. 8 $\\;\\;\\;\\;\\;\\;$ c. 9 $\\;\\;\\;\\;\\;\\;$ d. 14\n",
    "\n",
    "\n",
    "2. Find the median of the list.\n"
   ]
  },
  {
   "cell_type": "code",
   "execution_count": 11,
   "metadata": {},
   "outputs": [
    {
     "data": {
      "text/plain": [
       "12.5"
      ]
     },
     "execution_count": 11,
     "metadata": {},
     "output_type": "execute_result"
    }
   ],
   "source": [
    "L = [10,18,4,15,3,21]\n",
    "np.median(L)"
   ]
  },
  {
   "cell_type": "markdown",
   "metadata": {},
   "source": [
    "### Task 6.\n",
    "\n",
    "At a convention, 192 speakers gave one or more presentations of varying lengths. The histogram summarizes the total presentation time, in hours, of each speaker.\n",
    "\n",
    "![image.png](section1-assignment-table-q6.PNG)\n",
    "\n",
    "What interval contains the 25th percentile for this data?"
   ]
  },
  {
   "cell_type": "code",
   "execution_count": 12,
   "metadata": {},
   "outputs": [
    {
     "data": {
      "text/plain": [
       "3.5"
      ]
     },
     "execution_count": 12,
     "metadata": {},
     "output_type": "execute_result"
    }
   ],
   "source": [
    "import numpy as np\n",
    "speaker = [60, 90, 20, 14, 4, 3, 2]\n",
    "np.percentile(speaker, 25)"
   ]
  },
  {
   "cell_type": "markdown",
   "metadata": {},
   "source": [
    "### Task 7.\n",
    "\n",
    "The histogram summarizes the number of acres of soybeans planted in each of the 30 counties of Alabama recorded to have planted soybeans in 2009.\n",
    "\n",
    "![image.png](section1-assignment-table-q7.PNG)\n",
    "\n",
    "What interval contains the 50th percentile for this data?"
   ]
  },
  {
   "cell_type": "code",
   "execution_count": 8,
   "metadata": {},
   "outputs": [
    {
     "data": {
      "text/plain": [
       "1.0"
      ]
     },
     "execution_count": 8,
     "metadata": {},
     "output_type": "execute_result"
    }
   ],
   "source": [
    "import numpy as np\n",
    "dic = {1:20,2:2,3:5,4:1,5:1,6:0,7:1}\n",
    "np.percentile([i for i in dic.values()],50)"
   ]
  },
  {
   "cell_type": "markdown",
   "metadata": {},
   "source": [
    "### Task 8.\n",
    "\n",
    "Calculate the absolute average deviation for the numbers: \n",
    "\n",
    "$\\;\\;\\;\\;\\;\\;$**75, 83, 96, 100, 121 and 125**\n"
   ]
  },
  {
   "cell_type": "code",
   "execution_count": 15,
   "metadata": {},
   "outputs": [
    {
     "data": {
      "text/plain": [
       "15.333333333333334"
      ]
     },
     "execution_count": 15,
     "metadata": {},
     "output_type": "execute_result"
    }
   ],
   "source": [
    "l = [75,83,96,100,121,125]\n",
    "\n",
    "sum([abs(i-sum(l)/len(l)) for i in l])/len(l)"
   ]
  },
  {
   "cell_type": "markdown",
   "metadata": {},
   "source": [
    "### Task 9.\n",
    "\n",
    "Ten friends scored the following marks in their end-of-year math exam:\n",
    "\n",
    "$\\;\\;\\;\\;\\;\\;$ **Score: 23%, 37%, 45%, 49%, 56%, 63%, 63%, 70%, 72% and 82%**\n",
    "\n",
    "What is the absolute average deviation / mean deviation of their marks?"
   ]
  },
  {
   "cell_type": "code",
   "execution_count": 16,
   "metadata": {},
   "outputs": [
    {
     "data": {
      "text/plain": [
       "14.0"
      ]
     },
     "execution_count": 16,
     "metadata": {},
     "output_type": "execute_result"
    }
   ],
   "source": [
    "l = [23,37,45,49,56,63,63,70,72,82]\n",
    "\n",
    "sum([abs(i-sum(l)/len(l)) for i in l])/len(l)"
   ]
  },
  {
   "cell_type": "markdown",
   "metadata": {},
   "source": [
    "### Task 10.\n",
    "\n",
    "What is the **absolute average deviation** of the **first 10 numbers** of the **Fibonacci sequence**?"
   ]
  },
  {
   "cell_type": "code",
   "execution_count": 35,
   "metadata": {},
   "outputs": [
    {
     "data": {
      "text/plain": [
       "12.96000533191783"
      ]
     },
     "execution_count": 35,
     "metadata": {},
     "output_type": "execute_result"
    }
   ],
   "source": [
    "l = []\n",
    "for i in range(11):\n",
    "    l.append(abs(0.4472135955*((1.61803398875)**i-(0.61803398875)**i)))\n",
    "\n",
    "sum([abs(i-sum(l)/len(l)) for i in l])/len(l)"
   ]
  }
 ],
 "metadata": {
  "kernelspec": {
   "display_name": "Python 3",
   "language": "python",
   "name": "python3"
  }
 },
 "nbformat": 4,
 "nbformat_minor": 2
}
