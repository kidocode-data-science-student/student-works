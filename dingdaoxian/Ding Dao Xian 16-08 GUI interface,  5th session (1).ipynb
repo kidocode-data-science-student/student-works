{
 "cells": [
  {
   "cell_type": "markdown",
   "metadata": {},
   "source": [
    "## GUI"
   ]
  },
  {
   "cell_type": "code",
   "execution_count": 5,
   "metadata": {},
   "outputs": [],
   "source": [
    "# Graphic user interface \n",
    "# from ipywidgets import sth"
   ]
  },
  {
   "cell_type": "markdown",
   "metadata": {},
   "source": [
    "### Interact"
   ]
  },
  {
   "cell_type": "code",
   "execution_count": 1,
   "metadata": {},
   "outputs": [
    {
     "data": {
      "application/vnd.jupyter.widget-view+json": {
       "model_id": "4bfb0b31db3347aab8569fd8fe9b2f4e",
       "version_major": 2,
       "version_minor": 0
      },
      "text/plain": [
       "interactive(children=(Text(value='10000000', description='x'), Output()), _dom_classes=('widget-interact',))"
      ]
     },
     "metadata": {},
     "output_type": "display_data"
    },
    {
     "data": {
      "application/vnd.jupyter.widget-view+json": {
       "model_id": "d40026629e8e4819857801a51451f0e3",
       "version_major": 2,
       "version_minor": 0
      },
      "text/plain": [
       "interactive(children=(Output(),), _dom_classes=('widget-interact',))"
      ]
     },
     "metadata": {},
     "output_type": "display_data"
    },
    {
     "data": {
      "text/plain": [
       "<function __main__.f(x)>"
      ]
     },
     "execution_count": 1,
     "metadata": {},
     "output_type": "execute_result"
    }
   ],
   "source": [
    "# 1. interact : allows user to control an argument in a function generated \n",
    "#               (=slider for num, checkbox for bool, textbox for string, dropdown menu for list)\n",
    "\n",
    "# Syntax : let f(x) be a function, \n",
    "# interact(f,variable1,variable2....)\n",
    "# min value is -variable\n",
    "# max value of variable is variable * 3\n",
    "\n",
    "\n",
    "# Example\n",
    "from ipywidgets import interact, interactive, fixed\n",
    "import ipywidgets as widgets\n",
    "\n",
    "def f(x):\n",
    "    return x\n",
    "\n",
    "interact(f,x=\"10000000\")\n",
    "\n",
    "\n",
    "# to fix values : variable = fixed(parameter1) \n",
    "\n",
    "interact(f,x=fixed(\"1000\"))"
   ]
  },
  {
   "cell_type": "code",
   "execution_count": 2,
   "metadata": {},
   "outputs": [
    {
     "data": {
      "application/vnd.jupyter.widget-view+json": {
       "model_id": "6b05fdfebe9147329f07592df4705c4f",
       "version_major": 2,
       "version_minor": 0
      },
      "text/plain": [
       "interactive(children=(IntSlider(value=3, description='x', max=9, min=-3), Output()), _dom_classes=('widget-int…"
      ]
     },
     "metadata": {},
     "output_type": "display_data"
    }
   ],
   "source": [
    "#Using interact as a decorator\n",
    "#Syntax:\n",
    "\n",
    "# @interact(variable1= , variable2 = ....)\n",
    "# def f(x):\n",
    "#     return .......\n",
    "\n",
    "\n",
    "# Example\n",
    "\n",
    "@interact(x = 3)\n",
    "def f(x):\n",
    "    return x"
   ]
  },
  {
   "cell_type": "code",
   "execution_count": 3,
   "metadata": {},
   "outputs": [
    {
     "data": {
      "application/vnd.jupyter.widget-view+json": {
       "model_id": "2b58f80691454917be436ac15f1e6b11",
       "version_major": 2,
       "version_minor": 0
      },
      "text/plain": [
       "interactive(children=(FloatSlider(value=0.0, description='x'), Output()), _dom_classes=('widget-interact',))"
      ]
     },
     "metadata": {},
     "output_type": "display_data"
    },
    {
     "data": {
      "text/plain": [
       "<function __main__.f(x)>"
      ]
     },
     "execution_count": 3,
     "metadata": {},
     "output_type": "execute_result"
    }
   ],
   "source": [
    "# changing max and min values\n",
    "# variable1 = widgets.\"datatype\"Slider(\"press shifttab to read through\") \n",
    "# datatype can be int,float, \n",
    "\n",
    "def f(x):\n",
    "    return x\n",
    "interact(f,x=widgets.FloatSlider())"
   ]
  },
  {
   "cell_type": "markdown",
   "metadata": {},
   "source": [
    "### Display and interactive"
   ]
  },
  {
   "cell_type": "code",
   "execution_count": 55,
   "metadata": {},
   "outputs": [
    {
     "name": "stdout",
     "output_type": "stream",
     "text": [
      "(IntSlider(value=10, description='a', max=30, min=-10), IntSlider(value=100, description='b', max=300, min=-100), Output())\n"
     ]
    },
    {
     "data": {
      "application/vnd.jupyter.widget-view+json": {
       "model_id": "b6e94dc45abb4bda9dc6537f57b013b2",
       "version_major": 2,
       "version_minor": 0
      },
      "text/plain": [
       "interactive(children=(IntSlider(value=10, description='a', max=30, min=-10), IntSlider(value=100, description=…"
      ]
     },
     "metadata": {},
     "output_type": "display_data"
    }
   ],
   "source": [
    "# 2. interactive : to save a display formed by interact as a variable that can be recalled latter\n",
    "# Syntax:\n",
    "\n",
    "# from IPython.display import display\n",
    "\n",
    "# def f(variable1,variable2.....)):\n",
    "#     display(....)\n",
    "#     return ....\n",
    "\n",
    "# sth = interactive(f , varible1 = .. , variable2 = ....)\n",
    "# sth.children ( to see what is being built)\n",
    "# display(sth) (to see the display)\n",
    "\n",
    "# Example:\n",
    "\n",
    "from IPython.display import display\n",
    "\n",
    "def f(a,b):\n",
    "    display(a+b)\n",
    "    return a+b\n",
    "\n",
    "w = interactive(f, a=10 , b= 100)\n",
    "print(w.children)\n",
    "display(w)"
   ]
  },
  {
   "cell_type": "markdown",
   "metadata": {},
   "source": [
    "### Widgets"
   ]
  },
  {
   "cell_type": "code",
   "execution_count": 42,
   "metadata": {},
   "outputs": [
    {
     "data": {
      "application/vnd.jupyter.widget-view+json": {
       "model_id": "597883de160b4f6788018f584dbf3355",
       "version_major": 2,
       "version_minor": 0
      },
      "text/plain": [
       "FloatSlider(value=0.0)"
      ]
     },
     "metadata": {},
     "output_type": "display_data"
    }
   ],
   "source": [
    "# widgets : allow better user interface\n",
    "\n",
    "import ipywidgets as widgets\n",
    "\n",
    "widgets.FloatSlider()\n"
   ]
  },
  {
   "cell_type": "code",
   "execution_count": 50,
   "metadata": {},
   "outputs": [
    {
     "data": {
      "application/vnd.jupyter.widget-view+json": {
       "model_id": "12428e1516ad48be8369c9ade569f232",
       "version_major": 2,
       "version_minor": 0
      },
      "text/plain": [
       "FloatSlider(value=0.0)"
      ]
     },
     "metadata": {},
     "output_type": "display_data"
    }
   ],
   "source": [
    "#Alt method of calling widgets\n",
    "\n",
    "import ipywidgets as widgets\n",
    "\n",
    "k = widgets.FloatSlider()\n",
    "\n",
    "from IPython.display import display\n",
    "\n",
    "display(k)\n",
    "\n",
    "k.value = 50\n",
    "k.max = 1000"
   ]
  },
  {
   "cell_type": "code",
   "execution_count": 47,
   "metadata": {},
   "outputs": [],
   "source": [
    "#EXTRA\n",
    "# Let variable = widget...\n",
    "\n",
    "# close a widget\n",
    "# varible.close()\n",
    "\n",
    "# reset value of a widget\n",
    "# varible.value = sth\n",
    "\n",
    "#all keys\n",
    "#variable.keys\n",
    "\n",
    "#set max value\n",
    "#variable.max = sth\n",
    "\n",
    "#Bassically all the keys can be assigned sth for its purpose\n"
   ]
  },
  {
   "cell_type": "code",
   "execution_count": 32,
   "metadata": {
    "scrolled": true
   },
   "outputs": [
    {
     "data": {
      "application/vnd.jupyter.widget-view+json": {
       "model_id": "84d28ee053fd4aad8419dc509a63d1a7",
       "version_major": 2,
       "version_minor": 0
      },
      "text/plain": [
       "IntSlider(value=0)"
      ]
     },
     "metadata": {},
     "output_type": "display_data"
    },
    {
     "data": {
      "application/vnd.jupyter.widget-view+json": {
       "model_id": "462fdc03923b483197744fd552d987db",
       "version_major": 2,
       "version_minor": 0
      },
      "text/plain": [
       "IntText(value=0)"
      ]
     },
     "metadata": {},
     "output_type": "display_data"
    }
   ],
   "source": [
    "# Linking different widgets\n",
    "# Syntax:\n",
    "# a = widgets.jslink((variable1,parameter1),(variable2,parameter2),....)\n",
    "# To unlink : a.unlink()\n",
    "\n",
    "#EXAMPLE\n",
    "a = widgets.IntSlider()\n",
    "b = widgets.IntText()\n",
    "display(a,b)\n",
    "\n",
    "link = widgets.jslink((a,'value'),(b,'value'))"
   ]
  },
  {
   "cell_type": "markdown",
   "metadata": {},
   "source": [
    "### List of most Widgets"
   ]
  },
  {
   "cell_type": "code",
   "execution_count": 33,
   "metadata": {
    "scrolled": true
   },
   "outputs": [
    {
     "name": "stdout",
     "output_type": "stream",
     "text": [
      "('@jupyter-widgets/base', '1.1.0', 'LayoutModel', '@jupyter-widgets/base', '1.1.0', 'LayoutView')\n",
      "('@jupyter-widgets/controls', '1.4.0', 'AccordionModel', '@jupyter-widgets/controls', '1.4.0', 'AccordionView')\n",
      "('@jupyter-widgets/controls', '1.4.0', 'AudioModel', '@jupyter-widgets/controls', '1.4.0', 'AudioView')\n",
      "('@jupyter-widgets/controls', '1.4.0', 'BoundedFloatTextModel', '@jupyter-widgets/controls', '1.4.0', 'FloatTextView')\n",
      "('@jupyter-widgets/controls', '1.4.0', 'BoundedIntTextModel', '@jupyter-widgets/controls', '1.4.0', 'IntTextView')\n",
      "('@jupyter-widgets/controls', '1.4.0', 'BoxModel', '@jupyter-widgets/controls', '1.4.0', 'BoxView')\n",
      "('@jupyter-widgets/controls', '1.4.0', 'ButtonModel', '@jupyter-widgets/controls', '1.4.0', 'ButtonView')\n",
      "('@jupyter-widgets/controls', '1.4.0', 'ButtonStyleModel', '@jupyter-widgets/base', '1.1.0', 'StyleView')\n",
      "('@jupyter-widgets/controls', '1.4.0', 'CheckboxModel', '@jupyter-widgets/controls', '1.4.0', 'CheckboxView')\n",
      "('@jupyter-widgets/controls', '1.4.0', 'ColorPickerModel', '@jupyter-widgets/controls', '1.4.0', 'ColorPickerView')\n",
      "('@jupyter-widgets/controls', '1.4.0', 'ControllerAxisModel', '@jupyter-widgets/controls', '1.4.0', 'ControllerAxisView')\n",
      "('@jupyter-widgets/controls', '1.4.0', 'ControllerButtonModel', '@jupyter-widgets/controls', '1.4.0', 'ControllerButtonView')\n",
      "('@jupyter-widgets/controls', '1.4.0', 'ControllerModel', '@jupyter-widgets/controls', '1.4.0', 'ControllerView')\n",
      "('@jupyter-widgets/controls', '1.4.0', 'DOMWidgetModel', '@jupyter-widgets/controls', '1.4.0', None)\n",
      "('@jupyter-widgets/controls', '1.4.0', 'DatePickerModel', '@jupyter-widgets/controls', '1.4.0', 'DatePickerView')\n",
      "('@jupyter-widgets/controls', '1.4.0', 'DescriptionStyleModel', '@jupyter-widgets/base', '1.1.0', 'StyleView')\n",
      "('@jupyter-widgets/controls', '1.4.0', 'DirectionalLinkModel', '@jupyter-widgets/controls', '1.4.0', None)\n",
      "('@jupyter-widgets/controls', '1.4.0', 'DropdownModel', '@jupyter-widgets/controls', '1.4.0', 'DropdownView')\n",
      "('@jupyter-widgets/controls', '1.4.0', 'FloatLogSliderModel', '@jupyter-widgets/controls', '1.4.0', 'FloatLogSliderView')\n",
      "('@jupyter-widgets/controls', '1.4.0', 'FloatProgressModel', '@jupyter-widgets/controls', '1.4.0', 'ProgressView')\n",
      "('@jupyter-widgets/controls', '1.4.0', 'FloatRangeSliderModel', '@jupyter-widgets/controls', '1.4.0', 'FloatRangeSliderView')\n",
      "('@jupyter-widgets/controls', '1.4.0', 'FloatSliderModel', '@jupyter-widgets/controls', '1.4.0', 'FloatSliderView')\n",
      "('@jupyter-widgets/controls', '1.4.0', 'FloatTextModel', '@jupyter-widgets/controls', '1.4.0', 'FloatTextView')\n",
      "('@jupyter-widgets/controls', '1.4.0', 'GridBoxModel', '@jupyter-widgets/controls', '1.4.0', 'GridBoxView')\n",
      "('@jupyter-widgets/controls', '1.4.0', 'HBoxModel', '@jupyter-widgets/controls', '1.4.0', 'HBoxView')\n",
      "('@jupyter-widgets/controls', '1.4.0', 'HTMLMathModel', '@jupyter-widgets/controls', '1.4.0', 'HTMLMathView')\n",
      "('@jupyter-widgets/controls', '1.4.0', 'HTMLModel', '@jupyter-widgets/controls', '1.4.0', 'HTMLView')\n",
      "('@jupyter-widgets/controls', '1.4.0', 'ImageModel', '@jupyter-widgets/controls', '1.4.0', 'ImageView')\n",
      "('@jupyter-widgets/controls', '1.4.0', 'IntProgressModel', '@jupyter-widgets/controls', '1.4.0', 'ProgressView')\n",
      "('@jupyter-widgets/controls', '1.4.0', 'IntRangeSliderModel', '@jupyter-widgets/controls', '1.4.0', 'IntRangeSliderView')\n",
      "('@jupyter-widgets/controls', '1.4.0', 'IntSliderModel', '@jupyter-widgets/controls', '1.4.0', 'IntSliderView')\n",
      "('@jupyter-widgets/controls', '1.4.0', 'IntTextModel', '@jupyter-widgets/controls', '1.4.0', 'IntTextView')\n",
      "('@jupyter-widgets/controls', '1.4.0', 'LabelModel', '@jupyter-widgets/controls', '1.4.0', 'LabelView')\n",
      "('@jupyter-widgets/controls', '1.4.0', 'LinkModel', '@jupyter-widgets/controls', '1.4.0', None)\n",
      "('@jupyter-widgets/controls', '1.4.0', 'PasswordModel', '@jupyter-widgets/controls', '1.4.0', 'PasswordView')\n",
      "('@jupyter-widgets/controls', '1.4.0', 'PlayModel', '@jupyter-widgets/controls', '1.4.0', 'PlayView')\n",
      "('@jupyter-widgets/controls', '1.4.0', 'ProgressStyleModel', '@jupyter-widgets/base', '1.1.0', 'StyleView')\n",
      "('@jupyter-widgets/controls', '1.4.0', 'RadioButtonsModel', '@jupyter-widgets/controls', '1.4.0', 'RadioButtonsView')\n",
      "('@jupyter-widgets/controls', '1.4.0', 'SelectModel', '@jupyter-widgets/controls', '1.4.0', 'SelectView')\n",
      "('@jupyter-widgets/controls', '1.4.0', 'SelectMultipleModel', '@jupyter-widgets/controls', '1.4.0', 'SelectMultipleView')\n",
      "('@jupyter-widgets/controls', '1.4.0', 'SelectionRangeSliderModel', '@jupyter-widgets/controls', '1.4.0', 'SelectionRangeSliderView')\n",
      "('@jupyter-widgets/controls', '1.4.0', 'SelectionSliderModel', '@jupyter-widgets/controls', '1.4.0', 'SelectionSliderView')\n",
      "('@jupyter-widgets/controls', '1.4.0', 'SliderStyleModel', '@jupyter-widgets/base', '1.1.0', 'StyleView')\n",
      "('@jupyter-widgets/controls', '1.4.0', 'TabModel', '@jupyter-widgets/controls', '1.4.0', 'TabView')\n",
      "('@jupyter-widgets/controls', '1.4.0', 'TextModel', '@jupyter-widgets/controls', '1.4.0', 'TextView')\n",
      "('@jupyter-widgets/controls', '1.4.0', 'TextareaModel', '@jupyter-widgets/controls', '1.4.0', 'TextareaView')\n",
      "('@jupyter-widgets/controls', '1.4.0', 'ToggleButtonModel', '@jupyter-widgets/controls', '1.4.0', 'ToggleButtonView')\n",
      "('@jupyter-widgets/controls', '1.4.0', 'ToggleButtonsModel', '@jupyter-widgets/controls', '1.4.0', 'ToggleButtonsView')\n",
      "('@jupyter-widgets/controls', '1.4.0', 'ToggleButtonsStyleModel', '@jupyter-widgets/base', '1.1.0', 'StyleView')\n",
      "('@jupyter-widgets/controls', '1.4.0', 'VBoxModel', '@jupyter-widgets/controls', '1.4.0', 'VBoxView')\n",
      "('@jupyter-widgets/controls', '1.4.0', 'ValidModel', '@jupyter-widgets/controls', '1.4.0', 'ValidView')\n",
      "('@jupyter-widgets/controls', '1.4.0', 'VideoModel', '@jupyter-widgets/controls', '1.4.0', 'VideoView')\n",
      "('@jupyter-widgets/output', '1.0.0', 'OutputModel', '@jupyter-widgets/output', '1.0.0', 'OutputView')\n"
     ]
    }
   ],
   "source": [
    "# to see all possible widgets\n",
    "\n",
    "import ipywidgets as widgets\n",
    "\n",
    "for i in widgets.Widget.widget_types.items():\n",
    "    print(i[0])\n",
    "    \n",
    "# for each of the widget: shift-tab to see the method of manipulation\n",
    "# to change color of progress bars, use bootstrap codes \n",
    "# or for others use button_color if available\n"
   ]
  },
  {
   "cell_type": "code",
   "execution_count": 4,
   "metadata": {},
   "outputs": [
    {
     "data": {
      "application/vnd.jupyter.widget-view+json": {
       "model_id": "3da44f07d3df4f6da60634f65c8b770c",
       "version_major": 2,
       "version_minor": 0
      },
      "text/plain": [
       "interactive(children=(ToggleButtons(description='Numbers:', options=(1, 2, 3, 4, 5, 6, 7, 8, 9, 0), value=1), …"
      ]
     },
     "metadata": {},
     "output_type": "display_data"
    },
    {
     "data": {
      "text/plain": [
       "<function __main__.f(a)>"
      ]
     },
     "execution_count": 4,
     "metadata": {},
     "output_type": "execute_result"
    }
   ],
   "source": [
    "#Example of GUI\n",
    "\n",
    "from ipywidgets import interact, interactive ,fixed\n",
    "import ipywidgets as widgets\n",
    "from IPython.display import display\n",
    "\n",
    "\n",
    "def f(a):\n",
    "    return a\n",
    "\n",
    "interact(f,a=widgets.ToggleButtons(\n",
    "    options=[1,2,3,4,5,6,7,8,9,0],\n",
    "    description='Numbers:',\n",
    "    disabled=False,\n",
    "    button_style='',))\n",
    "\n"
   ]
  }
 ],
 "metadata": {
  "kernelspec": {
   "display_name": "Python 3",
   "language": "python",
   "name": "python3"
  },
  "language_info": {
   "codemirror_mode": {
    "name": "ipython",
    "version": 3
   },
   "file_extension": ".py",
   "mimetype": "text/x-python",
   "name": "python",
   "nbconvert_exporter": "python",
   "pygments_lexer": "ipython3",
   "version": "3.7.3"
  }
 },
 "nbformat": 4,
 "nbformat_minor": 2
}
