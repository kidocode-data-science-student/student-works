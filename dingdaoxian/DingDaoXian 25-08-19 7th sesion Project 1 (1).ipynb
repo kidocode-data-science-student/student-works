{
 "cells": [
  {
   "cell_type": "markdown",
   "metadata": {},
   "source": [
    "# project 1\n",
    "1- import the library that need for basic statistic.\n",
    "<br>2- import data from this link(https://raw.githubusercontent.com/plotly/datasets/master/2010_alcohol_consumption_by_country.csv)</br>\n",
    "<br>3- compute statistics parameters such as the mean, standard deviation, median, mode, maximum and minimum, range,1st,second and third percentile of the data</br>"
   ]
  },
  {
   "cell_type": "code",
   "execution_count": 1,
   "metadata": {},
   "outputs": [
    {
     "name": "stdout",
     "output_type": "stream",
     "text": [
      "       location  alcohol\n",
      "0       Belarus     17.5\n",
      "1       Moldova     16.8\n",
      "2     Lithuania     15.4\n",
      "3        Russia     15.1\n",
      "4       Romania     14.4\n",
      "..          ...      ...\n",
      "186  Bangladesh      0.2\n",
      "187      Kuwait      0.1\n",
      "188       Libya      0.1\n",
      "189  Mauritania      0.1\n",
      "190    Pakistan      0.1\n",
      "\n",
      "[191 rows x 2 columns]\n"
     ]
    }
   ],
   "source": [
    "import pandas as pd\n",
    "import numpy as np\n",
    "from scipy import stats\n",
    "data = pd.read_csv('https://raw.githubusercontent.com/plotly/datasets/master/2010_alcohol_consumption_by_country.csv')\n",
    "print(data)"
   ]
  },
  {
   "cell_type": "code",
   "execution_count": 2,
   "metadata": {},
   "outputs": [
    {
     "name": "stdout",
     "output_type": "stream",
     "text": [
      "mean =  6.208376963350786\n",
      "std =  4.1306710006354\n",
      "median =  6.4\n",
      "mode =  0.7\n",
      "max value =  17.5\n",
      "min value =  0.1\n",
      "range =  17.4\n",
      "25th percentile =  2.6\n",
      "50th percentile =  6.4\n",
      "75th percentile =  9.2\n"
     ]
    }
   ],
   "source": [
    "print(\"mean = \",np.mean(data['alcohol']))\n",
    "print(\"std = \", np.std(data['alcohol']))\n",
    "print(\"median = \",np.median(data['alcohol']))\n",
    "print(\"mode = \", stats.mode(data['alcohol'])[0][0])\n",
    "print(\"max value = \", max(data['alcohol']))\n",
    "print(\"min value = \", min(data['alcohol']))\n",
    "print(\"range = \", max(data['alcohol'])-min(data['alcohol']))\n",
    "print(\"25th percentile = \", np.percentile(data['alcohol'],25))\n",
    "print(\"50th percentile = \", np.percentile(data['alcohol'],50))\n",
    "print(\"75th percentile = \", np.percentile(data['alcohol'],75))"
   ]
  },
  {
   "cell_type": "markdown",
   "metadata": {},
   "source": [
    "# project 2\n",
    "<br>1-import data of brain_size file and print data so if it needs preproccessing try to do it</br>\n",
    "<br>2-separating data ';'</br>\n",
    "<br>3-change data . to nan</br>\n",
    "<br>4- as nan data are in weight and height column so change nan data to mean of that specific column.</br>\n",
    "<br>5- find statistic parameters for height </br>\n",
    "<br>6- find statistic parameters for weight</br>"
   ]
  },
  {
   "cell_type": "code",
   "execution_count": 3,
   "metadata": {},
   "outputs": [
    {
     "name": "stdout",
     "output_type": "stream",
     "text": [
      "   ;\"Gender\";\"FSIQ\";\"VIQ\";\"PIQ\";\"Weight\";\"Height\";\"MRI_Count\"\n",
      "0          1;\"Female\";133;132;124;\"118\";\"64.5\";816932        \n",
      "1             2;\"Male\";140;150;124;\".\";\"72.5\";1001121        \n",
      "2           3;\"Male\";139;123;150;\"143\";\"73.3\";1038437        \n",
      "3            4;\"Male\";133;129;128;\"172\";\"68.8\";965353        \n",
      "4          5;\"Female\";137;132;134;\"147\";\"65.0\";951545        \n",
      "5            6;\"Female\";99;90;110;\"146\";\"69.0\";928799        \n",
      "6          7;\"Female\";138;136;131;\"138\";\"64.5\";991305        \n",
      "7             8;\"Female\";92;90;98;\"175\";\"66.0\";854258        \n",
      "8               9;\"Male\";89;93;84;\"134\";\"66.3\";904858        \n",
      "9           10;\"Male\";133;114;147;\"172\";\"68.8\";955466        \n",
      "10        11;\"Female\";132;129;124;\"118\";\"64.5\";833868        \n",
      "11         12;\"Male\";141;150;128;\"151\";\"70.0\";1079549        \n",
      "12          13;\"Male\";135;129;124;\"155\";\"69.0\";924059        \n",
      "13        14;\"Female\";140;120;147;\"155\";\"70.5\";856472        \n",
      "14          15;\"Female\";96;100;90;\"146\";\"66.0\";878897        \n",
      "15           16;\"Female\";83;71;96;\"135\";\"68.0\";865363        \n",
      "16        17;\"Female\";132;132;120;\"127\";\"68.5\";852244        \n",
      "17           18;\"Male\";100;96;102;\"178\";\"73.5\";945088        \n",
      "18         19;\"Female\";101;112;84;\"136\";\"66.3\";808020        \n",
      "19             20;\"Male\";80;77;86;\"180\";\"70.0\";889083        \n",
      "20                  21;\"Male\";83;83;86;\".\";\".\";892420        \n",
      "21            22;\"Male\";97;107;84;\"186\";\"76.5\";905940        \n",
      "22        23;\"Female\";135;129;134;\"122\";\"62.0\";790619        \n",
      "23          24;\"Male\";139;145;128;\"132\";\"68.0\";955003        \n",
      "24          25;\"Female\";91;86;102;\"114\";\"63.0\";831772        \n",
      "25          26;\"Male\";141;145;131;\"171\";\"72.0\";935494        \n",
      "26           27;\"Female\";85;90;84;\"140\";\"68.0\";798612        \n",
      "27          28;\"Male\";103;96;110;\"187\";\"77.0\";1062462        \n",
      "28           29;\"Female\";77;83;72;\"106\";\"63.0\";793549        \n",
      "29        30;\"Female\";130;126;124;\"159\";\"66.5\";866662        \n",
      "30        31;\"Female\";133;126;132;\"127\";\"62.5\";857782        \n",
      "31          32;\"Male\";144;145;137;\"191\";\"67.0\";949589        \n",
      "32           33;\"Male\";103;96;110;\"192\";\"75.5\";997925        \n",
      "33             34;\"Male\";90;96;86;\"181\";\"69.0\";879987        \n",
      "34           35;\"Female\";83;90;81;\"143\";\"66.5\";834344        \n",
      "35        36;\"Female\";133;129;128;\"153\";\"66.5\";948066        \n",
      "36          37;\"Male\";140;150;124;\"144\";\"70.5\";949395        \n",
      "37           38;\"Female\";88;86;94;\"139\";\"64.5\";893983        \n",
      "38             39;\"Male\";81;90;74;\"148\";\"74.0\";930016        \n",
      "39             40;\"Male\";89;91;89;\"179\";\"75.5\";935863        \n"
     ]
    }
   ],
   "source": [
    "import pandas as pd\n",
    "import numpy as np\n",
    "from scipy import stats\n",
    "data2 = pd.read_csv('brain_size.csv')\n",
    "print(data2)"
   ]
  },
  {
   "cell_type": "code",
   "execution_count": 4,
   "metadata": {},
   "outputs": [
    {
     "name": "stdout",
     "output_type": "stream",
     "text": [
      "    Unnamed: 0  Gender  FSIQ  VIQ  PIQ  Weight  Height  MRI_Count\n",
      "0            1  Female   133  132  124   118.0    64.5     816932\n",
      "1            2    Male   140  150  124     NaN    72.5    1001121\n",
      "2            3    Male   139  123  150   143.0    73.3    1038437\n",
      "3            4    Male   133  129  128   172.0    68.8     965353\n",
      "4            5  Female   137  132  134   147.0    65.0     951545\n",
      "5            6  Female    99   90  110   146.0    69.0     928799\n",
      "6            7  Female   138  136  131   138.0    64.5     991305\n",
      "7            8  Female    92   90   98   175.0    66.0     854258\n",
      "8            9    Male    89   93   84   134.0    66.3     904858\n",
      "9           10    Male   133  114  147   172.0    68.8     955466\n",
      "10          11  Female   132  129  124   118.0    64.5     833868\n",
      "11          12    Male   141  150  128   151.0    70.0    1079549\n",
      "12          13    Male   135  129  124   155.0    69.0     924059\n",
      "13          14  Female   140  120  147   155.0    70.5     856472\n",
      "14          15  Female    96  100   90   146.0    66.0     878897\n",
      "15          16  Female    83   71   96   135.0    68.0     865363\n",
      "16          17  Female   132  132  120   127.0    68.5     852244\n",
      "17          18    Male   100   96  102   178.0    73.5     945088\n",
      "18          19  Female   101  112   84   136.0    66.3     808020\n",
      "19          20    Male    80   77   86   180.0    70.0     889083\n",
      "20          21    Male    83   83   86     NaN     NaN     892420\n",
      "21          22    Male    97  107   84   186.0    76.5     905940\n",
      "22          23  Female   135  129  134   122.0    62.0     790619\n",
      "23          24    Male   139  145  128   132.0    68.0     955003\n",
      "24          25  Female    91   86  102   114.0    63.0     831772\n",
      "25          26    Male   141  145  131   171.0    72.0     935494\n",
      "26          27  Female    85   90   84   140.0    68.0     798612\n",
      "27          28    Male   103   96  110   187.0    77.0    1062462\n",
      "28          29  Female    77   83   72   106.0    63.0     793549\n",
      "29          30  Female   130  126  124   159.0    66.5     866662\n",
      "30          31  Female   133  126  132   127.0    62.5     857782\n",
      "31          32    Male   144  145  137   191.0    67.0     949589\n",
      "32          33    Male   103   96  110   192.0    75.5     997925\n",
      "33          34    Male    90   96   86   181.0    69.0     879987\n",
      "34          35  Female    83   90   81   143.0    66.5     834344\n",
      "35          36  Female   133  129  128   153.0    66.5     948066\n",
      "36          37    Male   140  150  124   144.0    70.5     949395\n",
      "37          38  Female    88   86   94   139.0    64.5     893983\n",
      "38          39    Male    81   90   74   148.0    74.0     930016\n",
      "39          40    Male    89   91   89   179.0    75.5     935863\n"
     ]
    }
   ],
   "source": [
    "data2 = pd.read_csv('brain_size.csv', sep =';',na_values=\".\") \n",
    "#sep seperates the data thru the element inside\n",
    "#na_values changes the values to NaN\n",
    "print(data2)"
   ]
  },
  {
   "cell_type": "code",
   "execution_count": 5,
   "metadata": {},
   "outputs": [
    {
     "data": {
      "text/plain": [
       "38"
      ]
     },
     "execution_count": 5,
     "metadata": {},
     "output_type": "execute_result"
    }
   ],
   "source": [
    "data2['Weight'].count()\n",
    "#counts number of defined values in dataframe for that specific collum"
   ]
  },
  {
   "cell_type": "code",
   "execution_count": 6,
   "metadata": {},
   "outputs": [
    {
     "data": {
      "text/html": [
       "<div>\n",
       "<style scoped>\n",
       "    .dataframe tbody tr th:only-of-type {\n",
       "        vertical-align: middle;\n",
       "    }\n",
       "\n",
       "    .dataframe tbody tr th {\n",
       "        vertical-align: top;\n",
       "    }\n",
       "\n",
       "    .dataframe thead th {\n",
       "        text-align: right;\n",
       "    }\n",
       "</style>\n",
       "<table border=\"1\" class=\"dataframe\">\n",
       "  <thead>\n",
       "    <tr style=\"text-align: right;\">\n",
       "      <th></th>\n",
       "      <th>FSIQ</th>\n",
       "      <th>VIQ</th>\n",
       "    </tr>\n",
       "  </thead>\n",
       "  <tbody>\n",
       "    <tr>\n",
       "      <td>25</td>\n",
       "      <td>141</td>\n",
       "      <td>145</td>\n",
       "    </tr>\n",
       "    <tr>\n",
       "      <td>26</td>\n",
       "      <td>85</td>\n",
       "      <td>90</td>\n",
       "    </tr>\n",
       "    <tr>\n",
       "      <td>27</td>\n",
       "      <td>103</td>\n",
       "      <td>96</td>\n",
       "    </tr>\n",
       "    <tr>\n",
       "      <td>28</td>\n",
       "      <td>77</td>\n",
       "      <td>83</td>\n",
       "    </tr>\n",
       "    <tr>\n",
       "      <td>29</td>\n",
       "      <td>130</td>\n",
       "      <td>126</td>\n",
       "    </tr>\n",
       "    <tr>\n",
       "      <td>30</td>\n",
       "      <td>133</td>\n",
       "      <td>126</td>\n",
       "    </tr>\n",
       "    <tr>\n",
       "      <td>31</td>\n",
       "      <td>144</td>\n",
       "      <td>145</td>\n",
       "    </tr>\n",
       "    <tr>\n",
       "      <td>32</td>\n",
       "      <td>103</td>\n",
       "      <td>96</td>\n",
       "    </tr>\n",
       "    <tr>\n",
       "      <td>33</td>\n",
       "      <td>90</td>\n",
       "      <td>96</td>\n",
       "    </tr>\n",
       "    <tr>\n",
       "      <td>34</td>\n",
       "      <td>83</td>\n",
       "      <td>90</td>\n",
       "    </tr>\n",
       "    <tr>\n",
       "      <td>35</td>\n",
       "      <td>133</td>\n",
       "      <td>129</td>\n",
       "    </tr>\n",
       "    <tr>\n",
       "      <td>36</td>\n",
       "      <td>140</td>\n",
       "      <td>150</td>\n",
       "    </tr>\n",
       "    <tr>\n",
       "      <td>37</td>\n",
       "      <td>88</td>\n",
       "      <td>86</td>\n",
       "    </tr>\n",
       "    <tr>\n",
       "      <td>38</td>\n",
       "      <td>81</td>\n",
       "      <td>90</td>\n",
       "    </tr>\n",
       "    <tr>\n",
       "      <td>39</td>\n",
       "      <td>89</td>\n",
       "      <td>91</td>\n",
       "    </tr>\n",
       "  </tbody>\n",
       "</table>\n",
       "</div>"
      ],
      "text/plain": [
       "    FSIQ  VIQ\n",
       "25   141  145\n",
       "26    85   90\n",
       "27   103   96\n",
       "28    77   83\n",
       "29   130  126\n",
       "30   133  126\n",
       "31   144  145\n",
       "32   103   96\n",
       "33    90   96\n",
       "34    83   90\n",
       "35   133  129\n",
       "36   140  150\n",
       "37    88   86\n",
       "38    81   90\n",
       "39    89   91"
      ]
     },
     "execution_count": 6,
     "metadata": {},
     "output_type": "execute_result"
    }
   ],
   "source": [
    "data2.iloc[25:40 , 2:4]\n",
    "#used for locating \n",
    "#Syntax : data.iloc[1strow : lastrow , 1stcollum: lastcollum ]"
   ]
  },
  {
   "cell_type": "code",
   "execution_count": 8,
   "metadata": {},
   "outputs": [
    {
     "name": "stdout",
     "output_type": "stream",
     "text": [
      "mean =  151.05263157894737\n",
      "std =  23.167521922341212\n",
      "median =  nan\n",
      "mode =  118.0\n",
      "max value =  192.0\n",
      "min value =  106.0\n",
      "range =  86.0\n",
      "25th percentile =  nan\n",
      "50th percentile =  nan\n",
      "75th percentile =  nan\n"
     ]
    },
    {
     "name": "stderr",
     "output_type": "stream",
     "text": [
      "c:\\users\\user\\appdata\\local\\programs\\python\\python37-32\\lib\\site-packages\\numpy\\lib\\function_base.py:3250: RuntimeWarning: Invalid value encountered in median\n",
      "  r = func(a, **kwargs)\n",
      "c:\\users\\user\\appdata\\local\\programs\\python\\python37-32\\lib\\site-packages\\numpy\\lib\\function_base.py:3652: RuntimeWarning: Invalid value encountered in percentile\n",
      "  interpolation=interpolation)\n"
     ]
    }
   ],
   "source": [
    "print(\"mean = \",np.mean(data2['Weight']))\n",
    "print(\"std = \", np.std(data2['Weight']))\n",
    "print(\"median = \",np.median(data2['Weight']))\n",
    "print(\"mode = \", stats.mode(data2['Weight'])[0][0])\n",
    "print(\"max value = \", max(data2['Weight']))\n",
    "print(\"min value = \", min(data2['Weight']))\n",
    "print(\"range = \", max(data2['Weight'])-min(data2['Weight']))\n",
    "print(\"25th percentile = \", np.percentile(data2['Weight'],25))\n",
    "print(\"50th percentile = \", np.percentile(data2['Weight'],50))\n",
    "print(\"75th percentile = \", np.percentile(data2['Weight'],75))"
   ]
  },
  {
   "cell_type": "code",
   "execution_count": 9,
   "metadata": {},
   "outputs": [
    {
     "name": "stdout",
     "output_type": "stream",
     "text": [
      "    Unnamed: 0  Gender  FSIQ  VIQ  PIQ      Weight     Height  MRI_Count\n",
      "0            1  Female   133  132  124  118.000000  64.500000     816932\n",
      "1            2    Male   140  150  124  151.052632  72.500000    1001121\n",
      "2            3    Male   139  123  150  143.000000  73.300000    1038437\n",
      "3            4    Male   133  129  128  172.000000  68.800000     965353\n",
      "4            5  Female   137  132  134  147.000000  65.000000     951545\n",
      "5            6  Female    99   90  110  146.000000  69.000000     928799\n",
      "6            7  Female   138  136  131  138.000000  64.500000     991305\n",
      "7            8  Female    92   90   98  175.000000  66.000000     854258\n",
      "8            9    Male    89   93   84  134.000000  66.300000     904858\n",
      "9           10    Male   133  114  147  172.000000  68.800000     955466\n",
      "10          11  Female   132  129  124  118.000000  64.500000     833868\n",
      "11          12    Male   141  150  128  151.000000  70.000000    1079549\n",
      "12          13    Male   135  129  124  155.000000  69.000000     924059\n",
      "13          14  Female   140  120  147  155.000000  70.500000     856472\n",
      "14          15  Female    96  100   90  146.000000  66.000000     878897\n",
      "15          16  Female    83   71   96  135.000000  68.000000     865363\n",
      "16          17  Female   132  132  120  127.000000  68.500000     852244\n",
      "17          18    Male   100   96  102  178.000000  73.500000     945088\n",
      "18          19  Female   101  112   84  136.000000  66.300000     808020\n",
      "19          20    Male    80   77   86  180.000000  70.000000     889083\n",
      "20          21    Male    83   83   86  151.052632  68.525641     892420\n",
      "21          22    Male    97  107   84  186.000000  76.500000     905940\n",
      "22          23  Female   135  129  134  122.000000  62.000000     790619\n",
      "23          24    Male   139  145  128  132.000000  68.000000     955003\n",
      "24          25  Female    91   86  102  114.000000  63.000000     831772\n",
      "25          26    Male   141  145  131  171.000000  72.000000     935494\n",
      "26          27  Female    85   90   84  140.000000  68.000000     798612\n",
      "27          28    Male   103   96  110  187.000000  77.000000    1062462\n",
      "28          29  Female    77   83   72  106.000000  63.000000     793549\n",
      "29          30  Female   130  126  124  159.000000  66.500000     866662\n",
      "30          31  Female   133  126  132  127.000000  62.500000     857782\n",
      "31          32    Male   144  145  137  191.000000  67.000000     949589\n",
      "32          33    Male   103   96  110  192.000000  75.500000     997925\n",
      "33          34    Male    90   96   86  181.000000  69.000000     879987\n",
      "34          35  Female    83   90   81  143.000000  66.500000     834344\n",
      "35          36  Female   133  129  128  153.000000  66.500000     948066\n",
      "36          37    Male   140  150  124  144.000000  70.500000     949395\n",
      "37          38  Female    88   86   94  139.000000  64.500000     893983\n",
      "38          39    Male    81   90   74  148.000000  74.000000     930016\n",
      "39          40    Male    89   91   89  179.000000  75.500000     935863\n"
     ]
    }
   ],
   "source": [
    "#to fix the problem of nan, the values filed in are the average\n",
    "data2['Weight']=data2['Weight'].fillna(np.mean(data2['Weight']))\n",
    "data2['Height']=data2['Height'].fillna(np.mean(data2['Height']))\n",
    "print(data2)"
   ]
  },
  {
   "cell_type": "code",
   "execution_count": 10,
   "metadata": {},
   "outputs": [
    {
     "name": "stdout",
     "output_type": "stream",
     "text": [
      "mean =  151.05263157894737\n",
      "std =  22.580907165591302\n",
      "median =  147.5\n",
      "mode =  118.0\n",
      "max value =  192.0\n",
      "min value =  106.0\n",
      "range =  86.0\n",
      "25th percentile =  135.75\n",
      "50th percentile =  147.5\n",
      "75th percentile =  172.0\n"
     ]
    }
   ],
   "source": [
    "print(\"mean = \",np.mean(data2['Weight']))\n",
    "print(\"std = \", np.std(data2['Weight']))\n",
    "print(\"median = \",np.median(data2['Weight']))\n",
    "print(\"mode = \", stats.mode(data2['Weight'])[0][0])\n",
    "print(\"max value = \", max(data2['Weight']))\n",
    "print(\"min value = \", min(data2['Weight']))\n",
    "print(\"range = \", max(data2['Weight'])-min(data2['Weight']))\n",
    "print(\"25th percentile = \", np.percentile(data2['Weight'],25))\n",
    "print(\"50th percentile = \", np.percentile(data2['Weight'],50))\n",
    "print(\"75th percentile = \", np.percentile(data2['Weight'],75))"
   ]
  },
  {
   "cell_type": "code",
   "execution_count": 11,
   "metadata": {},
   "outputs": [
    {
     "name": "stdout",
     "output_type": "stream",
     "text": [
      "mean =  68.52564102564102\n",
      "std =  3.893502147727541\n",
      "median =  68.25\n",
      "mode =  64.5\n",
      "max value =  77.0\n",
      "min value =  62.0\n",
      "range =  15.0\n",
      "25th percentile =  66.0\n",
      "50th percentile =  68.25\n",
      "75th percentile =  70.5\n"
     ]
    }
   ],
   "source": [
    "print(\"mean = \",np.mean(data2['Height']))\n",
    "print(\"std = \", np.std(data2['Height']))\n",
    "print(\"median = \",np.median(data2['Height']))\n",
    "print(\"mode = \", stats.mode(data2['Height'])[0][0])\n",
    "print(\"max value = \", max(data2['Height']))\n",
    "print(\"min value = \", min(data2['Height']))\n",
    "print(\"range = \", max(data2['Height'])-min(data2['Height']))\n",
    "print(\"25th percentile = \", np.percentile(data2['Height'],25))\n",
    "print(\"50th percentile = \", np.percentile(data2['Height'],50))\n",
    "print(\"75th percentile = \", np.percentile(data2['Height'],75))"
   ]
  },
  {
   "cell_type": "markdown",
   "metadata": {},
   "source": [
    "# project3\n",
    "\n",
    "there is a simple command for dataset statistic that is .describe() \n",
    "use this library for two data set.\n",
    "\n"
   ]
  },
  {
   "cell_type": "code",
   "execution_count": 12,
   "metadata": {},
   "outputs": [
    {
     "name": "stdout",
     "output_type": "stream",
     "text": [
      "          alcohol\n",
      "count  191.000000\n",
      "mean     6.208377\n",
      "std      4.141527\n",
      "min      0.100000\n",
      "25%      2.600000\n",
      "50%      6.400000\n",
      "75%      9.200000\n",
      "max     17.500000\n"
     ]
    }
   ],
   "source": [
    "print(data.describe())"
   ]
  },
  {
   "cell_type": "code",
   "execution_count": 13,
   "metadata": {},
   "outputs": [
    {
     "data": {
      "text/html": [
       "<div>\n",
       "<style scoped>\n",
       "    .dataframe tbody tr th:only-of-type {\n",
       "        vertical-align: middle;\n",
       "    }\n",
       "\n",
       "    .dataframe tbody tr th {\n",
       "        vertical-align: top;\n",
       "    }\n",
       "\n",
       "    .dataframe thead th {\n",
       "        text-align: right;\n",
       "    }\n",
       "</style>\n",
       "<table border=\"1\" class=\"dataframe\">\n",
       "  <thead>\n",
       "    <tr style=\"text-align: right;\">\n",
       "      <th></th>\n",
       "      <th>Unnamed: 0</th>\n",
       "      <th>FSIQ</th>\n",
       "      <th>VIQ</th>\n",
       "      <th>PIQ</th>\n",
       "      <th>Weight</th>\n",
       "      <th>Height</th>\n",
       "      <th>MRI_Count</th>\n",
       "    </tr>\n",
       "  </thead>\n",
       "  <tbody>\n",
       "    <tr>\n",
       "      <td>count</td>\n",
       "      <td>40.000000</td>\n",
       "      <td>40.000000</td>\n",
       "      <td>40.000000</td>\n",
       "      <td>40.00000</td>\n",
       "      <td>40.000000</td>\n",
       "      <td>40.000000</td>\n",
       "      <td>4.000000e+01</td>\n",
       "    </tr>\n",
       "    <tr>\n",
       "      <td>mean</td>\n",
       "      <td>20.500000</td>\n",
       "      <td>113.450000</td>\n",
       "      <td>112.350000</td>\n",
       "      <td>111.02500</td>\n",
       "      <td>151.052632</td>\n",
       "      <td>68.525641</td>\n",
       "      <td>9.087550e+05</td>\n",
       "    </tr>\n",
       "    <tr>\n",
       "      <td>std</td>\n",
       "      <td>11.690452</td>\n",
       "      <td>24.082071</td>\n",
       "      <td>23.616107</td>\n",
       "      <td>22.47105</td>\n",
       "      <td>22.868574</td>\n",
       "      <td>3.943103</td>\n",
       "      <td>7.228205e+04</td>\n",
       "    </tr>\n",
       "    <tr>\n",
       "      <td>min</td>\n",
       "      <td>1.000000</td>\n",
       "      <td>77.000000</td>\n",
       "      <td>71.000000</td>\n",
       "      <td>72.00000</td>\n",
       "      <td>106.000000</td>\n",
       "      <td>62.000000</td>\n",
       "      <td>7.906190e+05</td>\n",
       "    </tr>\n",
       "    <tr>\n",
       "      <td>25%</td>\n",
       "      <td>10.750000</td>\n",
       "      <td>89.750000</td>\n",
       "      <td>90.000000</td>\n",
       "      <td>88.25000</td>\n",
       "      <td>135.750000</td>\n",
       "      <td>66.000000</td>\n",
       "      <td>8.559185e+05</td>\n",
       "    </tr>\n",
       "    <tr>\n",
       "      <td>50%</td>\n",
       "      <td>20.500000</td>\n",
       "      <td>116.500000</td>\n",
       "      <td>113.000000</td>\n",
       "      <td>115.00000</td>\n",
       "      <td>147.500000</td>\n",
       "      <td>68.250000</td>\n",
       "      <td>9.053990e+05</td>\n",
       "    </tr>\n",
       "    <tr>\n",
       "      <td>75%</td>\n",
       "      <td>30.250000</td>\n",
       "      <td>135.500000</td>\n",
       "      <td>129.750000</td>\n",
       "      <td>128.00000</td>\n",
       "      <td>172.000000</td>\n",
       "      <td>70.500000</td>\n",
       "      <td>9.500780e+05</td>\n",
       "    </tr>\n",
       "    <tr>\n",
       "      <td>max</td>\n",
       "      <td>40.000000</td>\n",
       "      <td>144.000000</td>\n",
       "      <td>150.000000</td>\n",
       "      <td>150.00000</td>\n",
       "      <td>192.000000</td>\n",
       "      <td>77.000000</td>\n",
       "      <td>1.079549e+06</td>\n",
       "    </tr>\n",
       "  </tbody>\n",
       "</table>\n",
       "</div>"
      ],
      "text/plain": [
       "       Unnamed: 0        FSIQ         VIQ        PIQ      Weight     Height  \\\n",
       "count   40.000000   40.000000   40.000000   40.00000   40.000000  40.000000   \n",
       "mean    20.500000  113.450000  112.350000  111.02500  151.052632  68.525641   \n",
       "std     11.690452   24.082071   23.616107   22.47105   22.868574   3.943103   \n",
       "min      1.000000   77.000000   71.000000   72.00000  106.000000  62.000000   \n",
       "25%     10.750000   89.750000   90.000000   88.25000  135.750000  66.000000   \n",
       "50%     20.500000  116.500000  113.000000  115.00000  147.500000  68.250000   \n",
       "75%     30.250000  135.500000  129.750000  128.00000  172.000000  70.500000   \n",
       "max     40.000000  144.000000  150.000000  150.00000  192.000000  77.000000   \n",
       "\n",
       "          MRI_Count  \n",
       "count  4.000000e+01  \n",
       "mean   9.087550e+05  \n",
       "std    7.228205e+04  \n",
       "min    7.906190e+05  \n",
       "25%    8.559185e+05  \n",
       "50%    9.053990e+05  \n",
       "75%    9.500780e+05  \n",
       "max    1.079549e+06  "
      ]
     },
     "execution_count": 13,
     "metadata": {},
     "output_type": "execute_result"
    }
   ],
   "source": [
    "data2.describe()"
   ]
  }
 ],
 "metadata": {
  "kernelspec": {
   "display_name": "Python 3",
   "language": "python",
   "name": "python3"
  },
  "language_info": {
   "codemirror_mode": {
    "name": "ipython",
    "version": 3
   },
   "file_extension": ".py",
   "mimetype": "text/x-python",
   "name": "python",
   "nbconvert_exporter": "python",
   "pygments_lexer": "ipython3",
   "version": "3.7.3"
  }
 },
 "nbformat": 4,
 "nbformat_minor": 2
}
