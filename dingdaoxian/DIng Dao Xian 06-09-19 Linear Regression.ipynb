{
 "cells": [
  {
   "cell_type": "markdown",
   "metadata": {},
   "source": [
    "## <b>2.0 The manual steps to find the <font color=\"orangered\">Linear Regression for x on y:</font>"
   ]
  },
  {
   "cell_type": "markdown",
   "metadata": {},
   "source": [
    "\n",
    "<font size =4 >1. You have to build the <b>new equation </b>which consists of the least error values </font>\n",
    "\n",
    "<font size =4 >2. So, find the <b>new slope (B)</b></font>\n",
    "\n",
    "## $$ B = \\frac {n\\sum xy - \\sum x \\sum y} { n\\sum x^2 - (\\sum x)^2} $$ \n",
    "\n",
    "<font size =4 >3. Then, calculate the <b>y-intercept </b></font>\n",
    "\n",
    "## $$ A = \\frac {n\\sum y - B\\sum x} { n} $$\n",
    "\n",
    "<font size =4>So, in order to calculate the values of B and A, you first need :</font>\n",
    "## $x^2$, $y^2$, $xy$\n",
    "## $\\sum x$, $\\sum y$, $\\sum x^2$, $\\sum y^2$, $\\sum xy$<br>\n"
   ]
  },
  {
   "cell_type": "markdown",
   "metadata": {},
   "source": [
    "## 3.0 Finding Linear Regression equation <font color=\"deeppink\">using Python.</font>"
   ]
  },
  {
   "cell_type": "code",
   "execution_count": 1,
   "metadata": {},
   "outputs": [],
   "source": [
    "import numpy as np\n",
    "import matplotlib.pyplot as plt\n",
    "\n",
    "x= np.arange(0,10,0.1)   # generate random value of x\n",
    "y= (x*2) + (np.random.normal(0,1,len(x))*3)   # generate random value of x\n",
    "\n",
    "plt.xlabel('X')\n",
    "plt.ylabel('Y')\n",
    "plt.scatter(x,y)\n",
    "\n",
    "## Step 1\n",
    "xy=[]\n",
    "x2=[]\n",
    "y2=[]   # create an empty list for each of the new column\n",
    "\n",
    "for m in range(len(x)):\n",
    "    ab = x[m] * y[m]   # calculate x*y\n",
    "    xy.append(ab)      # append each value of x*y into the list\n",
    "# print(\"xy: \"+ str(xy))\n",
    "\n",
    "for i in x:\n",
    "    a= i**2        # calculate x power of 2\n",
    "    x2.append(a)   # append each value of x^2 into the list\n",
    "# print(\"x2: \"+ str(x2))\n",
    "\n",
    "for j in y:\n",
    "    b= j**2        # calculate y power of 2\n",
    "    y2.append(b)   # append each value of y^2 into the list\n",
    "# print(\"y2: \"+ str(y2))\n",
    "\n"
   ]
  },
  {
   "cell_type": "code",
   "execution_count": 2,
   "metadata": {},
   "outputs": [
    {
     "name": "stdout",
     "output_type": "stream",
     "text": [
      "Sum of x: 495.0\n",
      "Sum of y: 984.5118093404421\n",
      "Sum of xy: 6598.43023534726\n",
      "Sum of x2: 3283.5000000000005\n",
      "Sum of y2: 14329.767607174013\n"
     ]
    }
   ],
   "source": [
    "## Step 2\n",
    "\n",
    "nX=0\n",
    "nY=0\n",
    "nXY=0\n",
    "nX2=0\n",
    "nY2=0   # initialize the sum of each column as 0\n",
    "\n",
    "for i in x:\n",
    "    nX += i   # calculate sum of x\n",
    "print(\"Sum of x: \"+str(nX))   \n",
    "\n",
    "\n",
    "for j in y:\n",
    "    nY += j   # calculate sum of y\n",
    "print(\"Sum of y: \"+str(nY))\n",
    "\n",
    "\n",
    "for k in xy:\n",
    "    nXY += k   # calculate sum of xy\n",
    "print(\"Sum of xy: \"+str(nXY))\n",
    "\n",
    "\n",
    "for m in x2:\n",
    "    nX2 += m   # calculate sum of x2\n",
    "print(\"Sum of x2: \"+str(nX2))\n",
    "\n",
    "\n",
    "for n in y2:   \n",
    "    nY2 += n   # calculate sum of y2\n",
    "print(\"Sum of y2: \"+str(nY2))"
   ]
  },
  {
   "cell_type": "markdown",
   "metadata": {},
   "source": [
    "## <font color='blue'>STEP 3:</font>\n",
    "\n",
    "<font size =4>Using the following formula, calculate the value of $B$ (slope). Note that $n$ is the sample size (number of item) of the table. Make sure you translate the formula correctly for the calculation. </font>\n",
    "\n",
    "## $$ B = \\frac {n\\sum xy - \\sum x \\sum y} { n\\sum x^2 - (\\sum x)^2} $$\n",
    "\n",
    "<font size =4>Then, calculate the value of $A$ (intercept) using the formula which consists of $B$ that we calculated before. </font> \n",
    "\n",
    "## $$ A = \\frac {n\\sum y - B\\sum x} { n} $$\n"
   ]
  },
  {
   "cell_type": "code",
   "execution_count": 3,
   "metadata": {},
   "outputs": [
    {
     "name": "stdout",
     "output_type": "stream",
     "text": [
      "B (slope)    : 2.0703231672512095\n",
      "A (intercept): -0.40298158448906635\n"
     ]
    }
   ],
   "source": [
    "## Step 3\n",
    "n= len(x)\n",
    "\n",
    "B= 0   # initialize B and A to 0\n",
    "A= 0\n",
    "\n",
    "B = ((n*nXY) - (nX*nY)) / (n*nX2 - (nX**2))\n",
    "A = ((nY) - B*(nX)) / n  # Translate the formula into calculation for A and B\n",
    "\n",
    "print(\"B (slope)    : \"+str(B))\n",
    "print(\"A (intercept): \"+str(A))\n"
   ]
  },
  {
   "cell_type": "markdown",
   "metadata": {},
   "source": [
    "## <font color='blue'>STEP 4:</font>\n",
    "<font size =4>Insert the values into the equation: </font>\n",
    "## $y = A + Bx$\n",
    "<font size =4> You can use for loop to generate the new $y$, for each value of $x$ to form the linear regression line. Store the value of new $y$ inside a list as we want to use it later on. </font>"
   ]
  },
  {
   "cell_type": "code",
   "execution_count": 4,
   "metadata": {},
   "outputs": [],
   "source": [
    "## Step 4\n",
    "\n",
    "Y= []\n",
    "for i in range(n):\n",
    "    y0=  A + (B*x[i]) \n",
    "#     y0= A + B*x[i]\n",
    "    Y.append(y0)\n",
    "# print(Y)"
   ]
  },
  {
   "cell_type": "markdown",
   "metadata": {},
   "source": [
    "## <font color='blue'>STEP 5:</font>\n",
    "## Use 'plot(x, y)' function from matplotlib to form the linear regression line."
   ]
  },
  {
   "cell_type": "code",
   "execution_count": 5,
   "metadata": {},
   "outputs": [
    {
     "data": {
      "text/plain": [
       "[<matplotlib.lines.Line2D at 0x7fe4a146e128>]"
      ]
     },
     "execution_count": 5,
     "metadata": {},
     "output_type": "execute_result"
    },
    {
     "data": {
      "image/png": "[encoded data removed]",
      "text/plain": [
       "<Figure size 432x288 with 1 Axes>"
      ]
     },
     "metadata": {
      "needs_background": "light"
     },
     "output_type": "display_data"
    }
   ],
   "source": [
    "plt.xlabel('X')\n",
    "plt.ylabel('Y')\n",
    "plt.scatter(x,y)\n",
    "plt.plot(x,Y, c=\"red\")"
   ]
  },
  {
   "cell_type": "markdown",
   "metadata": {},
   "source": [
    "## 3.1 <font color=\"deeppink\">Using Python libraries</font> to Construct Linear Regression Equation and Line"
   ]
  },
  {
   "cell_type": "code",
   "execution_count": 6,
   "metadata": {},
   "outputs": [],
   "source": [
    "import numpy as np\n",
    "import matplotlib.pyplot as plt\n",
    "from sklearn.linear_model import LinearRegression"
   ]
  },
  {
   "cell_type": "markdown",
   "metadata": {},
   "source": [
    "## <font color='orchid'>STEP 2:</font>\n",
    "\n",
    "<font size =4>Store your data inside a list. In this case, we generate formula data by using <b>arange()</b> function from numpy\n",
    "</font>"
   ]
  },
  {
   "cell_type": "code",
   "execution_count": 7,
   "metadata": {},
   "outputs": [],
   "source": [
    "x= np.arange(0,10,0.1)\n",
    "# generate data of x from 1-10 with difference of 0.1 between each data\n",
    "\n",
    "y= 1 + (x*2) + (np.random.normal(0,1,len(x))*3)\n",
    "# generate y based on x value using y=A + Bx + random noise (to make more realistic data)\n"
   ]
  },
  {
   "cell_type": "markdown",
   "metadata": {},
   "source": [
    "## <font color='orchid'>STEP 3:</font>\n",
    "\n",
    "<font size =4> Plot the scattered (random) data by using <b>scatter()</b> function from matplotlib</font>"
   ]
  },
  {
   "cell_type": "code",
   "execution_count": 8,
   "metadata": {},
   "outputs": [
    {
     "data": {
      "text/plain": [
       "<matplotlib.collections.PathCollection at 0x7fe49c35a7b8>"
      ]
     },
     "execution_count": 8,
     "metadata": {},
     "output_type": "execute_result"
    },
    {
     "data": {
      "image/png": "[encoded data removed]",
      "text/plain": [
       "<Figure size 432x288 with 1 Axes>"
      ]
     },
     "metadata": {
      "needs_background": "light"
     },
     "output_type": "display_data"
    }
   ],
   "source": [
    "plt.xlabel('X')\n",
    "plt.ylabel('Y')   # label the axis\n",
    "\n",
    "plt.scatter(x,y)\n",
    "# plot the points of each (x,y)"
   ]
  },
  {
   "cell_type": "markdown",
   "metadata": {},
   "source": [
    "## <font color='orchid'> TRUE START :STEP 4:</font>\n",
    "<font size =4> Transform data into column vector by inserting new axis by using <b>newaxis</b> function from numpy.</font>\n"
   ]
  },
  {
   "cell_type": "code",
   "execution_count": 9,
   "metadata": {},
   "outputs": [],
   "source": [
    "x= x[:, np.newaxis]\n",
    "y= y[:, np.newaxis]\n",
    "# transform data into column vector by inserting new axis"
   ]
  },
  {
   "cell_type": "markdown",
   "metadata": {},
   "source": [
    "## <font color='orchid'>STEP 5:</font>\n",
    "<font size =4> Introduce <b>LinearRegression</b> function to a variable </font>\n"
   ]
  },
  {
   "cell_type": "code",
   "execution_count": 10,
   "metadata": {},
   "outputs": [],
   "source": [
    "model= LinearRegression(fit_intercept= True)   # if false, the y intercept will always be 1\n",
    "# import linearRegression module from sklearn"
   ]
  },
  {
   "cell_type": "markdown",
   "metadata": {},
   "source": [
    "## <font color='orchid'>STEP 6:</font>\n",
    "<font size =4>Use <b>fit(x,y)</b> function to fit the line into scattered data. </font>"
   ]
  },
  {
   "cell_type": "code",
   "execution_count": 11,
   "metadata": {},
   "outputs": [
    {
     "data": {
      "text/plain": [
       "LinearRegression(copy_X=True, fit_intercept=True, n_jobs=None,\n",
       "         normalize=False)"
      ]
     },
     "execution_count": 11,
     "metadata": {},
     "output_type": "execute_result"
    }
   ],
   "source": [
    "model.fit(x,y)\n"
   ]
  },
  {
   "cell_type": "markdown",
   "metadata": {},
   "source": [
    "## <font color='orchid'>STEP 7:</font>\n",
    "<font size =4> Use <b>predict(x)</b> function to find the value of estimated y based on x, then plot the line using <b>plot()</b> function from matplotlib. </font>\n"
   ]
  },
  {
   "cell_type": "code",
   "execution_count": 12,
   "metadata": {},
   "outputs": [
    {
     "data": {
      "text/plain": [
       "[<matplotlib.lines.Line2D at 0x7fe49c3455c0>]"
      ]
     },
     "execution_count": 12,
     "metadata": {},
     "output_type": "execute_result"
    },
    {
     "data": {
      "image/png": "[encoded data removed]",
      "text/plain": [
       "<Figure size 432x288 with 1 Axes>"
      ]
     },
     "metadata": {
      "needs_background": "light"
     },
     "output_type": "display_data"
    }
   ],
   "source": [
    "plt.xlabel('X')\n",
    "plt.ylabel('Y')   # label the axis\n",
    "\n",
    "plt.scatter(x,y)\n",
    "# plot the points of each (x,y)\n",
    "y_pred = model.predict(x)\n",
    "plt.plot(x, y_pred, color='r')"
   ]
  },
  {
   "cell_type": "markdown",
   "metadata": {},
   "source": [
    "## 4.0 <font color=\"deeppink\">Questions</font> about Linear Regression\n",
    "## <font color='palevioletred'>Part 1: Linear Regression with normal calculation.</font>"
   ]
  },
  {
   "cell_type": "markdown",
   "metadata": {},
   "source": [
    "<font size =4> Table 1 below shows the amount hours spent for study and the mark achieved by students based on their hours of studying. Find regresssion line.</font>"
   ]
  },
  {
   "cell_type": "code",
   "execution_count": 19,
   "metadata": {},
   "outputs": [
    {
     "data": {
      "image/png": "[encoded data removed]",
      "text/plain": [
       "<Figure size 432x288 with 1 Axes>"
      ]
     },
     "metadata": {
      "needs_background": "light"
     },
     "output_type": "display_data"
    }
   ],
   "source": [
    "import pandas as pd\n",
    "import numpy as np\n",
    "import matplotlib.pyplot as plt\n",
    "\n",
    "a= [2,3,4,4.5,5,6,6.5,8,8.5,9,9.5,10]\n",
    "b= [44,50,60,54,65,73,81,89,84,90,103,120]\n",
    "\n",
    "a= np.array(a)\n",
    "b= np.array(b)\n",
    "\n",
    "df = pd.DataFrame(a, columns = ['Number of hours (x)']); df['Marks achieved in examination (y)'] = b\n",
    "df.style.set_properties(**{'text-align':'center'})\n",
    "plt.scatter(a,b)\n",
    "plt.show()"
   ]
  },
  {
   "cell_type": "code",
   "execution_count": 22,
   "metadata": {},
   "outputs": [
    {
     "data": {
      "text/plain": [
       "[<matplotlib.lines.Line2D at 0x7fe489e1e208>]"
      ]
     },
     "execution_count": 22,
     "metadata": {},
     "output_type": "execute_result"
    },
    {
     "data": {
      "image/png": "[encoded data removed]",
      "text/plain": [
       "<Figure size 432x288 with 1 Axes>"
      ]
     },
     "metadata": {
      "needs_background": "light"
     },
     "output_type": "display_data"
    }
   ],
   "source": [
    "from sklearn.linear_model import LinearRegression\n",
    "\n",
    "#Scatter plot\n",
    "plt.scatter(a,b)\n",
    "\n",
    "#Regression line\n",
    "x1= a[:, np.newaxis] \n",
    "y1= b[:, np.newaxis]\n",
    "\n",
    "model= LinearRegression(fit_intercept= True)\n",
    "model.fit(x1,y1)\n",
    "y_pred = model.predict(x1)\n",
    "plt.plot(x1, y_pred, color='r')"
   ]
  },
  {
   "cell_type": "code",
   "execution_count": 29,
   "metadata": {},
   "outputs": [
    {
     "name": "stdout",
     "output_type": "stream",
     "text": [
      " \n",
      "8.169 x + 24.34\n"
     ]
    },
    {
     "data": {
      "text/plain": [
       "[<matplotlib.lines.Line2D at 0x7fe489ba3588>]"
      ]
     },
     "execution_count": 29,
     "metadata": {},
     "output_type": "execute_result"
    },
    {
     "data": {
      "image/png": "[encoded data removed]",
      "text/plain": [
       "<Figure size 432x288 with 1 Axes>"
      ]
     },
     "metadata": {
      "needs_background": "light"
     },
     "output_type": "display_data"
    }
   ],
   "source": [
    "#Computer generated findings \n",
    "plt.scatter(a,b)\n",
    "\n",
    "\n",
    "equation = np.poly1d(np.polyfit(a, b, 1))\n",
    "print(equation)\n",
    "A = a\n",
    "B = [equation(i) for i in a]\n",
    "plt.plot(A,B , \"g\")\n"
   ]
  },
  {
   "cell_type": "code",
   "execution_count": 32,
   "metadata": {},
   "outputs": [
    {
     "data": {
      "text/plain": [
       "[<matplotlib.lines.Line2D at 0x7fe489f2e208>]"
      ]
     },
     "execution_count": 32,
     "metadata": {},
     "output_type": "execute_result"
    },
    {
     "data": {
      "image/png": "[encoded data removed]",
      "text/plain": [
       "<Figure size 432x288 with 1 Axes>"
      ]
     },
     "metadata": {
      "needs_background": "light"
     },
     "output_type": "display_data"
    }
   ],
   "source": [
    "#Comparison\n",
    "\n",
    "plt.scatter(a,b)\n",
    "\n",
    "#Computer\n",
    "A = a\n",
    "B = [equation(i) for i in a]\n",
    "plt.plot(A,B , \"g\")\n",
    "\n",
    "#LInear REg\n",
    "x1= a[:, np.newaxis] \n",
    "y1= b[:, np.newaxis]\n",
    "\n",
    "model= LinearRegression(fit_intercept= True)\n",
    "model.fit(x1,y1)\n",
    "y_pred = model.predict(x1)\n",
    "plt.plot(x1, y_pred, color='r')"
   ]
  },
  {
   "cell_type": "code",
   "execution_count": null,
   "metadata": {},
   "outputs": [],
   "source": []
  },
  {
   "cell_type": "markdown",
   "metadata": {},
   "source": [
    "### hence same line"
   ]
  },
  {
   "cell_type": "code",
   "execution_count": null,
   "metadata": {},
   "outputs": [],
   "source": []
  },
  {
   "cell_type": "markdown",
   "metadata": {},
   "source": [
    "# Log-Log models"
   ]
  },
  {
   "cell_type": "markdown",
   "metadata": {},
   "source": [
    "<ol>\n",
    "    <li> Often used for equations in form y=Ax^B </li>\n",
    "    <li> Can be used to change into ln|Y| = ln|A| + Bln|x| </li>\n",
    "    <li> So for ln|Y| against ln|x|\n",
    "        <ul>\n",
    "            <li> gradient = B , y-intercept = ln|A| </li>"
   ]
  },
  {
   "cell_type": "code",
   "execution_count": null,
   "metadata": {},
   "outputs": [],
   "source": []
  }
 ],
 "metadata": {
  "kernelspec": {
   "display_name": "Python 3",
   "language": "python",
   "name": "python3"
  },
  "language_info": {
   "codemirror_mode": {
    "name": "ipython",
    "version": 3
   },
   "file_extension": ".py",
   "mimetype": "text/x-python",
   "name": "python",
   "nbconvert_exporter": "python",
   "pygments_lexer": "ipython3",
   "version": "3.7.3"
  }
 },
 "nbformat": 4,
 "nbformat_minor": 2
}
