{
 "cells": [
  {
   "cell_type": "markdown",
   "metadata": {},
   "source": [
    "### LEGB rule "
   ]
  },
  {
   "cell_type": "code",
   "execution_count": 2,
   "metadata": {},
   "outputs": [],
   "source": [
    "# L : Local variable : names assign within a function and not declared global\n",
    "# E : enclosing function variable : names in any function within another function\n",
    "# g : global variable :names assign at the top level of a module file or declared global\n",
    "# B : built in variable : Syntax"
   ]
  },
  {
   "cell_type": "markdown",
   "metadata": {},
   "source": [
    "#### Local"
   ]
  },
  {
   "cell_type": "code",
   "execution_count": 2,
   "metadata": {},
   "outputs": [
    {
     "data": {
      "text/plain": [
       "<function __main__.<lambda>(num)>"
      ]
     },
     "execution_count": 2,
     "metadata": {},
     "output_type": "execute_result"
    }
   ],
   "source": [
    "lambda num : num**2\n",
    "# num is a local variable in function lambda"
   ]
  },
  {
   "cell_type": "markdown",
   "metadata": {},
   "source": [
    "#### Enclosing "
   ]
  },
  {
   "cell_type": "code",
   "execution_count": 3,
   "metadata": {},
   "outputs": [
    {
     "name": "stdout",
     "output_type": "stream",
     "text": [
      "DEF\n"
     ]
    }
   ],
   "source": [
    "name = \"ABC\"\n",
    "\n",
    "def f():\n",
    "    name = \"DEF\"\n",
    "    \n",
    "    def h():\n",
    "        print(name)\n",
    "    h()\n",
    "\n",
    "f()"
   ]
  },
  {
   "cell_type": "code",
   "execution_count": 1,
   "metadata": {},
   "outputs": [
    {
     "name": "stdout",
     "output_type": "stream",
     "text": [
      "DEF\n"
     ]
    }
   ],
   "source": [
    "#3. since name \"ABC\" is a global function, \"DEF\" is writen instead of \"ABC\"\n",
    "name = \"ABC\"\n",
    "\n",
    "def f():\n",
    "    #2. since name is defined here, the name \"DEF\" is an enclosing function variable\n",
    "    name = \"DEF\"\n",
    "    \n",
    "    def h():\n",
    "        # 1. since there is no namewithin h(), there is no local variable\n",
    "        print(name)\n",
    "    h()\n",
    "\n",
    "f()"
   ]
  },
  {
   "cell_type": "code",
   "execution_count": 1,
   "metadata": {},
   "outputs": [
    {
     "name": "stdout",
     "output_type": "stream",
     "text": [
      "DEF\n"
     ]
    }
   ],
   "source": [
    "#GLOBAL name\n",
    "name = \"ABC\"\n",
    "\n",
    "def f():\n",
    "    #ENCLOSING name\n",
    "    name = \"DEF\"\n",
    "    \n",
    "    def h():\n",
    "        #LOCAL name\n",
    "        print(name)\n",
    "    h()\n",
    "\n",
    "f()"
   ]
  },
  {
   "cell_type": "markdown",
   "metadata": {},
   "source": [
    "#### Global"
   ]
  },
  {
   "cell_type": "code",
   "execution_count": 1,
   "metadata": {},
   "outputs": [
    {
     "name": "stdout",
     "output_type": "stream",
     "text": [
      "3\n",
      "2\n"
     ]
    }
   ],
   "source": [
    "# 2. a = 3 is a global level\n",
    "a = 3\n",
    "def f():\n",
    "    # 1. a=2 is at a local level\n",
    "    a = 2\n",
    "    return a\n",
    "\n",
    "f()\n",
    "print(a)\n",
    "print(f())\n",
    "# a local or enclosing level does not affect a global level"
   ]
  },
  {
   "cell_type": "markdown",
   "metadata": {},
   "source": [
    "##### Examples"
   ]
  },
  {
   "cell_type": "code",
   "execution_count": 1,
   "metadata": {},
   "outputs": [
    {
     "name": "stdout",
     "output_type": "stream",
     "text": [
      "Result One\n"
     ]
    }
   ],
   "source": [
    "q = 0\n",
    "w = 0\n",
    "\n",
    "def fun():\n",
    "    # A code can run because q and w are global variable that is found\n",
    "    if q == 0 and w == 0:\n",
    "        print(\"Result One\")\n",
    "fun()"
   ]
  },
  {
   "cell_type": "code",
   "execution_count": 1,
   "metadata": {},
   "outputs": [
    {
     "ename": "UnboundLocalError",
     "evalue": "local variable 'q' referenced before assignment",
     "output_type": "error",
     "traceback": [
      "\u001b[1;31m---------------------------------------------------------------------------\u001b[0m",
      "\u001b[1;31mUnboundLocalError\u001b[0m                         Traceback (most recent call last)",
      "\u001b[1;32m<ipython-input-1-664dc792d51f>\u001b[0m in \u001b[0;36m<module>\u001b[1;34m\u001b[0m\n\u001b[0;32m     10\u001b[0m     \u001b[1;31m# which results in error\u001b[0m\u001b[1;33m\u001b[0m\u001b[1;33m\u001b[0m\u001b[1;33m\u001b[0m\u001b[0m\n\u001b[0;32m     11\u001b[0m     \u001b[0mq\u001b[0m \u001b[1;33m=\u001b[0m \u001b[1;36m2\u001b[0m\u001b[1;33m\u001b[0m\u001b[1;33m\u001b[0m\u001b[0m\n\u001b[1;32m---> 12\u001b[1;33m \u001b[0mfun\u001b[0m\u001b[1;33m(\u001b[0m\u001b[1;33m)\u001b[0m\u001b[1;33m\u001b[0m\u001b[1;33m\u001b[0m\u001b[0m\n\u001b[0m",
      "\u001b[1;32m<ipython-input-1-664dc792d51f>\u001b[0m in \u001b[0;36mfun\u001b[1;34m()\u001b[0m\n\u001b[0;32m      3\u001b[0m \u001b[1;33m\u001b[0m\u001b[0m\n\u001b[0;32m      4\u001b[0m \u001b[1;32mdef\u001b[0m \u001b[0mfun\u001b[0m\u001b[1;33m(\u001b[0m\u001b[1;33m)\u001b[0m\u001b[1;33m:\u001b[0m\u001b[1;33m\u001b[0m\u001b[1;33m\u001b[0m\u001b[0m\n\u001b[1;32m----> 5\u001b[1;33m     \u001b[1;32mif\u001b[0m \u001b[0mq\u001b[0m \u001b[1;33m==\u001b[0m \u001b[1;36m0\u001b[0m \u001b[1;32mand\u001b[0m \u001b[0mw\u001b[0m \u001b[1;33m==\u001b[0m \u001b[1;36m0\u001b[0m\u001b[1;33m:\u001b[0m\u001b[1;33m\u001b[0m\u001b[1;33m\u001b[0m\u001b[0m\n\u001b[0m\u001b[0;32m      6\u001b[0m         \u001b[0mprint\u001b[0m\u001b[1;33m(\u001b[0m\u001b[1;34m\"Result One\"\u001b[0m\u001b[1;33m)\u001b[0m\u001b[1;33m\u001b[0m\u001b[1;33m\u001b[0m\u001b[0m\n\u001b[0;32m      7\u001b[0m     \u001b[1;31m# assignment is ^^^\u001b[0m\u001b[1;33m\u001b[0m\u001b[1;33m\u001b[0m\u001b[1;33m\u001b[0m\u001b[0m\n",
      "\u001b[1;31mUnboundLocalError\u001b[0m: local variable 'q' referenced before assignment"
     ]
    }
   ],
   "source": [
    "q = 0\n",
    "w = 0\n",
    "\n",
    "def fun():\n",
    "    if q == 0 and w == 0:\n",
    "        print(\"Result One\")\n",
    "    # assignment is ^^^\n",
    "    # since the local variable q is q=2, when q=2 is found, it is before the assignment\n",
    "    # Hence local varialbe \"q\" is before assignment\n",
    "    # which results in error\n",
    "    q = 2\n",
    "fun()"
   ]
  },
  {
   "cell_type": "code",
   "execution_count": 1,
   "metadata": {},
   "outputs": [
    {
     "name": "stdout",
     "output_type": "stream",
     "text": [
      "Result One\n"
     ]
    },
    {
     "ename": "NameError",
     "evalue": "name 'a' is not defined",
     "output_type": "error",
     "traceback": [
      "\u001b[1;31m---------------------------------------------------------------------------\u001b[0m",
      "\u001b[1;31mNameError\u001b[0m                                 Traceback (most recent call last)",
      "\u001b[1;32m<ipython-input-1-80257457f76b>\u001b[0m in \u001b[0;36m<module>\u001b[1;34m\u001b[0m\n\u001b[0;32m     10\u001b[0m \u001b[1;33m\u001b[0m\u001b[0m\n\u001b[0;32m     11\u001b[0m \u001b[0mfun\u001b[0m\u001b[1;33m(\u001b[0m\u001b[1;33m)\u001b[0m\u001b[1;33m\u001b[0m\u001b[1;33m\u001b[0m\u001b[0m\n\u001b[1;32m---> 12\u001b[1;33m \u001b[0mprint\u001b[0m\u001b[1;33m(\u001b[0m\u001b[0ma\u001b[0m\u001b[1;33m)\u001b[0m\u001b[1;33m\u001b[0m\u001b[1;33m\u001b[0m\u001b[0m\n\u001b[0m\u001b[0;32m     13\u001b[0m \u001b[1;31m# a is not defined at the global level\u001b[0m\u001b[1;33m\u001b[0m\u001b[1;33m\u001b[0m\u001b[1;33m\u001b[0m\u001b[0m\n",
      "\u001b[1;31mNameError\u001b[0m: name 'a' is not defined"
     ]
    }
   ],
   "source": [
    "q = 0\n",
    "w = 0\n",
    "\n",
    "def fun():\n",
    "    a = q\n",
    "    if a == 0 and w == 0:\n",
    "        print(\"Result One\")\n",
    "    a=2\n",
    "\n",
    "\n",
    "fun()\n",
    "print(a)\n",
    "# a is not defined at the global level"
   ]
  },
  {
   "cell_type": "code",
   "execution_count": 1,
   "metadata": {},
   "outputs": [
    {
     "name": "stdout",
     "output_type": "stream",
     "text": [
      "Result One\n",
      "0\n"
     ]
    }
   ],
   "source": [
    "\n",
    "q = 0\n",
    "w = 0\n",
    "\n",
    "def function():\n",
    "    q = 0\n",
    "    w = 0\n",
    "    if q == 0 and w == 0:\n",
    "        print(\"Result One\")\n",
    "    q = 1\n",
    "\n",
    "function()\n",
    "print(q)"
   ]
  },
  {
   "cell_type": "code",
   "execution_count": 1,
   "metadata": {},
   "outputs": [
    {
     "name": "stdout",
     "output_type": "stream",
     "text": [
      "Result One\n",
      "1\n"
     ]
    }
   ],
   "source": [
    "q = 0\n",
    "w = 0\n",
    "\n",
    "def function():\n",
    "    global q,w\n",
    "    # means python will go to the \"name space\"/module then search for q and w\n",
    "    # and reassign q and w at both global and local\n",
    "    if q == 0 and w == 0:\n",
    "        print(\"Result One\")\n",
    "    q = 1\n",
    "    \n",
    "function()\n",
    "function()\n",
    "print(q)\n"
   ]
  },
  {
   "cell_type": "markdown",
   "metadata": {},
   "source": [
    "### Decorators"
   ]
  },
  {
   "cell_type": "code",
   "execution_count": 2,
   "metadata": {},
   "outputs": [],
   "source": [
    "# Decorators: to say create a new function with new functionality with properties of the old function, there are 2 options:\n",
    "#               1. option 1 is to add the new functionality to the old function\n",
    "#                   -it removes the old function\n",
    "#               2. option 2 is to create a new code\n",
    "#                   - takes space"
   ]
  },
  {
   "cell_type": "code",
   "execution_count": 2,
   "metadata": {},
   "outputs": [
    {
     "name": "stdout",
     "output_type": "stream",
     "text": [
      "ABC\n",
      "<function fun at 0x04694228>\n",
      "ABC\n",
      "<function fun at 0x04694228>\n"
     ]
    }
   ],
   "source": [
    "#1. ASSIGNING Functions to variables\n",
    "def fun():\n",
    "    print(\"ABC\")\n",
    "fun()\n",
    "print(fun)\n",
    "\n",
    "A = fun\n",
    "del fun\n",
    "\n",
    "A()\n",
    "print(A)\n",
    "\n",
    "# A copy of fun() has been made into varable A, so even if fun is del, A is still printable, but A is still a variable"
   ]
  },
  {
   "cell_type": "code",
   "execution_count": 1,
   "metadata": {},
   "outputs": [
    {
     "ename": "NameError",
     "evalue": "name 'fun2' is not defined",
     "output_type": "error",
     "traceback": [
      "\u001b[1;31m---------------------------------------------------------------------------\u001b[0m",
      "\u001b[1;31mNameError\u001b[0m                                 Traceback (most recent call last)",
      "\u001b[1;32m<ipython-input-1-7f203562b7c9>\u001b[0m in \u001b[0;36m<module>\u001b[1;34m\u001b[0m\n\u001b[0;32m     11\u001b[0m \u001b[1;33m\u001b[0m\u001b[0m\n\u001b[0;32m     12\u001b[0m \u001b[0mfun\u001b[0m\u001b[1;33m(\u001b[0m\u001b[1;33m)\u001b[0m\u001b[1;33m\u001b[0m\u001b[1;33m\u001b[0m\u001b[0m\n\u001b[1;32m---> 13\u001b[1;33m \u001b[0mprint\u001b[0m\u001b[1;33m(\u001b[0m\u001b[0mfun2\u001b[0m\u001b[1;33m(\u001b[0m\u001b[1;33m)\u001b[0m\u001b[1;33m)\u001b[0m\u001b[1;33m\u001b[0m\u001b[1;33m\u001b[0m\u001b[0m\n\u001b[0m\u001b[0;32m     14\u001b[0m \u001b[1;31m# will have error\u001b[0m\u001b[1;33m\u001b[0m\u001b[1;33m\u001b[0m\u001b[1;33m\u001b[0m\u001b[0m\n",
      "\u001b[1;31mNameError\u001b[0m: name 'fun2' is not defined"
     ]
    }
   ],
   "source": [
    "#2. Allowing a functionB inside a functionA to be executed globally when functionA is called\n",
    "\n",
    "def fun():\n",
    "    name = \"ABC\"\n",
    "    \n",
    "    def fun2():\n",
    "        name = \"DEF\"\n",
    "        return name\n",
    "    \n",
    "    return fun2()\n",
    "    \n",
    "fun()\n",
    "print(fun2())\n",
    "# will have error becaause fun2() is at the local level of fun()"
   ]
  },
  {
   "cell_type": "code",
   "execution_count": 1,
   "metadata": {},
   "outputs": [
    {
     "name": "stdout",
     "output_type": "stream",
     "text": [
      "<function fun.<locals>.fun2 at 0x04913198>\n",
      "<function fun.<locals>.fun2 at 0x04913198>\n",
      "<function fun.<locals>.fun2 at 0x04913198>\n",
      "DEF\n"
     ]
    }
   ],
   "source": [
    "# to solve ^^^\n",
    "def fun():\n",
    "    name = \"ABC\"\n",
    "    \n",
    "    def fun2():\n",
    "        name = \"DEF\"\n",
    "        return name\n",
    "    \n",
    "    return fun2\n",
    "\n",
    "print(fun())\n",
    "print(fun())\n",
    "# fun2 isnt called\n",
    "\n",
    "\n",
    "a = fun()\n",
    "# since variable a has been defined, due to return fun2(), its new \"result\" is fun2()\n",
    "# hence fun2() is at the global level by passing through a\n",
    "print(a)\n",
    "print(a())"
   ]
  },
  {
   "cell_type": "code",
   "execution_count": 1,
   "metadata": {},
   "outputs": [
    {
     "name": "stdout",
     "output_type": "stream",
     "text": [
      "<function A at 0x048644F8>\n"
     ]
    },
    {
     "data": {
      "text/plain": [
       "'A'"
      ]
     },
     "execution_count": 1,
     "metadata": {},
     "output_type": "execute_result"
    }
   ],
   "source": [
    "# 3. passing function as an argument/parameter\n",
    "\n",
    "def A():\n",
    "    return \"A\"\n",
    "\n",
    "print(A)\n",
    "\n",
    "#the function being input into B is a raw function at a location, not the result \n",
    "def B(x):\n",
    "    return x()\n",
    "\n",
    "\n",
    "B(A)"
   ]
  },
  {
   "cell_type": "code",
   "execution_count": 13,
   "metadata": {},
   "outputs": [],
   "source": [
    "# 4. DECORATOR (a mix of step 1,2,3)\n",
    "\n",
    "\n",
    "#SYNTAX:\n",
    "# def new_decorator(function1):\n",
    "#    def wrap_function:\n",
    "#        #codes.....\n",
    "#        function1()\n",
    "#        #codes......\n",
    "#    return wrap_function\n",
    "#\n",
    "# def functionA():\n",
    "#   ...............\n",
    "#\n",
    "# a = new_decorator(functionA)\n",
    "# a()\n",
    "#SYNTAX 2:\n",
    "# @new_decorator\n",
    "# def functionA():\n",
    "#   ...............\n",
    "\n",
    "# - ussually, the 1st syntax isnt used as often since it'll be easier to copy a library as such\n"
   ]
  },
  {
   "cell_type": "code",
   "execution_count": 1,
   "metadata": {},
   "outputs": [
    {
     "name": "stdout",
     "output_type": "stream",
     "text": [
      "ABC\n",
      "123\n",
      "DEF\n"
     ]
    }
   ],
   "source": [
    "# Example using syntax 1:\n",
    "\n",
    "def A(x):\n",
    "    def wrap():\n",
    "        print(\"ABC\")\n",
    "        x()\n",
    "        print(\"DEF\")\n",
    "    return wrap\n",
    "\n",
    "def B():\n",
    "    print(\"123\")\n",
    "\n",
    "C = A(B)\n",
    "C()"
   ]
  },
  {
   "cell_type": "code",
   "execution_count": 1,
   "metadata": {},
   "outputs": [],
   "source": [
    "#Syntax 2:\n",
    "\n",
    "def A(x):\n",
    "    def wrap():\n",
    "        print(\"ABC\")\n",
    "        x()\n",
    "        print(\"DEF\")\n",
    "    return wrap\n",
    "\n",
    "@A\n",
    "def B():\n",
    "    print(\"123\")\n",
    "    \n",
    "B()"
   ]
  },
  {
   "cell_type": "markdown",
   "metadata": {},
   "source": [
    "### Generators"
   ]
  },
  {
   "cell_type": "code",
   "execution_count": 7,
   "metadata": {},
   "outputs": [
    {
     "name": "stdout",
     "output_type": "stream",
     "text": [
      "<generator object f at 0x047E7330>\n",
      "3\n",
      "4\n",
      "5\n"
     ]
    }
   ],
   "source": [
    "# Generators : used to generate sth without storing in memory but as a command of execution with final value\n",
    "# Syntax : use 'yield' to suspend a function’s execution and sends a value back to a caller such as an iteration\n",
    "\n",
    "#Example\n",
    "\n",
    "def f(x):\n",
    "    for i in range(x):\n",
    "        yield i+3\n",
    "\n",
    "print(f(4))\n",
    "    \n",
    "for k in f(3):\n",
    "    print(k)"
   ]
  },
  {
   "cell_type": "code",
   "execution_count": 1,
   "metadata": {},
   "outputs": [
    {
     "name": "stdout",
     "output_type": "stream",
     "text": [
      "144\n",
      "None\n",
      "[2, 3, 5, 8, 13, 21, 34, 55, 89, 144]\n",
      "2\n",
      "3\n",
      "5\n",
      "8\n",
      "13\n",
      "21\n",
      "34\n",
      "55\n",
      "89\n",
      "144\n"
     ]
    }
   ],
   "source": [
    "# Example 2 (generation of fib num)\n",
    "\n",
    "def fib(x):\n",
    "    a = 0\n",
    "    b = 1\n",
    "    for i in range(x):\n",
    "        a,b = b,a+b\n",
    "        \n",
    "    return print(a+b)\n",
    "\n",
    "print(fib(10))\n",
    "\n",
    "# to print all numbers\n",
    "def fib(x):\n",
    "    l = []\n",
    "    a = 0\n",
    "    b = 1\n",
    "    for i in range(x):\n",
    "        a,b = b,a+b\n",
    "        l.append(a+b)\n",
    "    return l\n",
    "\n",
    "print(fib(10))\n",
    "\n",
    "# to print all numbers using yield\n",
    "\n",
    "def fib(x):\n",
    "    a = 0\n",
    "    b = 1\n",
    "    for i in range(x):\n",
    "        a,b = b,a+b\n",
    "        yield a+b\n",
    "        \n",
    "for k in fib(10):\n",
    "    print(k)"
   ]
  },
  {
   "cell_type": "code",
   "execution_count": 6,
   "metadata": {},
   "outputs": [
    {
     "name": "stdout",
     "output_type": "stream",
     "text": [
      "0\n",
      "1\n",
      "2\n"
     ]
    }
   ],
   "source": [
    "# next: the next function allows the program to show the next value and store the current value\n",
    "def g():\n",
    "    for i in range(3):\n",
    "        yield i\n",
    "        \n",
    "k = g()\n",
    "print(next(k))\n",
    "print(next(k))\n",
    "print(next(k))\n"
   ]
  },
  {
   "cell_type": "code",
   "execution_count": 5,
   "metadata": {},
   "outputs": [
    {
     "name": "stdout",
     "output_type": "stream",
     "text": [
      "A\n",
      "B\n",
      "C\n"
     ]
    }
   ],
   "source": [
    "# iter : the iter function allows an element to iterate \n",
    "\n",
    "#Example\n",
    "l = [\"A\",\"B\",\"C\"]\n",
    "\n",
    "k = iter(l)\n",
    "print(next(k))\n",
    "print(next(k))\n",
    "print(next(k))"
   ]
  },
  {
   "cell_type": "code",
   "execution_count": 29,
   "metadata": {},
   "outputs": [
    {
     "name": "stdout",
     "output_type": "stream",
     "text": [
      "1\n",
      "2\n",
      "3\n"
     ]
    }
   ],
   "source": [
    "#iter in class\n",
    "class A:\n",
    "    def __init__(self, m):\n",
    "        self.m = m\n",
    "\n",
    "    def __iter__(self):\n",
    "        self.num = 0\n",
    "        return self\n",
    "\n",
    "    def __next__(self):\n",
    "        if(self.num >= self.m):\n",
    "            raise StopIteration\n",
    "        self.num += 1\n",
    "        return self.num\n",
    "\n",
    "a = A(3)\n",
    "\n",
    "b = iter(a)\n",
    "\n",
    "print(next(b))\n",
    "print(next(b))\n",
    "print(next(b))\n",
    "\n"
   ]
  }
 ],
 "metadata": {
  "kernelspec": {
   "display_name": "Python 3",
   "language": "python",
   "name": "python3"
  },
  "language_info": {
   "codemirror_mode": {
    "name": "ipython",
    "version": 3
   },
   "file_extension": ".py",
   "mimetype": "text/x-python",
   "name": "python",
   "nbconvert_exporter": "python",
   "pygments_lexer": "ipython3",
   "version": "3.7.3"
  }
 },
 "nbformat": 4,
 "nbformat_minor": 2
}
