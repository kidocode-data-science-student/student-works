{
 "cells": [
  {
   "cell_type": "markdown",
   "metadata": {},
   "source": [
    "Following is part of data from file \"Practical Example.Descriptive-statistics-lesson\""
   ]
  },
  {
   "cell_type": "code",
   "execution_count": 40,
   "metadata": {},
   "outputs": [
    {
     "name": "stdout",
     "output_type": "stream",
     "text": [
      "    No       Name  Weight  Height  BMI\n",
      "0    1      Sarah    59.8   169.2  2.1\n",
      "1    2       John    61.5   182.1  1.9\n",
      "2    3       Alex    71.5   185.3  2.1\n",
      "3    4       Mila    56.3   153.5  2.4\n",
      "4    5      Conor    59.9   175.3  2.0\n",
      "5    6      Rasul    62.4   178.9  2.0\n",
      "6    7     Ariana    62.7   155.6  2.6\n",
      "7    8       Liam    66.0   183.6  2.0\n",
      "8    9       Noah    66.2   169.6  2.4\n",
      "9   10   Isabella    60.9   160.0  2.4\n",
      "10  11      Emily    62.7   162.2  2.4\n",
      "11  12      Lucas    81.5   184.3  2.4\n",
      "12  13     Daniel    59.8   167.8  2.2\n",
      "13  14    Jackson    71.5   172.0  2.5\n",
      "14  15  Elizabeth    67.9   168.8  2.4\n",
      "15  16       Ella    48.0   157.5  2.0\n",
      "16  17      David    71.5   188.5  2.1\n",
      "17  18       Lily    55.4   154.5  2.4\n",
      "18  19     Stella    67.7   163.3  2.6\n",
      "19  20       Jack    67.8   172.2  2.3\n"
     ]
    }
   ],
   "source": [
    "import pandas as pd\n",
    "product_db = pd.read_excel('sample_data_bmi.xlsx', \"Sheet1\", skiprows=1)\n",
    "print(product_db)"
   ]
  },
  {
   "cell_type": "markdown",
   "metadata": {},
   "source": [
    "Question1. Find which distribution fits best for \"BMI\" data.(Limit Distributions to only Uniform, Normal and Exponential)"
   ]
  },
  {
   "cell_type": "code",
   "execution_count": 11,
   "metadata": {},
   "outputs": [
    {
     "name": "stdout",
     "output_type": "stream",
     "text": [
      "Fitted norm distribution with error=4018.5079712135343)\n",
      "Fitted expon distribution with error=4032.0835371323333)\n",
      "Fitted uniform distribution with error=3979.5918367349695)\n"
     ]
    },
    {
     "data": {
      "text/html": [
       "<div>\n",
       "<style scoped>\n",
       "    .dataframe tbody tr th:only-of-type {\n",
       "        vertical-align: middle;\n",
       "    }\n",
       "\n",
       "    .dataframe tbody tr th {\n",
       "        vertical-align: top;\n",
       "    }\n",
       "\n",
       "    .dataframe thead th {\n",
       "        text-align: right;\n",
       "    }\n",
       "</style>\n",
       "<table border=\"1\" class=\"dataframe\">\n",
       "  <thead>\n",
       "    <tr style=\"text-align: right;\">\n",
       "      <th></th>\n",
       "      <th>sumsquare_error</th>\n",
       "    </tr>\n",
       "  </thead>\n",
       "  <tbody>\n",
       "    <tr>\n",
       "      <th>uniform</th>\n",
       "      <td>3979.591837</td>\n",
       "    </tr>\n",
       "    <tr>\n",
       "      <th>norm</th>\n",
       "      <td>4018.507971</td>\n",
       "    </tr>\n",
       "    <tr>\n",
       "      <th>expon</th>\n",
       "      <td>4032.083537</td>\n",
       "    </tr>\n",
       "  </tbody>\n",
       "</table>\n",
       "</div>"
      ],
      "text/plain": [
       "         sumsquare_error\n",
       "uniform      3979.591837\n",
       "norm         4018.507971\n",
       "expon        4032.083537"
      ]
     },
     "execution_count": 11,
     "metadata": {},
     "output_type": "execute_result"
    },
    {
     "data": {
      "image/png": "[encoded data removed]",
      "text/plain": [
       "<Figure size 432x288 with 1 Axes>"
      ]
     },
     "metadata": {
      "needs_background": "light"
     },
     "output_type": "display_data"
    }
   ],
   "source": [
    "from fitter import Fitter\n",
    "from matplotlib import pyplot as plt\n",
    "import scipy.stats\n",
    "bmi = product_db['BMI']\n",
    "fitter_for_bmi = Fitter(bmi, distributions=['norm', 'expon', 'uniform'])\n",
    "fitter_for_bmi.fit()\n",
    "fitter_for_bmi.summary()"
   ]
  },
  {
   "cell_type": "markdown",
   "metadata": {},
   "source": [
    "Question2. Find the Parameters of the distribution that you chose in question 1."
   ]
  },
  {
   "cell_type": "code",
   "execution_count": 13,
   "metadata": {},
   "outputs": [],
   "source": [
    "uniform_param = fitter_for_bmi.fitted_param['uniform']\n",
    "norm_param = fitter_for_bmi.fitted_param['norm']"
   ]
  },
  {
   "cell_type": "markdown",
   "metadata": {},
   "source": [
    "Question3. Plot the pdf of the distribution that you chose in Question1."
   ]
  },
  {
   "cell_type": "code",
   "execution_count": 15,
   "metadata": {},
   "outputs": [
    {
     "data": {
      "text/plain": [
       "[<matplotlib.lines.Line2D at 0x7f770874b518>]"
      ]
     },
     "execution_count": 15,
     "metadata": {},
     "output_type": "execute_result"
    },
    {
     "data": {
      "image/png": "[encoded data removed]",
      "text/plain": [
       "<Figure size 432x288 with 1 Axes>"
      ]
     },
     "metadata": {
      "needs_background": "light"
     },
     "output_type": "display_data"
    }
   ],
   "source": [
    "from pylab import linspace, plot \n",
    "import scipy.stats\n",
    "\n",
    "norm_dist = scipy.stats.norm \n",
    "\n",
    "X = linspace(min(bmi),max(bmi), len(bmi)) \n",
    "pdf_fitted = norm_dist.pdf(X, *norm_param) \n",
    "plot(X, pdf_fitted, '--r')  "
   ]
  },
  {
   "cell_type": "markdown",
   "metadata": {},
   "source": [
    "Question4. Find which distribution fits best for \"Area\" data. (Limit Distributions to only Uniform, Normal and Exponential)"
   ]
  },
  {
   "cell_type": "code",
   "execution_count": 45,
   "metadata": {},
   "outputs": [
    {
     "name": "stdout",
     "output_type": "stream",
     "text": [
      "    Unnamed: 0 Practical example Unnamed: 2    Unnamed: 3     Unnamed: 4  \\\n",
      "0          NaN               NaN        NaN           NaN            NaN   \n",
      "1          NaN           Product        NaN           NaN            NaN   \n",
      "2          NaN                ID   Building  Year of sale  Month of sale   \n",
      "3          NaN              1030          1          2005             11   \n",
      "4          NaN              1029          1          2005             10   \n",
      "5          NaN              2002          2          2007              7   \n",
      "6          NaN              2031          2          2007             12   \n",
      "7          NaN              1049          1          2004             11   \n",
      "8          NaN              3011          3          2007              9   \n",
      "9          NaN              3026          3          2007              9   \n",
      "10         NaN              3023          3          2008              1   \n",
      "11         NaN              1031          1          2006              6   \n",
      "12         NaN              4023          4          2006              3   \n",
      "13         NaN              1036          1          2004             10   \n",
      "14         NaN              1046          1          2006              8   \n",
      "15         NaN              4035          4          2007             10   \n",
      "16         NaN              2036          2          2006             11   \n",
      "17         NaN              2056          2          2007              4   \n",
      "18         NaN              1047          1          2007             12   \n",
      "19         NaN              5051          5          2006              3   \n",
      "20         NaN              2007          2          2006              8   \n",
      "21         NaN              3020          3          2007              4   \n",
      "22         NaN              3029          3          2007              4   \n",
      "23         NaN              3015          3          2006             10   \n",
      "24         NaN              2004          2          2006             12   \n",
      "25         NaN              2006          2          2006             12   \n",
      "26         NaN              5013          5          2007              9   \n",
      "27         NaN              1026          1          2005              3   \n",
      "28         NaN              2054          2          2006              6   \n",
      "29         NaN              3033          3          2007              9   \n",
      "..         ...               ...        ...           ...            ...   \n",
      "240        NaN              5004          5           NaN            NaN   \n",
      "241        NaN              5005          5           NaN            NaN   \n",
      "242        NaN              5006          5           NaN            NaN   \n",
      "243        NaN              5007          5           NaN            NaN   \n",
      "244        NaN              5008          5           NaN            NaN   \n",
      "245        NaN              5009          5           NaN            NaN   \n",
      "246        NaN              5010          5           NaN            NaN   \n",
      "247        NaN              5011          5           NaN            NaN   \n",
      "248        NaN              5012          5           NaN            NaN   \n",
      "249        NaN              5014          5           NaN            NaN   \n",
      "250        NaN              5015          5           NaN            NaN   \n",
      "251        NaN              5016          5           NaN            NaN   \n",
      "252        NaN              5017          5           NaN            NaN   \n",
      "253        NaN              5018          5           NaN            NaN   \n",
      "254        NaN              5020          5           NaN            NaN   \n",
      "255        NaN              5025          5           NaN            NaN   \n",
      "256        NaN              5026          5           NaN            NaN   \n",
      "257        NaN              5030          5           NaN            NaN   \n",
      "258        NaN              5032          5           NaN            NaN   \n",
      "259        NaN              5034          5           NaN            NaN   \n",
      "260        NaN              5036          5           NaN            NaN   \n",
      "261        NaN              5037          5           NaN            NaN   \n",
      "262        NaN              5038          5           NaN            NaN   \n",
      "263        NaN              5041          5           NaN            NaN   \n",
      "264        NaN              5043          5           NaN            NaN   \n",
      "265        NaN              5044          5           NaN            NaN   \n",
      "266        NaN              5047          5           NaN            NaN   \n",
      "267        NaN              5048          5           NaN            NaN   \n",
      "268        NaN              5050          5           NaN            NaN   \n",
      "269        NaN              5051          5           NaN            NaN   \n",
      "\n",
      "           Unnamed: 5  Unnamed: 6  Unnamed: 7 Unnamed: 8 Unnamed: 9  ...  \\\n",
      "0                 NaN         NaN         NaN        NaN        NaN  ...   \n",
      "1                 NaN         NaN         NaN        NaN        NaN  ...   \n",
      "2    Type of property  Property #  Area (ft.)      Price     Status  ...   \n",
      "3           Apartment          30     743.086     246173       Sold  ...   \n",
      "4           Apartment          29     756.213     246332       Sold  ...   \n",
      "5           Apartment           2     587.281     209281       Sold  ...   \n",
      "6           Apartment          31     1604.75     452667       Sold  ...   \n",
      "7           Apartment          49     1375.45     467083       Sold  ...   \n",
      "8           Apartment          11      675.19     203492       Sold  ...   \n",
      "9           Apartment          26     670.886     212521       Sold  ...   \n",
      "10          Apartment          23     720.812     198592       Sold  ...   \n",
      "11          Apartment          31     782.252     265468       Sold  ...   \n",
      "12          Apartment          23     794.518     235633       Sold  ...   \n",
      "13          Apartment          36     1160.36     317474       Sold  ...   \n",
      "14          Apartment          46      1942.5     503790       Sold  ...   \n",
      "15          Apartment          35     794.518     217786       Sold  ...   \n",
      "16          Apartment          36     1109.25     460001       Sold  ...   \n",
      "17          Apartment          56     1400.95     460001       Sold  ...   \n",
      "18          Apartment          47     1479.72     448134       Sold  ...   \n",
      "19          Apartment          51     790.537     249592       Sold  ...   \n",
      "20          Apartment           7     723.933     196142       Sold  ...   \n",
      "21          Apartment          20     781.068     258572       Sold  ...   \n",
      "22          Apartment          29     1127.76     310831       Sold  ...   \n",
      "23          Apartment          15     720.705     207282       Sold  ...   \n",
      "24          Apartment           4     649.689     168834       Sold  ...   \n",
      "25          Apartment           6     1307.45     396974       Sold  ...   \n",
      "26          Apartment          13     618.377     188743       Sold  ...   \n",
      "27          Apartment          26     625.802     179674       Sold  ...   \n",
      "28          Apartment          54     1203.29     306364       Sold  ...   \n",
      "29          Apartment          33     670.886     200301       Sold  ...   \n",
      "..                ...         ...         ...        ...        ...  ...   \n",
      "240         Apartment           4       798.5     250415        NaN  ...   \n",
      "241         Apartment           5       798.5     219253        NaN  ...   \n",
      "242         Apartment           6     1058.25     264012        NaN  ...   \n",
      "243         Apartment           7     618.162     211407        NaN  ...   \n",
      "244         Apartment          08     1273.88     396330        NaN  ...   \n",
      "245         Apartment           9       798.5     227073        NaN  ...   \n",
      "246         Apartment          10       798.5     276324        NaN  ...   \n",
      "247         Apartment          11       798.5     230943        NaN  ...   \n",
      "248         Apartment          12     1058.25     315382        NaN  ...   \n",
      "249         Apartment          14     1273.55     372017        NaN  ...   \n",
      "250         Apartment          15       798.5     237681        NaN  ...   \n",
      "251         Apartment          16       798.5     234033        NaN  ...   \n",
      "252         Apartment          17     798.284     273166        NaN  ...   \n",
      "253         Apartment          18     1057.92     271227        NaN  ...   \n",
      "254         Apartment          20     1273.55     349865        NaN  ...   \n",
      "255         Apartment          25     618.162     199731        NaN  ...   \n",
      "256         Apartment          26     1273.55     338482        NaN  ...   \n",
      "257         Apartment          30     1057.92     351305        NaN  ...   \n",
      "258         Apartment          32     1273.55     338472        NaN  ...   \n",
      "259         Apartment          34     798.284     212916        NaN  ...   \n",
      "260         Apartment          36     1057.92     308661        NaN  ...   \n",
      "261         Apartment          37     606.326     147344        NaN  ...   \n",
      "262         Apartment          38     1273.55     448575        NaN  ...   \n",
      "263         Apartment          41     798.284     255338        NaN  ...   \n",
      "264         Apartment          43     598.579     175774        NaN  ...   \n",
      "265         Apartment          44     1238.58     322611        NaN  ...   \n",
      "266         Apartment          47     794.518     279191        NaN  ...   \n",
      "267         Apartment          48     1013.27     287997        NaN  ...   \n",
      "268         Apartment          50     1074.71     365869        NaN  ...   \n",
      "269         Apartment          51     789.246     199216        NaN  ...   \n",
      "\n",
      "     Unnamed: 17 Unnamed: 18 Unnamed: 19 Unnamed: 20 Unnamed: 21 Unnamed: 22  \\\n",
      "0            NaN         NaN         NaN         NaN         NaN         NaN   \n",
      "1            NaN         NaN         NaN         NaN         NaN         NaN   \n",
      "2              Y           M           D      Gender     Country       State   \n",
      "3           1986           6          21           F         USA  California   \n",
      "4           1983           2          24           F         USA  California   \n",
      "5           1985          12          27           M         USA  California   \n",
      "6           1985          12          27           M         USA  California   \n",
      "7           1979           5          15           F         USA  California   \n",
      "8           1981          12          26           F         USA    Virginia   \n",
      "9           1981          12          26           F         USA    Virginia   \n",
      "10          1982           5          27           M         USA  California   \n",
      "11          1979           6          27           M         USA     Arizona   \n",
      "12          1979          12           3           F         USA    Virginia   \n",
      "13          1976           8          17           F         USA      Oregon   \n",
      "14          1980           9          14           M         USA  California   \n",
      "15          1978           6           4           F         USA      Nevada   \n",
      "16          1977           6          10           M         USA  California   \n",
      "17          1978          12           3           F         USA  California   \n",
      "18          1978           9          14           M         USA  California   \n",
      "19          1977          12          25           M         USA      Nevada   \n",
      "20          1976          12          25           M         USA    Colorado   \n",
      "21          1977           1           8           M         USA     Arizona   \n",
      "22          1977           1           8           M         USA     Arizona   \n",
      "23          1975           3          22           M         USA      Nevada   \n",
      "24          1975          10           5           M         USA  California   \n",
      "25          1975          10           5           M         USA  California   \n",
      "26          1976           2          26           F         USA    Colorado   \n",
      "27          1973           9           1           M         USA  California   \n",
      "28          1974           3          27           M         USA  California   \n",
      "29          1975           8          12           F         USA        Utah   \n",
      "..           ...         ...         ...         ...         ...         ...   \n",
      "240          NaN         NaN         NaN         NaN         NaN         NaN   \n",
      "241          NaN         NaN         NaN         NaN         NaN         NaN   \n",
      "242          NaN         NaN         NaN         NaN         NaN         NaN   \n",
      "243          NaN         NaN         NaN         NaN         NaN         NaN   \n",
      "244          NaN         NaN         NaN         NaN         NaN         NaN   \n",
      "245          NaN         NaN         NaN         NaN         NaN         NaN   \n",
      "246          NaN         NaN         NaN         NaN         NaN         NaN   \n",
      "247          NaN         NaN         NaN         NaN         NaN         NaN   \n",
      "248          NaN         NaN         NaN         NaN         NaN         NaN   \n",
      "249          NaN         NaN         NaN         NaN         NaN         NaN   \n",
      "250          NaN         NaN         NaN         NaN         NaN         NaN   \n",
      "251          NaN         NaN         NaN         NaN         NaN         NaN   \n",
      "252          NaN         NaN         NaN         NaN         NaN         NaN   \n",
      "253          NaN         NaN         NaN         NaN         NaN         NaN   \n",
      "254          NaN         NaN         NaN         NaN         NaN         NaN   \n",
      "255          NaN         NaN         NaN         NaN         NaN         NaN   \n",
      "256          NaN         NaN         NaN         NaN         NaN         NaN   \n",
      "257          NaN         NaN         NaN         NaN         NaN         NaN   \n",
      "258          NaN         NaN         NaN         NaN         NaN         NaN   \n",
      "259          NaN         NaN         NaN         NaN         NaN         NaN   \n",
      "260          NaN         NaN         NaN         NaN         NaN         NaN   \n",
      "261          NaN         NaN         NaN         NaN         NaN         NaN   \n",
      "262          NaN         NaN         NaN         NaN         NaN         NaN   \n",
      "263          NaN         NaN         NaN         NaN         NaN         NaN   \n",
      "264          NaN         NaN         NaN         NaN         NaN         NaN   \n",
      "265          NaN         NaN         NaN         NaN         NaN         NaN   \n",
      "266          NaN         NaN         NaN         NaN         NaN         NaN   \n",
      "267          NaN         NaN         NaN         NaN         NaN         NaN   \n",
      "268          NaN         NaN         NaN         NaN         NaN         NaN   \n",
      "269          NaN         NaN         NaN         NaN         NaN         NaN   \n",
      "\n",
      "    Unnamed: 23        Unnamed: 24 Unnamed: 25 Unnamed: 26  \n",
      "0           NaN                NaN         NaN         NaN  \n",
      "1           NaN                NaN         NaN         NaN  \n",
      "2       Purpose  Deal satisfaction    Mortgage      Source  \n",
      "3          Home                  5          No     Website  \n",
      "4          Home                  5          No     Website  \n",
      "5          Home                  1         Yes      Client  \n",
      "6    Investment                  3         Yes     Website  \n",
      "7          Home                  4          No      Agency  \n",
      "8    Investment                  5          No      Client  \n",
      "9    Investment                  5          No      Agency  \n",
      "10         Home                  5          No      Client  \n",
      "11         Home                  2         Yes     Website  \n",
      "12   Investment                  3         Yes      Agency  \n",
      "13         Home                  1          No      Agency  \n",
      "14         Home                  5          No     Website  \n",
      "15         Home                  3         Yes     Website  \n",
      "16         Home                  2          No     Website  \n",
      "17         Home                  5          No      Agency  \n",
      "18         Home                  5          No     Website  \n",
      "19         Home                  4         Yes     Website  \n",
      "20         Home                  4         Yes      Agency  \n",
      "21         Home                  5          No      Client  \n",
      "22         Home                  3          No      Client  \n",
      "23         Home                  5          No     Website  \n",
      "24   Investment                  5          No      Agency  \n",
      "25   Investment                  5          No      Agency  \n",
      "26         Home                  4         Yes      Agency  \n",
      "27         Home                  4          No     Website  \n",
      "28         Home                  5         Yes      Client  \n",
      "29         Home                  1         Yes     Website  \n",
      "..          ...                ...         ...         ...  \n",
      "240         NaN                NaN         NaN         NaN  \n",
      "241         NaN                NaN         NaN         NaN  \n",
      "242         NaN                NaN         NaN         NaN  \n",
      "243         NaN                NaN         NaN         NaN  \n",
      "244         NaN                NaN         NaN         NaN  \n",
      "245         NaN                NaN         NaN         NaN  \n",
      "246         NaN                NaN         NaN         NaN  \n",
      "247         NaN                NaN         NaN         NaN  \n",
      "248         NaN                NaN         NaN         NaN  \n",
      "249         NaN                NaN         NaN         NaN  \n",
      "250         NaN                NaN         NaN         NaN  \n",
      "251         NaN                NaN         NaN         NaN  \n",
      "252         NaN                NaN         NaN         NaN  \n",
      "253         NaN                NaN         NaN         NaN  \n",
      "254         NaN                NaN         NaN         NaN  \n",
      "255         NaN                NaN         NaN         NaN  \n",
      "256         NaN                NaN         NaN         NaN  \n",
      "257         NaN                NaN         NaN         NaN  \n",
      "258         NaN                NaN         NaN         NaN  \n",
      "259         NaN                NaN         NaN         NaN  \n",
      "260         NaN                NaN         NaN         NaN  \n",
      "261         NaN                NaN         NaN         NaN  \n",
      "262         NaN                NaN         NaN         NaN  \n",
      "263         NaN                NaN         NaN         NaN  \n",
      "264         NaN                NaN         NaN         NaN  \n",
      "265         NaN                NaN         NaN         NaN  \n",
      "266         NaN                NaN         NaN         NaN  \n",
      "267         NaN                NaN         NaN         NaN  \n",
      "268         NaN                NaN         NaN         NaN  \n",
      "269         NaN                NaN         NaN         NaN  \n",
      "\n",
      "[270 rows x 27 columns]\n"
     ]
    },
    {
     "ename": "TypeError",
     "evalue": "'DataFrame' object is not callable",
     "output_type": "error",
     "traceback": [
      "\u001b[0;31m---------------------------------------------------------------------------\u001b[0m",
      "\u001b[0;31mTypeError\u001b[0m                                 Traceback (most recent call last)",
      "\u001b[0;32m<ipython-input-45-fa42e31ae508>\u001b[0m in \u001b[0;36m<module>\u001b[0;34m\u001b[0m\n\u001b[1;32m      1\u001b[0m \u001b[0mproduct_db\u001b[0m \u001b[0;34m=\u001b[0m \u001b[0mpd\u001b[0m\u001b[0;34m.\u001b[0m\u001b[0mread_excel\u001b[0m\u001b[0;34m(\u001b[0m\u001b[0;34m'Practical-example.Descriptive-statistics-lesson.xlsx'\u001b[0m\u001b[0;34m,\u001b[0m \u001b[0;34m\"365RE\"\u001b[0m\u001b[0;34m,\u001b[0m \u001b[0mskiprows\u001b[0m\u001b[0;34m=\u001b[0m\u001b[0;36m1\u001b[0m\u001b[0;34m)\u001b[0m\u001b[0;34m\u001b[0m\u001b[0;34m\u001b[0m\u001b[0m\n\u001b[1;32m      2\u001b[0m \u001b[0mprint\u001b[0m\u001b[0;34m(\u001b[0m\u001b[0mproduct_db\u001b[0m\u001b[0;34m)\u001b[0m\u001b[0;34m\u001b[0m\u001b[0;34m\u001b[0m\u001b[0m\n\u001b[0;32m----> 3\u001b[0;31m \u001b[0marea\u001b[0m \u001b[0;34m=\u001b[0m \u001b[0mproduct_db\u001b[0m\u001b[0;34m(\u001b[0m\u001b[0;34m'Unamed 7'\u001b[0m\u001b[0;34m)\u001b[0m\u001b[0;34m\u001b[0m\u001b[0;34m\u001b[0m\u001b[0m\n\u001b[0m",
      "\u001b[0;31mTypeError\u001b[0m: 'DataFrame' object is not callable"
     ]
    }
   ],
   "source": [
    "product_db = pd.read_excel('Practical-example.Descriptive-statistics-lesson.xlsx', \"365RE\", skiprows=1)\n",
    "print(product_db)\n",
    "area = product_db('Unamed 7')"
   ]
  }
 ],
 "metadata": {
  "kernelspec": {
   "display_name": "Python 3",
   "language": "python",
   "name": "python3"
  },
  "language_info": {
   "codemirror_mode": {
    "name": "ipython",
    "version": 3
   },
   "file_extension": ".py",
   "mimetype": "text/x-python",
   "name": "python",
   "nbconvert_exporter": "python",
   "pygments_lexer": "ipython3",
   "version": "3.7.3"
  }
 },
 "nbformat": 4,
 "nbformat_minor": 2
}
