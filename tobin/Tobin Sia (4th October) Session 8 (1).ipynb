{
 "cells": [
  {
   "cell_type": "markdown",
   "metadata": {},
   "source": [
    "# Poisson Distribution"
   ]
  },
  {
   "cell_type": "markdown",
   "metadata": {},
   "source": [
    "Poisson Distribution describes the number of times of some event occurring during a specified interval.\n",
    "\n",
    "There are two conditions:\n",
    "\n",
    "Events occur singly & at random, in a given interval of time or space λ (lambda), is the mean number of occurrences in the given interval is known and is finite.\n",
    "\n",
    "An important note is that λ can only be a positive number.\n",
    "\n",
    "Poisson Distribution"
   ]
  },
  {
   "cell_type": "markdown",
   "metadata": {},
   "source": [
    "The formula is comprised of λ ^ 𝓍 times e ^ -λ divided over 𝓍!. 𝓍 is the number of occurrences that an “event” happens.\n",
    "\n",
    "How to Calculate Example:\n",
    "\n",
    "The mean number of calls received on a telephone per hours is 1.6. Calculate the probability of the following:\n",
    "\n",
    "- Exactly two calls will be received in an hour.\n",
    "- More than two calls will be received in an hour.\n",
    "- Exactly 5 calls will be received in a three hour period.\n"
   ]
  },
  {
   "cell_type": "markdown",
   "metadata": {},
   "source": [
    "## Import Math Library "
   ]
  },
  {
   "cell_type": "code",
   "execution_count": 2,
   "metadata": {},
   "outputs": [
    {
     "name": "stdout",
     "output_type": "stream",
     "text": [
      "0.25842754303315896\n"
     ]
    }
   ],
   "source": [
    "import math\n",
    "lmbda = 1.6\n",
    "x = 2\n",
    "P = (math.exp(-lmbda)*(lmbda**x))/math.factorial(x)\n",
    "print(P)"
   ]
  },
  {
   "cell_type": "code",
   "execution_count": 5,
   "metadata": {},
   "outputs": [
    {
     "name": "stdout",
     "output_type": "stream",
     "text": [
      "[0.20189651799465538, 0.3230344287914486, 0.25842754303315896]\n",
      "0.21664151018073707\n"
     ]
    }
   ],
   "source": [
    "lmbda = 1.6\n",
    "x = [0,1,2]\n",
    "prob = []\n",
    "for i in range(len(x)):\n",
    "    P = (math.exp(-lmbda)*(lmbda**i))/math.factorial(i)\n",
    "    prob.append(P)\n",
    "print(prob)\n",
    "probSum = sum(prob)\n",
    "answer = 1-probSum\n",
    "print(answer)"
   ]
  },
  {
   "cell_type": "code",
   "execution_count": 11,
   "metadata": {},
   "outputs": [
    {
     "data": {
      "text/plain": [
       "0.17474768364388282"
      ]
     },
     "execution_count": 11,
     "metadata": {},
     "output_type": "execute_result"
    }
   ],
   "source": [
    "lmbda = 1.6*3\n",
    "x = 5\n",
    "P = (math.exp(-lmbda)*(lmbda**x))/math.factorial(x)\n",
    "P"
   ]
  },
  {
   "cell_type": "markdown",
   "metadata": {},
   "source": [
    "## PMF Function"
   ]
  },
  {
   "cell_type": "code",
   "execution_count": 15,
   "metadata": {},
   "outputs": [
    {
     "data": {
      "text/plain": [
       "0.25842754303315896"
      ]
     },
     "execution_count": 15,
     "metadata": {},
     "output_type": "execute_result"
    }
   ],
   "source": [
    "from scipy.stats import poisson\n",
    "\n",
    "P = (poisson.pmf(mu=1.6,k=2))\n",
    "P"
   ]
  },
  {
   "cell_type": "code",
   "execution_count": 12,
   "metadata": {},
   "outputs": [
    {
     "data": {
      "text/plain": [
       "0.21664151018073696"
      ]
     },
     "execution_count": 12,
     "metadata": {},
     "output_type": "execute_result"
    }
   ],
   "source": [
    "from scipy.stats import poisson\n",
    "\n",
    "P = 1-((poisson.pmf(mu=1.6 ,k=2 ))+(poisson.pmf(mu=1.6,k=1))+(poisson.pmf(mu=1.6,k=0)))\n",
    "P"
   ]
  },
  {
   "cell_type": "markdown",
   "metadata": {},
   "source": [
    "# How to create a graph using Python\n",
    "First up, we have the simple way of creating a graph with just 3 libraries & 9 lines of code. \n",
    "Below is a given example. \n",
    "The lambda used is 1.6 which is calculated with poisson then placed in variable dist. \n",
    "For the x, it is arranged with numpy arange from 0 to 10 (used 11.0 because we want to end it at 10). \n",
    "Then with pyplot we place variables x and dist with an additional drawstyle to make it look like steps instead of the default line graph."
   ]
  },
  {
   "cell_type": "code",
   "execution_count": 39,
   "metadata": {},
   "outputs": [
    {
     "data": {
      "image/png": "[encoded data removed]",
      "text/plain": [
       "<Figure size 432x288 with 1 Axes>"
      ]
     },
     "metadata": {
      "needs_background": "light"
     },
     "output_type": "display_data"
    }
   ],
   "source": [
    "import numpy as np\n",
    "from scipy.stats import poisson'\n",
    "from matplotlib import pyplot as plt\n",
    "dist = poisson(mu=1.6)\n",
    "x = np.arange(0,11.0)\n",
    "plt.plot(x, dist.pmf(x),drawstyle = 'steps-mid',marker = '1',color = 'purple')\n",
    "plt.show()"
   ]
  },
  {
   "cell_type": "markdown",
   "metadata": {},
   "source": [
    "A student finds that the average number of amoebas in 10 ml of pond water from a particular pond is four. Assuming that the number of amoebas follows a Poisson distribution, find the probability that in a 10 ml sample.\n",
    "1. there are exactly five amoebas\n",
    "2. there are no amoebas\n",
    "3. there are fewer than three amoebas\n"
   ]
  },
  {
   "cell_type": "code",
   "execution_count": 62,
   "metadata": {},
   "outputs": [
    {
     "name": "stdout",
     "output_type": "stream",
     "text": [
      "0.15629345185053165\n"
     ]
    }
   ],
   "source": [
    "#1\n",
    "lmbda = 4\n",
    "x = 5\n",
    "l = (math.exp(-lmbda)*(lmbda**x))/math.factorial(x)\n",
    "print(l)"
   ]
  },
  {
   "cell_type": "code",
   "execution_count": null,
   "metadata": {},
   "outputs": [],
   "source": [
    "#2\n",
    "lmbda = "
   ]
  }
 ],
 "metadata": {
  "kernelspec": {
   "display_name": "Python 3",
   "language": "python",
   "name": "python3"
  },
  "language_info": {
   "codemirror_mode": {
    "name": "ipython",
    "version": 3
   },
   "file_extension": ".py",
   "mimetype": "text/x-python",
   "name": "python",
   "nbconvert_exporter": "python",
   "pygments_lexer": "ipython3",
   "version": "3.7.3"
  }
 },
 "nbformat": 4,
 "nbformat_minor": 2
}
