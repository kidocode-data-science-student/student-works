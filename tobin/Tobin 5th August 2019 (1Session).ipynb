{
 "cells": [
  {
   "cell_type": "markdown",
   "metadata": {},
   "source": [
    "List Properties"
   ]
  },
  {
   "cell_type": "code",
   "execution_count": 8,
   "metadata": {},
   "outputs": [
    {
     "name": "stdout",
     "output_type": "stream",
     "text": [
      "[1, 6, 11, 16]\n"
     ]
    }
   ],
   "source": [
    "data =[] \n",
    "for i in range(1,20,5):\n",
    "    data.append(i)\n",
    "print(data)"
   ]
  },
  {
   "cell_type": "code",
   "execution_count": 14,
   "metadata": {},
   "outputs": [
    {
     "name": "stdout",
     "output_type": "stream",
     "text": [
      "[-18, -43, 11, 24, 26, -8, -36, -8, -47, 9]\n"
     ]
    }
   ],
   "source": [
    "import random\n",
    "data = []\n",
    "for i in range(10):\n",
    "    data.append(random.randint(-50,50))\n",
    "print(data)"
   ]
  },
  {
   "cell_type": "code",
   "execution_count": 13,
   "metadata": {},
   "outputs": [
    {
     "name": "stdout",
     "output_type": "stream",
     "text": [
      "[-12.931066102988744, -49.28033976796553, -9.943177271825412, -42.59601609832527, 15.37750394390234, 31.602081631715492, -20.268184320804792, -4.147081320150328, -35.213484060545184, -31.274993686275486]\n"
     ]
    }
   ],
   "source": [
    "import random\n",
    "data = []\n",
    "for i in range(10):\n",
    "    data.append(random.uniform(-50,50))\n",
    "print(data)"
   ]
  },
  {
   "cell_type": "code",
   "execution_count": 18,
   "metadata": {},
   "outputs": [
    {
     "name": "stdout",
     "output_type": "stream",
     "text": [
      "[-1.   22.   35.    4.34 56.    6.  ]\n"
     ]
    }
   ],
   "source": [
    "import numpy as np\n",
    "data = []\n",
    "data=np.array([-1, 22, 35, 4.34, 56, 6])\n",
    "print (data)"
   ]
  },
  {
   "cell_type": "code",
   "execution_count": 22,
   "metadata": {},
   "outputs": [
    {
     "name": "stdout",
     "output_type": "stream",
     "text": [
      "[ 0.  2.  4.  6.  8. 10.]\n",
      "[ 0.   2.5  5.   7.5 10. ]\n"
     ]
    }
   ],
   "source": [
    "data_arange = []\n",
    "data_linspace = []\n",
    "data_arange = np.arange(0, 11, 2, dtype=float)\n",
    "print(data_arange)\n",
    "data_linspace = np.linspace(0, 10, 5)\n",
    "print(data_linspace)"
   ]
  },
  {
   "cell_type": "code",
   "execution_count": 39,
   "metadata": {},
   "outputs": [
    {
     "name": "stdout",
     "output_type": "stream",
     "text": [
      "[-5  4 -8 -9 -8  7 -9  6  4 -2 -5 -2 -6 -6 -6  0  4 -4  5  2]\n",
      "[-0.65400875 -0.25804442  0.47304563  0.36173806 -0.28905012  0.84632938\n",
      " -0.33361572  1.15236965 -1.15154527 -0.04323693]\n"
     ]
    }
   ],
   "source": [
    "data_randint = []\n",
    "data_randn = []\n",
    "data_randint = np.random.randint(-10, 10, 20)\n",
    "print(data_randint)\n",
    "data_randn = np.random.randn(10)\n",
    "print(data_randn)\n"
   ]
  },
  {
   "cell_type": "markdown",
   "metadata": {},
   "source": [
    "Index of the list"
   ]
  },
  {
   "cell_type": "code",
   "execution_count": 52,
   "metadata": {},
   "outputs": [
    {
     "name": "stdout",
     "output_type": "stream",
     "text": [
      "-1\n",
      "3\n",
      "(array([8], dtype=int32),)\n"
     ]
    }
   ],
   "source": [
    "x = [7, 14, 20, 1, -16, -10, -8, -3, -12, 2, -1, -19, 2, 1, 9]\n",
    "print(x[10])\n",
    "print(x.index(1,0,5))\n",
    "import numpy as np\n",
    "x_arrays = np.array([7, 14, 20, 1, -16, -10, -8, -3, -12, 2, -1, -19, 2, 1, 9])\n",
    "print(np.where(x_arrays == -12))"
   ]
  },
  {
   "cell_type": "code",
   "execution_count": 60,
   "metadata": {},
   "outputs": [
    {
     "name": "stdout",
     "output_type": "stream",
     "text": [
      "15\n",
      "20\n",
      "-19\n",
      "-13\n",
      "15\n"
     ]
    }
   ],
   "source": [
    "x = [7, 14, 20, 1, -16, -10, -8, -3, -12, 2, -1, -19, 2, 1, 9]\n",
    "print(len(x))\n",
    "print(max(x))\n",
    "print(min(x))\n",
    "print(sum(x))\n",
    "import numpy as np\n",
    "x_array = np.array([7, 14, 20, 1, -16, -10, -8, -3, -12, 2, -1, -19, 2, 1, 9])\n",
    "print(x_array.size)"
   ]
  },
  {
   "cell_type": "markdown",
   "metadata": {},
   "source": [
    "Data"
   ]
  },
  {
   "cell_type": "markdown",
   "metadata": {},
   "source": [
    "Task 1.\n",
    "Create a list and name it as data. Insert 10 different values manually into the list without using numpy.\n"
   ]
  },
  {
   "cell_type": "code",
   "execution_count": 61,
   "metadata": {},
   "outputs": [],
   "source": [
    "data = [1 , 5, 7, 3, 4, 9, 13, 4, 16, 12]"
   ]
  },
  {
   "cell_type": "markdown",
   "metadata": {},
   "source": [
    "Task 2.\n",
    "Use the list that you have created from the previous task, find...\n",
    "1. The item with index of 5\n",
    "2. The sum of list\n",
    "3. The average of list"
   ]
  },
  {
   "cell_type": "code",
   "execution_count": 65,
   "metadata": {},
   "outputs": [
    {
     "name": "stdout",
     "output_type": "stream",
     "text": [
      "9\n",
      "74\n",
      "7.4\n"
     ]
    }
   ],
   "source": [
    "data = [1 , 5, 7, 3, 4, 9, 13, 4, 16, 12]\n",
    "print(data[5])\n",
    "print(sum(data))\n",
    "print(sum(data) / len(data))"
   ]
  },
  {
   "cell_type": "markdown",
   "metadata": {},
   "source": [
    "Task 3.\n",
    "Now, create an empty list and name it as temperatures. \n",
    "Insert 20 different values into the list in the range of -60 to 60 without using numpy."
   ]
  },
  {
   "cell_type": "code",
   "execution_count": 66,
   "metadata": {},
   "outputs": [
    {
     "name": "stdout",
     "output_type": "stream",
     "text": [
      "[1, 5, 7, 3, 4, 9, 13, 4, 16, 12, -13, -29, 28, -7, 19, 42, -23, 33, -11, 4, 60, -16, -13, -53, 2, -27, -10, -46, -22, 38]\n"
     ]
    }
   ],
   "source": [
    "temperature = []\n",
    "for i in range(20):\n",
    "    data.append(random.randint(-60,60))\n",
    "print(data)    "
   ]
  },
  {
   "cell_type": "markdown",
   "metadata": {},
   "source": [
    "Task 4.\n",
    "Use the list that you have created from the previous task, find...\n",
    "1. Maximum value of the list\n",
    "2. Minimum value of the list\n",
    "3. The sum of the list"
   ]
  },
  {
   "cell_type": "code",
   "execution_count": 70,
   "metadata": {},
   "outputs": [
    {
     "name": "stdout",
     "output_type": "stream",
     "text": [
      "60\n",
      "-60\n",
      "190\n"
     ]
    }
   ],
   "source": [
    "temperature = []\n",
    "for i in range(20):\n",
    "    data.append(random.randint(-60,60))\n",
    "print(max(data))   \n",
    "print(min(data))\n",
    "print(sum(data))"
   ]
  },
  {
   "cell_type": "markdown",
   "metadata": {},
   "source": [
    "Task 5.\n",
    "Create an empty list and name it as data. Insert a range of values between 10 to 50 and set the space between each of the number to 3. The length of the list will be 30. Use numpy."
   ]
  },
  {
   "cell_type": "code",
   "execution_count": 76,
   "metadata": {},
   "outputs": [
    {
     "name": "stdout",
     "output_type": "stream",
     "text": [
      "[10 13 16 19 22 25 28 31 34 37 40 43 46 49]\n"
     ]
    }
   ],
   "source": [
    "import numpy as np\n",
    "data = []\n",
    "data = np.arange(10, 50, 3, dtype=None)\n",
    "print(data)"
   ]
  },
  {
   "cell_type": "markdown",
   "metadata": {},
   "source": [
    "Task 6.\n",
    "From the list that you created from Task 5, find...\n",
    "1. The number with index of 10\n",
    "2. Find the summation between these number:\n",
    "number with index 2, 4, 8 and 13"
   ]
  },
  {
   "cell_type": "code",
   "execution_count": 82,
   "metadata": {},
   "outputs": [
    {
     "name": "stdout",
     "output_type": "stream",
     "text": [
      "40\n",
      "41\n"
     ]
    }
   ],
   "source": [
    "import numpy as np\n",
    "data = []\n",
    "data = np.arange(10, 50, 3, dtype=None)\n",
    "print(data[10])\n",
    "print(data[2] + 4 + 8 + 13)"
   ]
  },
  {
   "cell_type": "markdown",
   "metadata": {},
   "source": [
    "Task 7.\n",
    "Create an empty list and name it myData. After that, fill the list up with random number between that range of -500 and 500. Set the length of the list to 50. Use numpy."
   ]
  },
  {
   "cell_type": "code",
   "execution_count": 85,
   "metadata": {},
   "outputs": [
    {
     "name": "stdout",
     "output_type": "stream",
     "text": [
      "[ 447  495 -425  440 -344  -24   71  314  236 -336  -41   23  408  315\n",
      "  492   53  216 -262  207  314  231  245 -219  157 -426 -121  180 -175\n",
      " -421  275  254   35 -391  -28 -436  169  -35 -196 -140   90 -400 -246\n",
      "   35  440  273 -346 -118  396 -216 -294]\n"
     ]
    }
   ],
   "source": [
    "import numpy as np\n",
    "myData = []\n",
    "myData = np.random.randint(-500, 500, 50)\n",
    "print(myData)"
   ]
  },
  {
   "cell_type": "markdown",
   "metadata": {},
   "source": [
    "Task 8.\n",
    "From the list that you created from Task 7, find...\n",
    "1. The number with index of 43\n",
    "2. Max value of the list\n",
    "3. The average of the list"
   ]
  },
  {
   "cell_type": "code",
   "execution_count": 87,
   "metadata": {},
   "outputs": [
    {
     "name": "stdout",
     "output_type": "stream",
     "text": [
      "466\n",
      "49\n",
      "29.5\n"
     ]
    }
   ],
   "source": [
    "import numpy as np\n",
    "myData = []\n",
    "myData = np.random.randint(-500, 500, 50)\n",
    "print(myData[43])\n",
    "print(max(data))\n",
    "print(sum(data) / len(data))"
   ]
  },
  {
   "cell_type": "markdown",
   "metadata": {},
   "source": [
    "Task 9.\n",
    "Below shows a list that contains various of numbers. Try to find...\n",
    "1. The length of the list\n",
    "2. The number with index of 28\n",
    "3. Location of number 452.\n",
    "4. The difference between Max and Min value"
   ]
  },
  {
   "cell_type": "code",
   "execution_count": 125,
   "metadata": {},
   "outputs": [
    {
     "name": "stdout",
     "output_type": "stream",
     "text": [
      "177\n",
      "225\n",
      "(array([], dtype=int32),)\n",
      "982\n"
     ]
    }
   ],
   "source": [
    "import random\n",
    "import numpy as np\n",
    "\n",
    "lists = np.random.randint(-500, 500, np.random.randint(100, 500))\n",
    "print(len(lists))\n",
    "print(lists[28])\n",
    "print(np.where(lists == 500))\n",
    "print(max(lists) - min(lists))"
   ]
  },
  {
   "cell_type": "markdown",
   "metadata": {},
   "source": [
    "Task 10.\n",
    "Below shows a list that contains some numbers. Try to find...\n",
    "1. The difference between the number with index of 232 and 438\n",
    "2. The average of list\n",
    "3. Location of number 769 and -776. Built a condition for this if the number cannot be found."
   ]
  },
  {
   "cell_type": "code",
   "execution_count": null,
   "metadata": {},
   "outputs": [],
   "source": [
    "import random\n",
    "import numpy as np\n",
    "np.random.seed(0)\n",
    "myList = np.random.randint(-1000, 1000, np.random.randint(500, 1000))\n",
    "print(myList)\n",
    "print(myList[232] - myList[438])\n",
    "print(sum(myList) / len(myList))\n",
    "print(np.where(myList=222))\n",
    "    "
   ]
  },
  {
   "cell_type": "code",
   "execution_count": null,
   "metadata": {},
   "outputs": [],
   "source": []
  },
  {
   "cell_type": "code",
   "execution_count": null,
   "metadata": {},
   "outputs": [],
   "source": []
  }
 ],
 "metadata": {
  "kernelspec": {
   "display_name": "Python 3",
   "language": "python",
   "name": "python3"
  },
  "language_info": {
   "codemirror_mode": {
    "name": "ipython",
    "version": 3
   },
   "file_extension": ".py",
   "mimetype": "text/x-python",
   "name": "python",
   "nbconvert_exporter": "python",
   "pygments_lexer": "ipython3",
   "version": "3.7.3"
  }
 },
 "nbformat": 4,
 "nbformat_minor": 2
}
