{
 "cells": [
  {
   "cell_type": "markdown",
   "metadata": {},
   "source": [
    "# Exponential Distribution Exercises"
   ]
  },
  {
   "cell_type": "markdown",
   "metadata": {},
   "source": [
    "<b>Task 6</b>\n",
    "<br>\n",
    "Refer the information in Task 5, solve the question below.\n",
    "\n",
    "If another person arrives at a public telephone just before you, find the probability that you will have to wait more than five minutes.\n",
    "\n",
    "Hints:  𝑃(𝑥>5)"
   ]
  },
  {
   "cell_type": "code",
   "execution_count": 2,
   "metadata": {},
   "outputs": [
    {
     "name": "stdout",
     "output_type": "stream",
     "text": [
      "0.6592406302004438\n"
     ]
    }
   ],
   "source": [
    "import math\n",
    "import matplotlib.pyplot as plt\n",
    "import numpy as np\n",
    "import scipy.stats as st\n",
    "mean = 12\n",
    "lamb = 1.0 / mean\n",
    "def cdf(x):\n",
    "    return 1 - math.exp((-lamb)*x)\n",
    "print(1 - cdf(5))"
   ]
  },
  {
   "cell_type": "markdown",
   "metadata": {},
   "source": [
    "<b>Task 7</b>\n",
    "<br>\n",
    "The time spent waiting between events is often modeled using the exponential distribution. For example, suppose that an average of 30 customers per hour arrive at a store and the time between arrivals is exponentially distributed.\n",
    "\n",
    "\n",
    "Plot a graph that represented to the information above using numpy and scipy. Set the length of your data to 20 hours."
   ]
  },
  {
   "cell_type": "code",
   "execution_count": 13,
   "metadata": {},
   "outputs": [
    {
     "data": {
      "text/plain": [
       "[<matplotlib.lines.Line2D at 0x7f0e6fbf1a20>]"
      ]
     },
     "execution_count": 13,
     "metadata": {},
     "output_type": "execute_result"
    },
    {
     "data": {
      "image/png": "[encoded data removed]",
      "text/plain": [
       "<Figure size 432x288 with 1 Axes>"
      ]
     },
     "metadata": {
      "needs_background": "light"
     },
     "output_type": "display_data"
    }
   ],
   "source": [
    "mean = 30\n",
    "lamb = 1/30\n",
    "random = np.arange(0,21)\n",
    "x = st.expon.pdf(random, scale=1/lamb)\n",
    "plt.plot(random, x, color = 'green')"
   ]
  },
  {
   "cell_type": "markdown",
   "metadata": {},
   "source": [
    "<b>Task 8</b>\n",
    "<br>\n",
    "Refer the information in Task 7, solve the question below.\n",
    "\n",
    "a. Find the area when x is between 5 and 15.\n",
    "<br>\n",
    "b. Seventy percent of the customers arrive within how many minutes of the previous customer?\n",
    "\n",
    "Hints:\n",
    "<br>\n",
    "a. Area means find the probability. So  𝑃(5<𝑥<15) \n",
    "<br>\n",
    "b.  𝑃(𝑋<𝑥)=0.70"
   ]
  },
  {
   "cell_type": "code",
   "execution_count": 14,
   "metadata": {},
   "outputs": [
    {
     "name": "stdout",
     "output_type": "stream",
     "text": [
      "0.2399510651779807\n"
     ]
    }
   ],
   "source": [
    "mean = 30\n",
    "lamb = 1.0 / mean\n",
    "def cdf(x):\n",
    "    return 1 - math.exp((-lamb)*x)\n",
    "print(cdf(15) - cdf(5))"
   ]
  },
  {
   "cell_type": "markdown",
   "metadata": {},
   "source": [
    "<b>Task 9</b>\n",
    "<br>\n",
    "The time (in hours) required to repair a machine is an exponential distributed random variable with paramter  𝜆=12 .\n",
    "<br>\n",
    "Plot a PDF and CDF graph using numpy. Remember tp label x-axis and y-axis.\n",
    "<br>\n",
    "Hints:\n",
    "<br>\n",
    "a. Generate your lists with np.random.exponential(mean,scale of data)\n",
    "<br>\n",
    "b. Remeber to sort() your list.\n",
    "<br>\n",
    "c. Use st.expon.pdf(lists_name, scale = 1/lambda) and st.expon.cdf(lists_name, scale = 1/lambda)\n",
    "<br>\n",
    "import numpy as np"
   ]
  },
  {
   "cell_type": "code",
   "execution_count": 68,
   "metadata": {},
   "outputs": [
    {
     "data": {
      "image/png": "[encoded data removed]",
      "text/plain": [
       "<Figure size 432x288 with 1 Axes>"
      ]
     },
     "metadata": {
      "needs_background": "light"
     },
     "output_type": "display_data"
    }
   ],
   "source": [
    "mean = 2\n",
    "lists = np.random.exponential(mean, 80)\n",
    "lists.sort()\n",
    "x = st.expon.pdf(lists)\n",
    "y = st.expon.cdf(lists)\n",
    "\n",
    "plt.plot(lists, x, color = \"pink\")\n",
    "plt.plot(lists, y, color = \"red\")\n",
    "plt.show()"
   ]
  },
  {
   "cell_type": "markdown",
   "metadata": {},
   "source": [
    "<b>Task 10</b>\n",
    "<br>\n",
    "Refer the information in Task 9. Solve the question below.\n",
    "<br>\n",
    "a. Find the probability that a repair time exceeds 2 hours.\n",
    "<br>\n",
    "b. Base on the PDF graph, find the area between the 1 - 4 hours."
   ]
  },
  {
   "cell_type": "code",
   "execution_count": 76,
   "metadata": {},
   "outputs": [
    {
     "name": "stdout",
     "output_type": "stream",
     "text": [
      "0.36787944117144233\n",
      "0.4711953764760207\n"
     ]
    }
   ],
   "source": [
    "print(1 - cdf(2))\n",
    "print(cdf(4) - cdf(1))"
   ]
  },
  {
   "cell_type": "code",
   "execution_count": null,
   "metadata": {},
   "outputs": [],
   "source": []
  }
 ],
 "metadata": {
  "kernelspec": {
   "display_name": "Python 3",
   "language": "python",
   "name": "python3"
  },
  "language_info": {
   "codemirror_mode": {
    "name": "ipython",
    "version": 3
   },
   "file_extension": ".py",
   "mimetype": "text/x-python",
   "name": "python",
   "nbconvert_exporter": "python",
   "pygments_lexer": "ipython3",
   "version": "3.7.3"
  }
 },
 "nbformat": 4,
 "nbformat_minor": 2
}
