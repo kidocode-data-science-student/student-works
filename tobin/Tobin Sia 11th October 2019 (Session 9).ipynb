{
 "cells": [
  {
   "cell_type": "markdown",
   "metadata": {},
   "source": [
    "# Normal Distribution"
   ]
  },
  {
   "cell_type": "markdown",
   "metadata": {},
   "source": [
    "95% of students at school are between 1.1m and 1.7m tall. Assuming this data is normally distributed, can you calculate the mean and standard deviation?"
   ]
  },
  {
   "cell_type": "code",
   "execution_count": 8,
   "metadata": {},
   "outputs": [
    {
     "name": "stdout",
     "output_type": "stream",
     "text": [
      "0.15\n"
     ]
    }
   ],
   "source": [
    "mean = (1.1 + 1.7)/2\n",
    "standard_deviation = (0.6/4)\n",
    "print(standard_deviation)"
   ]
  },
  {
   "cell_type": "markdown",
   "metadata": {},
   "source": [
    "Create random samples from a normal distribution using numpy\n",
    "numpy.random.normal(loc= ,scale= ,size= ) \n",
    "\n",
    "Parameters: \n",
    "a) loc: mean (center) of the distribution. \n",
    "b) scale: standard deviation (spread or width) of the distribution. \n",
    "c) size: output shape/ size of the samples. \n",
    "\n",
    "Returns: \n",
    "Drawn samples from the parameterized normal distribution.\n",
    "\n",
    "Example2.1: Generate a random samples for normal distributions with the following properties: \n",
    "a) size of samples=10000 \n",
    "b) mean=100 \n",
    "c) standard deviation=0.1"
   ]
  },
  {
   "cell_type": "code",
   "execution_count": 19,
   "metadata": {},
   "outputs": [
    {
     "name": "stdout",
     "output_type": "stream",
     "text": [
      "[ 99.95738975  99.89715358 100.16257905 ... 100.0302368  100.02148713\n",
      " 100.00440526]\n"
     ]
    }
   ],
   "source": [
    "import numpy as np\n",
    "samples = 10000\n",
    "mean = 100\n",
    "standard_deviation = 0.1\n",
    "X = np.random.normal(mean, standard_deviation, samples)\n",
    "print(X)"
   ]
  },
  {
   "cell_type": "code",
   "execution_count": 48,
   "metadata": {},
   "outputs": [
    {
     "data": {
      "text/plain": [
       "(array([0.01421587, 0.00710794, 0.00710794, 0.00710794, 0.01421587,\n",
       "        0.02843175, 0.07107937, 0.07818731, 0.22034605, 0.26299367,\n",
       "        0.31274923, 0.34828892, 0.54020322, 0.63971434, 0.90270802,\n",
       "        1.32207631, 1.5495303 , 1.72722873, 2.17502877, 2.4309145 ,\n",
       "        2.64415262, 2.99954948, 3.44734952, 3.68191144, 3.97333686,\n",
       "        4.00176861, 3.86671781, 3.80274637, 3.5966162 , 3.74588288,\n",
       "        3.51132095, 2.95690185, 2.68680024, 2.42380657, 2.08973352,\n",
       "        1.96179065, 1.72012079, 1.32207631, 1.03065089, 0.90981595,\n",
       "        0.56152703, 0.47623179, 0.2487778 , 0.17769843, 0.1919143 ,\n",
       "        0.16348255, 0.10661906, 0.0568635 , 0.04264762, 0.02132381]),\n",
       " array([ 99.62422516,  99.63829394,  99.65236272,  99.6664315 ,\n",
       "         99.68050028,  99.69456906,  99.70863784,  99.72270662,\n",
       "         99.7367754 ,  99.75084418,  99.76491296,  99.77898174,\n",
       "         99.79305052,  99.8071193 ,  99.82118808,  99.83525686,\n",
       "         99.84932563,  99.86339441,  99.87746319,  99.89153197,\n",
       "         99.90560075,  99.91966953,  99.93373831,  99.94780709,\n",
       "         99.96187587,  99.97594465,  99.99001343, 100.00408221,\n",
       "        100.01815099, 100.03221977, 100.04628855, 100.06035733,\n",
       "        100.07442611, 100.08849489, 100.10256366, 100.11663244,\n",
       "        100.13070122, 100.14477   , 100.15883878, 100.17290756,\n",
       "        100.18697634, 100.20104512, 100.2151139 , 100.22918268,\n",
       "        100.24325146, 100.25732024, 100.27138902, 100.2854578 ,\n",
       "        100.29952658, 100.31359536, 100.32766414]),\n",
       " <a list of 50 Patch objects>)"
      ]
     },
     "execution_count": 48,
     "metadata": {},
     "output_type": "execute_result"
    },
    {
     "data": {
      "image/png": "[encoded data removed]",
      "text/plain": [
       "<Figure size 432x288 with 1 Axes>"
      ]
     },
     "metadata": {
      "needs_background": "light"
     },
     "output_type": "display_data"
    }
   ],
   "source": [
    "import matplotlib.pyplot as plt\n",
    "plt.hist(X, bins = 50, density=True)\n"
   ]
  },
  {
   "cell_type": "code",
   "execution_count": 114,
   "metadata": {},
   "outputs": [
    {
     "data": {
      "image/png": "[encoded data removed]",
      "text/plain": [
       "<Figure size 432x288 with 1 Axes>"
      ]
     },
     "metadata": {
      "needs_background": "light"
     },
     "output_type": "display_data"
    }
   ],
   "source": [
    "from scipy.stats import norm\n",
    "pdf=[]\n",
    "for i in bins:\n",
    "    f=norm.pdf(i,mean,sd)\n",
    "    pdf.append(f)\n",
    "\n",
    "plt.plot(bins,pdf, linewidth=2, color='r')    \n",
    "\n",
    "plt.xlabel('Data')\n",
    "plt.ylabel('Probability')\n",
    "plt.title('Pdf with mean=0, standard deviation=0.1')\n",
    "plt.grid(True)\n",
    "plt.show()\n"
   ]
  },
  {
   "cell_type": "markdown",
   "metadata": {},
   "source": [
    "TASK 1: The ages of all students in a class is normally distributed. The 95% of total data is between the age 15.6 and 18.4. Find the mean and standard deviation of the given data.\n",
    "\n",
    "Hint: We know that in normal distribution 95% of values are within two standard deviations of the mean."
   ]
  },
  {
   "cell_type": "code",
   "execution_count": 96,
   "metadata": {},
   "outputs": [
    {
     "name": "stdout",
     "output_type": "stream",
     "text": [
      "17.0\n",
      "0.7\n"
     ]
    }
   ],
   "source": [
    "mean = (15.6 + 18.4)/2\n",
    "sd = 2.8/4\n",
    "print(mean)\n",
    "print(sd)"
   ]
  },
  {
   "cell_type": "markdown",
   "metadata": {},
   "source": [
    "TASK 2: Generate a random samples for normal distributions with the following properties: \n",
    "a) size of samples=5000 \n",
    "b) mean=150 \n",
    "c) standard deviation=30\n",
    "\n"
   ]
  },
  {
   "cell_type": "code",
   "execution_count": 99,
   "metadata": {},
   "outputs": [
    {
     "name": "stdout",
     "output_type": "stream",
     "text": [
      "[145.98882742 124.90174504 180.87371375 ... 122.50064683 204.05630242\n",
      " 139.5612412 ]\n"
     ]
    }
   ],
   "source": [
    "mean = 150\n",
    "sd = 30\n",
    "size = 5000\n",
    "X = np.random.normal(mean,sd,size)\n",
    "print(X)"
   ]
  },
  {
   "cell_type": "markdown",
   "metadata": {},
   "source": [
    "TASK 3: Now draw a histogram of normal distribution for sample data from Task 2."
   ]
  },
  {
   "cell_type": "code",
   "execution_count": 79,
   "metadata": {},
   "outputs": [
    {
     "data": {
      "text/plain": [
       "(array([4.87962338e-05, 4.87962338e-05, 4.87962338e-05, 1.46388701e-04,\n",
       "        3.90369870e-04, 5.36758572e-04, 6.34351039e-04, 9.75924676e-04,\n",
       "        1.21990584e-03, 1.80546065e-03, 2.63499663e-03, 2.24462675e-03,\n",
       "        2.53740416e-03, 4.53804974e-03, 5.80675182e-03, 6.44110286e-03,\n",
       "        7.36823130e-03, 8.34415598e-03, 1.08327639e-02, 1.11255413e-02,\n",
       "        1.11743375e-02, 1.19062810e-02, 1.19550773e-02, 1.41021116e-02,\n",
       "        1.28334095e-02, 1.39557229e-02, 1.39557229e-02, 1.13695225e-02,\n",
       "        1.16622999e-02, 1.03935978e-02, 8.34415598e-03, 9.41767312e-03,\n",
       "        7.31943507e-03, 6.09952922e-03, 5.70915935e-03, 3.90369870e-03,\n",
       "        3.07416273e-03, 1.75666442e-03, 2.00064559e-03, 1.02472091e-03,\n",
       "        1.31749831e-03, 7.31943507e-04, 6.34351039e-04, 8.78332208e-04,\n",
       "        2.43981169e-04, 1.46388701e-04, 0.00000000e+00, 1.95184935e-04,\n",
       "        4.87962338e-05, 9.75924676e-05]),\n",
       " array([ 50.23280325,  54.33148023,  58.4301572 ,  62.52883418,\n",
       "         66.62751116,  70.72618813,  74.82486511,  78.92354208,\n",
       "         83.02221906,  87.12089604,  91.21957301,  95.31824999,\n",
       "         99.41692697, 103.51560394, 107.61428092, 111.71295789,\n",
       "        115.81163487, 119.91031185, 124.00898882, 128.1076658 ,\n",
       "        132.20634278, 136.30501975, 140.40369673, 144.5023737 ,\n",
       "        148.60105068, 152.69972766, 156.79840463, 160.89708161,\n",
       "        164.99575859, 169.09443556, 173.19311254, 177.29178951,\n",
       "        181.39046649, 185.48914347, 189.58782044, 193.68649742,\n",
       "        197.78517439, 201.88385137, 205.98252835, 210.08120532,\n",
       "        214.1798823 , 218.27855928, 222.37723625, 226.47591323,\n",
       "        230.5745902 , 234.67326718, 238.77194416, 242.87062113,\n",
       "        246.96929811, 251.06797509, 255.16665206]),\n",
       " <a list of 50 Patch objects>)"
      ]
     },
     "execution_count": 79,
     "metadata": {},
     "output_type": "execute_result"
    },
    {
     "data": {
      "image/png": "[encoded data removed]",
      "text/plain": [
       "<Figure size 432x288 with 1 Axes>"
      ]
     },
     "metadata": {
      "needs_background": "light"
     },
     "output_type": "display_data"
    }
   ],
   "source": [
    "plt.hist(X, bins = 50, density = True, color = 'red')"
   ]
  },
  {
   "cell_type": "markdown",
   "metadata": {},
   "source": [
    "TASK 4: Now draw the pdf for random samples from Task 2.\n",
    "    "
   ]
  },
  {
   "cell_type": "code",
   "execution_count": 110,
   "metadata": {},
   "outputs": [
    {
     "data": {
      "image/png": "[encoded data removed]",
      "text/plain": [
       "<Figure size 432x288 with 1 Axes>"
      ]
     },
     "metadata": {
      "needs_background": "light"
     },
     "output_type": "display_data"
    }
   ],
   "source": [
    "from scipy.stats import norm\n",
    "\n",
    "pdf=[]\n",
    "for i in bins:\n",
    "    f=norm.pdf(i,mean,sd)\n",
    "    pdf.append(f)\n",
    "    \n",
    "plt.plot(bins,pdf, linewidth=2, color='brown')    \n",
    "plt.xlabel('Data')\n",
    "plt.ylabel('Probability')\n",
    "plt.title('Pdf with mean=150, standard deviation=30')\n",
    "plt.grid(True)"
   ]
  }
 ],
 "metadata": {
  "kernelspec": {
   "display_name": "Python 3",
   "language": "python",
   "name": "python3"
  },
  "language_info": {
   "codemirror_mode": {
    "name": "ipython",
    "version": 3
   },
   "file_extension": ".py",
   "mimetype": "text/x-python",
   "name": "python",
   "nbconvert_exporter": "python",
   "pygments_lexer": "ipython3",
   "version": "3.7.3"
  }
 },
 "nbformat": 4,
 "nbformat_minor": 2
}
