{
 "cells": [
  {
   "cell_type": "markdown",
   "metadata": {},
   "source": [
    "# Fitter Part 2"
   ]
  },
  {
   "cell_type": "code",
   "execution_count": 1,
   "metadata": {},
   "outputs": [
    {
     "name": "stdout",
     "output_type": "stream",
     "text": [
      "    Unnamed: 0    ID  Building  Year of sale  Month of sale Type of property  \\\n",
      "0          NaN  1030         1        2005.0           11.0        Apartment   \n",
      "1          NaN  1029         1        2005.0           10.0        Apartment   \n",
      "2          NaN  2002         2        2007.0            7.0        Apartment   \n",
      "3          NaN  2031         2        2007.0           12.0        Apartment   \n",
      "4          NaN  1049         1        2004.0           11.0        Apartment   \n",
      "5          NaN  3011         3        2007.0            9.0        Apartment   \n",
      "6          NaN  3026         3        2007.0            9.0        Apartment   \n",
      "7          NaN  3023         3        2008.0            1.0        Apartment   \n",
      "8          NaN  1031         1        2006.0            6.0        Apartment   \n",
      "9          NaN  4023         4        2006.0            3.0        Apartment   \n",
      "10         NaN  1036         1        2004.0           10.0        Apartment   \n",
      "11         NaN  1046         1        2006.0            8.0        Apartment   \n",
      "12         NaN  4035         4        2007.0           10.0        Apartment   \n",
      "13         NaN  2036         2        2006.0           11.0        Apartment   \n",
      "14         NaN  2056         2        2007.0            4.0        Apartment   \n",
      "15         NaN  1047         1        2007.0           12.0        Apartment   \n",
      "16         NaN  5051         5        2006.0            3.0        Apartment   \n",
      "17         NaN  2007         2        2006.0            8.0        Apartment   \n",
      "18         NaN  3020         3        2007.0            4.0        Apartment   \n",
      "19         NaN  3029         3        2007.0            4.0        Apartment   \n",
      "20         NaN  3015         3        2006.0           10.0        Apartment   \n",
      "21         NaN  2004         2        2006.0           12.0        Apartment   \n",
      "22         NaN  2006         2        2006.0           12.0        Apartment   \n",
      "23         NaN  5013         5        2007.0            9.0        Apartment   \n",
      "24         NaN  1026         1        2005.0            3.0        Apartment   \n",
      "25         NaN  2054         2        2006.0            6.0        Apartment   \n",
      "26         NaN  3033         3        2007.0            9.0        Apartment   \n",
      "27         NaN  1025         1        2005.0            3.0        Apartment   \n",
      "28         NaN  3027         3        2006.0            8.0        Apartment   \n",
      "29         NaN  3031         3        2007.0            3.0        Apartment   \n",
      "..         ...   ...       ...           ...            ...              ...   \n",
      "237        NaN  5004         5           NaN            NaN        Apartment   \n",
      "238        NaN  5005         5           NaN            NaN        Apartment   \n",
      "239        NaN  5006         5           NaN            NaN        Apartment   \n",
      "240        NaN  5007         5           NaN            NaN        Apartment   \n",
      "241        NaN  5008         5           NaN            NaN        Apartment   \n",
      "242        NaN  5009         5           NaN            NaN        Apartment   \n",
      "243        NaN  5010         5           NaN            NaN        Apartment   \n",
      "244        NaN  5011         5           NaN            NaN        Apartment   \n",
      "245        NaN  5012         5           NaN            NaN        Apartment   \n",
      "246        NaN  5014         5           NaN            NaN        Apartment   \n",
      "247        NaN  5015         5           NaN            NaN        Apartment   \n",
      "248        NaN  5016         5           NaN            NaN        Apartment   \n",
      "249        NaN  5017         5           NaN            NaN        Apartment   \n",
      "250        NaN  5018         5           NaN            NaN        Apartment   \n",
      "251        NaN  5020         5           NaN            NaN        Apartment   \n",
      "252        NaN  5025         5           NaN            NaN        Apartment   \n",
      "253        NaN  5026         5           NaN            NaN        Apartment   \n",
      "254        NaN  5030         5           NaN            NaN        Apartment   \n",
      "255        NaN  5032         5           NaN            NaN        Apartment   \n",
      "256        NaN  5034         5           NaN            NaN        Apartment   \n",
      "257        NaN  5036         5           NaN            NaN        Apartment   \n",
      "258        NaN  5037         5           NaN            NaN        Apartment   \n",
      "259        NaN  5038         5           NaN            NaN        Apartment   \n",
      "260        NaN  5041         5           NaN            NaN        Apartment   \n",
      "261        NaN  5043         5           NaN            NaN        Apartment   \n",
      "262        NaN  5044         5           NaN            NaN        Apartment   \n",
      "263        NaN  5047         5           NaN            NaN        Apartment   \n",
      "264        NaN  5048         5           NaN            NaN        Apartment   \n",
      "265        NaN  5050         5           NaN            NaN        Apartment   \n",
      "266        NaN  5051         5           NaN            NaN        Apartment   \n",
      "\n",
      "     Property #  Area (ft.)        Price Status  ...       Y     M     D  \\\n",
      "0            30    743.0856  246172.6760   Sold  ...  1986.0   6.0  21.0   \n",
      "1            29    756.2128  246331.9040   Sold  ...  1983.0   2.0  24.0   \n",
      "2             2    587.2808  209280.9104   Sold  ...  1985.0  12.0  27.0   \n",
      "3            31   1604.7464  452667.0064   Sold  ...  1985.0  12.0  27.0   \n",
      "4            49   1375.4508  467083.3132   Sold  ...  1979.0   5.0  15.0   \n",
      "5            11    675.1900  203491.8500   Sold  ...  1981.0  12.0  26.0   \n",
      "6            26    670.8860  212520.8260   Sold  ...  1981.0  12.0  26.0   \n",
      "7            23    720.8124  198591.8488   Sold  ...  1982.0   5.0  27.0   \n",
      "8            31    782.2520  265467.6800   Sold  ...  1979.0   6.0  27.0   \n",
      "9            23    794.5184  235633.2592   Sold  ...  1979.0  12.0   3.0   \n",
      "10           36   1160.3584  317473.8608   Sold  ...  1976.0   8.0  17.0   \n",
      "11           46   1942.5028  503790.2308   Sold  ...  1980.0   9.0  14.0   \n",
      "12           35    794.5184  217786.3760   Sold  ...  1978.0   6.0   4.0   \n",
      "13           36   1109.2484  460001.2560   Sold  ...  1977.0   6.0  10.0   \n",
      "14           56   1400.9520  460001.2560   Sold  ...  1978.0  12.0   3.0   \n",
      "15           47   1479.7152  448134.2688   Sold  ...  1978.0   9.0  14.0   \n",
      "16           51    790.5372  249591.9948   Sold  ...  1977.0  12.0  25.0   \n",
      "17            7    723.9328  196142.1920   Sold  ...  1976.0  12.0  25.0   \n",
      "18           20    781.0684  258572.4776   Sold  ...  1977.0   1.0   8.0   \n",
      "19           29   1127.7556  310831.2116   Sold  ...  1977.0   1.0   8.0   \n",
      "20           15    720.7048  207281.5912   Sold  ...  1975.0   3.0  22.0   \n",
      "21            4    649.6888  168834.0424   Sold  ...  1975.0  10.0   5.0   \n",
      "22            6   1307.4476  396973.8324   Sold  ...  1975.0  10.0   5.0   \n",
      "23           13    618.3772  188743.1072   Sold  ...  1976.0   2.0  26.0   \n",
      "24           26    625.8016  179674.0752   Sold  ...  1973.0   9.0   1.0   \n",
      "25           54   1203.2908  306363.6436   Sold  ...  1974.0   3.0  27.0   \n",
      "26           33    670.8860  200300.6340   Sold  ...  1975.0   8.0  12.0   \n",
      "27           25   1434.0928  382041.1280   Sold  ...  1972.0   3.0  26.0   \n",
      "28           27    781.0684  245572.7936   Sold  ...  1973.0   9.0  15.0   \n",
      "29           31   1596.3536  407214.2896   Sold  ...  1974.0  12.0  25.0   \n",
      "..          ...         ...          ...    ...  ...     ...   ...   ...   \n",
      "237           4    798.4996  250415.3820    NaN  ...     NaN   NaN   NaN   \n",
      "238           5    798.4996  219252.8920    NaN  ...     NaN   NaN   NaN   \n",
      "239           6   1058.2460  264011.6980    NaN  ...     NaN   NaN   NaN   \n",
      "240           7    618.1620  211406.8680    NaN  ...     NaN   NaN   NaN   \n",
      "241           8   1273.8764  396330.2908    NaN  ...     NaN   NaN   NaN   \n",
      "242           9    798.4996  227072.8784    NaN  ...     NaN   NaN   NaN   \n",
      "243          10    798.4996  276323.8656    NaN  ...     NaN   NaN   NaN   \n",
      "244          11    798.4996  230943.3796    NaN  ...     NaN   NaN   NaN   \n",
      "245          12   1058.2460  315382.1100    NaN  ...     NaN   NaN   NaN   \n",
      "246          14   1273.5536  372016.5616    NaN  ...     NaN   NaN   NaN   \n",
      "247          15    798.4996  237680.8752    NaN  ...     NaN   NaN   NaN   \n",
      "248          16    798.4996  234032.8840    NaN  ...     NaN   NaN   NaN   \n",
      "249          17    798.2844  273165.5768    NaN  ...     NaN   NaN   NaN   \n",
      "250          18   1057.9232  271227.4944    NaN  ...     NaN   NaN   NaN   \n",
      "251          20   1273.5536  349865.2224    NaN  ...     NaN   NaN   NaN   \n",
      "252          25    618.1620  199730.7340    NaN  ...     NaN   NaN   NaN   \n",
      "253          26   1273.5536  338482.4544    NaN  ...     NaN   NaN   NaN   \n",
      "254          30   1057.9232  351304.5776    NaN  ...     NaN   NaN   NaN   \n",
      "255          32   1273.5536  338472.1328    NaN  ...     NaN   NaN   NaN   \n",
      "256          34    798.2844  212916.3568    NaN  ...     NaN   NaN   NaN   \n",
      "257          36   1057.9232  308660.8032    NaN  ...     NaN   NaN   NaN   \n",
      "258          37    606.3260  147343.6940    NaN  ...     NaN   NaN   NaN   \n",
      "259          38   1273.5536  448574.6704    NaN  ...     NaN   NaN   NaN   \n",
      "260          41    798.2844  255337.8980    NaN  ...     NaN   NaN   NaN   \n",
      "261          43    598.5788  175773.5856    NaN  ...     NaN   NaN   NaN   \n",
      "262          44   1238.5836  322610.7392    NaN  ...     NaN   NaN   NaN   \n",
      "263          47    794.5184  279191.2560    NaN  ...     NaN   NaN   NaN   \n",
      "264          48   1013.2692  287996.5296    NaN  ...     NaN   NaN   NaN   \n",
      "265          50   1074.7088  365868.7776    NaN  ...     NaN   NaN   NaN   \n",
      "266          51    789.2460  199216.4040    NaN  ...     NaN   NaN   NaN   \n",
      "\n",
      "    Gender Country       State     Purpose  Deal satisfaction  Mortgage  \\\n",
      "0        F     USA  California        Home                5.0        No   \n",
      "1        F     USA  California        Home                5.0        No   \n",
      "2        M     USA  California        Home                1.0       Yes   \n",
      "3        M     USA  California  Investment                3.0       Yes   \n",
      "4        F     USA  California        Home                4.0        No   \n",
      "5        F     USA    Virginia  Investment                5.0        No   \n",
      "6        F     USA    Virginia  Investment                5.0        No   \n",
      "7        M     USA  California        Home                5.0        No   \n",
      "8        M     USA     Arizona        Home                2.0       Yes   \n",
      "9        F     USA    Virginia  Investment                3.0       Yes   \n",
      "10       F     USA      Oregon        Home                1.0        No   \n",
      "11       M     USA  California        Home                5.0        No   \n",
      "12       F     USA      Nevada        Home                3.0       Yes   \n",
      "13       M     USA  California        Home                2.0        No   \n",
      "14       F     USA  California        Home                5.0        No   \n",
      "15       M     USA  California        Home                5.0        No   \n",
      "16       M     USA      Nevada        Home                4.0       Yes   \n",
      "17       M     USA    Colorado        Home                4.0       Yes   \n",
      "18       M     USA     Arizona        Home                5.0        No   \n",
      "19       M     USA     Arizona        Home                3.0        No   \n",
      "20       M     USA      Nevada        Home                5.0        No   \n",
      "21       M     USA  California  Investment                5.0        No   \n",
      "22       M     USA  California  Investment                5.0        No   \n",
      "23       F     USA    Colorado        Home                4.0       Yes   \n",
      "24       M     USA  California        Home                4.0        No   \n",
      "25       M     USA  California        Home                5.0       Yes   \n",
      "26       F     USA        Utah        Home                1.0       Yes   \n",
      "27       M     USA  California        Home                1.0        No   \n",
      "28       M     USA  California        Home                3.0        No   \n",
      "29       F     USA  California  Investment                4.0        No   \n",
      "..     ...     ...         ...         ...                ...       ...   \n",
      "237    NaN     NaN         NaN         NaN                NaN       NaN   \n",
      "238    NaN     NaN         NaN         NaN                NaN       NaN   \n",
      "239    NaN     NaN         NaN         NaN                NaN       NaN   \n",
      "240    NaN     NaN         NaN         NaN                NaN       NaN   \n",
      "241    NaN     NaN         NaN         NaN                NaN       NaN   \n",
      "242    NaN     NaN         NaN         NaN                NaN       NaN   \n",
      "243    NaN     NaN         NaN         NaN                NaN       NaN   \n",
      "244    NaN     NaN         NaN         NaN                NaN       NaN   \n",
      "245    NaN     NaN         NaN         NaN                NaN       NaN   \n",
      "246    NaN     NaN         NaN         NaN                NaN       NaN   \n",
      "247    NaN     NaN         NaN         NaN                NaN       NaN   \n",
      "248    NaN     NaN         NaN         NaN                NaN       NaN   \n",
      "249    NaN     NaN         NaN         NaN                NaN       NaN   \n",
      "250    NaN     NaN         NaN         NaN                NaN       NaN   \n",
      "251    NaN     NaN         NaN         NaN                NaN       NaN   \n",
      "252    NaN     NaN         NaN         NaN                NaN       NaN   \n",
      "253    NaN     NaN         NaN         NaN                NaN       NaN   \n",
      "254    NaN     NaN         NaN         NaN                NaN       NaN   \n",
      "255    NaN     NaN         NaN         NaN                NaN       NaN   \n",
      "256    NaN     NaN         NaN         NaN                NaN       NaN   \n",
      "257    NaN     NaN         NaN         NaN                NaN       NaN   \n",
      "258    NaN     NaN         NaN         NaN                NaN       NaN   \n",
      "259    NaN     NaN         NaN         NaN                NaN       NaN   \n",
      "260    NaN     NaN         NaN         NaN                NaN       NaN   \n",
      "261    NaN     NaN         NaN         NaN                NaN       NaN   \n",
      "262    NaN     NaN         NaN         NaN                NaN       NaN   \n",
      "263    NaN     NaN         NaN         NaN                NaN       NaN   \n",
      "264    NaN     NaN         NaN         NaN                NaN       NaN   \n",
      "265    NaN     NaN         NaN         NaN                NaN       NaN   \n",
      "266    NaN     NaN         NaN         NaN                NaN       NaN   \n",
      "\n",
      "      Source  \n",
      "0    Website  \n",
      "1    Website  \n",
      "2     Client  \n",
      "3    Website  \n",
      "4     Agency  \n",
      "5     Client  \n",
      "6     Agency  \n",
      "7     Client  \n",
      "8    Website  \n",
      "9     Agency  \n",
      "10    Agency  \n",
      "11   Website  \n",
      "12   Website  \n",
      "13   Website  \n",
      "14    Agency  \n",
      "15   Website  \n",
      "16   Website  \n",
      "17    Agency  \n",
      "18    Client  \n",
      "19    Client  \n",
      "20   Website  \n",
      "21    Agency  \n",
      "22    Agency  \n",
      "23    Agency  \n",
      "24   Website  \n",
      "25    Client  \n",
      "26   Website  \n",
      "27    Agency  \n",
      "28   Website  \n",
      "29    Client  \n",
      "..       ...  \n",
      "237      NaN  \n",
      "238      NaN  \n",
      "239      NaN  \n",
      "240      NaN  \n",
      "241      NaN  \n",
      "242      NaN  \n",
      "243      NaN  \n",
      "244      NaN  \n",
      "245      NaN  \n",
      "246      NaN  \n",
      "247      NaN  \n",
      "248      NaN  \n",
      "249      NaN  \n",
      "250      NaN  \n",
      "251      NaN  \n",
      "252      NaN  \n",
      "253      NaN  \n",
      "254      NaN  \n",
      "255      NaN  \n",
      "256      NaN  \n",
      "257      NaN  \n",
      "258      NaN  \n",
      "259      NaN  \n",
      "260      NaN  \n",
      "261      NaN  \n",
      "262      NaN  \n",
      "263      NaN  \n",
      "264      NaN  \n",
      "265      NaN  \n",
      "266      NaN  \n",
      "\n",
      "[267 rows x 27 columns]\n"
     ]
    }
   ],
   "source": [
    "from fitter import Fitter\n",
    "import pandas as pd\n",
    "product_db = pd.read_excel('Practical-example.Descriptive-statistics-lesson.xlsx', \"365RE\", skiprows=4)\n",
    "print(product_db)"
   ]
  },
  {
   "cell_type": "markdown",
   "metadata": {},
   "source": [
    "Question1. Try to find which distribution fits with least error for \"Area\" data. (Among all Distributions)"
   ]
  },
  {
   "cell_type": "code",
   "execution_count": 2,
   "metadata": {},
   "outputs": [
    {
     "name": "stdout",
     "output_type": "stream",
     "text": [
      "Fitted norm distribution with error=0.0002264751850709556)\n",
      "Fitted expon distribution with error=0.00025255532762894287)\n",
      "Fitted uniform distribution with error=0.0002507360573359181)\n"
     ]
    },
    {
     "data": {
      "text/html": [
       "<div>\n",
       "<style scoped>\n",
       "    .dataframe tbody tr th:only-of-type {\n",
       "        vertical-align: middle;\n",
       "    }\n",
       "\n",
       "    .dataframe tbody tr th {\n",
       "        vertical-align: top;\n",
       "    }\n",
       "\n",
       "    .dataframe thead th {\n",
       "        text-align: right;\n",
       "    }\n",
       "</style>\n",
       "<table border=\"1\" class=\"dataframe\">\n",
       "  <thead>\n",
       "    <tr style=\"text-align: right;\">\n",
       "      <th></th>\n",
       "      <th>sumsquare_error</th>\n",
       "    </tr>\n",
       "  </thead>\n",
       "  <tbody>\n",
       "    <tr>\n",
       "      <th>norm</th>\n",
       "      <td>0.000226</td>\n",
       "    </tr>\n",
       "    <tr>\n",
       "      <th>uniform</th>\n",
       "      <td>0.000251</td>\n",
       "    </tr>\n",
       "    <tr>\n",
       "      <th>expon</th>\n",
       "      <td>0.000253</td>\n",
       "    </tr>\n",
       "  </tbody>\n",
       "</table>\n",
       "</div>"
      ],
      "text/plain": [
       "         sumsquare_error\n",
       "norm            0.000226\n",
       "uniform         0.000251\n",
       "expon           0.000253"
      ]
     },
     "execution_count": 2,
     "metadata": {},
     "output_type": "execute_result"
    },
    {
     "data": {
      "image/png": "[encoded data removed]",
      "text/plain": [
       "<Figure size 432x288 with 1 Axes>"
      ]
     },
     "metadata": {
      "needs_background": "light"
     },
     "output_type": "display_data"
    }
   ],
   "source": [
    "area = product_db['Area (ft.)']\n",
    "fitter_for_area = Fitter(area, distributions=['norm', 'expon', 'uniform'])\n",
    "fitter_for_area.fit()\n",
    "fitter_for_area.summary()"
   ]
  },
  {
   "cell_type": "markdown",
   "metadata": {},
   "source": [
    "Question2. Find the parameters of the distribution you chose from previous question(1)."
   ]
  },
  {
   "cell_type": "code",
   "execution_count": 4,
   "metadata": {},
   "outputs": [
    {
     "name": "stdout",
     "output_type": "stream",
     "text": [
      "(936.2211131086143, 284.3610038159024)\n"
     ]
    }
   ],
   "source": [
    "norm_param = fitter_for_area.fitted_param['norm']\n",
    "print(norm_param)"
   ]
  },
  {
   "cell_type": "markdown",
   "metadata": {},
   "source": [
    "Question3. Plot the pdf of the distribution for \"Area\" data and use the parameters you found."
   ]
  },
  {
   "cell_type": "code",
   "execution_count": 6,
   "metadata": {},
   "outputs": [
    {
     "data": {
      "text/plain": [
       "[<matplotlib.lines.Line2D at 0x7f6a789deba8>]"
      ]
     },
     "execution_count": 6,
     "metadata": {},
     "output_type": "execute_result"
    },
    {
     "data": {
      "image/png": "[encoded data removed]",
      "text/plain": [
       "<Figure size 432x288 with 1 Axes>"
      ]
     },
     "metadata": {
      "needs_background": "light"
     },
     "output_type": "display_data"
    }
   ],
   "source": [
    "from pylab import linspace, plot \n",
    "import scipy.stats\n",
    "norm_dist = scipy.stats.norm \n",
    "\n",
    "X = linspace(min(area),max(area), len(area)) \n",
    "pdf_fitted = norm_dist.pdf(X, *norm_param) \n",
    "plot(X, pdf_fitted, '--r')  "
   ]
  },
  {
   "cell_type": "markdown",
   "metadata": {},
   "source": [
    "Question4. Try to find which distribution fits with least error for \"Price\" data. (Among all Distributions)"
   ]
  },
  {
   "cell_type": "code",
   "execution_count": 7,
   "metadata": {},
   "outputs": [
    {
     "name": "stdout",
     "output_type": "stream",
     "text": [
      "Fitted norm distribution with error=4.909269267693135e-10)\n",
      "Fitted expon distribution with error=7.857336889784037e-10)\n",
      "Fitted uniform distribution with error=7.054403715905092e-10)\n"
     ]
    },
    {
     "data": {
      "text/html": [
       "<div>\n",
       "<style scoped>\n",
       "    .dataframe tbody tr th:only-of-type {\n",
       "        vertical-align: middle;\n",
       "    }\n",
       "\n",
       "    .dataframe tbody tr th {\n",
       "        vertical-align: top;\n",
       "    }\n",
       "\n",
       "    .dataframe thead th {\n",
       "        text-align: right;\n",
       "    }\n",
       "</style>\n",
       "<table border=\"1\" class=\"dataframe\">\n",
       "  <thead>\n",
       "    <tr style=\"text-align: right;\">\n",
       "      <th></th>\n",
       "      <th>sumsquare_error</th>\n",
       "    </tr>\n",
       "  </thead>\n",
       "  <tbody>\n",
       "    <tr>\n",
       "      <th>norm</th>\n",
       "      <td>4.909269e-10</td>\n",
       "    </tr>\n",
       "    <tr>\n",
       "      <th>uniform</th>\n",
       "      <td>7.054404e-10</td>\n",
       "    </tr>\n",
       "    <tr>\n",
       "      <th>expon</th>\n",
       "      <td>7.857337e-10</td>\n",
       "    </tr>\n",
       "  </tbody>\n",
       "</table>\n",
       "</div>"
      ],
      "text/plain": [
       "         sumsquare_error\n",
       "norm        4.909269e-10\n",
       "uniform     7.054404e-10\n",
       "expon       7.857337e-10"
      ]
     },
     "execution_count": 7,
     "metadata": {},
     "output_type": "execute_result"
    },
    {
     "data": {
      "image/png": "[encoded data removed]",
      "text/plain": [
       "<Figure size 432x288 with 1 Axes>"
      ]
     },
     "metadata": {
      "needs_background": "light"
     },
     "output_type": "display_data"
    }
   ],
   "source": [
    "price = product_db['Price']\n",
    "fitter_for_price = Fitter(price, distributions=['norm', 'expon', 'uniform'])\n",
    "fitter_for_price.fit()\n",
    "fitter_for_price.summary()"
   ]
  },
  {
   "cell_type": "markdown",
   "metadata": {},
   "source": [
    "Question5. Find the parameters of the distribution you chose from previous question(4)."
   ]
  },
  {
   "cell_type": "code",
   "execution_count": 9,
   "metadata": {},
   "outputs": [
    {
     "name": "stdout",
     "output_type": "stream",
     "text": [
      "(281171.9015011236, 88952.07455259027)\n"
     ]
    }
   ],
   "source": [
    "norm_param = fitter_for_price.fitted_param['norm']\n",
    "print(norm_param)"
   ]
  },
  {
   "cell_type": "markdown",
   "metadata": {},
   "source": [
    "Question6. Plot the pdf of the distribution for \"Price\" data and use the parameters you found."
   ]
  },
  {
   "cell_type": "code",
   "execution_count": 10,
   "metadata": {},
   "outputs": [
    {
     "data": {
      "text/plain": [
       "[<matplotlib.lines.Line2D at 0x7f6a798b1e80>]"
      ]
     },
     "execution_count": 10,
     "metadata": {},
     "output_type": "execute_result"
    },
    {
     "data": {
      "image/png": "[encoded data removed]",
      "text/plain": [
       "<Figure size 432x288 with 1 Axes>"
      ]
     },
     "metadata": {
      "needs_background": "light"
     },
     "output_type": "display_data"
    }
   ],
   "source": [
    "from pylab import linspace, plot \n",
    "import scipy.stats\n",
    "norm_dist = scipy.stats.norm \n",
    "\n",
    "X = linspace(min(price),max(price), len(price)) \n",
    "pdf_fitted = norm_dist.pdf(X, *norm_param) \n",
    "plot(X, pdf_fitted, '--r')  "
   ]
  },
  {
   "cell_type": "markdown",
   "metadata": {},
   "source": [
    "Question7. Try to find which distribution fits with least error for \"Month of Sale\" data. (Among all Distributions)"
   ]
  }
 ],
 "metadata": {
  "kernelspec": {
   "display_name": "Python 3",
   "language": "python",
   "name": "python3"
  },
  "language_info": {
   "codemirror_mode": {
    "name": "ipython",
    "version": 3
   },
   "file_extension": ".py",
   "mimetype": "text/x-python",
   "name": "python",
   "nbconvert_exporter": "python",
   "pygments_lexer": "ipython3",
   "version": "3.7.3"
  }
 },
 "nbformat": 4,
 "nbformat_minor": 2
}
