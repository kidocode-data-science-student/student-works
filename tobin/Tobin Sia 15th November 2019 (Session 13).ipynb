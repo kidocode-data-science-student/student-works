{
 "cells": [
  {
   "cell_type": "markdown",
   "metadata": {},
   "source": [
    "# Chi-Squared goodness-of-fit test"
   ]
  },
  {
   "cell_type": "markdown",
   "metadata": {},
   "source": [
    "<b>Question:</b> 256 visual artists were surveyed to find out their zodiac. Are zodiac signs of artists distributed normally? DataFrame is provided.\n"
   ]
  },
  {
   "cell_type": "code",
   "execution_count": 2,
   "metadata": {},
   "outputs": [
    {
     "data": {
      "text/html": [
       "<div>\n",
       "<style scoped>\n",
       "    .dataframe tbody tr th:only-of-type {\n",
       "        vertical-align: middle;\n",
       "    }\n",
       "\n",
       "    .dataframe tbody tr th {\n",
       "        vertical-align: top;\n",
       "    }\n",
       "\n",
       "    .dataframe thead th {\n",
       "        text-align: right;\n",
       "    }\n",
       "</style>\n",
       "<table border=\"1\" class=\"dataframe\">\n",
       "  <thead>\n",
       "    <tr style=\"text-align: right;\">\n",
       "      <th></th>\n",
       "      <th>Zodiac signs</th>\n",
       "      <th>Observed values</th>\n",
       "    </tr>\n",
       "  </thead>\n",
       "  <tbody>\n",
       "    <tr>\n",
       "      <th>0</th>\n",
       "      <td>Aries</td>\n",
       "      <td>29</td>\n",
       "    </tr>\n",
       "    <tr>\n",
       "      <th>1</th>\n",
       "      <td>Taurus</td>\n",
       "      <td>24</td>\n",
       "    </tr>\n",
       "    <tr>\n",
       "      <th>2</th>\n",
       "      <td>Gemini</td>\n",
       "      <td>22</td>\n",
       "    </tr>\n",
       "    <tr>\n",
       "      <th>3</th>\n",
       "      <td>Cancer</td>\n",
       "      <td>19</td>\n",
       "    </tr>\n",
       "    <tr>\n",
       "      <th>4</th>\n",
       "      <td>Leo</td>\n",
       "      <td>21</td>\n",
       "    </tr>\n",
       "    <tr>\n",
       "      <th>5</th>\n",
       "      <td>Virgo</td>\n",
       "      <td>18</td>\n",
       "    </tr>\n",
       "    <tr>\n",
       "      <th>6</th>\n",
       "      <td>Libra</td>\n",
       "      <td>19</td>\n",
       "    </tr>\n",
       "    <tr>\n",
       "      <th>7</th>\n",
       "      <td>Scorpio</td>\n",
       "      <td>20</td>\n",
       "    </tr>\n",
       "    <tr>\n",
       "      <th>8</th>\n",
       "      <td>Sagittarius</td>\n",
       "      <td>23</td>\n",
       "    </tr>\n",
       "    <tr>\n",
       "      <th>9</th>\n",
       "      <td>Capricorn</td>\n",
       "      <td>18</td>\n",
       "    </tr>\n",
       "    <tr>\n",
       "      <th>10</th>\n",
       "      <td>Aquarius</td>\n",
       "      <td>20</td>\n",
       "    </tr>\n",
       "    <tr>\n",
       "      <th>11</th>\n",
       "      <td>Pisces</td>\n",
       "      <td>23</td>\n",
       "    </tr>\n",
       "  </tbody>\n",
       "</table>\n",
       "</div>"
      ],
      "text/plain": [
       "   Zodiac signs  Observed values\n",
       "0         Aries               29\n",
       "1        Taurus               24\n",
       "2        Gemini               22\n",
       "3        Cancer               19\n",
       "4           Leo               21\n",
       "5         Virgo               18\n",
       "6         Libra               19\n",
       "7       Scorpio               20\n",
       "8   Sagittarius               23\n",
       "9     Capricorn               18\n",
       "10     Aquarius               20\n",
       "11       Pisces               23"
      ]
     },
     "execution_count": 2,
     "metadata": {},
     "output_type": "execute_result"
    }
   ],
   "source": [
    "import pandas as pd\n",
    "\n",
    "zodiac_signs_list = ['Aries','Taurus','Gemini','Cancer','Leo','Virgo','Libra','Scorpio','Sagittarius','Capricorn','Aquarius','Pisces']\n",
    "observed_values_list = [29,24,22,19,21,18,19,20,23,18,20,23]\n",
    "expected_values_list = [] #Question: Fill this up\n",
    "chi_square_list = [] #Question: Fill this up\n",
    "question_table=pd.DataFrame(zodiac_signs_list,columns=['Zodiac signs'])"
   ]
  },
  {
   "cell_type": "code",
   "execution_count": 36,
   "metadata": {},
   "outputs": [
    {
     "data": {
      "text/plain": [
       "False"
      ]
     },
     "execution_count": 36,
     "metadata": {},
     "output_type": "execute_result"
    }
   ],
   "source": [
    "import math\n",
    "null_hypothesis = None\n",
    "total_observed = sum(observed_values_list)\n",
    "expected_value = 256/12\n",
    "for i in range(12):\n",
    "    expected_values_list.append(round(expected_value, 1))\n",
    "    \n",
    "for i in range(12):\n",
    "    chi_square1 = observed_values_list[i]-expected_values_list[i]\n",
    "    chi_square2 = (chi_square1*chi_square1)/expected_values_list[i]\n",
    "    chi_square_list.append(chi_square2)\n",
    "    if(chi_square_sum < critical_value):\n",
    "    null_hypothesis = True \n",
    "else: chi_square_sum = sum(chi_square_list)\n",
    "    null_hypothesis = False \n",
    "    \n",
    "null_hypothesis \n",
    "chi_square_sum = sum(chi_square_list)\n",
    "degree_of_freedom = len(chi_square_list) - 1\n",
    "critical_value = 19.675\n",
    "zodiac_signs_list = ['Aries','Taurus','Gemini','Cancer','Leo','Virgo','Libra','Scorpio','Sagittarius','Capricorn','Aquarius','Pisces']\n",
    "if(chi_square_sum < critical_value):\n",
    "    null_hypothesis = True \n",
    "else: \n",
    "    null_hypothesis = False \n",
    "    \n",
    "null_hypothesis "
   ]
  },
  {
   "cell_type": "code",
   "execution_count": 56,
   "metadata": {},
   "outputs": [
    {
     "data": {
      "text/html": [
       "<div>\n",
       "<style scoped>\n",
       "    .dataframe tbody tr th:only-of-type {\n",
       "        vertical-align: middle;\n",
       "    }\n",
       "\n",
       "    .dataframe tbody tr th {\n",
       "        vertical-align: top;\n",
       "    }\n",
       "\n",
       "    .dataframe thead th {\n",
       "        text-align: right;\n",
       "    }\n",
       "</style>\n",
       "<table border=\"1\" class=\"dataframe\">\n",
       "  <thead>\n",
       "    <tr style=\"text-align: right;\">\n",
       "      <th></th>\n",
       "      <th>Zodiac signs</th>\n",
       "      <th>Observed values</th>\n",
       "      <th>Chi-Square values</th>\n",
       "    </tr>\n",
       "  </thead>\n",
       "  <tbody>\n",
       "    <tr>\n",
       "      <th>0</th>\n",
       "      <td>Aries</td>\n",
       "      <td>29</td>\n",
       "      <td>2.783568</td>\n",
       "    </tr>\n",
       "    <tr>\n",
       "      <th>1</th>\n",
       "      <td>Taurus</td>\n",
       "      <td>24</td>\n",
       "      <td>0.342254</td>\n",
       "    </tr>\n",
       "    <tr>\n",
       "      <th>2</th>\n",
       "      <td>Gemini</td>\n",
       "      <td>22</td>\n",
       "      <td>0.023005</td>\n",
       "    </tr>\n",
       "    <tr>\n",
       "      <th>3</th>\n",
       "      <td>Cancer</td>\n",
       "      <td>19</td>\n",
       "      <td>0.248357</td>\n",
       "    </tr>\n",
       "    <tr>\n",
       "      <th>4</th>\n",
       "      <td>Leo</td>\n",
       "      <td>21</td>\n",
       "      <td>0.004225</td>\n",
       "    </tr>\n",
       "    <tr>\n",
       "      <th>5</th>\n",
       "      <td>Virgo</td>\n",
       "      <td>18</td>\n",
       "      <td>0.511268</td>\n",
       "    </tr>\n",
       "    <tr>\n",
       "      <th>6</th>\n",
       "      <td>Libra</td>\n",
       "      <td>19</td>\n",
       "      <td>0.248357</td>\n",
       "    </tr>\n",
       "    <tr>\n",
       "      <th>7</th>\n",
       "      <td>Scorpio</td>\n",
       "      <td>20</td>\n",
       "      <td>0.079343</td>\n",
       "    </tr>\n",
       "    <tr>\n",
       "      <th>8</th>\n",
       "      <td>Sagittarius</td>\n",
       "      <td>23</td>\n",
       "      <td>0.135681</td>\n",
       "    </tr>\n",
       "    <tr>\n",
       "      <th>9</th>\n",
       "      <td>Capricorn</td>\n",
       "      <td>18</td>\n",
       "      <td>0.511268</td>\n",
       "    </tr>\n",
       "    <tr>\n",
       "      <th>10</th>\n",
       "      <td>Aquarius</td>\n",
       "      <td>20</td>\n",
       "      <td>0.079343</td>\n",
       "    </tr>\n",
       "    <tr>\n",
       "      <th>11</th>\n",
       "      <td>Pisces</td>\n",
       "      <td>23</td>\n",
       "      <td>0.135681</td>\n",
       "    </tr>\n",
       "  </tbody>\n",
       "</table>\n",
       "</div>"
      ],
      "text/plain": [
       "   Zodiac signs  Observed values  Chi-Square values\n",
       "0         Aries               29           2.783568\n",
       "1        Taurus               24           0.342254\n",
       "2        Gemini               22           0.023005\n",
       "3        Cancer               19           0.248357\n",
       "4           Leo               21           0.004225\n",
       "5         Virgo               18           0.511268\n",
       "6         Libra               19           0.248357\n",
       "7       Scorpio               20           0.079343\n",
       "8   Sagittarius               23           0.135681\n",
       "9     Capricorn               18           0.511268\n",
       "10     Aquarius               20           0.079343\n",
       "11       Pisces               23           0.135681"
      ]
     },
     "execution_count": 56,
     "metadata": {},
     "output_type": "execute_result"
    }
   ],
   "source": [
    "question_table"
   ]
  },
  {
   "cell_type": "markdown",
   "metadata": {},
   "source": [
    "<b>Question 1.</b> Create a Hypothesis test -->Create a boolean variable for Null Hypothesis and assign it to None for now.\n",
    "<br>\n",
    "Tip: Null Hypothesis variable can be True(accept) and False(reject)"
   ]
  },
  {
   "cell_type": "code",
   "execution_count": 68,
   "metadata": {},
   "outputs": [],
   "source": [
    "day_list = ['Monday', 'Tuesday', 'Wednesday', 'Thursday', 'Friday']\n",
    "observed_absentees = [121, 87, 87, 91, 114] \n",
    "expected_absentees = [] \n",
    "chi_square_list = [] \n",
    "\n",
    "question1_table = pd.DataFrame(day_list,columns=['Weekdays'])\n",
    "question1_table['Observed values']=observed_absentees\n",
    "null_hypothesis = None"
   ]
  },
  {
   "cell_type": "markdown",
   "metadata": {},
   "source": [
    "<b>Question 2.</b> \n",
    "<br>\n",
    "Find out Expected values and add them to the DataFrame table\n",
    "<br>"
   ]
  },
  {
   "cell_type": "code",
   "execution_count": 69,
   "metadata": {},
   "outputs": [],
   "source": [
    "total_observed_absentees = sum(observed_absentees)\n",
    "expected_value = 500/5"
   ]
  },
  {
   "cell_type": "markdown",
   "metadata": {},
   "source": [
    "<b>Question 3. </b>\n",
    "<br>\n",
    "Find Chi-Squared values for each unit in table.\n",
    "\n"
   ]
  },
  {
   "cell_type": "code",
   "execution_count": 96,
   "metadata": {},
   "outputs": [],
   "source": [
    "for i in range(12):\n",
    "    expected_values_list.append(round(expected_value, 1))\n",
    "\n",
    "for i in range(12):\n",
    "    chi_square1 = observed_values_list[i]-expected_values_list[i]\n",
    "    chi_square2 = (chi_square1*chi_square1)/expected_values_list[i]\n",
    "    chi_square_list.append(chi_square2)"
   ]
  },
  {
   "cell_type": "markdown",
   "metadata": {},
   "source": [
    "<b>Question 4. </b>\n",
    "<br>\n",
    "Add all the chi-squared values to DataFrame. Calculate sum of Chi-Squared"
   ]
  },
  {
   "cell_type": "code",
   "execution_count": 71,
   "metadata": {},
   "outputs": [],
   "source": [
    "chi_square_sum = sum(chi_square_list)"
   ]
  },
  {
   "cell_type": "markdown",
   "metadata": {},
   "source": [
    "<b>Question 5. </b>\n",
    "<br>\n",
    "Calculate degrees of freedom and Find critical value from the table provided."
   ]
  },
  {
   "cell_type": "code",
   "execution_count": 73,
   "metadata": {},
   "outputs": [],
   "source": [
    "degree_of_freedom = len(chi_square_list) - 1\n",
    "critical_value = 19.675"
   ]
  },
  {
   "cell_type": "markdown",
   "metadata": {},
   "source": [
    "<b>Question 6. </b>\n",
    "<br>\n",
    "Accept or Reject Null Hypothesis"
   ]
  },
  {
   "cell_type": "code",
   "execution_count": 97,
   "metadata": {},
   "outputs": [
    {
     "data": {
      "text/plain": [
       "False"
      ]
     },
     "execution_count": 97,
     "metadata": {},
     "output_type": "execute_result"
    }
   ],
   "source": [
    "if(chi_square_sum < critical_value):\n",
    "    null_hypothesis = True\n",
    "else: \n",
    "    null_hypothesis = False\n",
    "    \n",
    "null_hypothesis "
   ]
  },
  {
   "cell_type": "markdown",
   "metadata": {},
   "source": [
    "<b>Question: According to a particular genetic theory the number of colour strains(pink, white, blue) in a certain flower should appear in the ratio 3:2:5. In 100 randomly chosen plants, the corresonding numbers of each colour were 24, 14 and 62. Test at the 1% level whether the differences between the observed amd expected frequencies are significant"
   ]
  },
  {
   "cell_type": "markdown",
   "metadata": {},
   "source": [
    "<b>Question 7.</b> \n",
    "<br>\n",
    "Create a list of colors and Observed Frequncies and add them to the DataFrame(pandas)"
   ]
  },
  {
   "cell_type": "code",
   "execution_count": null,
   "metadata": {},
   "outputs": [],
   "source": [
    "import pandas as pd\n",
    "\n",
    "color_list = ['pink', 'white', 'blue'] \n",
    "observed_strains = [24,14,62] \n",
    "expected_strains = [] \n",
    "chi_square_list = []\n",
    "\n",
    "question2_table = pd.DataFrame(color_list,columns=['Colour Strains'])\n",
    "question2_table['Observed values']=observed_strains\n",
    "null_hypothesis = None"
   ]
  },
  {
   "cell_type": "markdown",
   "metadata": {},
   "source": [
    "<b>Question 8. </b>\n",
    "<br>\n",
    "Create Hypothesis test(Just like in Question 2)"
   ]
  },
  {
   "cell_type": "code",
   "execution_count": 78,
   "metadata": {},
   "outputs": [],
   "source": [
    "total_observed_strains = 100\n",
    "expected_values = 100/3"
   ]
  },
  {
   "cell_type": "markdown",
   "metadata": {},
   "source": [
    "<b>Question 9. </b>\n",
    "<br>\n",
    "Find out Expected values and add them to a list and also add the list to the DataFrame table"
   ]
  },
  {
   "cell_type": "code",
   "execution_count": 87,
   "metadata": {},
   "outputs": [],
   "source": [
    "for i in range(12):\n",
    "    expected_values_list.append(round(expected_value, 1))"
   ]
  },
  {
   "cell_type": "markdown",
   "metadata": {},
   "source": [
    "<b>Question 10. </b>\n",
    "<br>\n",
    "Find Chi-Squared values for each unit in table."
   ]
  },
  {
   "cell_type": "code",
   "execution_count": 92,
   "metadata": {},
   "outputs": [],
   "source": [
    "for i in range(12):\n",
    "    chi_square1 = observed_values_list[i]-expected_values_list[i]\n",
    "    chi_square2 = (chi_square1*chi_square1)/expected_values_list[i]\n",
    "    chi_square_list.append(chi_square2)"
   ]
  },
  {
   "cell_type": "markdown",
   "metadata": {},
   "source": [
    "<b>Question 11. </b>\n",
    "<br>\n",
    "Add all the chi-squared values to list and also add it to DataFrame. Calculate sum of Chi-Squared."
   ]
  },
  {
   "cell_type": "code",
   "execution_count": 91,
   "metadata": {},
   "outputs": [],
   "source": [
    "chi_square_suif(chi_square_sum < critical_value):\n",
    "    null_hypothesis = True\n",
    "else: \n",
    "    null_hypothesis = False\n",
    "    \n",
    "null_hypothesis m = sum(chi_square_list)"
   ]
  },
  {
   "cell_type": "markdown",
   "metadata": {},
   "source": [
    "<b>Question 12. </b>\n",
    "<br>\n",
    "Calculate degrees of freedom and Find critical value(Use 0.001) from the table provided."
   ]
  },
  {
   "cell_type": "code",
   "execution_count": 90,
   "metadata": {},
   "outputs": [],
   "source": [
    "degree_of_freedom = len(chi_square_list) - 1\n",
    "critical_value = 19.675"
   ]
  },
  {
   "cell_type": "markdown",
   "metadata": {},
   "source": [
    "<b>Question 13. </b>\n",
    "<br>\n",
    "Accept or Reject Null Hypothesis"
   ]
  },
  {
   "cell_type": "code",
   "execution_count": 98,
   "metadata": {},
   "outputs": [
    {
     "data": {
      "text/plain": [
       "False"
      ]
     },
     "execution_count": 98,
     "metadata": {},
     "output_type": "execute_result"
    }
   ],
   "source": [
    "if(chi_square_sum < critical_value):\n",
    "    null_hypothesis = True\n",
    "else: \n",
    "    null_hypothesis = False\n",
    "    \n",
    "null_hypothesis "
   ]
  }
 ],
 "metadata": {
  "kernelspec": {
   "display_name": "Python 3",
   "language": "python",
   "name": "python3"
  },
  "language_info": {
   "codemirror_mode": {
    "name": "ipython",
    "version": 3
   },
   "file_extension": ".py",
   "mimetype": "text/x-python",
   "name": "python",
   "nbconvert_exporter": "python",
   "pygments_lexer": "ipython3",
   "version": "3.7.3"
  }
 },
 "nbformat": 4,
 "nbformat_minor": 2
}
