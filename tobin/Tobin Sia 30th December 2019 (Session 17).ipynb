{
 "cells": [
  {
   "cell_type": "markdown",
   "metadata": {},
   "source": [
    "# fitter_part 1"
   ]
  },
  {
   "cell_type": "markdown",
   "metadata": {},
   "source": [
    "Following is part of data from file \"Practical Example.Descriptive-statistics-lesson\""
   ]
  },
  {
   "cell_type": "code",
   "execution_count": 91,
   "metadata": {},
   "outputs": [
    {
     "name": "stdout",
     "output_type": "stream",
     "text": [
      "    No       Name  Weight  Height  BMI\n",
      "0    1      Sarah    59.8   169.2  2.1\n",
      "1    2       John    61.5   182.1  1.9\n",
      "2    3       Alex    71.5   185.3  2.1\n",
      "3    4       Mila    56.3   153.5  2.4\n",
      "4    5      Conor    59.9   175.3  2.0\n",
      "5    6      Rasul    62.4   178.9  2.0\n",
      "6    7     Ariana    62.7   155.6  2.6\n",
      "7    8       Liam    66.0   183.6  2.0\n",
      "8    9       Noah    66.2   169.6  2.4\n",
      "9   10   Isabella    60.9   160.0  2.4\n",
      "10  11      Emily    62.7   162.2  2.4\n",
      "11  12      Lucas    81.5   184.3  2.4\n",
      "12  13     Daniel    59.8   167.8  2.2\n",
      "13  14    Jackson    71.5   172.0  2.5\n",
      "14  15  Elizabeth    67.9   168.8  2.4\n",
      "15  16       Ella    48.0   157.5  2.0\n",
      "16  17      David    71.5   188.5  2.1\n",
      "17  18       Lily    55.4   154.5  2.4\n",
      "18  19     Stella    67.7   163.3  2.6\n",
      "19  20       Jack    67.8   172.2  2.3\n"
     ]
    }
   ],
   "source": [
    "import pandas as pd\n",
    "product_db = pd.read_excel('sample_data_bmi.xlsx', \"Sheet1\", skiprows=1)\n",
    "print(product_db)\n"
   ]
  },
  {
   "cell_type": "markdown",
   "metadata": {},
   "source": [
    "Question1. Find which distribution fits best for \"BMI\" data.(Limit Distributions to only Uniform, Normal and Exponential)"
   ]
  },
  {
   "cell_type": "code",
   "execution_count": 92,
   "metadata": {},
   "outputs": [
    {
     "name": "stdout",
     "output_type": "stream",
     "text": [
      "Fitted norm distribution with error=4018.5079712135343)\n",
      "Fitted expon distribution with error=4032.0835371323333)\n",
      "Fitted uniform distribution with error=3979.5918367349695)\n"
     ]
    },
    {
     "data": {
      "text/html": [
       "<div>\n",
       "<style scoped>\n",
       "    .dataframe tbody tr th:only-of-type {\n",
       "        vertical-align: middle;\n",
       "    }\n",
       "\n",
       "    .dataframe tbody tr th {\n",
       "        vertical-align: top;\n",
       "    }\n",
       "\n",
       "    .dataframe thead th {\n",
       "        text-align: right;\n",
       "    }\n",
       "</style>\n",
       "<table border=\"1\" class=\"dataframe\">\n",
       "  <thead>\n",
       "    <tr style=\"text-align: right;\">\n",
       "      <th></th>\n",
       "      <th>sumsquare_error</th>\n",
       "    </tr>\n",
       "  </thead>\n",
       "  <tbody>\n",
       "    <tr>\n",
       "      <th>uniform</th>\n",
       "      <td>3979.591837</td>\n",
       "    </tr>\n",
       "    <tr>\n",
       "      <th>norm</th>\n",
       "      <td>4018.507971</td>\n",
       "    </tr>\n",
       "    <tr>\n",
       "      <th>expon</th>\n",
       "      <td>4032.083537</td>\n",
       "    </tr>\n",
       "  </tbody>\n",
       "</table>\n",
       "</div>"
      ],
      "text/plain": [
       "         sumsquare_error\n",
       "uniform      3979.591837\n",
       "norm         4018.507971\n",
       "expon        4032.083537"
      ]
     },
     "execution_count": 92,
     "metadata": {},
     "output_type": "execute_result"
    },
    {
     "data": {
      "image/png": "[encoded data removed]",
      "text/plain": [
       "<Figure size 432x288 with 1 Axes>"
      ]
     },
     "metadata": {
      "needs_background": "light"
     },
     "output_type": "display_data"
    }
   ],
   "source": [
    "from fitter import Fitter\n",
    "from matplotlib import pyplot as plt\n",
    "import scipy.stats\n",
    "bmi = product_db['BMI']\n",
    "fitter_for_bmi = Fitter(bmi, distributions=['norm', 'expon', 'uniform'])\n",
    "fitter_for_bmi.fit()\n",
    "fitter_for_bmi.summary()"
   ]
  },
  {
   "cell_type": "markdown",
   "metadata": {},
   "source": [
    "Question2. Find the Parameters of the distribution that you chose in question 1."
   ]
  },
  {
   "cell_type": "code",
   "execution_count": 90,
   "metadata": {},
   "outputs": [],
   "source": [
    "uniform_param = fitter_for_bmi.fitted_param['uniform']"
   ]
  },
  {
   "cell_type": "markdown",
   "metadata": {},
   "source": [
    "Question3. Plot the pdf of the distribution that you chose in Question1."
   ]
  },
  {
   "cell_type": "code",
   "execution_count": 93,
   "metadata": {},
   "outputs": [
    {
     "data": {
      "text/plain": [
       "[<matplotlib.lines.Line2D at 0x7fb230806400>]"
      ]
     },
     "execution_count": 93,
     "metadata": {},
     "output_type": "execute_result"
    },
    {
     "data": {
      "image/png": "[encoded data removed]",
      "text/plain": [
       "<Figure size 432x288 with 1 Axes>"
      ]
     },
     "metadata": {
      "needs_background": "light"
     },
     "output_type": "display_data"
    }
   ],
   "source": [
    "from pylab import linspace, plot \n",
    "import scipy.stats\n",
    "\n",
    "uniform_dist = scipy.stats.norm \n",
    "\n",
    "X = linspace(min(bmi),max(bmi), len(bmi)) \n",
    "pdf_fitted = norm_dist.pdf(X, *uniform_param) \n",
    "plot(X, pdf_fitted, '--r')  "
   ]
  },
  {
   "cell_type": "markdown",
   "metadata": {},
   "source": [
    "Question4. Find which distribution fits best for \"Area\" data. (Limit Distributions to only Uniform, Normal and Exponential"
   ]
  },
  {
   "cell_type": "code",
   "execution_count": 74,
   "metadata": {},
   "outputs": [
    {
     "name": "stdout",
     "output_type": "stream",
     "text": [
      "Fitted norm distribution with error=0.0002264751850709556)\n",
      "Fitted expon distribution with error=0.00025255532762894287)\n",
      "Fitted uniform distribution with error=0.0002507360573359181)\n"
     ]
    },
    {
     "data": {
      "text/html": [
       "<div>\n",
       "<style scoped>\n",
       "    .dataframe tbody tr th:only-of-type {\n",
       "        vertical-align: middle;\n",
       "    }\n",
       "\n",
       "    .dataframe tbody tr th {\n",
       "        vertical-align: top;\n",
       "    }\n",
       "\n",
       "    .dataframe thead th {\n",
       "        text-align: right;\n",
       "    }\n",
       "</style>\n",
       "<table border=\"1\" class=\"dataframe\">\n",
       "  <thead>\n",
       "    <tr style=\"text-align: right;\">\n",
       "      <th></th>\n",
       "      <th>sumsquare_error</th>\n",
       "    </tr>\n",
       "  </thead>\n",
       "  <tbody>\n",
       "    <tr>\n",
       "      <th>norm</th>\n",
       "      <td>0.000226</td>\n",
       "    </tr>\n",
       "    <tr>\n",
       "      <th>uniform</th>\n",
       "      <td>0.000251</td>\n",
       "    </tr>\n",
       "    <tr>\n",
       "      <th>expon</th>\n",
       "      <td>0.000253</td>\n",
       "    </tr>\n",
       "  </tbody>\n",
       "</table>\n",
       "</div>"
      ],
      "text/plain": [
       "         sumsquare_error\n",
       "norm            0.000226\n",
       "uniform         0.000251\n",
       "expon           0.000253"
      ]
     },
     "execution_count": 74,
     "metadata": {},
     "output_type": "execute_result"
    },
    {
     "data": {
      "image/png": "[encoded data removed]",
      "text/plain": [
       "<Figure size 432x288 with 1 Axes>"
      ]
     },
     "metadata": {
      "needs_background": "light"
     },
     "output_type": "display_data"
    }
   ],
   "source": [
    "product_db = pd.read_excel('Practical-example.Descriptive-statistics-lesson.xlsx', \"365RE\", skiprows=1)\n",
    "area = product_db['Area (ft.)']\n",
    "fitter_for_area = Fitter(area, distributions=['norm', 'expon', 'uniform'])\n",
    "fitter_for_area.fit()\n",
    "fitter_for_area.summary()"
   ]
  },
  {
   "cell_type": "markdown",
   "metadata": {},
   "source": [
    "Question5. Find and explain the parameters of the distribution you chose for \"Area\" data."
   ]
  },
  {
   "cell_type": "code",
   "execution_count": 94,
   "metadata": {},
   "outputs": [],
   "source": [
    "norm_param = fitter_for_area.fitted_param['norm']"
   ]
  },
  {
   "cell_type": "markdown",
   "metadata": {},
   "source": [
    "Question6. Plot the pdf of the distribution for \"Area\" data and use the parameters you found."
   ]
  },
  {
   "cell_type": "code",
   "execution_count": 95,
   "metadata": {},
   "outputs": [
    {
     "data": {
      "text/plain": [
       "[<matplotlib.lines.Line2D at 0x7fb23086c9e8>]"
      ]
     },
     "execution_count": 95,
     "metadata": {},
     "output_type": "execute_result"
    },
    {
     "data": {
      "image/png": "[encoded data removed]",
      "text/plain": [
       "<Figure size 432x288 with 1 Axes>"
      ]
     },
     "metadata": {
      "needs_background": "light"
     },
     "output_type": "display_data"
    }
   ],
   "source": [
    "norm_dist = scipy.stats.norm \n",
    "\n",
    "X = linspace(min(area),max(area), len(area)) \n",
    "pdf_fitted = norm_dist.pdf(X, *norm_param) \n",
    "plot(X, pdf_fitted, '--r')  "
   ]
  },
  {
   "cell_type": "markdown",
   "metadata": {},
   "source": [
    "Question7. Find which distribution fits best for \"Price\" data. (Limit Distributions to only Uniform, Normal and Exponential)"
   ]
  },
  {
   "cell_type": "code",
   "execution_count": 80,
   "metadata": {},
   "outputs": [
    {
     "name": "stdout",
     "output_type": "stream",
     "text": [
      "Fitted norm distribution with error=4.909269267693135e-10)\n",
      "Fitted expon distribution with error=7.857336889784037e-10)\n",
      "Fitted uniform distribution with error=7.054403715905092e-10)\n"
     ]
    },
    {
     "data": {
      "text/html": [
       "<div>\n",
       "<style scoped>\n",
       "    .dataframe tbody tr th:only-of-type {\n",
       "        vertical-align: middle;\n",
       "    }\n",
       "\n",
       "    .dataframe tbody tr th {\n",
       "        vertical-align: top;\n",
       "    }\n",
       "\n",
       "    .dataframe thead th {\n",
       "        text-align: right;\n",
       "    }\n",
       "</style>\n",
       "<table border=\"1\" class=\"dataframe\">\n",
       "  <thead>\n",
       "    <tr style=\"text-align: right;\">\n",
       "      <th></th>\n",
       "      <th>sumsquare_error</th>\n",
       "    </tr>\n",
       "  </thead>\n",
       "  <tbody>\n",
       "    <tr>\n",
       "      <th>norm</th>\n",
       "      <td>4.909269e-10</td>\n",
       "    </tr>\n",
       "    <tr>\n",
       "      <th>uniform</th>\n",
       "      <td>7.054404e-10</td>\n",
       "    </tr>\n",
       "    <tr>\n",
       "      <th>expon</th>\n",
       "      <td>7.857337e-10</td>\n",
       "    </tr>\n",
       "  </tbody>\n",
       "</table>\n",
       "</div>"
      ],
      "text/plain": [
       "         sumsquare_error\n",
       "norm        4.909269e-10\n",
       "uniform     7.054404e-10\n",
       "expon       7.857337e-10"
      ]
     },
     "execution_count": 80,
     "metadata": {},
     "output_type": "execute_result"
    },
    {
     "data": {
      "image/png": "[encoded data removed]",
      "text/plain": [
       "<Figure size 432x288 with 1 Axes>"
      ]
     },
     "metadata": {
      "needs_background": "light"
     },
     "output_type": "display_data"
    }
   ],
   "source": [
    "product_db = pd.read_excel('Practical-example.Descriptive-statistics-lesson.xlsx', \"365RE\", skiprows=1)\n",
    "price = product_db['Price']\n",
    "fitter_for_price = Fitter(price, distributions=['norm', 'expon', 'uniform'])\n",
    "fitter_for_price.fit()\n",
    "fitter_for_price.summary()"
   ]
  },
  {
   "cell_type": "markdown",
   "metadata": {},
   "source": [
    "Question8. Find and explain the parameters of the distribution you chose for \"Price\" data."
   ]
  },
  {
   "cell_type": "code",
   "execution_count": 96,
   "metadata": {},
   "outputs": [],
   "source": [
    "normal_param = fitter_for_price.fitted_param['norm']"
   ]
  },
  {
   "cell_type": "markdown",
   "metadata": {},
   "source": [
    "Question9. Plot the pdf of the distribution for \"Price\" data and use the parameters you found.v"
   ]
  },
  {
   "cell_type": "code",
   "execution_count": 98,
   "metadata": {},
   "outputs": [
    {
     "data": {
      "text/plain": [
       "[<matplotlib.lines.Line2D at 0x7fb230893128>]"
      ]
     },
     "execution_count": 98,
     "metadata": {},
     "output_type": "execute_result"
    },
    {
     "data": {
      "image/png": "[encoded data removed]",
      "text/plain": [
       "<Figure size 432x288 with 1 Axes>"
      ]
     },
     "metadata": {
      "needs_background": "light"
     },
     "output_type": "display_data"
    }
   ],
   "source": [
    "norm_dist = scipy.stats.norm \n",
    "\n",
    "X = linspace(min(price),max(price), len(price)) \n",
    "pdf_fitted = norm_dist.pdf(X, *normal_param) \n",
    "plot(X, pdf_fitted, '--r')  "
   ]
  },
  {
   "cell_type": "markdown",
   "metadata": {},
   "source": [
    "# fitter_part2"
   ]
  },
  {
   "cell_type": "code",
   "execution_count": null,
   "metadata": {},
   "outputs": [],
   "source": []
  }
 ],
 "metadata": {
  "kernelspec": {
   "display_name": "Python 3",
   "language": "python",
   "name": "python3"
  },
  "language_info": {
   "codemirror_mode": {
    "name": "ipython",
    "version": 3
   },
   "file_extension": ".py",
   "mimetype": "text/x-python",
   "name": "python",
   "nbconvert_exporter": "python",
   "pygments_lexer": "ipython3",
   "version": "3.7.3"
  }
 },
 "nbformat": 4,
 "nbformat_minor": 2
}
