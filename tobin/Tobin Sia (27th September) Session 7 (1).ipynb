{
 "cells": [
  {
   "cell_type": "markdown",
   "metadata": {},
   "source": [
    "# Binomial Distribution"
   ]
  },
  {
   "cell_type": "markdown",
   "metadata": {},
   "source": [
    "Question 1\n",
    "60% of the application for the XYZ scolarships are accepted. In a school, 7 students apply for the XYZ scholarships. Calculate the probability that exactly three application are accepted by using scipy then compare your results with Mathematical formula.\n",
    "\n",
    "X: Application for XYZ scholarship that are accepted\n",
    "n: 7\n",
    "p: 0.6\n",
    "\n",
    "X ~ B(3, 0.6)"
   ]
  },
  {
   "cell_type": "code",
   "execution_count": 37,
   "metadata": {},
   "outputs": [
    {
     "data": {
      "text/plain": [
       "0.19353600000000004"
      ]
     },
     "execution_count": 37,
     "metadata": {},
     "output_type": "execute_result"
    }
   ],
   "source": [
    "import scipy.stats as st\n",
    "import math\n",
    "x = 3\n",
    "n = 7\n",
    "p = 0.6\n",
    "st.binom.pmf(x,n,p)"
   ]
  },
  {
   "cell_type": "code",
   "execution_count": 11,
   "metadata": {},
   "outputs": [
    {
     "data": {
      "text/plain": [
       "0.193536"
      ]
     },
     "execution_count": 11,
     "metadata": {},
     "output_type": "execute_result"
    }
   ],
   "source": [
    "nCx(7, 3)*(0.6**(3))*(0.4**(4))"
   ]
  },
  {
   "cell_type": "markdown",
   "metadata": {},
   "source": [
    "Question 2\n",
    "By referring to the Question 1, use matplotlib.pyplot to draw a bar graph to represents the binomial probability distribution of X. After sorting your data, you have to include:\n",
    "\n",
    "- label for x and y axis with approriate fontsize;\n",
    "- limit for x and y axis;\n",
    "- size of your ticks with the grid lines;\n",
    "- horizontal and vertical lines to indicate your X"
   ]
  },
  {
   "cell_type": "code",
   "execution_count": 73,
   "metadata": {},
   "outputs": [
    {
     "data": {
      "image/png": "[encoded data removed]",
      "text/plain": [
       "<Figure size 432x288 with 1 Axes>"
      ]
     },
     "metadata": {
      "needs_background": "light"
     },
     "output_type": "display_data"
    }
   ],
   "source": [
    "import matplotlib.pyplot as plt\n",
    "x = 3\n",
    "n = 7\n",
    "p = 0.6\n",
    "probability = st.binom.pmf(x, n, p)\n",
    "data = st.binom.rvs(n, p, size = 7)\n",
    "data.sort()\n",
    "\n",
    "plt.bar(data, st.binom.pmf(data, n, p), linewidth = 10, color = \"orange\")\n",
    "plt.plot(data, st.binom.pmf(data, n, p), color = \"darkblue\")\n",
    "plt.xlabel(\"x\", fontsize = 10)\n",
    "plt.ylabel(\"y\", fontsize = 10)\n",
    "plt.xlim(2, 7)\n",
    "plt.ylim(0.00, 1)\n",
    "plt.xticks(size = 10); plt.yticks(size = 10)\n",
    "plt.axhline(probability, xmin = 0, xmax = 1, color = \"darkcyan\", linestyle = '--')\n",
    "plt.axvline(x = 2, ymin = 0, ymax = 1, color = \"darkcyan\", linestyle = '--')\n",
    "plt.grid()\n",
    "plt.show()"
   ]
  },
  {
   "cell_type": "markdown",
   "metadata": {},
   "source": [
    "Question 3\n",
    "In a SPM trial examination in a school, there are 200 Form 5 students. Find the probability that 2 students out of 5 students failed Additional Mathematics by using scipy and compare your value with Mathematical formula.\n",
    "\n",
    "X: Students that failed Additional Mathematics\n",
    "x = 80\n",
    "n = 200\n",
    "p = 0.4\n",
    "\n",
    "X ~ B(200, 0.4)\n"
   ]
  },
  {
   "cell_type": "code",
   "execution_count": 78,
   "metadata": {},
   "outputs": [
    {
     "data": {
      "text/plain": [
       "0.05750643200848003"
      ]
     },
     "execution_count": 78,
     "metadata": {},
     "output_type": "execute_result"
    }
   ],
   "source": [
    "x = 80\n",
    "n = 200\n",
    "p = 0.4\n",
    "st.binom.pmf(x,n,p)"
   ]
  },
  {
   "cell_type": "code",
   "execution_count": 79,
   "metadata": {},
   "outputs": [
    {
     "data": {
      "text/plain": [
       "0.05750643200848384"
      ]
     },
     "execution_count": 79,
     "metadata": {},
     "output_type": "execute_result"
    }
   ],
   "source": [
    "nCx(200, 80)*(0.4**(80))*(0.6**(n-x))"
   ]
  },
  {
   "cell_type": "markdown",
   "metadata": {},
   "source": [
    "Question 4\n",
    "By referring to the Question 3, use matplotlib.pyplot to draw a bar graph to represents the binomial probability distribution of X. After sorting your data, you have to include:\n",
    "\n",
    "- label for x and y axis with approriate fontsize;\n",
    "- limit for x and y axis;\n",
    "- size of your ticks with the grid lines;\n",
    "- horizontal and vertical lines to indicate your X"
   ]
  },
  {
   "cell_type": "code",
   "execution_count": 108,
   "metadata": {},
   "outputs": [
    {
     "data": {
      "image/png": "[encoded data removed]",
      "text/plain": [
       "<Figure size 432x288 with 1 Axes>"
      ]
     },
     "metadata": {
      "needs_background": "light"
     },
     "output_type": "display_data"
    }
   ],
   "source": [
    "x = 80\n",
    "n = 200\n",
    "p = 0.4\n",
    "probability = st.binom.pmf(x, n, p)\n",
    "data = st.binom.rvs(n, p, size = 200)\n",
    "data.sort()\n",
    "\n",
    "plt.bar(data, st.binom.pmf(data, n, p), linewidth = 10, color = \"purple\")\n",
    "plt.plot(data, st.binom.pmf(data, n, p), color = \"pink\")\n",
    "plt.xlabel(\"x\", fontsize = 10)\n",
    "plt.ylabel(\"y\", fontsize = 10)\n",
    "plt.xlim(60, 110)\n",
    "plt.ylim(0.00, 0.09)\n",
    "plt.xticks(size = 10)\n",
    "plt.yticks(size = 10)\n",
    "plt.axhline(probability, xmin = 0, xmax = 1, color = \"cyan\", linestyle = '--')\n",
    "plt.axvline(x = 2, ymin = 0, ymax = 1, color = \"darkcyan\", linestyle = '--')\n",
    "plt.grid()\n",
    "plt.show()"
   ]
  },
  {
   "cell_type": "markdown",
   "metadata": {},
   "source": [
    "Question 5\n",
    "The past records show that 70% of candidates who took a driving test passed the test. Find the probability that 3 candidates passed the test in a sample of 5 candidates who are choosen at random.\n",
    "\n",
    "X ~ Candidate passed a driving test\n",
    "x = 3\n",
    "n = 5\n",
    "p = 0.7\n",
    "\n",
    "X ~ (5, 0.7)"
   ]
  },
  {
   "cell_type": "code",
   "execution_count": 109,
   "metadata": {},
   "outputs": [
    {
     "data": {
      "text/plain": [
       "0.3086999999999999"
      ]
     },
     "execution_count": 109,
     "metadata": {},
     "output_type": "execute_result"
    }
   ],
   "source": [
    "x = 3\n",
    "n = 5\n",
    "p = 0.7\n",
    "st.binom.pmf(x,n,p)"
   ]
  },
  {
   "cell_type": "code",
   "execution_count": 112,
   "metadata": {},
   "outputs": [
    {
     "data": {
      "text/plain": [
       "0.30870000000000003"
      ]
     },
     "execution_count": 112,
     "metadata": {},
     "output_type": "execute_result"
    }
   ],
   "source": [
    "nCx(n,x)*((p)**(x))*((1-p)**(n-x))"
   ]
  },
  {
   "cell_type": "markdown",
   "metadata": {},
   "source": [
    "Question 6\n",
    "By referring to Question 5, find the mean and standard deviation of the number of candidates who passed if there are 200 candidates who sat for the test on a certain day.\n",
    "\n",
    "X ~ Candidate passed a driving test\n",
    "x = 3/5 x 200 = 30\n",
    "n = 200\n",
    "p = 0.7\n",
    "\n",
    "X ~ (200, 0.7)"
   ]
  },
  {
   "cell_type": "code",
   "execution_count": 162,
   "metadata": {},
   "outputs": [
    {
     "name": "stdout",
     "output_type": "stream",
     "text": [
      "3.5 1.02469507659596\n"
     ]
    }
   ],
   "source": [
    "x = 3\n",
    "n = 5\n",
    "p = 0.7\n",
    "mean = p*n\n",
    "variance = (1 - p) * p * n\n",
    "st_dev = ((1 - p) * p * n)**0.5\n",
    "print(mean, st_dev)\n"
   ]
  },
  {
   "cell_type": "markdown",
   "metadata": {},
   "source": [
    "Question 7 By referring to Question 6, draw a bar graph to represents the binomial probability distribution of X. After sorting your data, you have to include:\n",
    "\n",
    "- label for x and y axis with approriate fontsize;\n",
    "- limit for x and y axis;\n",
    "- size of your ticks with the grid lines;\n",
    "- horizontal and vertical lines to indicate your X"
   ]
  },
  {
   "cell_type": "code",
   "execution_count": 135,
   "metadata": {},
   "outputs": [
    {
     "data": {
      "image/png": "[encoded data removed]",
      "text/plain": [
       "<Figure size 432x288 with 1 Axes>"
      ]
     },
     "metadata": {
      "needs_background": "light"
     },
     "output_type": "display_data"
    }
   ],
   "source": [
    "x = 3\n",
    "n = 5\n",
    "p = 0.7\n",
    "probability = st.binom.pmf(x, n, p)\n",
    "data = st.binom.rvs(n, p, size = 200)\n",
    "data.sort()\n",
    "\n",
    "plt.bar(data, st.binom.pmf(data, n, p), linewidth = 10, color = \"purple\")\n",
    "plt.plot(data, st.binom.pmf(data, n, p), color = \"pink\")\n",
    "plt.xlabel(\"x\", fontsize = 10)\n",
    "plt.ylabel(\"y\", fontsize = 10)\n",
    "plt.xlim(0, 10)\n",
    "plt.ylim(0.00, 1)\n",
    "plt.xticks(size = 10)\n",
    "plt.yticks(size = 10)\n",
    "plt.axhline(probability, xmin = 0, xmax = 1, color = \"cyan\", linestyle = '--')\n",
    "plt.axvline(x = 2, ymin = 0, ymax = 1, color = \"darkcyan\", linestyle = '--')\n",
    "plt.grid()\n",
    "plt.show()"
   ]
  },
  {
   "cell_type": "markdown",
   "metadata": {},
   "source": [
    "Question 8\n",
    "5% of the supply of langsats receive by a hawker are rotten. If a sample of 12 langsats is chosen at random, find the probability that two langsats are rotten."
   ]
  },
  {
   "cell_type": "code",
   "execution_count": 140,
   "metadata": {},
   "outputs": [
    {
     "data": {
      "text/plain": [
       "0.08118177185776551"
      ]
     },
     "execution_count": 140,
     "metadata": {},
     "output_type": "execute_result"
    }
   ],
   "source": [
    "x = 2\n",
    "n = 100\n",
    "p = 0.05\n",
    "st.binom.pmf(x,n,p)"
   ]
  },
  {
   "cell_type": "code",
   "execution_count": 141,
   "metadata": {},
   "outputs": [
    {
     "data": {
      "text/plain": [
       "0.08118177185776536"
      ]
     },
     "execution_count": 141,
     "metadata": {},
     "output_type": "execute_result"
    }
   ],
   "source": [
    "nCx(n,x)*((p)**(x))*((1-p)**(n-x))"
   ]
  },
  {
   "cell_type": "markdown",
   "metadata": {},
   "source": [
    "Question 9\n",
    "By referring to Question 8, draw a binomial probability distribution to represents the binomial probability distribution of X. After sorting your data, you have to include:\n",
    "\n",
    "- label for x and y axis with approriate fontsize\n",
    "- limit for x and y axis\n",
    "- size of your ticks with the grid lines\n",
    "- horizontal and vertical lines to indicate your X"
   ]
  },
  {
   "cell_type": "code",
   "execution_count": 152,
   "metadata": {},
   "outputs": [
    {
     "data": {
      "image/png": "[encoded data removed]",
      "text/plain": [
       "<Figure size 432x288 with 1 Axes>"
      ]
     },
     "metadata": {
      "needs_background": "light"
     },
     "output_type": "display_data"
    }
   ],
   "source": [
    "x = 2\n",
    "n = 100\n",
    "p = 0.05\n",
    "\n",
    "probability = st.binom.pmf(x, n, p)\n",
    "data = st.binom.rvs(n, p, size = 200)\n",
    "data.sort()\n",
    "\n",
    "plt.bar(data, st.binom.pmf(data, n, p), linewidth = 10, color = \"purple\")\n",
    "plt.plot(data, st.binom.pmf(data, n, p), color = \"pink\")\n",
    "plt.xlabel(\"x\", fontsize = 10)\n",
    "plt.ylabel(\"y\", fontsize = 10)\n",
    "plt.xlim(0, 10)\n",
    "plt.ylim(0.00, 0.2)\n",
    "plt.xticks(size = 10)\n",
    "plt.yticks(size = 10)\n",
    "plt.axhline(probability, xmin = 0, xmax = 1, color = \"cyan\", linestyle = '--')\n",
    "plt.axvline(x = 2, ymin = 0, ymax = 1, color = \"darkcyan\", linestyle = '--')\n",
    "plt.grid()\n",
    "plt.show()"
   ]
  },
  {
   "cell_type": "markdown",
   "metadata": {},
   "source": [
    "Question 10\n",
    "By referring to Question 8, find the mean and standard deviation of X."
   ]
  },
  {
   "cell_type": "code",
   "execution_count": 160,
   "metadata": {},
   "outputs": [
    {
     "name": "stdout",
     "output_type": "stream",
     "text": [
      "5.0 2.179449471770337\n"
     ]
    }
   ],
   "source": [
    "x = 2\n",
    "n = 100\n",
    "p = 0.05\n",
    "mean = p*n\n",
    "variance = (1-p)*p*n\n",
    "st_dev = variance**0.5\n",
    "print(mean, st_dev)"
   ]
  },
  {
   "cell_type": "markdown",
   "metadata": {},
   "source": [
    "# Poisson Distribution"
   ]
  },
  {
   "cell_type": "markdown",
   "metadata": {},
   "source": [
    "### Poisson Distribution describes the number of times of some event occurring during a specified interval.\n",
    "\n",
    "There are two conditions:\n",
    "\n",
    "Events occur singly & at random, in a given interval of time or space λ (lambda), is the mean number of occurrences in the given interval is known and is finite.\n",
    "\n",
    "An important note is that λ can only be a positive number."
   ]
  },
  {
   "cell_type": "code",
   "execution_count": null,
   "metadata": {},
   "outputs": [],
   "source": []
  }
 ],
 "metadata": {
  "kernelspec": {
   "display_name": "Python 3",
   "language": "python",
   "name": "python3"
  },
  "language_info": {
   "codemirror_mode": {
    "name": "ipython",
    "version": 3
   },
   "file_extension": ".py",
   "mimetype": "text/x-python",
   "name": "python",
   "nbconvert_exporter": "python",
   "pygments_lexer": "ipython3",
   "version": "3.7.3"
  }
 },
 "nbformat": 4,
 "nbformat_minor": 2
}
