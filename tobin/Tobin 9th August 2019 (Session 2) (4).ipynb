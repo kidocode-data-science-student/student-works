{
 "cells": [
  {
   "cell_type": "markdown",
   "metadata": {},
   "source": [
    "Task 10.\n",
    "Below shows a list that contains some numbers. Try to find...\n",
    "1. The difference between the number with index of 232 and 438\n",
    "2. The average of list\n",
    "3. Location of number 769 and -776. Built a condition for this if the number cannot be found."
   ]
  },
  {
   "cell_type": "code",
   "execution_count": 4,
   "metadata": {},
   "outputs": [
    {
     "name": "stdout",
     "output_type": "stream",
     "text": [
      "656\n"
     ]
    }
   ],
   "source": [
    "import random\n",
    "import numpy as np\n",
    "np.random.seed(0)\n",
    "myList = np.random.randint(-1000, 1000, np.random.randint(500, 1000))\n",
    "print(myList[232] - myList[438])\n"
   ]
  },
  {
   "cell_type": "code",
   "execution_count": 5,
   "metadata": {},
   "outputs": [
    {
     "name": "stdout",
     "output_type": "stream",
     "text": [
      "-1.2157738095238095\n"
     ]
    }
   ],
   "source": [
    "print(sum(myList) / len(myList))\n"
   ]
  },
  {
   "cell_type": "code",
   "execution_count": 8,
   "metadata": {},
   "outputs": [
    {
     "name": "stdout",
     "output_type": "stream",
     "text": [
      "(array([172], dtype=int32),)\n"
     ]
    }
   ],
   "source": [
    "b=np.where(myList==-914)\n",
    "print(b)\n"
   ]
  },
  {
   "cell_type": "code",
   "execution_count": 9,
   "metadata": {},
   "outputs": [
    {
     "name": "stdout",
     "output_type": "stream",
     "text": [
      "(array([137, 185], dtype=int32),)\n"
     ]
    }
   ],
   "source": [
    "print(np.where(myList==578))"
   ]
  },
  {
   "cell_type": "markdown",
   "metadata": {},
   "source": [
    "List: Count and Sort"
   ]
  },
  {
   "cell_type": "markdown",
   "metadata": {},
   "source": [
    "Count"
   ]
  },
  {
   "cell_type": "code",
   "execution_count": 11,
   "metadata": {},
   "outputs": [
    {
     "name": "stdout",
     "output_type": "stream",
     "text": [
      "4\n"
     ]
    }
   ],
   "source": [
    "data1 = [6, 3, 1, 4, 6, 5, 9, 2, 9, 4, 7, 10, 7, 3, 1, 3, 3, 7, 1, 1]\n",
    "print(data1.count(3))"
   ]
  },
  {
   "cell_type": "code",
   "execution_count": 12,
   "metadata": {},
   "outputs": [
    {
     "name": "stdout",
     "output_type": "stream",
     "text": [
      "5\n"
     ]
    }
   ],
   "source": [
    "import numpy as np\n",
    "data2 = np.array([5, 1, 9, 4, 9, 2, 3, 5, 9, 7, 9, 3, 9, 3, 5, 2, 1, 5, 4, 2])\n",
    "print(np.count_nonzero(data2 == 9))"
   ]
  },
  {
   "cell_type": "markdown",
   "metadata": {},
   "source": [
    "Sort"
   ]
  },
  {
   "cell_type": "code",
   "execution_count": 15,
   "metadata": {},
   "outputs": [
    {
     "name": "stdout",
     "output_type": "stream",
     "text": [
      "[10, 9, 9, 7, 7, 7, 6, 6, 5, 4, 4, 3, 3, 3, 3, 2, 1, 1, 1, 1]\n"
     ]
    }
   ],
   "source": [
    "data1 = [6, 3, 1, 4, 6, 5, 9, 2, 9, 4, 7, 10, 7, 3, 1, 3, 3, 7, 1, 1]\n",
    "data1.sort(reverse = True)\n",
    "print(data1)"
   ]
  },
  {
   "cell_type": "code",
   "execution_count": 20,
   "metadata": {},
   "outputs": [
    {
     "name": "stdout",
     "output_type": "stream",
     "text": [
      "[1 1 2 2 2 3 3 3 4 4 5 5 5 5 7 9 9 9 9 9]\n"
     ]
    }
   ],
   "source": [
    "import numpy as np\n",
    "data2 = np.array([5, 1, 9, 4, 9, 2, 3, 5, 9, 7, 9, 3, 9, 3, 5, 2, 1, 5, 4, 2])\n",
    "data2 = np.sort(data2)\n",
    "print(data2)"
   ]
  },
  {
   "cell_type": "code",
   "execution_count": 39,
   "metadata": {},
   "outputs": [
    {
     "name": "stdout",
     "output_type": "stream",
     "text": [
      "[  9 192 277 359 559 629 707 723 754 763 804 835]\n",
      "1\n"
     ]
    }
   ],
   "source": [
    "import random\n",
    "import numpy as np\n",
    "np.random.seed(0)\n",
    "myData = np.random.randint(0, 1000, np.random.randint(0, 30))\n",
    "myData = np.sort(myData)\n",
    "print(myData)\n",
    "print(np.count_nonzero(myData == 629))"
   ]
  },
  {
   "cell_type": "markdown",
   "metadata": {},
   "source": [
    "Task 1.\n",
    "Without using numpy, create a list that contains 20 random number in the range of 1 to 10. Then count how many 4 does the list contains."
   ]
  },
  {
   "cell_type": "code",
   "execution_count": 55,
   "metadata": {},
   "outputs": [
    {
     "name": "stdout",
     "output_type": "stream",
     "text": [
      "[5, 0, 3, 3, 7, 9, 3, 5, 2, 4, 7, 6, 8, 8, 1, 6, 7, 7, 8, 1]\n",
      "1\n"
     ]
    }
   ],
   "source": [
    "np.random.seed(0)\n",
    "list =(np.random.randint(0,10,20)).tolist()\n",
    "\n",
    "print(list) \n",
    "\n",
    "print(list.count(4)) \n"
   ]
  },
  {
   "cell_type": "markdown",
   "metadata": {},
   "source": [
    "Task 2.\n",
    "Use the list that you have created from the previous task, now, arrange the elements inside the list in accending order."
   ]
  },
  {
   "cell_type": "code",
   "execution_count": 57,
   "metadata": {},
   "outputs": [
    {
     "name": "stdout",
     "output_type": "stream",
     "text": [
      "[0, 1, 1, 2, 3, 3, 3, 4, 5, 5, 6, 6, 7, 7, 7, 7, 8, 8, 8, 9]\n"
     ]
    }
   ],
   "source": [
    "list.sort()\n",
    "print(list)"
   ]
  },
  {
   "cell_type": "markdown",
   "metadata": {},
   "source": [
    "Task 3.\n",
    "Without using numpy, create a list that contains 30 random number in the range of 0 to 10. From the list, count how many 2 and 6 is contains inside the list."
   ]
  },
  {
   "cell_type": "code",
   "execution_count": 61,
   "metadata": {},
   "outputs": [
    {
     "name": "stdout",
     "output_type": "stream",
     "text": [
      "1\n",
      "2\n"
     ]
    }
   ],
   "source": [
    "np.random.seed(0)\n",
    "list = (np.random.randint(0,10,30)).tolist()\n",
    "print(list.count(2))\n",
    "print(list.count(6))"
   ]
  },
  {
   "cell_type": "markdown",
   "metadata": {},
   "source": [
    "Task 4.\n",
    "Use the list that you have created from the previous task, now, arrange the elements inside the list in descending order."
   ]
  },
  {
   "cell_type": "code",
   "execution_count": 62,
   "metadata": {},
   "outputs": [
    {
     "name": "stdout",
     "output_type": "stream",
     "text": [
      "[9, 9, 9, 8, 8, 8, 8, 7, 7, 7, 7, 6, 6, 5, 5, 5, 5, 4, 4, 3, 3, 3, 3, 3, 2, 1, 1, 0, 0, 0]\n"
     ]
    }
   ],
   "source": [
    "list.sort(reverse = True)\n",
    "print(list)"
   ]
  },
  {
   "cell_type": "markdown",
   "metadata": {},
   "source": [
    "Task 5.\n",
    "Using numpy, create a list that contains 20 random number in the range of 10 to 20. Then count how many 15 does the list contains."
   ]
  },
  {
   "cell_type": "code",
   "execution_count": 66,
   "metadata": {},
   "outputs": [
    {
     "name": "stdout",
     "output_type": "stream",
     "text": [
      "2\n"
     ]
    }
   ],
   "source": [
    "import random\n",
    "import numpy as np\n",
    "np.random.seed(0)\n",
    "list = (np.random.randint(10,20,20))\n",
    "list = np.sort(list)\n",
    "print(np.count_nonzero(list == 15))"
   ]
  },
  {
   "cell_type": "markdown",
   "metadata": {},
   "source": [
    "Task 6.\n",
    "Use the list that you have created from the previous task, now, arrange the elements inside the list."
   ]
  },
  {
   "cell_type": "code",
   "execution_count": 67,
   "metadata": {},
   "outputs": [
    {
     "name": "stdout",
     "output_type": "stream",
     "text": [
      "[10 11 11 12 13 13 13 14 15 15 16 16 17 17 17 17 18 18 18 19]\n"
     ]
    }
   ],
   "source": [
    "list.sort()\n",
    "print(list)"
   ]
  },
  {
   "cell_type": "markdown",
   "metadata": {},
   "source": [
    "Task 7.\n",
    "Using numpy, create a list that contains 50 random number in the range of -10 to 10. From the list, count how many -5 and 5 is contains inside the list."
   ]
  },
  {
   "cell_type": "code",
   "execution_count": 71,
   "metadata": {},
   "outputs": [
    {
     "name": "stdout",
     "output_type": "stream",
     "text": [
      "3\n",
      "3\n"
     ]
    }
   ],
   "source": [
    "import random\n",
    "import numpy as np\n",
    "np.random.seed(0)\n",
    "list = (np.random.randint(-10,10,50))\n",
    "print(np.count_nonzero(list == -5))\n",
    "print(np.count_nonzero(list == 5))"
   ]
  },
  {
   "cell_type": "markdown",
   "metadata": {},
   "source": [
    "Task 8.\n",
    "Use the list that you have created from the previous task, now, arrange the elements inside the list."
   ]
  },
  {
   "cell_type": "code",
   "execution_count": 72,
   "metadata": {},
   "outputs": [
    {
     "name": "stdout",
     "output_type": "stream",
     "text": [
      "[-10 -10 -10 -10 -10 -10  -9  -9  -8  -7  -7  -7  -7  -6  -6  -5  -5  -5\n",
      "  -4  -4  -4  -3  -3  -3  -2  -1  -1  -1   0   1   2   2   3   4   4   5\n",
      "   5   5   6   7   7   8   8   8   9   9   9   9   9   9]\n"
     ]
    }
   ],
   "source": [
    "list.sort()\n",
    "print(list)"
   ]
  },
  {
   "cell_type": "markdown",
   "metadata": {},
   "source": [
    "Task 9.\n",
    "Using numpy, create a list that contains 200 random numbers in the range of -20 to 20. Find\n",
    "1. the average of the list\n",
    "2. the differance between the largest number and the smallest number\n",
    "3. find how many times 7 appears in the list and find the total of it"
   ]
  },
  {
   "cell_type": "code",
   "execution_count": 79,
   "metadata": {},
   "outputs": [
    {
     "name": "stdout",
     "output_type": "stream",
     "text": [
      "-1.03\n",
      "39\n",
      "3\n"
     ]
    }
   ],
   "source": [
    "import random\n",
    "import numpy as np\n",
    "np.random.seed(0)\n",
    "list = (np.random.randint(-20,20,200))\n",
    "print(sum(list) / len(list))\n",
    "print(max(list) - min(list))\n",
    "print(np.count_nonzero(list == 7))"
   ]
  },
  {
   "cell_type": "markdown",
   "metadata": {},
   "source": [
    "Task 10.\n",
    "Use numpy. \n",
    "Below shows a list that contains 20 random number in the range(10, 20). Do:\n",
    "1. add more elements into the list that will make up the list to have 500 elements. Set the range of elements in the list to (-30, 30)\n",
    "2. find how many times 21 appears in the list\n",
    "3. arrange the list"
   ]
  },
  {
   "cell_type": "code",
   "execution_count": 116,
   "metadata": {},
   "outputs": [
    {
     "name": "stdout",
     "output_type": "stream",
     "text": [
      "9\n"
     ]
    },
    {
     "data": {
      "text/plain": [
       "array([-30, -30, -30, -30, -30, -30, -30, -30, -30, -30, -30, -30, -30,\n",
       "       -29, -29, -29, -29, -29, -29, -29, -29, -28, -28, -28, -28, -28,\n",
       "       -28, -28, -27, -27, -27, -27, -27, -27, -27, -27, -27, -27, -27,\n",
       "       -27, -27, -27, -27, -26, -26, -26, -26, -26, -26, -25, -25, -25,\n",
       "       -25, -25, -25, -25, -25, -25, -24, -24, -24, -24, -24, -24, -23,\n",
       "       -23, -23, -23, -23, -23, -22, -22, -22, -22, -22, -22, -22, -22,\n",
       "       -22, -21, -21, -21, -21, -21, -21, -21, -21, -21, -21, -20, -20,\n",
       "       -20, -20, -20, -20, -19, -19, -19, -19, -19, -19, -19, -19, -19,\n",
       "       -19, -19, -19, -18, -18, -18, -18, -18, -17, -17, -17, -17, -17,\n",
       "       -17, -17, -17, -17, -17, -17, -16, -16, -16, -16, -16, -16, -15,\n",
       "       -15, -15, -15, -15, -15, -15, -15, -14, -14, -14, -14, -14, -14,\n",
       "       -14, -13, -13, -13, -13, -13, -13, -13, -13, -12, -12, -12, -12,\n",
       "       -12, -12, -12, -12, -12, -12, -11, -11, -11, -11, -11, -11, -11,\n",
       "       -11, -11, -11, -10, -10, -10, -10, -10, -10, -10, -10,  -9,  -9,\n",
       "        -9,  -9,  -9,  -9,  -9,  -9,  -8,  -8,  -8,  -8,  -8,  -8,  -8,\n",
       "        -7,  -7,  -7,  -7,  -7,  -7,  -7,  -7,  -7,  -7,  -7,  -6,  -6,\n",
       "        -6,  -6,  -6,  -6,  -6,  -6,  -6,  -6,  -6,  -5,  -5,  -5,  -5,\n",
       "        -5,  -5,  -4,  -4,  -4,  -4,  -3,  -3,  -3,  -3,  -3,  -3,  -3,\n",
       "        -3,  -3,  -2,  -2,  -2,  -2,  -2,  -2,  -2,  -1,  -1,  -1,  -1,\n",
       "        -1,  -1,  -1,  -1,  -1,   0,   0,   0,   0,   0,   0,   0,   0,\n",
       "         0,   1,   1,   1,   1,   1,   1,   1,   2,   2,   2,   2,   2,\n",
       "         2,   2,   2,   2,   3,   3,   3,   3,   4,   4,   4,   4,   4,\n",
       "         4,   4,   4,   4,   5,   5,   5,   5,   5,   5,   5,   5,   5,\n",
       "         5,   5,   5,   5,   5,   5,   6,   6,   6,   6,   6,   6,   6,\n",
       "         6,   6,   6,   7,   7,   7,   8,   8,   8,   8,   8,   8,   8,\n",
       "         9,   9,   9,   9,   9,   9,   9,   9,   9,   9,   9,   9,  10,\n",
       "        10,  10,  10,  10,  10,  10,  10,  10,  10,  10,  11,  11,  11,\n",
       "        11,  11,  11,  11,  11,  11,  12,  12,  12,  12,  12,  12,  12,\n",
       "        12,  12,  13,  13,  13,  13,  13,  13,  13,  13,  14,  14,  14,\n",
       "        14,  14,  14,  14,  15,  15,  15,  15,  15,  16,  16,  16,  16,\n",
       "        16,  16,  16,  16,  16,  16,  17,  17,  17,  17,  17,  17,  17,\n",
       "        18,  18,  18,  18,  18,  18,  18,  19,  19,  19,  19,  19,  19,\n",
       "        19,  20,  20,  20,  20,  20,  20,  20,  20,  21,  21,  21,  21,\n",
       "        21,  21,  21,  21,  21,  22,  22,  22,  22,  22,  22,  22,  22,\n",
       "        22,  23,  23,  23,  23,  23,  23,  23,  23,  23,  23,  23,  23,\n",
       "        23,  24,  24,  24,  24,  24,  25,  25,  25,  25,  26,  26,  26,\n",
       "        26,  26,  26,  26,  26,  26,  27,  27,  27,  27,  27,  27,  27,\n",
       "        27,  27,  28,  28,  28,  28,  28,  28,  28,  28,  28,  28,  29,\n",
       "        29,  29,  29,  29,  29,  29])"
      ]
     },
     "execution_count": 116,
     "metadata": {},
     "output_type": "execute_result"
    }
   ],
   "source": [
    "import numpy as np\n",
    "np.random.seed(0)\n",
    "data5 = np.random.randint(-30,30,500)\n",
    "print(np.count_nonzero(data5 == 21))\n",
    "np.sort(data5)\n"
   ]
  },
  {
   "cell_type": "code",
   "execution_count": 114,
   "metadata": {},
   "outputs": [
    {
     "name": "stdout",
     "output_type": "stream",
     "text": [
      "[ 29  29  29  29  29  29  29  28  28  28  28  28  28  28  28  28  28  27\n",
      "  27  27  27  27  27  27  27  27  26  26  26  26  26  26  26  26  26  25\n",
      "  25  25  25  24  24  24  24  24  23  23  23  23  23  23  23  23  23  23\n",
      "  23  23  23  22  22  22  22  22  22  22  22  22  21  21  21  21  21  21\n",
      "  21  21  21  20  20  20  20  20  20  20  20  19  19  19  19  19  19  19\n",
      "  18  18  18  18  18  18  18  17  17  17  17  17  17  17  16  16  16  16\n",
      "  16  16  16  16  16  16  15  15  15  15  15  14  14  14  14  14  14  14\n",
      "  13  13  13  13  13  13  13  13  12  12  12  12  12  12  12  12  12  11\n",
      "  11  11  11  11  11  11  11  11  10  10  10  10  10  10  10  10  10  10\n",
      "  10   9   9   9   9   9   9   9   9   9   9   9   9   8   8   8   8   8\n",
      "   8   8   7   7   7   6   6   6   6   6   6   6   6   6   6   5   5   5\n",
      "   5   5   5   5   5   5   5   5   5   5   5   5   4   4   4   4   4   4\n",
      "   4   4   4   3   3   3   3   2   2   2   2   2   2   2   2   2   1   1\n",
      "   1   1   1   1   1   0   0   0   0   0   0   0   0   0  -1  -1  -1  -1\n",
      "  -1  -1  -1  -1  -1  -2  -2  -2  -2  -2  -2  -2  -3  -3  -3  -3  -3  -3\n",
      "  -3  -3  -3  -4  -4  -4  -4  -5  -5  -5  -5  -5  -5  -6  -6  -6  -6  -6\n",
      "  -6  -6  -6  -6  -6  -6  -7  -7  -7  -7  -7  -7  -7  -7  -7  -7  -7  -8\n",
      "  -8  -8  -8  -8  -8  -8  -9  -9  -9  -9  -9  -9  -9  -9 -10 -10 -10 -10\n",
      " -10 -10 -10 -10 -11 -11 -11 -11 -11 -11 -11 -11 -11 -11 -12 -12 -12 -12\n",
      " -12 -12 -12 -12 -12 -12 -13 -13 -13 -13 -13 -13 -13 -13 -14 -14 -14 -14\n",
      " -14 -14 -14 -15 -15 -15 -15 -15 -15 -15 -15 -16 -16 -16 -16 -16 -16 -17\n",
      " -17 -17 -17 -17 -17 -17 -17 -17 -17 -17 -18 -18 -18 -18 -18 -19 -19 -19\n",
      " -19 -19 -19 -19 -19 -19 -19 -19 -19 -20 -20 -20 -20 -20 -20 -21 -21 -21\n",
      " -21 -21 -21 -21 -21 -21 -21 -22 -22 -22 -22 -22 -22 -22 -22 -22 -23 -23\n",
      " -23 -23 -23 -23 -24 -24 -24 -24 -24 -24 -25 -25 -25 -25 -25 -25 -25 -25\n",
      " -25 -26 -26 -26 -26 -26 -26 -27 -27 -27 -27 -27 -27 -27 -27 -27 -27 -27\n",
      " -27 -27 -27 -27 -28 -28 -28 -28 -28 -28 -28 -29 -29 -29 -29 -29 -29 -29\n",
      " -29 -30 -30 -30 -30 -30 -30 -30 -30 -30 -30 -30 -30 -30]\n"
     ]
    }
   ],
   "source": [
    "import numpy as np\n",
    "np.random.seed(0)\n",
    "data5 = (np.random.randint(-30,30,500))\n",
    "a=np.sort(data5)\n",
    "b=a[::-1]\n",
    "print(b)\n"
   ]
  },
  {
   "cell_type": "markdown",
   "metadata": {},
   "source": [
    "Append, Reverse"
   ]
  },
  {
   "cell_type": "code",
   "execution_count": 117,
   "metadata": {},
   "outputs": [
    {
     "name": "stdout",
     "output_type": "stream",
     "text": [
      "[1, 2, 3, 4, 5]\n"
     ]
    }
   ],
   "source": [
    "x_list = [1,2,3,4]\n",
    "x_list.append(5)\n",
    "print(x_list)"
   ]
  },
  {
   "cell_type": "markdown",
   "metadata": {},
   "source": [
    "Task 1.\n",
    "Below shows a list with contains 10 elements. Without using numpy, add another 5 more random elements in the range of (-10,10) into the list."
   ]
  },
  {
   "cell_type": "code",
   "execution_count": 118,
   "metadata": {},
   "outputs": [
    {
     "name": "stdout",
     "output_type": "stream",
     "text": [
      "[-10, -4, 0, 6, 5, 0, 3, 8, -7, -7, -4, 1, 10, 10, -4]\n"
     ]
    }
   ],
   "source": [
    "import random\n",
    "data = [-10, -4, 0, 6, 5, 0, 3, 8, -7, -7]\n",
    "for i in range(5):\n",
    "    data.append(random.randint(-10,10))\n",
    "print(data)"
   ]
  },
  {
   "cell_type": "markdown",
   "metadata": {},
   "source": [
    "Task 2.\n",
    "Use the list that you have created from the previous task, now, remove the item with index 5 and print the list. After that, remove the item with index 10 and print the list again."
   ]
  },
  {
   "cell_type": "code",
   "execution_count": 119,
   "metadata": {},
   "outputs": [
    {
     "name": "stdout",
     "output_type": "stream",
     "text": [
      "[-10, -4, 0, 6, 5, 3, 8, -7, -7, -4, 1, 10, 10, -4]\n",
      "[-10, -4, 0, 6, 5, 3, 8, -7, -7, -4, 10, 10, -4]\n"
     ]
    }
   ],
   "source": [
    "data.pop(5)\n",
    "print(data)\n",
    "data.pop(10)\n",
    "print(data)"
   ]
  },
  {
   "cell_type": "markdown",
   "metadata": {},
   "source": [
    "Task 3.\n",
    "Now, use the list that you have created from the previous task and reverse the elements order."
   ]
  },
  {
   "cell_type": "code",
   "execution_count": 123,
   "metadata": {},
   "outputs": [
    {
     "name": "stdout",
     "output_type": "stream",
     "text": [
      "[-10, -4, 0, 6, 5, 3, 8, -7, -7, -4, 10, 10, -4]\n"
     ]
    }
   ],
   "source": [
    "data.reverse()\n",
    "print(data)"
   ]
  },
  {
   "cell_type": "markdown",
   "metadata": {},
   "source": [
    "Task 4.\n",
    "Below shows a list with contains 5 elements. Without using numpy, add more elements into the list that will make up the list to have 20 elements. Set the range of elements in the list to (-20, 20)."
   ]
  },
  {
   "cell_type": "code",
   "execution_count": 126,
   "metadata": {},
   "outputs": [
    {
     "name": "stdout",
     "output_type": "stream",
     "text": [
      "[15, 1, 15, 10, 3, 16, -7, 12, -3, -18, -17, -12, -7, 16, 10, -3, 2, -16, -3, -9]\n"
     ]
    }
   ],
   "source": [
    "import random\n",
    "list = [15,1,15,10,3]\n",
    "for i in range(15):\n",
    "    list.append(random.randint(-20,20))\n",
    "print(list)"
   ]
  },
  {
   "cell_type": "markdown",
   "metadata": {},
   "source": [
    "Task 5.\n",
    "Use the list that you have created from the previous task, now, remove all the values that is bigger then 10 in the list."
   ]
  },
  {
   "cell_type": "code",
   "execution_count": 127,
   "metadata": {},
   "outputs": [
    {
     "name": "stdout",
     "output_type": "stream",
     "text": [
      "[1, 10, 3, -7, -3, -18, -17, -12, -7, 10, -3, 2, -16, -3, -9]\n"
     ]
    }
   ],
   "source": [
    "for i in list:\n",
    "    if i > 10:\n",
    "        list.remove(i)\n",
    "print(list)"
   ]
  },
  {
   "cell_type": "markdown",
   "metadata": {},
   "source": [
    "Task 6.\n",
    "Now, use the list that you have created from the previous task and reverse the elements order."
   ]
  },
  {
   "cell_type": "code",
   "execution_count": 128,
   "metadata": {},
   "outputs": [
    {
     "name": "stdout",
     "output_type": "stream",
     "text": [
      "[-9, -3, -16, 2, -3, 10, -7, -12, -17, -18, -3, -7, 3, 10, 1]\n"
     ]
    }
   ],
   "source": [
    "list.reverse()\n",
    "print(list)"
   ]
  },
  {
   "cell_type": "markdown",
   "metadata": {},
   "source": [
    "Task 7.\n",
    "Below shows a list which contains 5 elements. By using Numpy, add more elements into the list that will make up the list to have 30 elements. Set the range of elements in the list to (-30, 30)"
   ]
  },
  {
   "cell_type": "code",
   "execution_count": 130,
   "metadata": {},
   "outputs": [
    {
     "name": "stdout",
     "output_type": "stream",
     "text": [
      "[  3 -15 -12 -29 -15  30  14  29  30 -18 -28 -21  -3  21  15   3   5  28\n",
      "  -4 -11  -5 -10 -10  25 -17  -6   6   5  -9   7   7  -4 -10   4 -15]\n"
     ]
    }
   ],
   "source": [
    "import random\n",
    "import numpy as np\n",
    "list = np.array([3, -15, -12, -29, -15])\n",
    "for i in range(30):\n",
    "    list = np.append(list, [random.randint(-30,30)])\n",
    "print(list)"
   ]
  },
  {
   "cell_type": "markdown",
   "metadata": {},
   "source": [
    "Task 8.\n",
    "Use the list that you have created from the previous task, now, remove the values with the index of 15 and 25 in the list."
   ]
  },
  {
   "cell_type": "code",
   "execution_count": 132,
   "metadata": {},
   "outputs": [
    {
     "name": "stdout",
     "output_type": "stream",
     "text": [
      "[  3 -15 -12 -29 -15  30  14  29  30 -18 -28 -21  -3  21  15   3   5  28\n",
      "  -4 -11  -5 -10 -10  25 -17  -6   6   5  -9   7   7  -4 -10   4 -15]\n"
     ]
    }
   ],
   "source": [
    "np.delete(list, [15])\n",
    "np.delete(list, [25])\n",
    "print(list)"
   ]
  },
  {
   "cell_type": "markdown",
   "metadata": {},
   "source": [
    "Task 9.\n",
    "Now, use the list that you have created from the previous task and reverse the elements order."
   ]
  },
  {
   "cell_type": "code",
   "execution_count": 133,
   "metadata": {},
   "outputs": [
    {
     "name": "stdout",
     "output_type": "stream",
     "text": [
      "[  3 -15 -12 -29 -15  30  14  29  30 -18 -28 -21  -3  21  15   3   5  28\n",
      "  -4 -11  -5 -10 -10  25 -17  -6   6   5  -9   7   7  -4 -10   4 -15]\n"
     ]
    }
   ],
   "source": [
    "np.flip(list)\n",
    "print(list)"
   ]
  },
  {
   "cell_type": "markdown",
   "metadata": {},
   "source": [
    "Task 10.\n",
    "Now, try to do this, by using numpy\n",
    "1. Create a list that contain random values in the range of -100 to 100. Set the size of the list to be 50\n",
    "2. Calculate the different between the max and min values from the list\n",
    "3. Find the average of the list. Make sure that the values is in float number.\n",
    "4. Reverse the elements order in the list"
   ]
  },
  {
   "cell_type": "code",
   "execution_count": 140,
   "metadata": {},
   "outputs": [
    {
     "name": "stdout",
     "output_type": "stream",
     "text": [
      "186\n",
      "7.24\n",
      "[-88  61  14  -7  74  78  59   0 -22  -8  14 -34  69 -35  35 -18  71 -47\n",
      "  66  69 -85  58  73 -94  -6 -29  41  38  28   4 -53  88 -39 -54 -49 -10\n",
      "  -2 -78  18 -74  83 -27  63 -13   9  58 -96  90   5  64]\n"
     ]
    }
   ],
   "source": [
    "import numpy as np\n",
    "list = np.random.randint(-100,100,50)\n",
    "print(max(list) - min(list))\n",
    "print(sum(list) / len(list))\n",
    "list = np.flip(list)\n",
    "print(list)"
   ]
  }
 ],
 "metadata": {
  "kernelspec": {
   "display_name": "Python 3",
   "language": "python",
   "name": "python3"
  },
  "language_info": {
   "codemirror_mode": {
    "name": "ipython",
    "version": 3
   },
   "file_extension": ".py",
   "mimetype": "text/x-python",
   "name": "python",
   "nbconvert_exporter": "python",
   "pygments_lexer": "ipython3",
   "version": "3.7.3"
  }
 },
 "nbformat": 4,
 "nbformat_minor": 2
}
