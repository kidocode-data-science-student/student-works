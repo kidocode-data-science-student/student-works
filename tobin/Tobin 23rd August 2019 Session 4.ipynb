{
 "cells": [
  {
   "cell_type": "markdown",
   "metadata": {},
   "source": [
    "<br>Question3.1 - Create a list which consists of any numbers\n",
    "<br>Question3.2 - Find (Arithmetic)mean of all numbers in that list\n",
    "<br>Question3.3 - Create another list which stores differences between the mean and all values of previous list(in q3.2)\n",
    "<br>Question3.4 - Find mean of second list(from q3.3)\n",
    "<br>Question3.5 - Create a function with one argument(list) and it should display the Average Deviation of the list(as arg)"
   ]
  },
  {
   "cell_type": "code",
   "execution_count": 17,
   "metadata": {},
   "outputs": [
    {
     "name": "stdout",
     "output_type": "stream",
     "text": [
      "[22 25 31 10 13 37 13 17 19 29 31 28 14 33 16]\n",
      "22.5\n",
      "[0.5, 2.5, 8.5, 12.5, 9.5, 14.5, 9.5, 5.5, 3.5, 6.5, 8.5, 5.5, 8.5, 10.5, 6.5]\n",
      "7.5\n"
     ]
    }
   ],
   "source": [
    "import numpy as np\n",
    "np.random.seed(0)\n",
    "\n",
    "#Question3.1\n",
    "a = np.random.randint(10, 40, 15)\n",
    "print(a)\n",
    "#Question3.2\n",
    "average = sum(a)/len(a)\n",
    "average = round(average, 1)\n",
    "print(average)\n",
    "#Question3.3\n",
    "difference = []\n",
    "for i in a:\n",
    "    b = i - (average)\n",
    "    difference.append(abs(b))\n",
    "print(difference)    \n",
    "#Question3.4\n",
    "avg_diff = np.mean(difference)\n",
    "print(avg_diff)"
   ]
  },
  {
   "cell_type": "code",
   "execution_count": 19,
   "metadata": {},
   "outputs": [
    {
     "data": {
      "text/plain": [
       "7.502222222222222"
      ]
     },
     "execution_count": 19,
     "metadata": {},
     "output_type": "execute_result"
    }
   ],
   "source": [
    "#Question3.5\n",
    "def avg_dev(data):\n",
    "    avg = np.mean(data)\n",
    "    distance = []\n",
    "    for i in data:\n",
    "        b = i - (avg)\n",
    "        distance.append(abs(b))\n",
    "    return(sum(distance)/len(distance))\n",
    "avg_dev(a)"
   ]
  },
  {
   "cell_type": "code",
   "execution_count": 21,
   "metadata": {},
   "outputs": [
    {
     "name": "stdout",
     "output_type": "stream",
     "text": [
      "[ 14 904 721 535 505 848 986 777 740 775 210 456 469 474 963 573 401  57\n",
      " 883 750 664 281   5 613 306 344 543 567 154 789 354 358 698 408 412  30\n",
      " 930 372 822 632 948 855 503   8 618 138 695 897 852 377 933 722 149 886\n",
      " 260 127 811 578 533 805 325 977 113 944 651 238 361 991 860 556  64 928\n",
      " 917 455 266 445 604 624 420 340 845 275 370 843 227 226 940 644 909 229\n",
      " 827 898 370 129 808  25 699 293 356 838 135   4 227 890 681 445 418 285\n",
      " 837  27 737 249 366 948 202 438 198 930 648 638 607  73 247 853 136 708\n",
      " 214 476 621 324 103 853 328 596 224 257 646 348 108 927 970 980 520 150\n",
      " 998 477 393 684 559   1 361 692 551  90  75 500 739 636 344  97 852 283\n",
      " 719  33 116 455 866 429 828 826 691 174 746 133 442  94 348 402 420 707\n",
      " 405 942 186 976 376 677 874 703 517 498 499 206 415 366 856 739 420 586\n",
      " 219 952 539 375  23 461 720 355 603  52 999 815 721 574 445 816 105 641\n",
      " 395 972 910 328 607 519 686 246 415 528 170 167 310 940 595 392 221 834\n",
      " 682 835 115 861 335 742 220 247 101 416 222 179 509 175 606 627 674 781\n",
      " 737 746 849  67 457 126 139 625 731 156 697 121 322 449 710 857 291 976\n",
      "   4 701 239 678 172 724 857 583 661 903 797 628 903 835 605 989 615 870\n",
      " 380 710 110 330 101 695 846 918 508 672 594  36 238 244 251 393 767 282\n",
      "  22 430 230 983 401 154 120 678 896 386 390 711 397 347 587 951  79 831\n",
      " 585 200 814 134 560 700 171 452 139 755 314 476 346 388 126 719 851 198\n",
      " 699 901  18 710 448 351 665 644 326 425 165 571 178 440 665 674 915 866\n",
      " 463 754 136 950 748  47 497 640 930 338 158 525 631 815 887 289 803 116\n",
      " 600 637 410 175 499 876 565 623 577 333 887 586 147 773 776 644  49  77\n",
      " 294 117 494 561 110 979 180 562  72 859 434 286 516  75 597 491 322 888\n",
      " 533 209  43 499  29 411 856 181 305 963 615 778 259 373 877 746 858 381\n",
      " 886 613  91  69 618 523  13 617 226 422 168 929 379 290 923 100 218 307\n",
      " 345 211 789 735 669 585 275 410 921 552 235 636 285 665 659 708 173 724\n",
      " 302 823   1 139 708 903 732 868 442 967 916 163  51 243 871  21 684 631\n",
      " 129 485 366 106 707 226 653 784 119 546 152 909 902  39]\n"
     ]
    },
    {
     "data": {
      "text/plain": [
       "247.20402399999992"
      ]
     },
     "execution_count": 21,
     "metadata": {},
     "output_type": "execute_result"
    }
   ],
   "source": [
    "data = np.random.randint(1, 1000, 500)\n",
    "print(data)\n",
    "\n",
    "avg_dev(data)"
   ]
  },
  {
   "cell_type": "code",
   "execution_count": 22,
   "metadata": {},
   "outputs": [
    {
     "name": "stdout",
     "output_type": "stream",
     "text": [
      "147.32277488562318\n"
     ]
    }
   ],
   "source": [
    "import math\n",
    "print(math.sqrt(21704))\n"
   ]
  },
  {
   "cell_type": "code",
   "execution_count": 23,
   "metadata": {},
   "outputs": [
    {
     "data": {
      "text/plain": [
       "127.2"
      ]
     },
     "execution_count": 23,
     "metadata": {},
     "output_type": "execute_result"
    }
   ],
   "source": [
    "animals = [600,470,170,430,300]\n",
    "avg_dev(animals)"
   ]
  },
  {
   "cell_type": "code",
   "execution_count": null,
   "metadata": {},
   "outputs": [],
   "source": []
  },
  {
   "cell_type": "markdown",
   "metadata": {},
   "source": [
    "Question1.4.1: Generate random numbers in a list and Find  the Mean\n",
    "<br>Question1.4.2: Find differences between values and the Mean and store differences in a list called \"diff_list\" \n",
    "<br>Question1.4.3: Update \"diff_list\" by Square(ing) each value \n",
    "<br>Question1.4.4: Finally, Find the mean of \"diff_list\" and store it.\n",
    "<br>Question1.4.5: Create a function which calculates and returns the variance and the function accepts only one argument(parameter) which is List of numbers\n"
   ]
  },
  {
   "cell_type": "code",
   "execution_count": 25,
   "metadata": {},
   "outputs": [
    {
     "data": {
      "text/plain": [
       "17.85"
      ]
     },
     "execution_count": 25,
     "metadata": {},
     "output_type": "execute_result"
    }
   ],
   "source": [
    "#Question1.4.1\n",
    "list1 = np.random.randint(0, 50, 20)\n",
    "list1_mean = np.mean(list1)\n"
   ]
  },
  {
   "cell_type": "code",
   "execution_count": 28,
   "metadata": {},
   "outputs": [
    {
     "name": "stdout",
     "output_type": "stream",
     "text": [
      "[-21.5, -12.5, -16.5, -16.5, 15.5, 15.5, -11.5, -1.5, -20.5, -10.5, 6.5, -13.5, -14.5, -17.5, 20.5, -21.5, 20.5, -7.5, -10.5, 24.5]\n"
     ]
    }
   ],
   "source": [
    "#Question1.4.2\n",
    "diff_list = []\n",
    "for i in list1:\n",
    "    b = i - (average)\n",
    "    diff_list.append(b)\n",
    "print(diff_list)"
   ]
  },
  {
   "cell_type": "code",
   "execution_count": 33,
   "metadata": {},
   "outputs": [
    {
     "name": "stdout",
     "output_type": "stream",
     "text": [
      "[462.25, 156.25, 272.25, 272.25, 240.25, 240.25, 132.25, 2.25, 420.25, 110.25, 42.25, 182.25, 210.25, 306.25, 420.25, 462.25, 420.25, 56.25, 110.25, 600.25]\n"
     ]
    }
   ],
   "source": [
    "#Question1.4.3\n",
    "square_diff = []\n",
    "for i in diff_list:\n",
    "    square_diff.append(i**2)\n",
    "print(square_diff)"
   ]
  },
  {
   "cell_type": "code",
   "execution_count": 36,
   "metadata": {},
   "outputs": [
    {
     "name": "stdout",
     "output_type": "stream",
     "text": [
      "255.95\n"
     ]
    }
   ],
   "source": [
    "#Question1.4.4\n",
    "diff_mean = np.mean(square_diff)\n",
    "print(diff_mean)"
   ]
  },
  {
   "cell_type": "code",
   "execution_count": 39,
   "metadata": {},
   "outputs": [
    {
     "data": {
      "text/plain": [
       "80608.43396400003"
      ]
     },
     "execution_count": 39,
     "metadata": {},
     "output_type": "execute_result"
    }
   ],
   "source": [
    "#Question1.4.5\n",
    "def variance_f(data):\n",
    "    avg = np.mean(data)\n",
    "    distance = []\n",
    "    for i in data:\n",
    "        b = i - (avg)\n",
    "        distance.append(b**2)\n",
    "    return(sum(distance)/len(distance))\n",
    "variance_f(data)\n"
   ]
  },
  {
   "cell_type": "code",
   "execution_count": 40,
   "metadata": {},
   "outputs": [],
   "source": [
    "def st_dev(any_list):\n",
    "    return(math.sqrt(variance_f(any_list)))"
   ]
  },
  {
   "cell_type": "code",
   "execution_count": 41,
   "metadata": {},
   "outputs": [
    {
     "data": {
      "text/plain": [
       "283.91624462858766"
      ]
     },
     "execution_count": 41,
     "metadata": {},
     "output_type": "execute_result"
    }
   ],
   "source": [
    "st_dev(data)"
   ]
  },
  {
   "cell_type": "code",
   "execution_count": 43,
   "metadata": {},
   "outputs": [
    {
     "name": "stdout",
     "output_type": "stream",
     "text": [
      "21704.0\n",
      "147.32277488562318\n"
     ]
    }
   ],
   "source": [
    "print(variance_f(animals))\n",
    "print(st_dev(animals))"
   ]
  }
 ],
 "metadata": {
  "kernelspec": {
   "display_name": "Python 3",
   "language": "python",
   "name": "python3"
  },
  "language_info": {
   "codemirror_mode": {
    "name": "ipython",
    "version": 3
   },
   "file_extension": ".py",
   "mimetype": "text/x-python",
   "name": "python",
   "nbconvert_exporter": "python",
   "pygments_lexer": "ipython3",
   "version": "3.7.3"
  }
 },
 "nbformat": 4,
 "nbformat_minor": 2
}
