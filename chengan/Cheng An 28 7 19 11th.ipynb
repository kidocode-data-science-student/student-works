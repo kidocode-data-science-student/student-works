{
 "cells": [
  {
   "cell_type": "code",
   "execution_count": 1,
   "metadata": {},
   "outputs": [],
   "source": [
    "import numpy as np\n",
    "import matplotlib.pyplot as plt"
   ]
  },
  {
   "cell_type": "markdown",
   "metadata": {},
   "source": [
    "## Question 1"
   ]
  },
  {
   "cell_type": "markdown",
   "metadata": {},
   "source": [
    "Taller people tend to weigh more and shorter people tend to weigh less. By referring to table below, create a list of Height (as x) and a list of Weight (as y). Predict type of relation between these two lists of data."
   ]
  },
  {
   "cell_type": "code",
   "execution_count": 5,
   "metadata": {},
   "outputs": [
    {
     "data": {
      "text/html": [
       "<style  type=\"text/css\" >\n",
       "    #T_5b372b4a_b0e7_11e9_bd4d_002324307fcbrow0_col0 {\n",
       "            text-align:  left;\n",
       "        }    #T_5b372b4a_b0e7_11e9_bd4d_002324307fcbrow0_col1 {\n",
       "            text-align:  left;\n",
       "        }    #T_5b372b4a_b0e7_11e9_bd4d_002324307fcbrow1_col0 {\n",
       "            text-align:  left;\n",
       "        }    #T_5b372b4a_b0e7_11e9_bd4d_002324307fcbrow1_col1 {\n",
       "            text-align:  left;\n",
       "        }    #T_5b372b4a_b0e7_11e9_bd4d_002324307fcbrow2_col0 {\n",
       "            text-align:  left;\n",
       "        }    #T_5b372b4a_b0e7_11e9_bd4d_002324307fcbrow2_col1 {\n",
       "            text-align:  left;\n",
       "        }    #T_5b372b4a_b0e7_11e9_bd4d_002324307fcbrow3_col0 {\n",
       "            text-align:  left;\n",
       "        }    #T_5b372b4a_b0e7_11e9_bd4d_002324307fcbrow3_col1 {\n",
       "            text-align:  left;\n",
       "        }    #T_5b372b4a_b0e7_11e9_bd4d_002324307fcbrow4_col0 {\n",
       "            text-align:  left;\n",
       "        }    #T_5b372b4a_b0e7_11e9_bd4d_002324307fcbrow4_col1 {\n",
       "            text-align:  left;\n",
       "        }    #T_5b372b4a_b0e7_11e9_bd4d_002324307fcbrow5_col0 {\n",
       "            text-align:  left;\n",
       "        }    #T_5b372b4a_b0e7_11e9_bd4d_002324307fcbrow5_col1 {\n",
       "            text-align:  left;\n",
       "        }    #T_5b372b4a_b0e7_11e9_bd4d_002324307fcbrow6_col0 {\n",
       "            text-align:  left;\n",
       "        }    #T_5b372b4a_b0e7_11e9_bd4d_002324307fcbrow6_col1 {\n",
       "            text-align:  left;\n",
       "        }    #T_5b372b4a_b0e7_11e9_bd4d_002324307fcbrow7_col0 {\n",
       "            text-align:  left;\n",
       "        }    #T_5b372b4a_b0e7_11e9_bd4d_002324307fcbrow7_col1 {\n",
       "            text-align:  left;\n",
       "        }    #T_5b372b4a_b0e7_11e9_bd4d_002324307fcbrow8_col0 {\n",
       "            text-align:  left;\n",
       "        }    #T_5b372b4a_b0e7_11e9_bd4d_002324307fcbrow8_col1 {\n",
       "            text-align:  left;\n",
       "        }    #T_5b372b4a_b0e7_11e9_bd4d_002324307fcbrow9_col0 {\n",
       "            text-align:  left;\n",
       "        }    #T_5b372b4a_b0e7_11e9_bd4d_002324307fcbrow9_col1 {\n",
       "            text-align:  left;\n",
       "        }    #T_5b372b4a_b0e7_11e9_bd4d_002324307fcbrow10_col0 {\n",
       "            text-align:  left;\n",
       "        }    #T_5b372b4a_b0e7_11e9_bd4d_002324307fcbrow10_col1 {\n",
       "            text-align:  left;\n",
       "        }    #T_5b372b4a_b0e7_11e9_bd4d_002324307fcbrow11_col0 {\n",
       "            text-align:  left;\n",
       "        }    #T_5b372b4a_b0e7_11e9_bd4d_002324307fcbrow11_col1 {\n",
       "            text-align:  left;\n",
       "        }    #T_5b372b4a_b0e7_11e9_bd4d_002324307fcbrow12_col0 {\n",
       "            text-align:  left;\n",
       "        }    #T_5b372b4a_b0e7_11e9_bd4d_002324307fcbrow12_col1 {\n",
       "            text-align:  left;\n",
       "        }    #T_5b372b4a_b0e7_11e9_bd4d_002324307fcbrow13_col0 {\n",
       "            text-align:  left;\n",
       "        }    #T_5b372b4a_b0e7_11e9_bd4d_002324307fcbrow13_col1 {\n",
       "            text-align:  left;\n",
       "        }    #T_5b372b4a_b0e7_11e9_bd4d_002324307fcbrow14_col0 {\n",
       "            text-align:  left;\n",
       "        }    #T_5b372b4a_b0e7_11e9_bd4d_002324307fcbrow14_col1 {\n",
       "            text-align:  left;\n",
       "        }</style><table id=\"T_5b372b4a_b0e7_11e9_bd4d_002324307fcb\" ><thead>    <tr>        <th class=\"blank level0\" ></th>        <th class=\"col_heading level0 col0\" >Height (cm)</th>        <th class=\"col_heading level0 col1\" >Weight (kg)</th>    </tr></thead><tbody>\n",
       "                <tr>\n",
       "                        <th id=\"T_5b372b4a_b0e7_11e9_bd4d_002324307fcblevel0_row0\" class=\"row_heading level0 row0\" >0</th>\n",
       "                        <td id=\"T_5b372b4a_b0e7_11e9_bd4d_002324307fcbrow0_col0\" class=\"data row0 col0\" >173</td>\n",
       "                        <td id=\"T_5b372b4a_b0e7_11e9_bd4d_002324307fcbrow0_col1\" class=\"data row0 col1\" >50</td>\n",
       "            </tr>\n",
       "            <tr>\n",
       "                        <th id=\"T_5b372b4a_b0e7_11e9_bd4d_002324307fcblevel0_row1\" class=\"row_heading level0 row1\" >1</th>\n",
       "                        <td id=\"T_5b372b4a_b0e7_11e9_bd4d_002324307fcbrow1_col0\" class=\"data row1 col0\" >173</td>\n",
       "                        <td id=\"T_5b372b4a_b0e7_11e9_bd4d_002324307fcbrow1_col1\" class=\"data row1 col1\" >73</td>\n",
       "            </tr>\n",
       "            <tr>\n",
       "                        <th id=\"T_5b372b4a_b0e7_11e9_bd4d_002324307fcblevel0_row2\" class=\"row_heading level0 row2\" >2</th>\n",
       "                        <td id=\"T_5b372b4a_b0e7_11e9_bd4d_002324307fcbrow2_col0\" class=\"data row2 col0\" >162</td>\n",
       "                        <td id=\"T_5b372b4a_b0e7_11e9_bd4d_002324307fcbrow2_col1\" class=\"data row2 col1\" >53</td>\n",
       "            </tr>\n",
       "            <tr>\n",
       "                        <th id=\"T_5b372b4a_b0e7_11e9_bd4d_002324307fcblevel0_row3\" class=\"row_heading level0 row3\" >3</th>\n",
       "                        <td id=\"T_5b372b4a_b0e7_11e9_bd4d_002324307fcbrow3_col0\" class=\"data row3 col0\" >163</td>\n",
       "                        <td id=\"T_5b372b4a_b0e7_11e9_bd4d_002324307fcbrow3_col1\" class=\"data row3 col1\" >85</td>\n",
       "            </tr>\n",
       "            <tr>\n",
       "                        <th id=\"T_5b372b4a_b0e7_11e9_bd4d_002324307fcblevel0_row4\" class=\"row_heading level0 row4\" >4</th>\n",
       "                        <td id=\"T_5b372b4a_b0e7_11e9_bd4d_002324307fcbrow4_col0\" class=\"data row4 col0\" >152</td>\n",
       "                        <td id=\"T_5b372b4a_b0e7_11e9_bd4d_002324307fcbrow4_col1\" class=\"data row4 col1\" >74</td>\n",
       "            </tr>\n",
       "            <tr>\n",
       "                        <th id=\"T_5b372b4a_b0e7_11e9_bd4d_002324307fcblevel0_row5\" class=\"row_heading level0 row5\" >5</th>\n",
       "                        <td id=\"T_5b372b4a_b0e7_11e9_bd4d_002324307fcbrow5_col0\" class=\"data row5 col0\" >172</td>\n",
       "                        <td id=\"T_5b372b4a_b0e7_11e9_bd4d_002324307fcbrow5_col1\" class=\"data row5 col1\" >62</td>\n",
       "            </tr>\n",
       "            <tr>\n",
       "                        <th id=\"T_5b372b4a_b0e7_11e9_bd4d_002324307fcblevel0_row6\" class=\"row_heading level0 row6\" >6</th>\n",
       "                        <td id=\"T_5b372b4a_b0e7_11e9_bd4d_002324307fcbrow6_col0\" class=\"data row6 col0\" >170</td>\n",
       "                        <td id=\"T_5b372b4a_b0e7_11e9_bd4d_002324307fcbrow6_col1\" class=\"data row6 col1\" >75</td>\n",
       "            </tr>\n",
       "            <tr>\n",
       "                        <th id=\"T_5b372b4a_b0e7_11e9_bd4d_002324307fcblevel0_row7\" class=\"row_heading level0 row7\" >7</th>\n",
       "                        <td id=\"T_5b372b4a_b0e7_11e9_bd4d_002324307fcbrow7_col0\" class=\"data row7 col0\" >171</td>\n",
       "                        <td id=\"T_5b372b4a_b0e7_11e9_bd4d_002324307fcbrow7_col1\" class=\"data row7 col1\" >68</td>\n",
       "            </tr>\n",
       "            <tr>\n",
       "                        <th id=\"T_5b372b4a_b0e7_11e9_bd4d_002324307fcblevel0_row8\" class=\"row_heading level0 row8\" >8</th>\n",
       "                        <td id=\"T_5b372b4a_b0e7_11e9_bd4d_002324307fcbrow8_col0\" class=\"data row8 col0\" >163.9</td>\n",
       "                        <td id=\"T_5b372b4a_b0e7_11e9_bd4d_002324307fcbrow8_col1\" class=\"data row8 col1\" >65</td>\n",
       "            </tr>\n",
       "            <tr>\n",
       "                        <th id=\"T_5b372b4a_b0e7_11e9_bd4d_002324307fcblevel0_row9\" class=\"row_heading level0 row9\" >9</th>\n",
       "                        <td id=\"T_5b372b4a_b0e7_11e9_bd4d_002324307fcbrow9_col0\" class=\"data row9 col0\" >151</td>\n",
       "                        <td id=\"T_5b372b4a_b0e7_11e9_bd4d_002324307fcbrow9_col1\" class=\"data row9 col1\" >78</td>\n",
       "            </tr>\n",
       "            <tr>\n",
       "                        <th id=\"T_5b372b4a_b0e7_11e9_bd4d_002324307fcblevel0_row10\" class=\"row_heading level0 row10\" >10</th>\n",
       "                        <td id=\"T_5b372b4a_b0e7_11e9_bd4d_002324307fcbrow10_col0\" class=\"data row10 col0\" >149.9</td>\n",
       "                        <td id=\"T_5b372b4a_b0e7_11e9_bd4d_002324307fcbrow10_col1\" class=\"data row10 col1\" >50</td>\n",
       "            </tr>\n",
       "            <tr>\n",
       "                        <th id=\"T_5b372b4a_b0e7_11e9_bd4d_002324307fcblevel0_row11\" class=\"row_heading level0 row11\" >11</th>\n",
       "                        <td id=\"T_5b372b4a_b0e7_11e9_bd4d_002324307fcbrow11_col0\" class=\"data row11 col0\" >149.9</td>\n",
       "                        <td id=\"T_5b372b4a_b0e7_11e9_bd4d_002324307fcbrow11_col1\" class=\"data row11 col1\" >62</td>\n",
       "            </tr>\n",
       "            <tr>\n",
       "                        <th id=\"T_5b372b4a_b0e7_11e9_bd4d_002324307fcblevel0_row12\" class=\"row_heading level0 row12\" >12</th>\n",
       "                        <td id=\"T_5b372b4a_b0e7_11e9_bd4d_002324307fcbrow12_col0\" class=\"data row12 col0\" >164</td>\n",
       "                        <td id=\"T_5b372b4a_b0e7_11e9_bd4d_002324307fcbrow12_col1\" class=\"data row12 col1\" >57</td>\n",
       "            </tr>\n",
       "            <tr>\n",
       "                        <th id=\"T_5b372b4a_b0e7_11e9_bd4d_002324307fcblevel0_row13\" class=\"row_heading level0 row13\" >13</th>\n",
       "                        <td id=\"T_5b372b4a_b0e7_11e9_bd4d_002324307fcbrow13_col0\" class=\"data row13 col0\" >180</td>\n",
       "                        <td id=\"T_5b372b4a_b0e7_11e9_bd4d_002324307fcbrow13_col1\" class=\"data row13 col1\" >85</td>\n",
       "            </tr>\n",
       "            <tr>\n",
       "                        <th id=\"T_5b372b4a_b0e7_11e9_bd4d_002324307fcblevel0_row14\" class=\"row_heading level0 row14\" >14</th>\n",
       "                        <td id=\"T_5b372b4a_b0e7_11e9_bd4d_002324307fcbrow14_col0\" class=\"data row14 col0\" >167</td>\n",
       "                        <td id=\"T_5b372b4a_b0e7_11e9_bd4d_002324307fcbrow14_col1\" class=\"data row14 col1\" >51</td>\n",
       "            </tr>\n",
       "    </tbody></table>"
      ],
      "text/plain": [
       "<pandas.io.formats.style.Styler at 0x9a16a10>"
      ]
     },
     "execution_count": 5,
     "metadata": {},
     "output_type": "execute_result"
    }
   ],
   "source": [
    "import pandas as pd\n",
    "\n",
    "height = [173.0, 173.0, 162.0, 163.0, 152.0, 172.0, 170.0, 171.0, 163.9, 151.0, 149.9, 149.9, 164.0, 180.0, 167.0]\n",
    "weight = [50, 73, 53, 85, 74, 62, 75, 68, 65, 78, 50, 62, 57, 85, 51]\n",
    "\n",
    "table = pd.DataFrame(height, columns = ['Height (cm)']); table['Weight (kg)'] = weight\n",
    "table\n",
    "table.style.set_properties(**{'text-align' : 'left'})"
   ]
  },
  {
   "cell_type": "code",
   "execution_count": 6,
   "metadata": {},
   "outputs": [
    {
     "name": "stdout",
     "output_type": "stream",
     "text": [
      "It is a strong positive correlation\n"
     ]
    },
    {
     "data": {
      "image/png": "[encoded data removed]",
      "text/plain": [
       "<Figure size 432x288 with 1 Axes>"
      ]
     },
     "metadata": {
      "needs_background": "light"
     },
     "output_type": "display_data"
    }
   ],
   "source": [
    "plt.scatter(height,weight)\n",
    "\n",
    "print('There is no correlation')"
   ]
  },
  {
   "cell_type": "markdown",
   "metadata": {},
   "source": [
    "## Question 2"
   ]
  },
  {
   "cell_type": "markdown",
   "metadata": {},
   "source": [
    "By referring to table in Question 1, import **matplotlib.pyplot** to draw a scatter plot graph of Height (cm) versus Weight (kg). Label of both axes, ticks, title and legend should be in your graph.\n",
    "\n",
    "From your plotted graph, write a conclusion about these two variables and the type of relation exists between them."
   ]
  },
  {
   "cell_type": "code",
   "execution_count": 15,
   "metadata": {},
   "outputs": [
    {
     "data": {
      "text/plain": [
       "Text(0, 0.5, 'Weight')"
      ]
     },
     "execution_count": 15,
     "metadata": {},
     "output_type": "execute_result"
    },
    {
     "data": {
      "image/png": "[encoded data removed]",
      "text/plain": [
       "<Figure size 432x288 with 1 Axes>"
      ]
     },
     "metadata": {
      "needs_background": "light"
     },
     "output_type": "display_data"
    }
   ],
   "source": [
    "plt.scatter(height, weight, c='red', s=50)\n",
    "plt.title('Correlation between Height and Weight')\n",
    "plt.xlabel('Height',fontsize=20)\n",
    "plt.ylabel('Weight',fontsize=20)"
   ]
  },
  {
   "cell_type": "code",
   "execution_count": 16,
   "metadata": {},
   "outputs": [
    {
     "name": "stdout",
     "output_type": "stream",
     "text": [
      "There is no correlation\n"
     ]
    }
   ],
   "source": [
    "print('There is no correlation')"
   ]
  },
  {
   "cell_type": "markdown",
   "metadata": {},
   "source": [
    "## Question 3"
   ]
  },
  {
   "cell_type": "code",
   "execution_count": 31,
   "metadata": {},
   "outputs": [
    {
     "name": "stdout",
     "output_type": "stream",
     "text": [
      "x= [8.886666666666656, 8.886666666666656, -2.113333333333344, -1.113333333333344, -12.113333333333344, 7.886666666666656, 5.886666666666656, 6.886666666666656, -0.21333333333333826, -13.113333333333344, -14.213333333333338, -14.213333333333338, -0.11333333333334394, 15.886666666666656, 2.886666666666656]\n",
      "y= [-15.86666666666666, 7.13333333333334, -12.86666666666666, 19.13333333333334, 8.13333333333334, -3.86666666666666, 9.13333333333334, 2.13333333333334, -0.86666666666666, 12.13333333333334, -15.86666666666666, -3.86666666666666, -8.86666666666666, 19.13333333333334, -14.86666666666666]\n",
      "Correlation between height and weight is: ~0.1532\n"
     ]
    }
   ],
   "source": [
    "meanx = np.mean(height)\n",
    "meany = np.mean(weight)\n",
    "\n",
    "x = []\n",
    "y = []\n",
    "\n",
    "for a in height:\n",
    "    x.append(a - meanx)\n",
    "    \n",
    "for b in weight:\n",
    "    y.append(b - meany)\n",
    "    \n",
    "print('x=',x)\n",
    "print('y=',y)\n",
    "\n",
    "squarex = []\n",
    "squarey = []\n",
    "\n",
    "for c in height:\n",
    "    squarex.append((c - meanx)**2)\n",
    "\n",
    "for d in weight:\n",
    "    squarey.append((d - meany)**2)\n",
    "\n",
    "xy = []\n",
    "    \n",
    "for multi in range(len(height)):\n",
    "    xy.append(x[multi]*y[multi])\n",
    "    \n",
    "sumsquare = sum(squarex) * sum(squarey)\n",
    "\n",
    "ans = sum(xy)/(sumsquare**0.5)\n",
    "print(f'Correlation between height and weight is: ~{round(ans,4)}')"
   ]
  },
  {
   "cell_type": "markdown",
   "metadata": {},
   "source": [
    "## Question 4"
   ]
  },
  {
   "cell_type": "code",
   "execution_count": 35,
   "metadata": {},
   "outputs": [
    {
     "name": "stdout",
     "output_type": "stream",
     "text": [
      "Correlation between height and weight is: 0.1532\n"
     ]
    }
   ],
   "source": [
    "print(f\"Correlation between height and weight is: {round((np.corrcoef(height,weight)[0][1]),4)}\")"
   ]
  },
  {
   "cell_type": "markdown",
   "metadata": {},
   "source": [
    "## <font color = \"red\">Question 5</font>\n",
    "\n",
    "Table below shows a list of 50 students with the days they present to class in one semester and the GPA they got for that semester. Studies show, a student who has many absence has a decrease in GPA. By referring to table below, create list for Days Present (as x) and GPA (as y). Predict type of relation between these two lists of data."
   ]
  },
  {
   "cell_type": "code",
   "execution_count": 36,
   "metadata": {},
   "outputs": [
    {
     "data": {
      "text/html": [
       "<style  type=\"text/css\" >\n",
       "    #T_a9bdccae_b0e9_11e9_9b97_002324307fcbrow0_col0 {\n",
       "            text-align:  center;\n",
       "        }    #T_a9bdccae_b0e9_11e9_9b97_002324307fcbrow0_col1 {\n",
       "            text-align:  center;\n",
       "        }    #T_a9bdccae_b0e9_11e9_9b97_002324307fcbrow1_col0 {\n",
       "            text-align:  center;\n",
       "        }    #T_a9bdccae_b0e9_11e9_9b97_002324307fcbrow1_col1 {\n",
       "            text-align:  center;\n",
       "        }    #T_a9bdccae_b0e9_11e9_9b97_002324307fcbrow2_col0 {\n",
       "            text-align:  center;\n",
       "        }    #T_a9bdccae_b0e9_11e9_9b97_002324307fcbrow2_col1 {\n",
       "            text-align:  center;\n",
       "        }    #T_a9bdccae_b0e9_11e9_9b97_002324307fcbrow3_col0 {\n",
       "            text-align:  center;\n",
       "        }    #T_a9bdccae_b0e9_11e9_9b97_002324307fcbrow3_col1 {\n",
       "            text-align:  center;\n",
       "        }    #T_a9bdccae_b0e9_11e9_9b97_002324307fcbrow4_col0 {\n",
       "            text-align:  center;\n",
       "        }    #T_a9bdccae_b0e9_11e9_9b97_002324307fcbrow4_col1 {\n",
       "            text-align:  center;\n",
       "        }    #T_a9bdccae_b0e9_11e9_9b97_002324307fcbrow5_col0 {\n",
       "            text-align:  center;\n",
       "        }    #T_a9bdccae_b0e9_11e9_9b97_002324307fcbrow5_col1 {\n",
       "            text-align:  center;\n",
       "        }    #T_a9bdccae_b0e9_11e9_9b97_002324307fcbrow6_col0 {\n",
       "            text-align:  center;\n",
       "        }    #T_a9bdccae_b0e9_11e9_9b97_002324307fcbrow6_col1 {\n",
       "            text-align:  center;\n",
       "        }    #T_a9bdccae_b0e9_11e9_9b97_002324307fcbrow7_col0 {\n",
       "            text-align:  center;\n",
       "        }    #T_a9bdccae_b0e9_11e9_9b97_002324307fcbrow7_col1 {\n",
       "            text-align:  center;\n",
       "        }    #T_a9bdccae_b0e9_11e9_9b97_002324307fcbrow8_col0 {\n",
       "            text-align:  center;\n",
       "        }    #T_a9bdccae_b0e9_11e9_9b97_002324307fcbrow8_col1 {\n",
       "            text-align:  center;\n",
       "        }    #T_a9bdccae_b0e9_11e9_9b97_002324307fcbrow9_col0 {\n",
       "            text-align:  center;\n",
       "        }    #T_a9bdccae_b0e9_11e9_9b97_002324307fcbrow9_col1 {\n",
       "            text-align:  center;\n",
       "        }    #T_a9bdccae_b0e9_11e9_9b97_002324307fcbrow10_col0 {\n",
       "            text-align:  center;\n",
       "        }    #T_a9bdccae_b0e9_11e9_9b97_002324307fcbrow10_col1 {\n",
       "            text-align:  center;\n",
       "        }    #T_a9bdccae_b0e9_11e9_9b97_002324307fcbrow11_col0 {\n",
       "            text-align:  center;\n",
       "        }    #T_a9bdccae_b0e9_11e9_9b97_002324307fcbrow11_col1 {\n",
       "            text-align:  center;\n",
       "        }    #T_a9bdccae_b0e9_11e9_9b97_002324307fcbrow12_col0 {\n",
       "            text-align:  center;\n",
       "        }    #T_a9bdccae_b0e9_11e9_9b97_002324307fcbrow12_col1 {\n",
       "            text-align:  center;\n",
       "        }    #T_a9bdccae_b0e9_11e9_9b97_002324307fcbrow13_col0 {\n",
       "            text-align:  center;\n",
       "        }    #T_a9bdccae_b0e9_11e9_9b97_002324307fcbrow13_col1 {\n",
       "            text-align:  center;\n",
       "        }    #T_a9bdccae_b0e9_11e9_9b97_002324307fcbrow14_col0 {\n",
       "            text-align:  center;\n",
       "        }    #T_a9bdccae_b0e9_11e9_9b97_002324307fcbrow14_col1 {\n",
       "            text-align:  center;\n",
       "        }    #T_a9bdccae_b0e9_11e9_9b97_002324307fcbrow15_col0 {\n",
       "            text-align:  center;\n",
       "        }    #T_a9bdccae_b0e9_11e9_9b97_002324307fcbrow15_col1 {\n",
       "            text-align:  center;\n",
       "        }    #T_a9bdccae_b0e9_11e9_9b97_002324307fcbrow16_col0 {\n",
       "            text-align:  center;\n",
       "        }    #T_a9bdccae_b0e9_11e9_9b97_002324307fcbrow16_col1 {\n",
       "            text-align:  center;\n",
       "        }    #T_a9bdccae_b0e9_11e9_9b97_002324307fcbrow17_col0 {\n",
       "            text-align:  center;\n",
       "        }    #T_a9bdccae_b0e9_11e9_9b97_002324307fcbrow17_col1 {\n",
       "            text-align:  center;\n",
       "        }    #T_a9bdccae_b0e9_11e9_9b97_002324307fcbrow18_col0 {\n",
       "            text-align:  center;\n",
       "        }    #T_a9bdccae_b0e9_11e9_9b97_002324307fcbrow18_col1 {\n",
       "            text-align:  center;\n",
       "        }    #T_a9bdccae_b0e9_11e9_9b97_002324307fcbrow19_col0 {\n",
       "            text-align:  center;\n",
       "        }    #T_a9bdccae_b0e9_11e9_9b97_002324307fcbrow19_col1 {\n",
       "            text-align:  center;\n",
       "        }    #T_a9bdccae_b0e9_11e9_9b97_002324307fcbrow20_col0 {\n",
       "            text-align:  center;\n",
       "        }    #T_a9bdccae_b0e9_11e9_9b97_002324307fcbrow20_col1 {\n",
       "            text-align:  center;\n",
       "        }    #T_a9bdccae_b0e9_11e9_9b97_002324307fcbrow21_col0 {\n",
       "            text-align:  center;\n",
       "        }    #T_a9bdccae_b0e9_11e9_9b97_002324307fcbrow21_col1 {\n",
       "            text-align:  center;\n",
       "        }    #T_a9bdccae_b0e9_11e9_9b97_002324307fcbrow22_col0 {\n",
       "            text-align:  center;\n",
       "        }    #T_a9bdccae_b0e9_11e9_9b97_002324307fcbrow22_col1 {\n",
       "            text-align:  center;\n",
       "        }    #T_a9bdccae_b0e9_11e9_9b97_002324307fcbrow23_col0 {\n",
       "            text-align:  center;\n",
       "        }    #T_a9bdccae_b0e9_11e9_9b97_002324307fcbrow23_col1 {\n",
       "            text-align:  center;\n",
       "        }    #T_a9bdccae_b0e9_11e9_9b97_002324307fcbrow24_col0 {\n",
       "            text-align:  center;\n",
       "        }    #T_a9bdccae_b0e9_11e9_9b97_002324307fcbrow24_col1 {\n",
       "            text-align:  center;\n",
       "        }    #T_a9bdccae_b0e9_11e9_9b97_002324307fcbrow25_col0 {\n",
       "            text-align:  center;\n",
       "        }    #T_a9bdccae_b0e9_11e9_9b97_002324307fcbrow25_col1 {\n",
       "            text-align:  center;\n",
       "        }    #T_a9bdccae_b0e9_11e9_9b97_002324307fcbrow26_col0 {\n",
       "            text-align:  center;\n",
       "        }    #T_a9bdccae_b0e9_11e9_9b97_002324307fcbrow26_col1 {\n",
       "            text-align:  center;\n",
       "        }    #T_a9bdccae_b0e9_11e9_9b97_002324307fcbrow27_col0 {\n",
       "            text-align:  center;\n",
       "        }    #T_a9bdccae_b0e9_11e9_9b97_002324307fcbrow27_col1 {\n",
       "            text-align:  center;\n",
       "        }    #T_a9bdccae_b0e9_11e9_9b97_002324307fcbrow28_col0 {\n",
       "            text-align:  center;\n",
       "        }    #T_a9bdccae_b0e9_11e9_9b97_002324307fcbrow28_col1 {\n",
       "            text-align:  center;\n",
       "        }    #T_a9bdccae_b0e9_11e9_9b97_002324307fcbrow29_col0 {\n",
       "            text-align:  center;\n",
       "        }    #T_a9bdccae_b0e9_11e9_9b97_002324307fcbrow29_col1 {\n",
       "            text-align:  center;\n",
       "        }    #T_a9bdccae_b0e9_11e9_9b97_002324307fcbrow30_col0 {\n",
       "            text-align:  center;\n",
       "        }    #T_a9bdccae_b0e9_11e9_9b97_002324307fcbrow30_col1 {\n",
       "            text-align:  center;\n",
       "        }    #T_a9bdccae_b0e9_11e9_9b97_002324307fcbrow31_col0 {\n",
       "            text-align:  center;\n",
       "        }    #T_a9bdccae_b0e9_11e9_9b97_002324307fcbrow31_col1 {\n",
       "            text-align:  center;\n",
       "        }    #T_a9bdccae_b0e9_11e9_9b97_002324307fcbrow32_col0 {\n",
       "            text-align:  center;\n",
       "        }    #T_a9bdccae_b0e9_11e9_9b97_002324307fcbrow32_col1 {\n",
       "            text-align:  center;\n",
       "        }    #T_a9bdccae_b0e9_11e9_9b97_002324307fcbrow33_col0 {\n",
       "            text-align:  center;\n",
       "        }    #T_a9bdccae_b0e9_11e9_9b97_002324307fcbrow33_col1 {\n",
       "            text-align:  center;\n",
       "        }    #T_a9bdccae_b0e9_11e9_9b97_002324307fcbrow34_col0 {\n",
       "            text-align:  center;\n",
       "        }    #T_a9bdccae_b0e9_11e9_9b97_002324307fcbrow34_col1 {\n",
       "            text-align:  center;\n",
       "        }    #T_a9bdccae_b0e9_11e9_9b97_002324307fcbrow35_col0 {\n",
       "            text-align:  center;\n",
       "        }    #T_a9bdccae_b0e9_11e9_9b97_002324307fcbrow35_col1 {\n",
       "            text-align:  center;\n",
       "        }    #T_a9bdccae_b0e9_11e9_9b97_002324307fcbrow36_col0 {\n",
       "            text-align:  center;\n",
       "        }    #T_a9bdccae_b0e9_11e9_9b97_002324307fcbrow36_col1 {\n",
       "            text-align:  center;\n",
       "        }    #T_a9bdccae_b0e9_11e9_9b97_002324307fcbrow37_col0 {\n",
       "            text-align:  center;\n",
       "        }    #T_a9bdccae_b0e9_11e9_9b97_002324307fcbrow37_col1 {\n",
       "            text-align:  center;\n",
       "        }    #T_a9bdccae_b0e9_11e9_9b97_002324307fcbrow38_col0 {\n",
       "            text-align:  center;\n",
       "        }    #T_a9bdccae_b0e9_11e9_9b97_002324307fcbrow38_col1 {\n",
       "            text-align:  center;\n",
       "        }    #T_a9bdccae_b0e9_11e9_9b97_002324307fcbrow39_col0 {\n",
       "            text-align:  center;\n",
       "        }    #T_a9bdccae_b0e9_11e9_9b97_002324307fcbrow39_col1 {\n",
       "            text-align:  center;\n",
       "        }    #T_a9bdccae_b0e9_11e9_9b97_002324307fcbrow40_col0 {\n",
       "            text-align:  center;\n",
       "        }    #T_a9bdccae_b0e9_11e9_9b97_002324307fcbrow40_col1 {\n",
       "            text-align:  center;\n",
       "        }    #T_a9bdccae_b0e9_11e9_9b97_002324307fcbrow41_col0 {\n",
       "            text-align:  center;\n",
       "        }    #T_a9bdccae_b0e9_11e9_9b97_002324307fcbrow41_col1 {\n",
       "            text-align:  center;\n",
       "        }    #T_a9bdccae_b0e9_11e9_9b97_002324307fcbrow42_col0 {\n",
       "            text-align:  center;\n",
       "        }    #T_a9bdccae_b0e9_11e9_9b97_002324307fcbrow42_col1 {\n",
       "            text-align:  center;\n",
       "        }    #T_a9bdccae_b0e9_11e9_9b97_002324307fcbrow43_col0 {\n",
       "            text-align:  center;\n",
       "        }    #T_a9bdccae_b0e9_11e9_9b97_002324307fcbrow43_col1 {\n",
       "            text-align:  center;\n",
       "        }    #T_a9bdccae_b0e9_11e9_9b97_002324307fcbrow44_col0 {\n",
       "            text-align:  center;\n",
       "        }    #T_a9bdccae_b0e9_11e9_9b97_002324307fcbrow44_col1 {\n",
       "            text-align:  center;\n",
       "        }    #T_a9bdccae_b0e9_11e9_9b97_002324307fcbrow45_col0 {\n",
       "            text-align:  center;\n",
       "        }    #T_a9bdccae_b0e9_11e9_9b97_002324307fcbrow45_col1 {\n",
       "            text-align:  center;\n",
       "        }    #T_a9bdccae_b0e9_11e9_9b97_002324307fcbrow46_col0 {\n",
       "            text-align:  center;\n",
       "        }    #T_a9bdccae_b0e9_11e9_9b97_002324307fcbrow46_col1 {\n",
       "            text-align:  center;\n",
       "        }    #T_a9bdccae_b0e9_11e9_9b97_002324307fcbrow47_col0 {\n",
       "            text-align:  center;\n",
       "        }    #T_a9bdccae_b0e9_11e9_9b97_002324307fcbrow47_col1 {\n",
       "            text-align:  center;\n",
       "        }    #T_a9bdccae_b0e9_11e9_9b97_002324307fcbrow48_col0 {\n",
       "            text-align:  center;\n",
       "        }    #T_a9bdccae_b0e9_11e9_9b97_002324307fcbrow48_col1 {\n",
       "            text-align:  center;\n",
       "        }    #T_a9bdccae_b0e9_11e9_9b97_002324307fcbrow49_col0 {\n",
       "            text-align:  center;\n",
       "        }    #T_a9bdccae_b0e9_11e9_9b97_002324307fcbrow49_col1 {\n",
       "            text-align:  center;\n",
       "        }</style><table id=\"T_a9bdccae_b0e9_11e9_9b97_002324307fcb\" ><thead>    <tr>        <th class=\"blank level0\" ></th>        <th class=\"col_heading level0 col0\" >Days Present</th>        <th class=\"col_heading level0 col1\" >GPA</th>    </tr></thead><tbody>\n",
       "                <tr>\n",
       "                        <th id=\"T_a9bdccae_b0e9_11e9_9b97_002324307fcblevel0_row0\" class=\"row_heading level0 row0\" >0</th>\n",
       "                        <td id=\"T_a9bdccae_b0e9_11e9_9b97_002324307fcbrow0_col0\" class=\"data row0 col0\" >180</td>\n",
       "                        <td id=\"T_a9bdccae_b0e9_11e9_9b97_002324307fcbrow0_col1\" class=\"data row0 col1\" >4</td>\n",
       "            </tr>\n",
       "            <tr>\n",
       "                        <th id=\"T_a9bdccae_b0e9_11e9_9b97_002324307fcblevel0_row1\" class=\"row_heading level0 row1\" >1</th>\n",
       "                        <td id=\"T_a9bdccae_b0e9_11e9_9b97_002324307fcbrow1_col0\" class=\"data row1 col0\" >150</td>\n",
       "                        <td id=\"T_a9bdccae_b0e9_11e9_9b97_002324307fcbrow1_col1\" class=\"data row1 col1\" >2.5</td>\n",
       "            </tr>\n",
       "            <tr>\n",
       "                        <th id=\"T_a9bdccae_b0e9_11e9_9b97_002324307fcblevel0_row2\" class=\"row_heading level0 row2\" >2</th>\n",
       "                        <td id=\"T_a9bdccae_b0e9_11e9_9b97_002324307fcbrow2_col0\" class=\"data row2 col0\" >170</td>\n",
       "                        <td id=\"T_a9bdccae_b0e9_11e9_9b97_002324307fcbrow2_col1\" class=\"data row2 col1\" >4</td>\n",
       "            </tr>\n",
       "            <tr>\n",
       "                        <th id=\"T_a9bdccae_b0e9_11e9_9b97_002324307fcblevel0_row3\" class=\"row_heading level0 row3\" >3</th>\n",
       "                        <td id=\"T_a9bdccae_b0e9_11e9_9b97_002324307fcbrow3_col0\" class=\"data row3 col0\" >180</td>\n",
       "                        <td id=\"T_a9bdccae_b0e9_11e9_9b97_002324307fcbrow3_col1\" class=\"data row3 col1\" >3.9</td>\n",
       "            </tr>\n",
       "            <tr>\n",
       "                        <th id=\"T_a9bdccae_b0e9_11e9_9b97_002324307fcblevel0_row4\" class=\"row_heading level0 row4\" >4</th>\n",
       "                        <td id=\"T_a9bdccae_b0e9_11e9_9b97_002324307fcbrow4_col0\" class=\"data row4 col0\" >177</td>\n",
       "                        <td id=\"T_a9bdccae_b0e9_11e9_9b97_002324307fcbrow4_col1\" class=\"data row4 col1\" >3.75</td>\n",
       "            </tr>\n",
       "            <tr>\n",
       "                        <th id=\"T_a9bdccae_b0e9_11e9_9b97_002324307fcblevel0_row5\" class=\"row_heading level0 row5\" >5</th>\n",
       "                        <td id=\"T_a9bdccae_b0e9_11e9_9b97_002324307fcbrow5_col0\" class=\"data row5 col0\" >180</td>\n",
       "                        <td id=\"T_a9bdccae_b0e9_11e9_9b97_002324307fcbrow5_col1\" class=\"data row5 col1\" >3.8</td>\n",
       "            </tr>\n",
       "            <tr>\n",
       "                        <th id=\"T_a9bdccae_b0e9_11e9_9b97_002324307fcblevel0_row6\" class=\"row_heading level0 row6\" >6</th>\n",
       "                        <td id=\"T_a9bdccae_b0e9_11e9_9b97_002324307fcbrow6_col0\" class=\"data row6 col0\" >140</td>\n",
       "                        <td id=\"T_a9bdccae_b0e9_11e9_9b97_002324307fcbrow6_col1\" class=\"data row6 col1\" >2.9</td>\n",
       "            </tr>\n",
       "            <tr>\n",
       "                        <th id=\"T_a9bdccae_b0e9_11e9_9b97_002324307fcblevel0_row7\" class=\"row_heading level0 row7\" >7</th>\n",
       "                        <td id=\"T_a9bdccae_b0e9_11e9_9b97_002324307fcbrow7_col0\" class=\"data row7 col0\" >169</td>\n",
       "                        <td id=\"T_a9bdccae_b0e9_11e9_9b97_002324307fcbrow7_col1\" class=\"data row7 col1\" >3.1</td>\n",
       "            </tr>\n",
       "            <tr>\n",
       "                        <th id=\"T_a9bdccae_b0e9_11e9_9b97_002324307fcblevel0_row8\" class=\"row_heading level0 row8\" >8</th>\n",
       "                        <td id=\"T_a9bdccae_b0e9_11e9_9b97_002324307fcbrow8_col0\" class=\"data row8 col0\" >168</td>\n",
       "                        <td id=\"T_a9bdccae_b0e9_11e9_9b97_002324307fcbrow8_col1\" class=\"data row8 col1\" >3.25</td>\n",
       "            </tr>\n",
       "            <tr>\n",
       "                        <th id=\"T_a9bdccae_b0e9_11e9_9b97_002324307fcblevel0_row9\" class=\"row_heading level0 row9\" >9</th>\n",
       "                        <td id=\"T_a9bdccae_b0e9_11e9_9b97_002324307fcbrow9_col0\" class=\"data row9 col0\" >152</td>\n",
       "                        <td id=\"T_a9bdccae_b0e9_11e9_9b97_002324307fcbrow9_col1\" class=\"data row9 col1\" >3.4</td>\n",
       "            </tr>\n",
       "            <tr>\n",
       "                        <th id=\"T_a9bdccae_b0e9_11e9_9b97_002324307fcblevel0_row10\" class=\"row_heading level0 row10\" >10</th>\n",
       "                        <td id=\"T_a9bdccae_b0e9_11e9_9b97_002324307fcbrow10_col0\" class=\"data row10 col0\" >150</td>\n",
       "                        <td id=\"T_a9bdccae_b0e9_11e9_9b97_002324307fcbrow10_col1\" class=\"data row10 col1\" >3.3</td>\n",
       "            </tr>\n",
       "            <tr>\n",
       "                        <th id=\"T_a9bdccae_b0e9_11e9_9b97_002324307fcblevel0_row11\" class=\"row_heading level0 row11\" >11</th>\n",
       "                        <td id=\"T_a9bdccae_b0e9_11e9_9b97_002324307fcbrow11_col0\" class=\"data row11 col0\" >170</td>\n",
       "                        <td id=\"T_a9bdccae_b0e9_11e9_9b97_002324307fcbrow11_col1\" class=\"data row11 col1\" >3.9</td>\n",
       "            </tr>\n",
       "            <tr>\n",
       "                        <th id=\"T_a9bdccae_b0e9_11e9_9b97_002324307fcblevel0_row12\" class=\"row_heading level0 row12\" >12</th>\n",
       "                        <td id=\"T_a9bdccae_b0e9_11e9_9b97_002324307fcbrow12_col0\" class=\"data row12 col0\" >109</td>\n",
       "                        <td id=\"T_a9bdccae_b0e9_11e9_9b97_002324307fcbrow12_col1\" class=\"data row12 col1\" >1.35</td>\n",
       "            </tr>\n",
       "            <tr>\n",
       "                        <th id=\"T_a9bdccae_b0e9_11e9_9b97_002324307fcblevel0_row13\" class=\"row_heading level0 row13\" >13</th>\n",
       "                        <td id=\"T_a9bdccae_b0e9_11e9_9b97_002324307fcbrow13_col0\" class=\"data row13 col0\" >180</td>\n",
       "                        <td id=\"T_a9bdccae_b0e9_11e9_9b97_002324307fcbrow13_col1\" class=\"data row13 col1\" >4</td>\n",
       "            </tr>\n",
       "            <tr>\n",
       "                        <th id=\"T_a9bdccae_b0e9_11e9_9b97_002324307fcblevel0_row14\" class=\"row_heading level0 row14\" >14</th>\n",
       "                        <td id=\"T_a9bdccae_b0e9_11e9_9b97_002324307fcbrow14_col0\" class=\"data row14 col0\" >108</td>\n",
       "                        <td id=\"T_a9bdccae_b0e9_11e9_9b97_002324307fcbrow14_col1\" class=\"data row14 col1\" >1</td>\n",
       "            </tr>\n",
       "            <tr>\n",
       "                        <th id=\"T_a9bdccae_b0e9_11e9_9b97_002324307fcblevel0_row15\" class=\"row_heading level0 row15\" >15</th>\n",
       "                        <td id=\"T_a9bdccae_b0e9_11e9_9b97_002324307fcbrow15_col0\" class=\"data row15 col0\" >175</td>\n",
       "                        <td id=\"T_a9bdccae_b0e9_11e9_9b97_002324307fcbrow15_col1\" class=\"data row15 col1\" >3.85</td>\n",
       "            </tr>\n",
       "            <tr>\n",
       "                        <th id=\"T_a9bdccae_b0e9_11e9_9b97_002324307fcblevel0_row16\" class=\"row_heading level0 row16\" >16</th>\n",
       "                        <td id=\"T_a9bdccae_b0e9_11e9_9b97_002324307fcbrow16_col0\" class=\"data row16 col0\" >144</td>\n",
       "                        <td id=\"T_a9bdccae_b0e9_11e9_9b97_002324307fcbrow16_col1\" class=\"data row16 col1\" >2.98</td>\n",
       "            </tr>\n",
       "            <tr>\n",
       "                        <th id=\"T_a9bdccae_b0e9_11e9_9b97_002324307fcblevel0_row17\" class=\"row_heading level0 row17\" >17</th>\n",
       "                        <td id=\"T_a9bdccae_b0e9_11e9_9b97_002324307fcbrow17_col0\" class=\"data row17 col0\" >120</td>\n",
       "                        <td id=\"T_a9bdccae_b0e9_11e9_9b97_002324307fcbrow17_col1\" class=\"data row17 col1\" >2.75</td>\n",
       "            </tr>\n",
       "            <tr>\n",
       "                        <th id=\"T_a9bdccae_b0e9_11e9_9b97_002324307fcblevel0_row18\" class=\"row_heading level0 row18\" >18</th>\n",
       "                        <td id=\"T_a9bdccae_b0e9_11e9_9b97_002324307fcbrow18_col0\" class=\"data row18 col0\" >133</td>\n",
       "                        <td id=\"T_a9bdccae_b0e9_11e9_9b97_002324307fcbrow18_col1\" class=\"data row18 col1\" >2.75</td>\n",
       "            </tr>\n",
       "            <tr>\n",
       "                        <th id=\"T_a9bdccae_b0e9_11e9_9b97_002324307fcblevel0_row19\" class=\"row_heading level0 row19\" >19</th>\n",
       "                        <td id=\"T_a9bdccae_b0e9_11e9_9b97_002324307fcbrow19_col0\" class=\"data row19 col0\" >160</td>\n",
       "                        <td id=\"T_a9bdccae_b0e9_11e9_9b97_002324307fcbrow19_col1\" class=\"data row19 col1\" >3.6</td>\n",
       "            </tr>\n",
       "            <tr>\n",
       "                        <th id=\"T_a9bdccae_b0e9_11e9_9b97_002324307fcblevel0_row20\" class=\"row_heading level0 row20\" >20</th>\n",
       "                        <td id=\"T_a9bdccae_b0e9_11e9_9b97_002324307fcbrow20_col0\" class=\"data row20 col0\" >160</td>\n",
       "                        <td id=\"T_a9bdccae_b0e9_11e9_9b97_002324307fcbrow20_col1\" class=\"data row20 col1\" >3.5</td>\n",
       "            </tr>\n",
       "            <tr>\n",
       "                        <th id=\"T_a9bdccae_b0e9_11e9_9b97_002324307fcblevel0_row21\" class=\"row_heading level0 row21\" >21</th>\n",
       "                        <td id=\"T_a9bdccae_b0e9_11e9_9b97_002324307fcbrow21_col0\" class=\"data row21 col0\" >159</td>\n",
       "                        <td id=\"T_a9bdccae_b0e9_11e9_9b97_002324307fcbrow21_col1\" class=\"data row21 col1\" >3.5</td>\n",
       "            </tr>\n",
       "            <tr>\n",
       "                        <th id=\"T_a9bdccae_b0e9_11e9_9b97_002324307fcblevel0_row22\" class=\"row_heading level0 row22\" >22</th>\n",
       "                        <td id=\"T_a9bdccae_b0e9_11e9_9b97_002324307fcbrow22_col0\" class=\"data row22 col0\" >165</td>\n",
       "                        <td id=\"T_a9bdccae_b0e9_11e9_9b97_002324307fcbrow22_col1\" class=\"data row22 col1\" >3.5</td>\n",
       "            </tr>\n",
       "            <tr>\n",
       "                        <th id=\"T_a9bdccae_b0e9_11e9_9b97_002324307fcblevel0_row23\" class=\"row_heading level0 row23\" >23</th>\n",
       "                        <td id=\"T_a9bdccae_b0e9_11e9_9b97_002324307fcbrow23_col0\" class=\"data row23 col0\" >180</td>\n",
       "                        <td id=\"T_a9bdccae_b0e9_11e9_9b97_002324307fcbrow23_col1\" class=\"data row23 col1\" >3.85</td>\n",
       "            </tr>\n",
       "            <tr>\n",
       "                        <th id=\"T_a9bdccae_b0e9_11e9_9b97_002324307fcblevel0_row24\" class=\"row_heading level0 row24\" >24</th>\n",
       "                        <td id=\"T_a9bdccae_b0e9_11e9_9b97_002324307fcbrow24_col0\" class=\"data row24 col0\" >149</td>\n",
       "                        <td id=\"T_a9bdccae_b0e9_11e9_9b97_002324307fcbrow24_col1\" class=\"data row24 col1\" >2.95</td>\n",
       "            </tr>\n",
       "            <tr>\n",
       "                        <th id=\"T_a9bdccae_b0e9_11e9_9b97_002324307fcblevel0_row25\" class=\"row_heading level0 row25\" >25</th>\n",
       "                        <td id=\"T_a9bdccae_b0e9_11e9_9b97_002324307fcbrow25_col0\" class=\"data row25 col0\" >180</td>\n",
       "                        <td id=\"T_a9bdccae_b0e9_11e9_9b97_002324307fcbrow25_col1\" class=\"data row25 col1\" >3.95</td>\n",
       "            </tr>\n",
       "            <tr>\n",
       "                        <th id=\"T_a9bdccae_b0e9_11e9_9b97_002324307fcblevel0_row26\" class=\"row_heading level0 row26\" >26</th>\n",
       "                        <td id=\"T_a9bdccae_b0e9_11e9_9b97_002324307fcbrow26_col0\" class=\"data row26 col0\" >160</td>\n",
       "                        <td id=\"T_a9bdccae_b0e9_11e9_9b97_002324307fcbrow26_col1\" class=\"data row26 col1\" >3.65</td>\n",
       "            </tr>\n",
       "            <tr>\n",
       "                        <th id=\"T_a9bdccae_b0e9_11e9_9b97_002324307fcblevel0_row27\" class=\"row_heading level0 row27\" >27</th>\n",
       "                        <td id=\"T_a9bdccae_b0e9_11e9_9b97_002324307fcbrow27_col0\" class=\"data row27 col0\" >155</td>\n",
       "                        <td id=\"T_a9bdccae_b0e9_11e9_9b97_002324307fcbrow27_col1\" class=\"data row27 col1\" >3.55</td>\n",
       "            </tr>\n",
       "            <tr>\n",
       "                        <th id=\"T_a9bdccae_b0e9_11e9_9b97_002324307fcblevel0_row28\" class=\"row_heading level0 row28\" >28</th>\n",
       "                        <td id=\"T_a9bdccae_b0e9_11e9_9b97_002324307fcbrow28_col0\" class=\"data row28 col0\" >156</td>\n",
       "                        <td id=\"T_a9bdccae_b0e9_11e9_9b97_002324307fcbrow28_col1\" class=\"data row28 col1\" >3.58</td>\n",
       "            </tr>\n",
       "            <tr>\n",
       "                        <th id=\"T_a9bdccae_b0e9_11e9_9b97_002324307fcblevel0_row29\" class=\"row_heading level0 row29\" >29</th>\n",
       "                        <td id=\"T_a9bdccae_b0e9_11e9_9b97_002324307fcbrow29_col0\" class=\"data row29 col0\" >145</td>\n",
       "                        <td id=\"T_a9bdccae_b0e9_11e9_9b97_002324307fcbrow29_col1\" class=\"data row29 col1\" >2.98</td>\n",
       "            </tr>\n",
       "            <tr>\n",
       "                        <th id=\"T_a9bdccae_b0e9_11e9_9b97_002324307fcblevel0_row30\" class=\"row_heading level0 row30\" >30</th>\n",
       "                        <td id=\"T_a9bdccae_b0e9_11e9_9b97_002324307fcbrow30_col0\" class=\"data row30 col0\" >122</td>\n",
       "                        <td id=\"T_a9bdccae_b0e9_11e9_9b97_002324307fcbrow30_col1\" class=\"data row30 col1\" >1.5</td>\n",
       "            </tr>\n",
       "            <tr>\n",
       "                        <th id=\"T_a9bdccae_b0e9_11e9_9b97_002324307fcblevel0_row31\" class=\"row_heading level0 row31\" >31</th>\n",
       "                        <td id=\"T_a9bdccae_b0e9_11e9_9b97_002324307fcbrow31_col0\" class=\"data row31 col0\" >131</td>\n",
       "                        <td id=\"T_a9bdccae_b0e9_11e9_9b97_002324307fcbrow31_col1\" class=\"data row31 col1\" >1.75</td>\n",
       "            </tr>\n",
       "            <tr>\n",
       "                        <th id=\"T_a9bdccae_b0e9_11e9_9b97_002324307fcblevel0_row32\" class=\"row_heading level0 row32\" >32</th>\n",
       "                        <td id=\"T_a9bdccae_b0e9_11e9_9b97_002324307fcbrow32_col0\" class=\"data row32 col0\" >156</td>\n",
       "                        <td id=\"T_a9bdccae_b0e9_11e9_9b97_002324307fcbrow32_col1\" class=\"data row32 col1\" >2.2</td>\n",
       "            </tr>\n",
       "            <tr>\n",
       "                        <th id=\"T_a9bdccae_b0e9_11e9_9b97_002324307fcblevel0_row33\" class=\"row_heading level0 row33\" >33</th>\n",
       "                        <td id=\"T_a9bdccae_b0e9_11e9_9b97_002324307fcbrow33_col0\" class=\"data row33 col0\" >166</td>\n",
       "                        <td id=\"T_a9bdccae_b0e9_11e9_9b97_002324307fcbrow33_col1\" class=\"data row33 col1\" >3</td>\n",
       "            </tr>\n",
       "            <tr>\n",
       "                        <th id=\"T_a9bdccae_b0e9_11e9_9b97_002324307fcblevel0_row34\" class=\"row_heading level0 row34\" >34</th>\n",
       "                        <td id=\"T_a9bdccae_b0e9_11e9_9b97_002324307fcbrow34_col0\" class=\"data row34 col0\" >170</td>\n",
       "                        <td id=\"T_a9bdccae_b0e9_11e9_9b97_002324307fcbrow34_col1\" class=\"data row34 col1\" >3</td>\n",
       "            </tr>\n",
       "            <tr>\n",
       "                        <th id=\"T_a9bdccae_b0e9_11e9_9b97_002324307fcblevel0_row35\" class=\"row_heading level0 row35\" >35</th>\n",
       "                        <td id=\"T_a9bdccae_b0e9_11e9_9b97_002324307fcbrow35_col0\" class=\"data row35 col0\" >155</td>\n",
       "                        <td id=\"T_a9bdccae_b0e9_11e9_9b97_002324307fcbrow35_col1\" class=\"data row35 col1\" >3</td>\n",
       "            </tr>\n",
       "            <tr>\n",
       "                        <th id=\"T_a9bdccae_b0e9_11e9_9b97_002324307fcblevel0_row36\" class=\"row_heading level0 row36\" >36</th>\n",
       "                        <td id=\"T_a9bdccae_b0e9_11e9_9b97_002324307fcbrow36_col0\" class=\"data row36 col0\" >158</td>\n",
       "                        <td id=\"T_a9bdccae_b0e9_11e9_9b97_002324307fcbrow36_col1\" class=\"data row36 col1\" >3.15</td>\n",
       "            </tr>\n",
       "            <tr>\n",
       "                        <th id=\"T_a9bdccae_b0e9_11e9_9b97_002324307fcblevel0_row37\" class=\"row_heading level0 row37\" >37</th>\n",
       "                        <td id=\"T_a9bdccae_b0e9_11e9_9b97_002324307fcbrow37_col0\" class=\"data row37 col0\" >170</td>\n",
       "                        <td id=\"T_a9bdccae_b0e9_11e9_9b97_002324307fcbrow37_col1\" class=\"data row37 col1\" >3.9</td>\n",
       "            </tr>\n",
       "            <tr>\n",
       "                        <th id=\"T_a9bdccae_b0e9_11e9_9b97_002324307fcblevel0_row38\" class=\"row_heading level0 row38\" >38</th>\n",
       "                        <td id=\"T_a9bdccae_b0e9_11e9_9b97_002324307fcbrow38_col0\" class=\"data row38 col0\" >160</td>\n",
       "                        <td id=\"T_a9bdccae_b0e9_11e9_9b97_002324307fcbrow38_col1\" class=\"data row38 col1\" >3.15</td>\n",
       "            </tr>\n",
       "            <tr>\n",
       "                        <th id=\"T_a9bdccae_b0e9_11e9_9b97_002324307fcblevel0_row39\" class=\"row_heading level0 row39\" >39</th>\n",
       "                        <td id=\"T_a9bdccae_b0e9_11e9_9b97_002324307fcbrow39_col0\" class=\"data row39 col0\" >165</td>\n",
       "                        <td id=\"T_a9bdccae_b0e9_11e9_9b97_002324307fcbrow39_col1\" class=\"data row39 col1\" >3.85</td>\n",
       "            </tr>\n",
       "            <tr>\n",
       "                        <th id=\"T_a9bdccae_b0e9_11e9_9b97_002324307fcblevel0_row40\" class=\"row_heading level0 row40\" >40</th>\n",
       "                        <td id=\"T_a9bdccae_b0e9_11e9_9b97_002324307fcbrow40_col0\" class=\"data row40 col0\" >159</td>\n",
       "                        <td id=\"T_a9bdccae_b0e9_11e9_9b97_002324307fcbrow40_col1\" class=\"data row40 col1\" >2.7</td>\n",
       "            </tr>\n",
       "            <tr>\n",
       "                        <th id=\"T_a9bdccae_b0e9_11e9_9b97_002324307fcblevel0_row41\" class=\"row_heading level0 row41\" >41</th>\n",
       "                        <td id=\"T_a9bdccae_b0e9_11e9_9b97_002324307fcbrow41_col0\" class=\"data row41 col0\" >119</td>\n",
       "                        <td id=\"T_a9bdccae_b0e9_11e9_9b97_002324307fcbrow41_col1\" class=\"data row41 col1\" >1</td>\n",
       "            </tr>\n",
       "            <tr>\n",
       "                        <th id=\"T_a9bdccae_b0e9_11e9_9b97_002324307fcblevel0_row42\" class=\"row_heading level0 row42\" >42</th>\n",
       "                        <td id=\"T_a9bdccae_b0e9_11e9_9b97_002324307fcbrow42_col0\" class=\"data row42 col0\" >168</td>\n",
       "                        <td id=\"T_a9bdccae_b0e9_11e9_9b97_002324307fcbrow42_col1\" class=\"data row42 col1\" >3.25</td>\n",
       "            </tr>\n",
       "            <tr>\n",
       "                        <th id=\"T_a9bdccae_b0e9_11e9_9b97_002324307fcblevel0_row43\" class=\"row_heading level0 row43\" >43</th>\n",
       "                        <td id=\"T_a9bdccae_b0e9_11e9_9b97_002324307fcbrow43_col0\" class=\"data row43 col0\" >175</td>\n",
       "                        <td id=\"T_a9bdccae_b0e9_11e9_9b97_002324307fcbrow43_col1\" class=\"data row43 col1\" >3.9</td>\n",
       "            </tr>\n",
       "            <tr>\n",
       "                        <th id=\"T_a9bdccae_b0e9_11e9_9b97_002324307fcblevel0_row44\" class=\"row_heading level0 row44\" >44</th>\n",
       "                        <td id=\"T_a9bdccae_b0e9_11e9_9b97_002324307fcbrow44_col0\" class=\"data row44 col0\" >161</td>\n",
       "                        <td id=\"T_a9bdccae_b0e9_11e9_9b97_002324307fcbrow44_col1\" class=\"data row44 col1\" >2.8</td>\n",
       "            </tr>\n",
       "            <tr>\n",
       "                        <th id=\"T_a9bdccae_b0e9_11e9_9b97_002324307fcblevel0_row45\" class=\"row_heading level0 row45\" >45</th>\n",
       "                        <td id=\"T_a9bdccae_b0e9_11e9_9b97_002324307fcbrow45_col0\" class=\"data row45 col0\" >160</td>\n",
       "                        <td id=\"T_a9bdccae_b0e9_11e9_9b97_002324307fcbrow45_col1\" class=\"data row45 col1\" >3.5</td>\n",
       "            </tr>\n",
       "            <tr>\n",
       "                        <th id=\"T_a9bdccae_b0e9_11e9_9b97_002324307fcblevel0_row46\" class=\"row_heading level0 row46\" >46</th>\n",
       "                        <td id=\"T_a9bdccae_b0e9_11e9_9b97_002324307fcbrow46_col0\" class=\"data row46 col0\" >160</td>\n",
       "                        <td id=\"T_a9bdccae_b0e9_11e9_9b97_002324307fcbrow46_col1\" class=\"data row46 col1\" >3.4</td>\n",
       "            </tr>\n",
       "            <tr>\n",
       "                        <th id=\"T_a9bdccae_b0e9_11e9_9b97_002324307fcblevel0_row47\" class=\"row_heading level0 row47\" >47</th>\n",
       "                        <td id=\"T_a9bdccae_b0e9_11e9_9b97_002324307fcbrow47_col0\" class=\"data row47 col0\" >150</td>\n",
       "                        <td id=\"T_a9bdccae_b0e9_11e9_9b97_002324307fcbrow47_col1\" class=\"data row47 col1\" >2.3</td>\n",
       "            </tr>\n",
       "            <tr>\n",
       "                        <th id=\"T_a9bdccae_b0e9_11e9_9b97_002324307fcblevel0_row48\" class=\"row_heading level0 row48\" >48</th>\n",
       "                        <td id=\"T_a9bdccae_b0e9_11e9_9b97_002324307fcbrow48_col0\" class=\"data row48 col0\" >140</td>\n",
       "                        <td id=\"T_a9bdccae_b0e9_11e9_9b97_002324307fcbrow48_col1\" class=\"data row48 col1\" >2.5</td>\n",
       "            </tr>\n",
       "            <tr>\n",
       "                        <th id=\"T_a9bdccae_b0e9_11e9_9b97_002324307fcblevel0_row49\" class=\"row_heading level0 row49\" >49</th>\n",
       "                        <td id=\"T_a9bdccae_b0e9_11e9_9b97_002324307fcbrow49_col0\" class=\"data row49 col0\" >148</td>\n",
       "                        <td id=\"T_a9bdccae_b0e9_11e9_9b97_002324307fcbrow49_col1\" class=\"data row49 col1\" >2.35</td>\n",
       "            </tr>\n",
       "    </tbody></table>"
      ],
      "text/plain": [
       "<pandas.io.formats.style.Styler at 0xac7a390>"
      ]
     },
     "execution_count": 36,
     "metadata": {},
     "output_type": "execute_result"
    }
   ],
   "source": [
    "days = [180, 150, 170, 180, 177, 180, 140, 169, 168, 152, 150, 170, 109, 180, 108, 175, 144, 120, 133, 160, 160, 159, 165, 180, 149, 180, 160, 155, 156, 145, 122, 131, 156, 166, 170, 155, 158, 170, 160, 165, 159, 119, 168, 175, 161, 160, 160, 150, 140, 148]\n",
    "gpa = [4.00, 2.50, 4.00, 3.90, 3.75, 3.80, 2.90, 3.10, 3.25, 3.40, 3.30, 3.90, 1.35, 4.00, 1.00, 3.85, 2.98, 2.75, 2.75, 3.60, 3.50, 3.50, 3.50, 3.85, 2.95, 3.95, 3.65, 3.55, 3.58, 2.98, 1.50, 1.75, 2.20, 3.00, 3.00, 3.00, 3.15, 3.90, 3.15, 3.85, 2.70, 1.00, 3.25, 3.90, 2.80, 3.50, 3.40, 2.30, 2.50, 2.35]\n",
    "\n",
    "table = pd.DataFrame(days, columns = ['Days Present']); table['GPA'] = gpa\n",
    "table\n",
    "table.style.set_properties(**{'text-align' : 'center'})"
   ]
  },
  {
   "cell_type": "code",
   "execution_count": 46,
   "metadata": {},
   "outputs": [
    {
     "data": {
      "text/plain": [
       "Text(0, 0.5, 'GPA')"
      ]
     },
     "execution_count": 46,
     "metadata": {},
     "output_type": "execute_result"
    },
    {
     "data": {
      "image/png": "[encoded data removed]",
      "text/plain": [
       "<Figure size 432x288 with 1 Axes>"
      ]
     },
     "metadata": {
      "needs_background": "light"
     },
     "output_type": "display_data"
    }
   ],
   "source": [
    "plt.scatter(days,gpa,c='orange',marker='o',s=40)\n",
    "\n",
    "plt.title(\"Relationship between number of days present and GPA\",fontsize=11)\n",
    "\n",
    "plt.xlabel(\"Days Present\",fontsize=15)\n",
    "plt.ylabel(\"GPA\",fontsize=15)"
   ]
  },
  {
   "cell_type": "code",
   "execution_count": 42,
   "metadata": {
    "scrolled": false
   },
   "outputs": [
    {
     "name": "stdout",
     "output_type": "stream",
     "text": [
      "I guess that it is a weak positive correlation\n"
     ]
    }
   ],
   "source": [
    "print('I guess that it is a weak positive correlation')"
   ]
  },
  {
   "cell_type": "markdown",
   "metadata": {},
   "source": [
    "## Question 6"
   ]
  },
  {
   "cell_type": "code",
   "execution_count": 50,
   "metadata": {},
   "outputs": [
    {
     "data": {
      "text/plain": [
       "(array([0.5, 1. , 1.5, 2. , 2.5, 3. , 3.5, 4. , 4.5]),\n",
       " <a list of 9 Text yticklabel objects>)"
      ]
     },
     "execution_count": 50,
     "metadata": {},
     "output_type": "execute_result"
    },
    {
     "data": {
      "image/png": "[encoded data removed]",
      "text/plain": [
       "<Figure size 432x288 with 1 Axes>"
      ]
     },
     "metadata": {
      "needs_background": "light"
     },
     "output_type": "display_data"
    }
   ],
   "source": [
    "plt.scatter(days,gpa,c='orange',marker='o',s=40)\n",
    "\n",
    "plt.title(\"Relationship between number of days present and GPA\",fontsize=11)\n",
    "\n",
    "plt.xlabel(\"Days Present\",fontsize=15)\n",
    "plt.ylabel(\"GPA\",fontsize=15)\n",
    "\n",
    "plt.xticks(size=15); plt.yticks(size=15)"
   ]
  },
  {
   "cell_type": "markdown",
   "metadata": {},
   "source": [
    "### <font color = \"orange\">Question 7</font>\n",
    "\n",
    "By referring to table in Question 5, calculate the **correlation coefficient, r** step by step."
   ]
  },
  {
   "cell_type": "code",
   "execution_count": 60,
   "metadata": {},
   "outputs": [
    {
     "name": "stdout",
     "output_type": "stream",
     "text": [
      "The correlation coefficient is: ~0.87 (2 Decimal places)\n"
     ]
    }
   ],
   "source": [
    "#Looking for: Correlation coefficient\n",
    "meanD = np.mean(days)\n",
    "meanG = np.mean(gpa)\n",
    "\n",
    "d = []\n",
    "for i in days:\n",
    "    d.append(i - meanD)\n",
    "    \n",
    "g = []\n",
    "for j in gpa:\n",
    "    g.append(j - meanG)\n",
    "    \n",
    "dg = []\n",
    "for k in range(len(days)):\n",
    "    dg.append(g[k]*d[k])\n",
    "    \n",
    "dsq = []\n",
    "for a in days:\n",
    "    dsq.append((a - meanD)**2)\n",
    "\n",
    "gsq = []\n",
    "for b in gpa:\n",
    "    gsq.append((b - meanG)**2)\n",
    "\n",
    "print(f\"The correlation coefficient is: ~{round(sum(dg)/((sum(dsq)*sum(gsq))**0.5),2)} (2 Decimal places)\")"
   ]
  },
  {
   "cell_type": "markdown",
   "metadata": {},
   "source": [
    "### <font color = \"orange\">Question 8</font>\n",
    "By referring to table in Question 5, import **numpy** and use it to calculate **the correlation coefficient, r** and compare with your previous **r**."
   ]
  },
  {
   "cell_type": "code",
   "execution_count": 64,
   "metadata": {},
   "outputs": [
    {
     "name": "stdout",
     "output_type": "stream",
     "text": [
      "Correlation coefficient is: ~0.87 (rounded off to 2 decimal places)\n"
     ]
    }
   ],
   "source": [
    "print(f\"Correlation coefficient is: ~{round((np.corrcoef(days,gpa)[0][1]),2)} (rounded off to 2 decimal places)\")"
   ]
  },
  {
   "cell_type": "markdown",
   "metadata": {},
   "source": [
    "### <font color = \"blue\">Question 9</font>\n",
    "A study was conducted to investigate the relationship between **Height** and **Shoe Size**. Create the lists for Height (as x) and Shoe Size (as y)."
   ]
  },
  {
   "cell_type": "code",
   "execution_count": 65,
   "metadata": {},
   "outputs": [
    {
     "data": {
      "text/html": [
       "<style  type=\"text/css\" >\n",
       "    #T_45b9fe5c_b0ec_11e9_974f_002324307fcbrow0_col0 {\n",
       "            text-align:  center;\n",
       "        }    #T_45b9fe5c_b0ec_11e9_974f_002324307fcbrow0_col1 {\n",
       "            text-align:  center;\n",
       "        }    #T_45b9fe5c_b0ec_11e9_974f_002324307fcbrow1_col0 {\n",
       "            text-align:  center;\n",
       "        }    #T_45b9fe5c_b0ec_11e9_974f_002324307fcbrow1_col1 {\n",
       "            text-align:  center;\n",
       "        }    #T_45b9fe5c_b0ec_11e9_974f_002324307fcbrow2_col0 {\n",
       "            text-align:  center;\n",
       "        }    #T_45b9fe5c_b0ec_11e9_974f_002324307fcbrow2_col1 {\n",
       "            text-align:  center;\n",
       "        }    #T_45b9fe5c_b0ec_11e9_974f_002324307fcbrow3_col0 {\n",
       "            text-align:  center;\n",
       "        }    #T_45b9fe5c_b0ec_11e9_974f_002324307fcbrow3_col1 {\n",
       "            text-align:  center;\n",
       "        }    #T_45b9fe5c_b0ec_11e9_974f_002324307fcbrow4_col0 {\n",
       "            text-align:  center;\n",
       "        }    #T_45b9fe5c_b0ec_11e9_974f_002324307fcbrow4_col1 {\n",
       "            text-align:  center;\n",
       "        }    #T_45b9fe5c_b0ec_11e9_974f_002324307fcbrow5_col0 {\n",
       "            text-align:  center;\n",
       "        }    #T_45b9fe5c_b0ec_11e9_974f_002324307fcbrow5_col1 {\n",
       "            text-align:  center;\n",
       "        }    #T_45b9fe5c_b0ec_11e9_974f_002324307fcbrow6_col0 {\n",
       "            text-align:  center;\n",
       "        }    #T_45b9fe5c_b0ec_11e9_974f_002324307fcbrow6_col1 {\n",
       "            text-align:  center;\n",
       "        }    #T_45b9fe5c_b0ec_11e9_974f_002324307fcbrow7_col0 {\n",
       "            text-align:  center;\n",
       "        }    #T_45b9fe5c_b0ec_11e9_974f_002324307fcbrow7_col1 {\n",
       "            text-align:  center;\n",
       "        }    #T_45b9fe5c_b0ec_11e9_974f_002324307fcbrow8_col0 {\n",
       "            text-align:  center;\n",
       "        }    #T_45b9fe5c_b0ec_11e9_974f_002324307fcbrow8_col1 {\n",
       "            text-align:  center;\n",
       "        }    #T_45b9fe5c_b0ec_11e9_974f_002324307fcbrow9_col0 {\n",
       "            text-align:  center;\n",
       "        }    #T_45b9fe5c_b0ec_11e9_974f_002324307fcbrow9_col1 {\n",
       "            text-align:  center;\n",
       "        }    #T_45b9fe5c_b0ec_11e9_974f_002324307fcbrow10_col0 {\n",
       "            text-align:  center;\n",
       "        }    #T_45b9fe5c_b0ec_11e9_974f_002324307fcbrow10_col1 {\n",
       "            text-align:  center;\n",
       "        }    #T_45b9fe5c_b0ec_11e9_974f_002324307fcbrow11_col0 {\n",
       "            text-align:  center;\n",
       "        }    #T_45b9fe5c_b0ec_11e9_974f_002324307fcbrow11_col1 {\n",
       "            text-align:  center;\n",
       "        }    #T_45b9fe5c_b0ec_11e9_974f_002324307fcbrow12_col0 {\n",
       "            text-align:  center;\n",
       "        }    #T_45b9fe5c_b0ec_11e9_974f_002324307fcbrow12_col1 {\n",
       "            text-align:  center;\n",
       "        }    #T_45b9fe5c_b0ec_11e9_974f_002324307fcbrow13_col0 {\n",
       "            text-align:  center;\n",
       "        }    #T_45b9fe5c_b0ec_11e9_974f_002324307fcbrow13_col1 {\n",
       "            text-align:  center;\n",
       "        }    #T_45b9fe5c_b0ec_11e9_974f_002324307fcbrow14_col0 {\n",
       "            text-align:  center;\n",
       "        }    #T_45b9fe5c_b0ec_11e9_974f_002324307fcbrow14_col1 {\n",
       "            text-align:  center;\n",
       "        }</style><table id=\"T_45b9fe5c_b0ec_11e9_974f_002324307fcb\" ><thead>    <tr>        <th class=\"blank level0\" ></th>        <th class=\"col_heading level0 col0\" >Height (cm)</th>        <th class=\"col_heading level0 col1\" >Shoe Size</th>    </tr></thead><tbody>\n",
       "                <tr>\n",
       "                        <th id=\"T_45b9fe5c_b0ec_11e9_974f_002324307fcblevel0_row0\" class=\"row_heading level0 row0\" >0</th>\n",
       "                        <td id=\"T_45b9fe5c_b0ec_11e9_974f_002324307fcbrow0_col0\" class=\"data row0 col0\" >173</td>\n",
       "                        <td id=\"T_45b9fe5c_b0ec_11e9_974f_002324307fcbrow0_col1\" class=\"data row0 col1\" >6</td>\n",
       "            </tr>\n",
       "            <tr>\n",
       "                        <th id=\"T_45b9fe5c_b0ec_11e9_974f_002324307fcblevel0_row1\" class=\"row_heading level0 row1\" >1</th>\n",
       "                        <td id=\"T_45b9fe5c_b0ec_11e9_974f_002324307fcbrow1_col0\" class=\"data row1 col0\" >173</td>\n",
       "                        <td id=\"T_45b9fe5c_b0ec_11e9_974f_002324307fcbrow1_col1\" class=\"data row1 col1\" >9</td>\n",
       "            </tr>\n",
       "            <tr>\n",
       "                        <th id=\"T_45b9fe5c_b0ec_11e9_974f_002324307fcblevel0_row2\" class=\"row_heading level0 row2\" >2</th>\n",
       "                        <td id=\"T_45b9fe5c_b0ec_11e9_974f_002324307fcbrow2_col0\" class=\"data row2 col0\" >162</td>\n",
       "                        <td id=\"T_45b9fe5c_b0ec_11e9_974f_002324307fcbrow2_col1\" class=\"data row2 col1\" >7</td>\n",
       "            </tr>\n",
       "            <tr>\n",
       "                        <th id=\"T_45b9fe5c_b0ec_11e9_974f_002324307fcblevel0_row3\" class=\"row_heading level0 row3\" >3</th>\n",
       "                        <td id=\"T_45b9fe5c_b0ec_11e9_974f_002324307fcbrow3_col0\" class=\"data row3 col0\" >163</td>\n",
       "                        <td id=\"T_45b9fe5c_b0ec_11e9_974f_002324307fcbrow3_col1\" class=\"data row3 col1\" >8</td>\n",
       "            </tr>\n",
       "            <tr>\n",
       "                        <th id=\"T_45b9fe5c_b0ec_11e9_974f_002324307fcblevel0_row4\" class=\"row_heading level0 row4\" >4</th>\n",
       "                        <td id=\"T_45b9fe5c_b0ec_11e9_974f_002324307fcbrow4_col0\" class=\"data row4 col0\" >172</td>\n",
       "                        <td id=\"T_45b9fe5c_b0ec_11e9_974f_002324307fcbrow4_col1\" class=\"data row4 col1\" >11</td>\n",
       "            </tr>\n",
       "            <tr>\n",
       "                        <th id=\"T_45b9fe5c_b0ec_11e9_974f_002324307fcblevel0_row5\" class=\"row_heading level0 row5\" >5</th>\n",
       "                        <td id=\"T_45b9fe5c_b0ec_11e9_974f_002324307fcbrow5_col0\" class=\"data row5 col0\" >170</td>\n",
       "                        <td id=\"T_45b9fe5c_b0ec_11e9_974f_002324307fcbrow5_col1\" class=\"data row5 col1\" >10</td>\n",
       "            </tr>\n",
       "            <tr>\n",
       "                        <th id=\"T_45b9fe5c_b0ec_11e9_974f_002324307fcblevel0_row6\" class=\"row_heading level0 row6\" >6</th>\n",
       "                        <td id=\"T_45b9fe5c_b0ec_11e9_974f_002324307fcbrow6_col0\" class=\"data row6 col0\" >171</td>\n",
       "                        <td id=\"T_45b9fe5c_b0ec_11e9_974f_002324307fcbrow6_col1\" class=\"data row6 col1\" >8</td>\n",
       "            </tr>\n",
       "            <tr>\n",
       "                        <th id=\"T_45b9fe5c_b0ec_11e9_974f_002324307fcblevel0_row7\" class=\"row_heading level0 row7\" >7</th>\n",
       "                        <td id=\"T_45b9fe5c_b0ec_11e9_974f_002324307fcbrow7_col0\" class=\"data row7 col0\" >167</td>\n",
       "                        <td id=\"T_45b9fe5c_b0ec_11e9_974f_002324307fcbrow7_col1\" class=\"data row7 col1\" >7</td>\n",
       "            </tr>\n",
       "            <tr>\n",
       "                        <th id=\"T_45b9fe5c_b0ec_11e9_974f_002324307fcblevel0_row8\" class=\"row_heading level0 row8\" >8</th>\n",
       "                        <td id=\"T_45b9fe5c_b0ec_11e9_974f_002324307fcbrow8_col0\" class=\"data row8 col0\" >162</td>\n",
       "                        <td id=\"T_45b9fe5c_b0ec_11e9_974f_002324307fcbrow8_col1\" class=\"data row8 col1\" >7</td>\n",
       "            </tr>\n",
       "            <tr>\n",
       "                        <th id=\"T_45b9fe5c_b0ec_11e9_974f_002324307fcblevel0_row9\" class=\"row_heading level0 row9\" >9</th>\n",
       "                        <td id=\"T_45b9fe5c_b0ec_11e9_974f_002324307fcbrow9_col0\" class=\"data row9 col0\" >151</td>\n",
       "                        <td id=\"T_45b9fe5c_b0ec_11e9_974f_002324307fcbrow9_col1\" class=\"data row9 col1\" >6</td>\n",
       "            </tr>\n",
       "            <tr>\n",
       "                        <th id=\"T_45b9fe5c_b0ec_11e9_974f_002324307fcblevel0_row10\" class=\"row_heading level0 row10\" >10</th>\n",
       "                        <td id=\"T_45b9fe5c_b0ec_11e9_974f_002324307fcbrow10_col0\" class=\"data row10 col0\" >149.9</td>\n",
       "                        <td id=\"T_45b9fe5c_b0ec_11e9_974f_002324307fcbrow10_col1\" class=\"data row10 col1\" >4</td>\n",
       "            </tr>\n",
       "            <tr>\n",
       "                        <th id=\"T_45b9fe5c_b0ec_11e9_974f_002324307fcblevel0_row11\" class=\"row_heading level0 row11\" >11</th>\n",
       "                        <td id=\"T_45b9fe5c_b0ec_11e9_974f_002324307fcbrow11_col0\" class=\"data row11 col0\" >149.9</td>\n",
       "                        <td id=\"T_45b9fe5c_b0ec_11e9_974f_002324307fcbrow11_col1\" class=\"data row11 col1\" >4</td>\n",
       "            </tr>\n",
       "            <tr>\n",
       "                        <th id=\"T_45b9fe5c_b0ec_11e9_974f_002324307fcblevel0_row12\" class=\"row_heading level0 row12\" >12</th>\n",
       "                        <td id=\"T_45b9fe5c_b0ec_11e9_974f_002324307fcbrow12_col0\" class=\"data row12 col0\" >170</td>\n",
       "                        <td id=\"T_45b9fe5c_b0ec_11e9_974f_002324307fcbrow12_col1\" class=\"data row12 col1\" >10</td>\n",
       "            </tr>\n",
       "            <tr>\n",
       "                        <th id=\"T_45b9fe5c_b0ec_11e9_974f_002324307fcblevel0_row13\" class=\"row_heading level0 row13\" >13</th>\n",
       "                        <td id=\"T_45b9fe5c_b0ec_11e9_974f_002324307fcbrow13_col0\" class=\"data row13 col0\" >175</td>\n",
       "                        <td id=\"T_45b9fe5c_b0ec_11e9_974f_002324307fcbrow13_col1\" class=\"data row13 col1\" >10.5</td>\n",
       "            </tr>\n",
       "            <tr>\n",
       "                        <th id=\"T_45b9fe5c_b0ec_11e9_974f_002324307fcblevel0_row14\" class=\"row_heading level0 row14\" >14</th>\n",
       "                        <td id=\"T_45b9fe5c_b0ec_11e9_974f_002324307fcbrow14_col0\" class=\"data row14 col0\" >167</td>\n",
       "                        <td id=\"T_45b9fe5c_b0ec_11e9_974f_002324307fcbrow14_col1\" class=\"data row14 col1\" >6</td>\n",
       "            </tr>\n",
       "    </tbody></table>"
      ],
      "text/plain": [
       "<pandas.io.formats.style.Styler at 0xb05e510>"
      ]
     },
     "execution_count": 65,
     "metadata": {},
     "output_type": "execute_result"
    }
   ],
   "source": [
    "height = [173.0, 173.0, 162.0, 163.0, 172.0, 170.0, 171.0, 167.0, 162.0, 151.0, 149.9, 149.9, 170.0, 175.0, 167.0]\n",
    "shoesize = [6.0, 9.0, 7.0, 8.0, 11.0, 10.0, 8.0, 7.0, 7.0, 6.0, 4.0, 4.0, 10.0, 10.5, 6]\n",
    "\n",
    "table = pd.DataFrame(height, columns = ['Height (cm)']); table['Shoe Size'] = shoesize\n",
    "table\n",
    "table.style.set_properties(**{'text-align' : 'center'})"
   ]
  },
  {
   "cell_type": "markdown",
   "metadata": {},
   "source": [
    "### <font color = \"blue\">Question 10</font>"
   ]
  },
  {
   "cell_type": "code",
   "execution_count": 71,
   "metadata": {},
   "outputs": [
    {
     "data": {
      "text/plain": [
       "Text(0, 0.5, 'Shoesize (cm)')"
      ]
     },
     "execution_count": 71,
     "metadata": {},
     "output_type": "execute_result"
    },
    {
     "data": {
      "image/png": "[encoded data removed]",
      "text/plain": [
       "<Figure size 432x288 with 1 Axes>"
      ]
     },
     "metadata": {
      "needs_background": "light"
     },
     "output_type": "display_data"
    }
   ],
   "source": [
    "plt.scatter(height,shoesize,s=20,c='blue',marker='o')\n",
    "plt.xticks(size=10); plt.yticks(size=10)\n",
    "\n",
    "plt.title(\"Height VS Shoesize\")\n",
    "plt.xlabel('Height (cm)')\n",
    "plt.ylabel('Shoesize (cm)')"
   ]
  },
  {
   "cell_type": "markdown",
   "metadata": {},
   "source": [
    "## <font color='crimson'>Question 11</font>"
   ]
  },
  {
   "cell_type": "code",
   "execution_count": 81,
   "metadata": {},
   "outputs": [
    {
     "name": "stdout",
     "output_type": "stream",
     "text": [
      "Correlation coefficient is: 0.77\n",
      "It is a medium positive correlation\n"
     ]
    }
   ],
   "source": [
    "coeff = np.corrcoef(height,shoesize)[1][0]\n",
    "print(f\"Correlation coefficient is: {round(coeff,2)}\")\n",
    "print(\"It is a medium positive correlation\")"
   ]
  },
  {
   "cell_type": "markdown",
   "metadata": {},
   "source": [
    "# Linear Regression"
   ]
  },
  {
   "cell_type": "markdown",
   "metadata": {},
   "source": [
    "### Using scipy.stats"
   ]
  },
  {
   "cell_type": "code",
   "execution_count": 82,
   "metadata": {},
   "outputs": [
    {
     "name": "stdout",
     "output_type": "stream",
     "text": [
      "[[1.         0.76211371]\n",
      " [0.76211371 1.        ]]\n",
      "LinregressResult(slope=5.291329887578411, intercept=199.03398720878522, rvalue=0.7621137132162578, pvalue=0.010394016376015478, stderr=1.5892848295720452)\n"
     ]
    },
    {
     "data": {
      "image/png": "[encoded data removed]",
      "text/plain": [
       "<Figure size 432x288 with 1 Axes>"
      ]
     },
     "metadata": {
      "needs_background": "light"
     },
     "output_type": "display_data"
    }
   ],
   "source": [
    "import scipy.stats as st\n",
    "house_prize=[245, 312, 279, 308, 199, 219, 405, 324, 319, 255]\n",
    "square_feet=[1400, 1600, 1700, 1875, 1100, 1550, 2350, 2450, 1425, 1700]\n",
    "plt.scatter(house_prize, square_feet, color=\"green\")\n",
    "\n",
    "print(np.corrcoef(house_prize, square_feet))\n",
    "\n",
    "f=st.linregress(house_prize, square_feet)\n",
    "print(f)\n",
    "\n",
    "xx=np.arange(200, 400, 10)\n",
    "yy=f[0]*xx+f[1]\n",
    "\n",
    "plt.plot(xx, yy, color=\"red\")\n",
    "plt.show()\n"
   ]
  },
  {
   "cell_type": "code",
   "execution_count": 83,
   "metadata": {},
   "outputs": [
    {
     "data": {
      "text/plain": [
       "LinregressResult(slope=5.291329887578411, intercept=199.03398720878522, rvalue=0.7621137132162578, pvalue=0.010394016376015478, stderr=1.5892848295720452)"
      ]
     },
     "execution_count": 83,
     "metadata": {},
     "output_type": "execute_result"
    }
   ],
   "source": [
    "st.linregress(house_prize, square_feet)"
   ]
  },
  {
   "cell_type": "markdown",
   "metadata": {},
   "source": [
    "### Using Numpy"
   ]
  },
  {
   "cell_type": "code",
   "execution_count": 127,
   "metadata": {},
   "outputs": [],
   "source": [
    "def giveval(x):\n",
    "    print(\"House price is :\",house_prize[x])\n",
    "    print(\"square feet is :\",square_feet[x])"
   ]
  },
  {
   "cell_type": "code",
   "execution_count": 132,
   "metadata": {},
   "outputs": [
    {
     "name": "stdout",
     "output_type": "stream",
     "text": [
      " \n",
      "5.291 x + 199\n",
      "r is 0.7621137132162578\n"
     ]
    },
    {
     "data": {
      "image/png": "[encoded data removed]",
      "text/plain": [
       "<Figure size 432x288 with 1 Axes>"
      ]
     },
     "metadata": {
      "needs_background": "light"
     },
     "output_type": "display_data"
    }
   ],
   "source": [
    "house_prize=[245, 312, 279, 308, 199, 219, 405, 324, 319, 255]\n",
    "square_feet=[1400, 1600, 1700, 1875, 1100, 1550, 2350, 2450, 1425, 1700]\n",
    "plt.scatter(house_prize, square_feet, color=\"green\")\n",
    "\n",
    "thing  =np.poly1d(np.polyfit(house_prize,square_feet,1))\n",
    "x = np.linspace(200,400,10)\n",
    "y = thing[1]*x+thing[0]\n",
    "\n",
    "plt.plot(x,y)\n",
    "plt.title(\"House Price vs Square Feet\")\n",
    "plt.xlabel(\"Price (In 10 thousands)\"); plt.ylabel(\"Square Feet\")\n",
    "\n",
    "print(thing)\n",
    "\n",
    "r = np.corrcoef(house_prize,square_feet)[0][1]\n",
    "print(f\"r is {r}\")"
   ]
  },
  {
   "cell_type": "code",
   "execution_count": 128,
   "metadata": {},
   "outputs": [
    {
     "name": "stdout",
     "output_type": "stream",
     "text": [
      "House price is : 324\n",
      "square feet is : 1800\n"
     ]
    }
   ],
   "source": [
    "giveval(7)"
   ]
  },
  {
   "cell_type": "markdown",
   "metadata": {},
   "source": [
    "# Polynomial Regression /w numpy"
   ]
  },
  {
   "cell_type": "code",
   "execution_count": 148,
   "metadata": {},
   "outputs": [
    {
     "data": {
      "text/plain": [
       "[<matplotlib.lines.Line2D at 0xd123d30>]"
      ]
     },
     "execution_count": 148,
     "metadata": {},
     "output_type": "execute_result"
    },
    {
     "data": {
      "image/png": "[encoded data removed]",
      "text/plain": [
       "<Figure size 432x288 with 1 Axes>"
      ]
     },
     "metadata": {
      "needs_background": "light"
     },
     "output_type": "display_data"
    }
   ],
   "source": [
    "m = np.poly1d(np.polyfit(house_prize,square_feet,3))\n",
    "xx = np.linspace(200,400,len(house_prize))\n",
    "yy = [m(i) for i in xx]\n",
    "\n",
    "plt.scatter(house_prize,square_feet)\n",
    "plt.plot(xx,yy,c='r',lw=2.5)"
   ]
  }
 ],
 "metadata": {
  "kernelspec": {
   "display_name": "Python 3",
   "language": "python",
   "name": "python3"
  },
  "language_info": {
   "codemirror_mode": {
    "name": "ipython",
    "version": 3
   },
   "file_extension": ".py",
   "mimetype": "text/x-python",
   "name": "python",
   "nbconvert_exporter": "python",
   "pygments_lexer": "ipython3",
   "version": "3.7.3"
  }
 },
 "nbformat": 4,
 "nbformat_minor": 2
}
