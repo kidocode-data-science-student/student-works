{
  "nbformat": 4,
  "nbformat_minor": 0,
  "metadata": {
    "colab": {
      "name": "Cheng_An_13_10_19_22nd_Decision_Tree_3.ipynb",
      "provenance": [],
      "collapsed_sections": []
    },
    "kernelspec": {
      "display_name": "Python 3",
      "language": "python",
      "name": "python3"
    },
    "language_info": {
      "codemirror_mode": {
        "name": "ipython",
        "version": 3
      },
      "file_extension": ".py",
      "mimetype": "text/x-python",
      "name": "python",
      "nbconvert_exporter": "python",
      "pygments_lexer": "ipython3",
      "version": "3.7.3"
    }
  },
  "cells": [
    {
      "cell_type": "code",
      "metadata": {
        "colab_type": "code",
        "id": "FKmXE5tN9cTk",
        "colab": {}
      },
      "source": [
        "import pandas as pd\n",
        "import numpy as np"
      ],
      "execution_count": 0,
      "outputs": []
    },
    {
      "cell_type": "markdown",
      "metadata": {
        "id": "c1qKgSnYI-Og",
        "colab_type": "text"
      },
      "source": [
        "# Project 1"
      ]
    },
    {
      "cell_type": "code",
      "metadata": {
        "colab_type": "code",
        "id": "QLC57fizEWaU",
        "colab": {}
      },
      "source": [
        "data1 = pd.read_csv('fifa19_data.csv')\n",
        "\n",
        "data1.head()\n",
        "data1 = data1.iloc[:300,:]"
      ],
      "execution_count": 0,
      "outputs": []
    },
    {
      "cell_type": "code",
      "metadata": {
        "id": "kHTSLi1LAl1c",
        "colab_type": "code",
        "outputId": "7f129288-3497-4cd5-91f6-cce3ee9961ac",
        "colab": {
          "base_uri": "https://localhost:8080/",
          "height": 325
        }
      },
      "source": [
        "data1.describe()"
      ],
      "execution_count": 0,
      "outputs": [
        {
          "output_type": "execute_result",
          "data": {
            "text/html": [
              "<div>\n",
              "<style scoped>\n",
              "    .dataframe tbody tr th:only-of-type {\n",
              "        vertical-align: middle;\n",
              "    }\n",
              "\n",
              "    .dataframe tbody tr th {\n",
              "        vertical-align: top;\n",
              "    }\n",
              "\n",
              "    .dataframe thead th {\n",
              "        text-align: right;\n",
              "    }\n",
              "</style>\n",
              "<table border=\"1\" class=\"dataframe\">\n",
              "  <thead>\n",
              "    <tr style=\"text-align: right;\">\n",
              "      <th></th>\n",
              "      <th>Unnamed: 0</th>\n",
              "      <th>ID</th>\n",
              "      <th>Age</th>\n",
              "      <th>Overall</th>\n",
              "      <th>Potential</th>\n",
              "      <th>Special</th>\n",
              "      <th>International Reputation</th>\n",
              "      <th>Weak Foot</th>\n",
              "      <th>Skill Moves</th>\n",
              "      <th>Jersey Number</th>\n",
              "      <th>Crossing</th>\n",
              "      <th>Finishing</th>\n",
              "      <th>HeadingAccuracy</th>\n",
              "      <th>ShortPassing</th>\n",
              "      <th>Volleys</th>\n",
              "      <th>Dribbling</th>\n",
              "      <th>Curve</th>\n",
              "      <th>FKAccuracy</th>\n",
              "      <th>LongPassing</th>\n",
              "      <th>BallControl</th>\n",
              "      <th>Acceleration</th>\n",
              "      <th>SprintSpeed</th>\n",
              "      <th>Agility</th>\n",
              "      <th>Reactions</th>\n",
              "      <th>Balance</th>\n",
              "      <th>ShotPower</th>\n",
              "      <th>Jumping</th>\n",
              "      <th>Stamina</th>\n",
              "      <th>Strength</th>\n",
              "      <th>LongShots</th>\n",
              "      <th>Aggression</th>\n",
              "      <th>Interceptions</th>\n",
              "      <th>Positioning</th>\n",
              "      <th>Vision</th>\n",
              "      <th>Penalties</th>\n",
              "      <th>Composure</th>\n",
              "      <th>Marking</th>\n",
              "      <th>StandingTackle</th>\n",
              "      <th>SlidingTackle</th>\n",
              "      <th>GKDiving</th>\n",
              "      <th>GKHandling</th>\n",
              "      <th>GKKicking</th>\n",
              "      <th>GKPositioning</th>\n",
              "      <th>GKReflexes</th>\n",
              "    </tr>\n",
              "  </thead>\n",
              "  <tbody>\n",
              "    <tr>\n",
              "      <th>count</th>\n",
              "      <td>300.000000</td>\n",
              "      <td>300.000000</td>\n",
              "      <td>300.000000</td>\n",
              "      <td>300.000000</td>\n",
              "      <td>300.000000</td>\n",
              "      <td>300.000000</td>\n",
              "      <td>300.000000</td>\n",
              "      <td>300.000000</td>\n",
              "      <td>300.000000</td>\n",
              "      <td>300.000000</td>\n",
              "      <td>300.000000</td>\n",
              "      <td>300.000000</td>\n",
              "      <td>300.000000</td>\n",
              "      <td>300.000000</td>\n",
              "      <td>300.000000</td>\n",
              "      <td>300.000000</td>\n",
              "      <td>300.00000</td>\n",
              "      <td>300.000000</td>\n",
              "      <td>300.000000</td>\n",
              "      <td>300.000000</td>\n",
              "      <td>300.000000</td>\n",
              "      <td>300.000000</td>\n",
              "      <td>300.000000</td>\n",
              "      <td>300.000000</td>\n",
              "      <td>300.000000</td>\n",
              "      <td>300.000000</td>\n",
              "      <td>300.000000</td>\n",
              "      <td>300.000000</td>\n",
              "      <td>300.000000</td>\n",
              "      <td>300.000000</td>\n",
              "      <td>300.000000</td>\n",
              "      <td>300.000000</td>\n",
              "      <td>300.000000</td>\n",
              "      <td>300.000000</td>\n",
              "      <td>300.000000</td>\n",
              "      <td>300.000000</td>\n",
              "      <td>300.000000</td>\n",
              "      <td>300.000000</td>\n",
              "      <td>300.000000</td>\n",
              "      <td>300.000000</td>\n",
              "      <td>300.000000</td>\n",
              "      <td>300.000000</td>\n",
              "      <td>300.000000</td>\n",
              "      <td>300.000000</td>\n",
              "    </tr>\n",
              "    <tr>\n",
              "      <th>mean</th>\n",
              "      <td>149.500000</td>\n",
              "      <td>189833.116667</td>\n",
              "      <td>27.430000</td>\n",
              "      <td>84.396667</td>\n",
              "      <td>86.123333</td>\n",
              "      <td>1948.916667</td>\n",
              "      <td>2.750000</td>\n",
              "      <td>3.333333</td>\n",
              "      <td>3.026667</td>\n",
              "      <td>12.170000</td>\n",
              "      <td>62.723333</td>\n",
              "      <td>60.120000</td>\n",
              "      <td>61.693333</td>\n",
              "      <td>74.653333</td>\n",
              "      <td>59.083333</td>\n",
              "      <td>69.906667</td>\n",
              "      <td>63.12000</td>\n",
              "      <td>57.786667</td>\n",
              "      <td>68.746667</td>\n",
              "      <td>74.033333</td>\n",
              "      <td>71.520000</td>\n",
              "      <td>71.926667</td>\n",
              "      <td>71.566667</td>\n",
              "      <td>82.313333</td>\n",
              "      <td>67.623333</td>\n",
              "      <td>69.836667</td>\n",
              "      <td>70.980000</td>\n",
              "      <td>72.773333</td>\n",
              "      <td>71.730000</td>\n",
              "      <td>63.180000</td>\n",
              "      <td>65.910000</td>\n",
              "      <td>57.920000</td>\n",
              "      <td>64.023333</td>\n",
              "      <td>71.826667</td>\n",
              "      <td>60.270000</td>\n",
              "      <td>78.603333</td>\n",
              "      <td>57.160000</td>\n",
              "      <td>56.000000</td>\n",
              "      <td>52.450000</td>\n",
              "      <td>19.876667</td>\n",
              "      <td>19.703333</td>\n",
              "      <td>18.880000</td>\n",
              "      <td>19.566667</td>\n",
              "      <td>20.013333</td>\n",
              "    </tr>\n",
              "    <tr>\n",
              "      <th>std</th>\n",
              "      <td>86.746758</td>\n",
              "      <td>34251.353640</td>\n",
              "      <td>3.507055</td>\n",
              "      <td>2.484599</td>\n",
              "      <td>3.008592</td>\n",
              "      <td>286.359627</td>\n",
              "      <td>0.862155</td>\n",
              "      <td>0.773012</td>\n",
              "      <td>1.162092</td>\n",
              "      <td>8.791591</td>\n",
              "      <td>23.258906</td>\n",
              "      <td>24.917501</td>\n",
              "      <td>22.756218</td>\n",
              "      <td>16.380299</td>\n",
              "      <td>23.982081</td>\n",
              "      <td>23.403212</td>\n",
              "      <td>23.91552</td>\n",
              "      <td>22.918961</td>\n",
              "      <td>16.251858</td>\n",
              "      <td>20.806777</td>\n",
              "      <td>14.440615</td>\n",
              "      <td>12.999407</td>\n",
              "      <td>15.175635</td>\n",
              "      <td>3.928520</td>\n",
              "      <td>16.552585</td>\n",
              "      <td>19.688969</td>\n",
              "      <td>12.395905</td>\n",
              "      <td>16.251636</td>\n",
              "      <td>11.759452</td>\n",
              "      <td>23.755885</td>\n",
              "      <td>18.415546</td>\n",
              "      <td>25.146133</td>\n",
              "      <td>25.665252</td>\n",
              "      <td>14.567682</td>\n",
              "      <td>19.525914</td>\n",
              "      <td>8.785401</td>\n",
              "      <td>24.889879</td>\n",
              "      <td>27.462105</td>\n",
              "      <td>27.383823</td>\n",
              "      <td>25.129393</td>\n",
              "      <td>24.434103</td>\n",
              "      <td>22.785585</td>\n",
              "      <td>24.685965</td>\n",
              "      <td>25.685124</td>\n",
              "    </tr>\n",
              "    <tr>\n",
              "      <th>min</th>\n",
              "      <td>0.000000</td>\n",
              "      <td>41.000000</td>\n",
              "      <td>18.000000</td>\n",
              "      <td>82.000000</td>\n",
              "      <td>82.000000</td>\n",
              "      <td>1060.000000</td>\n",
              "      <td>1.000000</td>\n",
              "      <td>1.000000</td>\n",
              "      <td>1.000000</td>\n",
              "      <td>1.000000</td>\n",
              "      <td>9.000000</td>\n",
              "      <td>8.000000</td>\n",
              "      <td>10.000000</td>\n",
              "      <td>15.000000</td>\n",
              "      <td>8.000000</td>\n",
              "      <td>9.000000</td>\n",
              "      <td>9.00000</td>\n",
              "      <td>8.000000</td>\n",
              "      <td>16.000000</td>\n",
              "      <td>14.000000</td>\n",
              "      <td>34.000000</td>\n",
              "      <td>33.000000</td>\n",
              "      <td>32.000000</td>\n",
              "      <td>68.000000</td>\n",
              "      <td>27.000000</td>\n",
              "      <td>14.000000</td>\n",
              "      <td>30.000000</td>\n",
              "      <td>20.000000</td>\n",
              "      <td>37.000000</td>\n",
              "      <td>7.000000</td>\n",
              "      <td>18.000000</td>\n",
              "      <td>11.000000</td>\n",
              "      <td>7.000000</td>\n",
              "      <td>22.000000</td>\n",
              "      <td>11.000000</td>\n",
              "      <td>20.000000</td>\n",
              "      <td>9.000000</td>\n",
              "      <td>10.000000</td>\n",
              "      <td>8.000000</td>\n",
              "      <td>2.000000</td>\n",
              "      <td>2.000000</td>\n",
              "      <td>2.000000</td>\n",
              "      <td>2.000000</td>\n",
              "      <td>2.000000</td>\n",
              "    </tr>\n",
              "    <tr>\n",
              "      <th>25%</th>\n",
              "      <td>74.750000</td>\n",
              "      <td>182514.000000</td>\n",
              "      <td>25.000000</td>\n",
              "      <td>82.750000</td>\n",
              "      <td>84.000000</td>\n",
              "      <td>1903.500000</td>\n",
              "      <td>2.000000</td>\n",
              "      <td>3.000000</td>\n",
              "      <td>2.000000</td>\n",
              "      <td>7.000000</td>\n",
              "      <td>53.000000</td>\n",
              "      <td>43.000000</td>\n",
              "      <td>51.000000</td>\n",
              "      <td>75.000000</td>\n",
              "      <td>44.000000</td>\n",
              "      <td>64.000000</td>\n",
              "      <td>50.00000</td>\n",
              "      <td>45.750000</td>\n",
              "      <td>64.000000</td>\n",
              "      <td>73.000000</td>\n",
              "      <td>62.000000</td>\n",
              "      <td>64.000000</td>\n",
              "      <td>61.000000</td>\n",
              "      <td>80.000000</td>\n",
              "      <td>55.000000</td>\n",
              "      <td>66.000000</td>\n",
              "      <td>64.000000</td>\n",
              "      <td>68.000000</td>\n",
              "      <td>64.000000</td>\n",
              "      <td>53.750000</td>\n",
              "      <td>55.750000</td>\n",
              "      <td>35.000000</td>\n",
              "      <td>48.750000</td>\n",
              "      <td>62.750000</td>\n",
              "      <td>47.750000</td>\n",
              "      <td>75.000000</td>\n",
              "      <td>35.000000</td>\n",
              "      <td>30.000000</td>\n",
              "      <td>26.000000</td>\n",
              "      <td>8.000000</td>\n",
              "      <td>8.000000</td>\n",
              "      <td>8.000000</td>\n",
              "      <td>7.000000</td>\n",
              "      <td>8.000000</td>\n",
              "    </tr>\n",
              "    <tr>\n",
              "      <th>50%</th>\n",
              "      <td>149.500000</td>\n",
              "      <td>193385.000000</td>\n",
              "      <td>27.000000</td>\n",
              "      <td>84.000000</td>\n",
              "      <td>86.000000</td>\n",
              "      <td>2045.500000</td>\n",
              "      <td>3.000000</td>\n",
              "      <td>3.000000</td>\n",
              "      <td>3.000000</td>\n",
              "      <td>10.000000</td>\n",
              "      <td>72.000000</td>\n",
              "      <td>70.000000</td>\n",
              "      <td>69.000000</td>\n",
              "      <td>80.000000</td>\n",
              "      <td>68.000000</td>\n",
              "      <td>79.000000</td>\n",
              "      <td>73.00000</td>\n",
              "      <td>64.500000</td>\n",
              "      <td>74.000000</td>\n",
              "      <td>82.000000</td>\n",
              "      <td>73.000000</td>\n",
              "      <td>73.000000</td>\n",
              "      <td>75.000000</td>\n",
              "      <td>82.000000</td>\n",
              "      <td>71.000000</td>\n",
              "      <td>78.000000</td>\n",
              "      <td>73.000000</td>\n",
              "      <td>76.000000</td>\n",
              "      <td>72.500000</td>\n",
              "      <td>73.000000</td>\n",
              "      <td>71.000000</td>\n",
              "      <td>64.000000</td>\n",
              "      <td>77.000000</td>\n",
              "      <td>76.000000</td>\n",
              "      <td>66.000000</td>\n",
              "      <td>80.000000</td>\n",
              "      <td>60.000000</td>\n",
              "      <td>59.000000</td>\n",
              "      <td>52.500000</td>\n",
              "      <td>11.000000</td>\n",
              "      <td>11.000000</td>\n",
              "      <td>11.000000</td>\n",
              "      <td>11.000000</td>\n",
              "      <td>10.500000</td>\n",
              "    </tr>\n",
              "    <tr>\n",
              "      <th>75%</th>\n",
              "      <td>224.250000</td>\n",
              "      <td>207640.250000</td>\n",
              "      <td>30.000000</td>\n",
              "      <td>86.000000</td>\n",
              "      <td>88.000000</td>\n",
              "      <td>2137.250000</td>\n",
              "      <td>3.000000</td>\n",
              "      <td>4.000000</td>\n",
              "      <td>4.000000</td>\n",
              "      <td>17.000000</td>\n",
              "      <td>80.000000</td>\n",
              "      <td>79.000000</td>\n",
              "      <td>80.000000</td>\n",
              "      <td>84.000000</td>\n",
              "      <td>78.000000</td>\n",
              "      <td>85.000000</td>\n",
              "      <td>81.00000</td>\n",
              "      <td>76.000000</td>\n",
              "      <td>80.000000</td>\n",
              "      <td>85.250000</td>\n",
              "      <td>83.250000</td>\n",
              "      <td>82.000000</td>\n",
              "      <td>84.000000</td>\n",
              "      <td>84.250000</td>\n",
              "      <td>80.250000</td>\n",
              "      <td>82.000000</td>\n",
              "      <td>79.000000</td>\n",
              "      <td>84.000000</td>\n",
              "      <td>80.000000</td>\n",
              "      <td>80.000000</td>\n",
              "      <td>81.000000</td>\n",
              "      <td>82.000000</td>\n",
              "      <td>83.000000</td>\n",
              "      <td>83.000000</td>\n",
              "      <td>75.000000</td>\n",
              "      <td>84.000000</td>\n",
              "      <td>80.000000</td>\n",
              "      <td>83.000000</td>\n",
              "      <td>80.250000</td>\n",
              "      <td>14.000000</td>\n",
              "      <td>14.000000</td>\n",
              "      <td>14.000000</td>\n",
              "      <td>14.000000</td>\n",
              "      <td>14.000000</td>\n",
              "    </tr>\n",
              "    <tr>\n",
              "      <th>max</th>\n",
              "      <td>299.000000</td>\n",
              "      <td>236583.000000</td>\n",
              "      <td>40.000000</td>\n",
              "      <td>94.000000</td>\n",
              "      <td>95.000000</td>\n",
              "      <td>2346.000000</td>\n",
              "      <td>5.000000</td>\n",
              "      <td>5.000000</td>\n",
              "      <td>5.000000</td>\n",
              "      <td>77.000000</td>\n",
              "      <td>93.000000</td>\n",
              "      <td>95.000000</td>\n",
              "      <td>94.000000</td>\n",
              "      <td>93.000000</td>\n",
              "      <td>90.000000</td>\n",
              "      <td>97.000000</td>\n",
              "      <td>94.00000</td>\n",
              "      <td>94.000000</td>\n",
              "      <td>93.000000</td>\n",
              "      <td>96.000000</td>\n",
              "      <td>97.000000</td>\n",
              "      <td>96.000000</td>\n",
              "      <td>96.000000</td>\n",
              "      <td>96.000000</td>\n",
              "      <td>95.000000</td>\n",
              "      <td>95.000000</td>\n",
              "      <td>95.000000</td>\n",
              "      <td>96.000000</td>\n",
              "      <td>94.000000</td>\n",
              "      <td>94.000000</td>\n",
              "      <td>94.000000</td>\n",
              "      <td>92.000000</td>\n",
              "      <td>95.000000</td>\n",
              "      <td>94.000000</td>\n",
              "      <td>92.000000</td>\n",
              "      <td>96.000000</td>\n",
              "      <td>94.000000</td>\n",
              "      <td>93.000000</td>\n",
              "      <td>91.000000</td>\n",
              "      <td>90.000000</td>\n",
              "      <td>92.000000</td>\n",
              "      <td>91.000000</td>\n",
              "      <td>90.000000</td>\n",
              "      <td>94.000000</td>\n",
              "    </tr>\n",
              "  </tbody>\n",
              "</table>\n",
              "</div>"
            ],
            "text/plain": [
              "       Unnamed: 0             ID  ...  GKPositioning  GKReflexes\n",
              "count  300.000000     300.000000  ...     300.000000  300.000000\n",
              "mean   149.500000  189833.116667  ...      19.566667   20.013333\n",
              "std     86.746758   34251.353640  ...      24.685965   25.685124\n",
              "min      0.000000      41.000000  ...       2.000000    2.000000\n",
              "25%     74.750000  182514.000000  ...       7.000000    8.000000\n",
              "50%    149.500000  193385.000000  ...      11.000000   10.500000\n",
              "75%    224.250000  207640.250000  ...      14.000000   14.000000\n",
              "max    299.000000  236583.000000  ...      90.000000   94.000000\n",
              "\n",
              "[8 rows x 44 columns]"
            ]
          },
          "metadata": {
            "tags": []
          },
          "execution_count": 40
        }
      ]
    },
    {
      "cell_type": "code",
      "metadata": {
        "colab_type": "code",
        "id": "0uwqCrvwFqGw",
        "colab": {}
      },
      "source": [
        "x_features = data1[['Age','Potential','Wage','BallControl','SprintSpeed','Agility','GKHandling']]\n",
        "y = data1['Release Clause']"
      ],
      "execution_count": 0,
      "outputs": []
    },
    {
      "cell_type": "code",
      "metadata": {
        "id": "iTwYbaSQKwsl",
        "colab_type": "code",
        "outputId": "c9865ce3-f246-40a7-a7c5-bebc3d32cccf",
        "colab": {
          "base_uri": "https://localhost:8080/",
          "height": 1000
        }
      },
      "source": [
        "data1['Release Clause']"
      ],
      "execution_count": 0,
      "outputs": [
        {
          "output_type": "execute_result",
          "data": {
            "text/plain": [
              "0      €226.5M\n",
              "1      €127.1M\n",
              "2      €228.1M\n",
              "3      €138.6M\n",
              "4      €196.4M\n",
              "5      €172.1M\n",
              "6      €137.4M\n",
              "7        €164M\n",
              "8      €104.6M\n",
              "9      €144.5M\n",
              "10     €127.1M\n",
              "11     €156.8M\n",
              "12      €90.2M\n",
              "13       €111M\n",
              "14     €121.3M\n",
              "15     €153.5M\n",
              "16     €160.7M\n",
              "17     €165.8M\n",
              "18     €123.3M\n",
              "19     €113.7M\n",
              "20     €105.6M\n",
              "21       €111M\n",
              "22      €62.7M\n",
              "23     €119.3M\n",
              "24      €44.6M\n",
              "25     €166.1M\n",
              "26     €137.3M\n",
              "27     €126.4M\n",
              "28         NaN\n",
              "29     €105.4M\n",
              "        ...   \n",
              "270     €56.3M\n",
              "271     €50.6M\n",
              "272     €49.5M\n",
              "273     €45.7M\n",
              "274     €43.6M\n",
              "275     €57.6M\n",
              "276     €40.7M\n",
              "277     €42.4M\n",
              "278     €38.2M\n",
              "279     €34.6M\n",
              "280     €47.9M\n",
              "281     €44.4M\n",
              "282     €36.6M\n",
              "283     €38.9M\n",
              "284     €37.4M\n",
              "285     €32.8M\n",
              "286     €44.1M\n",
              "287     €28.9M\n",
              "288     €44.1M\n",
              "289     €49.4M\n",
              "290     €34.2M\n",
              "291     €21.3M\n",
              "292     €42.8M\n",
              "293       €30M\n",
              "294     €41.8M\n",
              "295     €45.2M\n",
              "296     €34.2M\n",
              "297     €36.6M\n",
              "298     €15.3M\n",
              "299       €34M\n",
              "Name: Release Clause, Length: 300, dtype: object"
            ]
          },
          "metadata": {
            "tags": []
          },
          "execution_count": 77
        }
      ]
    },
    {
      "cell_type": "markdown",
      "metadata": {
        "id": "B6GhhJQfIldY",
        "colab_type": "text"
      },
      "source": [
        "## making sure I get no surprises\n",
        " |<br>\n",
        " |<br>\n",
        " |<br>\n",
        "V"
      ]
    },
    {
      "cell_type": "code",
      "metadata": {
        "colab_type": "code",
        "id": "6uIzWF3wGg7m",
        "outputId": "3d7aa93a-91ec-46a7-cc6f-2962700529c3",
        "colab": {
          "base_uri": "https://localhost:8080/",
          "height": 163
        }
      },
      "source": [
        "x_features.isnull().any()"
      ],
      "execution_count": 0,
      "outputs": [
        {
          "output_type": "execute_result",
          "data": {
            "text/plain": [
              "Age            False\n",
              "Potential      False\n",
              "Wage           False\n",
              "BallControl    False\n",
              "SprintSpeed    False\n",
              "Agility        False\n",
              "GKHandling     False\n",
              "dtype: bool"
            ]
          },
          "metadata": {
            "tags": []
          },
          "execution_count": 43
        }
      ]
    },
    {
      "cell_type": "code",
      "metadata": {
        "colab_type": "code",
        "id": "hAzED16MXjAV",
        "outputId": "f2be4103-3ec9-44c1-f6e1-09231ab10fd5",
        "colab": {
          "base_uri": "https://localhost:8080/",
          "height": 145
        }
      },
      "source": [
        "for x in x_features:\n",
        "  print(type(x))"
      ],
      "execution_count": 0,
      "outputs": [
        {
          "output_type": "stream",
          "text": [
            "<class 'str'>\n",
            "<class 'str'>\n",
            "<class 'str'>\n",
            "<class 'str'>\n",
            "<class 'str'>\n",
            "<class 'str'>\n",
            "<class 'str'>\n"
          ],
          "name": "stdout"
        }
      ]
    },
    {
      "cell_type": "code",
      "metadata": {
        "colab_type": "code",
        "id": "qTiqIW2aX3Ad",
        "outputId": "2b5cf155-e94c-422c-b2b4-877b00e90446",
        "colab": {
          "base_uri": "https://localhost:8080/",
          "height": 1000
        }
      },
      "source": [
        "x_features['Wage']=x_features['Wage'].str.replace(\"€\",'')\n",
        "x_features['Wage']"
      ],
      "execution_count": 0,
      "outputs": [
        {
          "output_type": "stream",
          "text": [
            "/usr/local/lib/python3.6/dist-packages/ipykernel_launcher.py:1: SettingWithCopyWarning: \n",
            "A value is trying to be set on a copy of a slice from a DataFrame.\n",
            "Try using .loc[row_indexer,col_indexer] = value instead\n",
            "\n",
            "See the caveats in the documentation: http://pandas.pydata.org/pandas-docs/stable/indexing.html#indexing-view-versus-copy\n",
            "  \"\"\"Entry point for launching an IPython kernel.\n"
          ],
          "name": "stderr"
        },
        {
          "output_type": "execute_result",
          "data": {
            "text/plain": [
              "0      565K\n",
              "1      405K\n",
              "2      290K\n",
              "3      260K\n",
              "4      355K\n",
              "5      340K\n",
              "6      420K\n",
              "7      455K\n",
              "8      380K\n",
              "9       94K\n",
              "10     205K\n",
              "11     355K\n",
              "12     125K\n",
              "13     285K\n",
              "14     225K\n",
              "15     205K\n",
              "16     205K\n",
              "17     145K\n",
              "18     240K\n",
              "19     240K\n",
              "20     315K\n",
              "21     200K\n",
              "22     130K\n",
              "23     300K\n",
              "24     215K\n",
              "25     100K\n",
              "26     255K\n",
              "27     285K\n",
              "28     315K\n",
              "29     165K\n",
              "       ... \n",
              "270     78K\n",
              "271     67K\n",
              "272     31K\n",
              "273     32K\n",
              "274     19K\n",
              "275     44K\n",
              "276      1K\n",
              "277     43K\n",
              "278     61K\n",
              "279     46K\n",
              "280     67K\n",
              "281    115K\n",
              "282     84K\n",
              "283    140K\n",
              "284    115K\n",
              "285     50K\n",
              "286      1K\n",
              "287     77K\n",
              "288      1K\n",
              "289    130K\n",
              "290     99K\n",
              "291     73K\n",
              "292    125K\n",
              "293     15K\n",
              "294    120K\n",
              "295     22K\n",
              "296    125K\n",
              "297     45K\n",
              "298     59K\n",
              "299     18K\n",
              "Name: Wage, Length: 300, dtype: object"
            ]
          },
          "metadata": {
            "tags": []
          },
          "execution_count": 45
        }
      ]
    },
    {
      "cell_type": "code",
      "metadata": {
        "colab_type": "code",
        "id": "idJqM9A7X3Ah",
        "outputId": "d7fd118b-b6f3-4230-916d-82f95f21f011",
        "colab": {
          "base_uri": "https://localhost:8080/",
          "height": 1000
        }
      },
      "source": [
        "for number in enumerate(x_features['Wage'].astype('str')):\n",
        "  if number[1][-1] == 'K':\n",
        "    x = number[1].replace(\"K\", '')\n",
        "    x_features['Wage'][number[0]] = float(x)/1000\n",
        "print(x_features['Wage'])"
      ],
      "execution_count": 0,
      "outputs": [
        {
          "output_type": "stream",
          "text": [
            "0      5.65e-07\n",
            "1      4.05e-07\n",
            "2       2.9e-07\n",
            "3       2.6e-07\n",
            "4      3.55e-07\n",
            "5       3.4e-07\n",
            "6       4.2e-07\n",
            "7      4.55e-07\n",
            "8       3.8e-07\n",
            "9       9.4e-08\n",
            "10     2.05e-07\n",
            "11     3.55e-07\n",
            "12     1.25e-07\n",
            "13     2.85e-07\n",
            "14     2.25e-07\n",
            "15     2.05e-07\n",
            "16     2.05e-07\n",
            "17     1.45e-07\n",
            "18      2.4e-07\n",
            "19      2.4e-07\n",
            "20     3.15e-07\n",
            "21        2e-07\n",
            "22      1.3e-07\n",
            "23        3e-07\n",
            "24     2.15e-07\n",
            "25        1e-07\n",
            "26     2.55e-07\n",
            "27     2.85e-07\n",
            "28     3.15e-07\n",
            "29     1.65e-07\n",
            "         ...   \n",
            "270       0.078\n",
            "271       0.067\n",
            "272       0.031\n",
            "273       0.032\n",
            "274       0.019\n",
            "275       0.044\n",
            "276       0.001\n",
            "277       0.043\n",
            "278       0.061\n",
            "279       0.046\n",
            "280       0.067\n",
            "281       0.115\n",
            "282       0.084\n",
            "283        0.14\n",
            "284       0.115\n",
            "285        0.05\n",
            "286       0.001\n",
            "287       0.077\n",
            "288       0.001\n",
            "289        0.13\n",
            "290       0.099\n",
            "291       0.073\n",
            "292       0.125\n",
            "293       0.015\n",
            "294        0.12\n",
            "295       0.022\n",
            "296       0.125\n",
            "297       0.045\n",
            "298       0.059\n",
            "299       0.018\n",
            "Name: Wage, Length: 300, dtype: object\n"
          ],
          "name": "stdout"
        }
      ]
    },
    {
      "cell_type": "code",
      "metadata": {
        "colab_type": "code",
        "id": "q4u0ZhIIVVrq",
        "outputId": "fd4dca5c-a574-416d-926c-23292e8417ab",
        "colab": {
          "base_uri": "https://localhost:8080/",
          "height": 108
        }
      },
      "source": [
        "x_features['GKHandling'].fillna(np.mean(x_features['GKHandling']),inplace=True)\n",
        "x_features['SprintSpeed'].fillna(np.mean(x_features['GKHandling']),inplace=True)\n",
        "x_features['Agility'].fillna(np.mean(x_features['GKHandling']),inplace=True)\n",
        "x_features['GKHandling'].fillna(np.mean(x_features['GKHandling']),inplace=True)"
      ],
      "execution_count": 0,
      "outputs": [
        {
          "output_type": "stream",
          "text": [
            "/usr/local/lib/python3.6/dist-packages/pandas/core/generic.py:6130: SettingWithCopyWarning: \n",
            "A value is trying to be set on a copy of a slice from a DataFrame\n",
            "\n",
            "See the caveats in the documentation: http://pandas.pydata.org/pandas-docs/stable/indexing.html#indexing-view-versus-copy\n",
            "  self._update_inplace(new_data)\n"
          ],
          "name": "stderr"
        }
      ]
    },
    {
      "cell_type": "code",
      "metadata": {
        "colab_type": "code",
        "id": "AdjU3rHtG9uf",
        "outputId": "ba7acd9d-55ae-4acb-a924-7a76a2dc63e2",
        "colab": {
          "base_uri": "https://localhost:8080/",
          "height": 288
        }
      },
      "source": [
        "x_features.describe()"
      ],
      "execution_count": 0,
      "outputs": [
        {
          "output_type": "execute_result",
          "data": {
            "text/html": [
              "<div>\n",
              "<style scoped>\n",
              "    .dataframe tbody tr th:only-of-type {\n",
              "        vertical-align: middle;\n",
              "    }\n",
              "\n",
              "    .dataframe tbody tr th {\n",
              "        vertical-align: top;\n",
              "    }\n",
              "\n",
              "    .dataframe thead th {\n",
              "        text-align: right;\n",
              "    }\n",
              "</style>\n",
              "<table border=\"1\" class=\"dataframe\">\n",
              "  <thead>\n",
              "    <tr style=\"text-align: right;\">\n",
              "      <th></th>\n",
              "      <th>Age</th>\n",
              "      <th>Potential</th>\n",
              "      <th>BallControl</th>\n",
              "      <th>SprintSpeed</th>\n",
              "      <th>Agility</th>\n",
              "      <th>GKHandling</th>\n",
              "    </tr>\n",
              "  </thead>\n",
              "  <tbody>\n",
              "    <tr>\n",
              "      <th>count</th>\n",
              "      <td>300.000000</td>\n",
              "      <td>300.000000</td>\n",
              "      <td>300.000000</td>\n",
              "      <td>300.000000</td>\n",
              "      <td>300.000000</td>\n",
              "      <td>300.000000</td>\n",
              "    </tr>\n",
              "    <tr>\n",
              "      <th>mean</th>\n",
              "      <td>27.430000</td>\n",
              "      <td>86.123333</td>\n",
              "      <td>74.033333</td>\n",
              "      <td>71.926667</td>\n",
              "      <td>71.566667</td>\n",
              "      <td>19.703333</td>\n",
              "    </tr>\n",
              "    <tr>\n",
              "      <th>std</th>\n",
              "      <td>3.507055</td>\n",
              "      <td>3.008592</td>\n",
              "      <td>20.806777</td>\n",
              "      <td>12.999407</td>\n",
              "      <td>15.175635</td>\n",
              "      <td>24.434103</td>\n",
              "    </tr>\n",
              "    <tr>\n",
              "      <th>min</th>\n",
              "      <td>18.000000</td>\n",
              "      <td>82.000000</td>\n",
              "      <td>14.000000</td>\n",
              "      <td>33.000000</td>\n",
              "      <td>32.000000</td>\n",
              "      <td>2.000000</td>\n",
              "    </tr>\n",
              "    <tr>\n",
              "      <th>25%</th>\n",
              "      <td>25.000000</td>\n",
              "      <td>84.000000</td>\n",
              "      <td>73.000000</td>\n",
              "      <td>64.000000</td>\n",
              "      <td>61.000000</td>\n",
              "      <td>8.000000</td>\n",
              "    </tr>\n",
              "    <tr>\n",
              "      <th>50%</th>\n",
              "      <td>27.000000</td>\n",
              "      <td>86.000000</td>\n",
              "      <td>82.000000</td>\n",
              "      <td>73.000000</td>\n",
              "      <td>75.000000</td>\n",
              "      <td>11.000000</td>\n",
              "    </tr>\n",
              "    <tr>\n",
              "      <th>75%</th>\n",
              "      <td>30.000000</td>\n",
              "      <td>88.000000</td>\n",
              "      <td>85.250000</td>\n",
              "      <td>82.000000</td>\n",
              "      <td>84.000000</td>\n",
              "      <td>14.000000</td>\n",
              "    </tr>\n",
              "    <tr>\n",
              "      <th>max</th>\n",
              "      <td>40.000000</td>\n",
              "      <td>95.000000</td>\n",
              "      <td>96.000000</td>\n",
              "      <td>96.000000</td>\n",
              "      <td>96.000000</td>\n",
              "      <td>92.000000</td>\n",
              "    </tr>\n",
              "  </tbody>\n",
              "</table>\n",
              "</div>"
            ],
            "text/plain": [
              "              Age   Potential  BallControl  SprintSpeed     Agility  GKHandling\n",
              "count  300.000000  300.000000   300.000000   300.000000  300.000000  300.000000\n",
              "mean    27.430000   86.123333    74.033333    71.926667   71.566667   19.703333\n",
              "std      3.507055    3.008592    20.806777    12.999407   15.175635   24.434103\n",
              "min     18.000000   82.000000    14.000000    33.000000   32.000000    2.000000\n",
              "25%     25.000000   84.000000    73.000000    64.000000   61.000000    8.000000\n",
              "50%     27.000000   86.000000    82.000000    73.000000   75.000000   11.000000\n",
              "75%     30.000000   88.000000    85.250000    82.000000   84.000000   14.000000\n",
              "max     40.000000   95.000000    96.000000    96.000000   96.000000   92.000000"
            ]
          },
          "metadata": {
            "tags": []
          },
          "execution_count": 52
        }
      ]
    },
    {
      "cell_type": "markdown",
      "metadata": {
        "id": "pnXTT1dLIaNc",
        "colab_type": "text"
      },
      "source": [
        "## Cancerous replacement for the symbols in our y values."
      ]
    },
    {
      "cell_type": "code",
      "metadata": {
        "colab_type": "code",
        "id": "Yw3azpilWOBU",
        "colab": {}
      },
      "source": [
        "y=y.str.replace(\"€\",'')\n",
        "y=y.str.replace(\"M\",'')"
      ],
      "execution_count": 0,
      "outputs": []
    },
    {
      "cell_type": "code",
      "metadata": {
        "colab_type": "code",
        "id": "4QAiHO9SIjoN",
        "outputId": "0f40fc40-b259-4343-dbe7-733e4344e0f6",
        "colab": {
          "base_uri": "https://localhost:8080/",
          "height": 1000
        }
      },
      "source": [
        "for number in enumerate(y.astype('str')):\n",
        "    if number[1].find('K') != -1:\n",
        "        x= number[1].replace(\"K\", '')\n",
        "        y[number[0]] = float(x)/1000\n",
        "print(y)"
      ],
      "execution_count": 0,
      "outputs": [
        {
          "output_type": "stream",
          "text": [
            "0      226.5\n",
            "1      127.1\n",
            "2      228.1\n",
            "3      138.6\n",
            "4      196.4\n",
            "5      172.1\n",
            "6      137.4\n",
            "7        164\n",
            "8      104.6\n",
            "9      144.5\n",
            "10     127.1\n",
            "11     156.8\n",
            "12      90.2\n",
            "13       111\n",
            "14     121.3\n",
            "15     153.5\n",
            "16     160.7\n",
            "17     165.8\n",
            "18     123.3\n",
            "19     113.7\n",
            "20     105.6\n",
            "21       111\n",
            "22      62.7\n",
            "23     119.3\n",
            "24      44.6\n",
            "25     166.1\n",
            "26     137.3\n",
            "27     126.4\n",
            "28       NaN\n",
            "29     105.4\n",
            "       ...  \n",
            "270     56.3\n",
            "271     50.6\n",
            "272     49.5\n",
            "273     45.7\n",
            "274     43.6\n",
            "275     57.6\n",
            "276     40.7\n",
            "277     42.4\n",
            "278     38.2\n",
            "279     34.6\n",
            "280     47.9\n",
            "281     44.4\n",
            "282     36.6\n",
            "283     38.9\n",
            "284     37.4\n",
            "285     32.8\n",
            "286     44.1\n",
            "287     28.9\n",
            "288     44.1\n",
            "289     49.4\n",
            "290     34.2\n",
            "291     21.3\n",
            "292     42.8\n",
            "293       30\n",
            "294     41.8\n",
            "295     45.2\n",
            "296     34.2\n",
            "297     36.6\n",
            "298     15.3\n",
            "299       34\n",
            "Name: Release Clause, Length: 300, dtype: object\n"
          ],
          "name": "stdout"
        }
      ]
    },
    {
      "cell_type": "code",
      "metadata": {
        "colab_type": "code",
        "id": "ukCfCdKaP3XB",
        "outputId": "f1401cf8-a007-4bd5-d0ee-081606121167",
        "colab": {
          "base_uri": "https://localhost:8080/",
          "height": 1000
        }
      },
      "source": [
        "y=y.astype('float')\n",
        "y.describe()\n",
        "\n",
        "y.fillna(np.mean(y),inplace=True)\n",
        "y"
      ],
      "execution_count": 0,
      "outputs": [
        {
          "output_type": "execute_result",
          "data": {
            "text/plain": [
              "0      226.500000\n",
              "1      127.100000\n",
              "2      228.100000\n",
              "3      138.600000\n",
              "4      196.400000\n",
              "5      172.100000\n",
              "6      137.400000\n",
              "7      164.000000\n",
              "8      104.600000\n",
              "9      144.500000\n",
              "10     127.100000\n",
              "11     156.800000\n",
              "12      90.200000\n",
              "13     111.000000\n",
              "14     121.300000\n",
              "15     153.500000\n",
              "16     160.700000\n",
              "17     165.800000\n",
              "18     123.300000\n",
              "19     113.700000\n",
              "20     105.600000\n",
              "21     111.000000\n",
              "22      62.700000\n",
              "23     119.300000\n",
              "24      44.600000\n",
              "25     166.100000\n",
              "26     137.300000\n",
              "27     126.400000\n",
              "28      64.930847\n",
              "29     105.400000\n",
              "          ...    \n",
              "270     56.300000\n",
              "271     50.600000\n",
              "272     49.500000\n",
              "273     45.700000\n",
              "274     43.600000\n",
              "275     57.600000\n",
              "276     40.700000\n",
              "277     42.400000\n",
              "278     38.200000\n",
              "279     34.600000\n",
              "280     47.900000\n",
              "281     44.400000\n",
              "282     36.600000\n",
              "283     38.900000\n",
              "284     37.400000\n",
              "285     32.800000\n",
              "286     44.100000\n",
              "287     28.900000\n",
              "288     44.100000\n",
              "289     49.400000\n",
              "290     34.200000\n",
              "291     21.300000\n",
              "292     42.800000\n",
              "293     30.000000\n",
              "294     41.800000\n",
              "295     45.200000\n",
              "296     34.200000\n",
              "297     36.600000\n",
              "298     15.300000\n",
              "299     34.000000\n",
              "Name: Release Clause, Length: 300, dtype: float64"
            ]
          },
          "metadata": {
            "tags": []
          },
          "execution_count": 57
        }
      ]
    },
    {
      "cell_type": "markdown",
      "metadata": {
        "id": "9Q3USGmHITD_",
        "colab_type": "text"
      },
      "source": [
        "### Rip - attempt to fix in roundabout way"
      ]
    },
    {
      "cell_type": "code",
      "metadata": {
        "colab_type": "code",
        "id": "aXDJZMf6Bvu9",
        "colab": {}
      },
      "source": [
        "y = data1['Release Clause']\n",
        "y_fixed = []\n",
        "\n",
        "y = y.astype(str)\n",
        "\n",
        "for number in y:\n",
        "  for digit in range(len(number)):\n",
        "      new_number = ''\n",
        "      \n",
        "      if number[digit]!='€':\n",
        "        new_number += number[digit]\n",
        "        \n",
        "  if new_number[-1]=='M':\n",
        "    newnew_number = ''\n",
        "    for newdigit in new_number:\n",
        "      if newdigit!='M':\n",
        "        newnew_number+=newdigit\n",
        "    print(newnew_number)\n",
        "    #new_number = float(newnew_number)*1000000\n",
        "\n",
        "  elif new_number[-1]!='K':\n",
        "    newnew_number = ''\n",
        "    for newdigit in new_number:\n",
        "      if newdigit!='K':\n",
        "        newnew_number+=newdigit\n",
        "    print(newnew_number)\n",
        "    #new_number = float(newnew_number)*1000\n",
        "\n",
        "  y_fixed.append(new_number)\n",
        "  print(new_number)\n",
        "      \n",
        "print(y)\n",
        "      \n",
        "      #if number[digit]==('€'):\n",
        "        #number.replace('€','')\n",
        "        #print(number)\n",
        "        "
      ],
      "execution_count": 0,
      "outputs": []
    },
    {
      "cell_type": "code",
      "metadata": {
        "colab_type": "code",
        "id": "HX5C2MFVKJ1i",
        "colab": {}
      },
      "source": [
        "y = data1['Release Clause']\n",
        "temp_wordlist = []\n",
        "\n",
        "for word in y:\n",
        "  #the element\n",
        "  print('\\n\\n',word)\n",
        "  \n",
        "  #Store each letter in the word\n",
        "  letters = []\n",
        "  \n",
        "  for x in range(len(word)):\n",
        "    if word[x]==('€'):\n",
        "      letters.append(word[x])\n",
        "    \n",
        "  new_word = ''\n",
        "  for y in letters:\n",
        "    new_word += str(y)\n",
        "  \n",
        "  #Convert to millions\n",
        "  \n",
        "  new_word = (float(new_word))*1000000\n",
        "  \n",
        "  temp_wordlist.append(new_word)\n",
        "  \n",
        "  letters.clear()\n",
        "  print(new_word)\n",
        "\n",
        "temp_wordlist\n",
        "#y.clear()\n",
        "#y.append(temp_wordlist)\n"
      ],
      "execution_count": 0,
      "outputs": []
    },
    {
      "cell_type": "code",
      "metadata": {
        "colab_type": "code",
        "id": "uhV2sKz6H7yl",
        "colab": {}
      },
      "source": [
        "import sklearn.model_selection as ms\n",
        "from sklearn.tree import DecisionTreeRegressor as dtr"
      ],
      "execution_count": 0,
      "outputs": []
    },
    {
      "cell_type": "markdown",
      "metadata": {
        "id": "g5k34y85IPH9",
        "colab_type": "text"
      },
      "source": [
        "## Split into test and train"
      ]
    },
    {
      "cell_type": "code",
      "metadata": {
        "colab_type": "code",
        "id": "6_2EySHbHtHb",
        "colab": {}
      },
      "source": [
        "x_train, x_test, y_train, y_test = ms.train_test_split(x_features,y,test_size=0.3)"
      ],
      "execution_count": 0,
      "outputs": []
    },
    {
      "cell_type": "markdown",
      "metadata": {
        "id": "mpqkeKKrII88",
        "colab_type": "text"
      },
      "source": [
        "## Fitting all 3 models with different criterion with training data"
      ]
    },
    {
      "cell_type": "code",
      "metadata": {
        "colab_type": "code",
        "id": "_CrjjvzFIL72",
        "outputId": "48c36208-545a-42d0-dbeb-e6006cc0f1c8",
        "colab": {
          "base_uri": "https://localhost:8080/",
          "height": 108
        }
      },
      "source": [
        "model_a = dtr(criterion='mse',max_depth=3)\n",
        "model_b = dtr(criterion='mae',max_depth=5)\n",
        "model_c = dtr(criterion='friedman_mse',max_depth=5)\n",
        "\n",
        "model_a.fit(x_train,y_train)\n",
        "model_b.fit(x_train,y_train)\n",
        "model_c.fit(x_train,y_train)"
      ],
      "execution_count": 0,
      "outputs": [
        {
          "output_type": "execute_result",
          "data": {
            "text/plain": [
              "DecisionTreeRegressor(criterion='friedman_mse', max_depth=5, max_features=None,\n",
              "                      max_leaf_nodes=None, min_impurity_decrease=0.0,\n",
              "                      min_impurity_split=None, min_samples_leaf=1,\n",
              "                      min_samples_split=2, min_weight_fraction_leaf=0.0,\n",
              "                      presort=False, random_state=None, splitter='best')"
            ]
          },
          "metadata": {
            "tags": []
          },
          "execution_count": 78
        }
      ]
    },
    {
      "cell_type": "code",
      "metadata": {
        "colab_type": "code",
        "id": "2bzm2d5xSfgt",
        "outputId": "36b208bd-671c-4803-b33e-03580c57d407",
        "colab": {
          "base_uri": "https://localhost:8080/",
          "height": 534
        }
      },
      "source": [
        "from sklearn.externals.six import StringIO  \n",
        "from IPython.display import Image\n",
        "from sklearn.tree import export_graphviz\n",
        "import pydotplus\n",
        "\n",
        "dot_data = StringIO()\n",
        "export_graphviz(model_a, out_file=dot_data,  \n",
        "                filled=True, rounded=True,\n",
        "                special_characters=True,\n",
        "               feature_names=x_train.columns)\n",
        "graph = pydotplus.graph_from_dot_data(dot_data.getvalue())  \n",
        "Image(graph.create_png())"
      ],
      "execution_count": 0,
      "outputs": [
        {
          "output_type": "execute_result",
          "data": {
            "image/png": "[encoded data removed]",
            "text/plain": [
              "<IPython.core.display.Image object>"
            ]
          },
          "metadata": {
            "tags": []
          },
          "execution_count": 79
        }
      ]
    },
    {
      "cell_type": "code",
      "metadata": {
        "colab_type": "code",
        "id": "52Rl79vWSUmY",
        "colab": {}
      },
      "source": [
        "from sklearn.externals.six import StringIO  \n",
        "from IPython.display import Image\n",
        "from sklearn.tree import export_graphviz\n",
        "import pydotplus\n",
        "\n",
        "dot_data = StringIO()\n",
        "export_graphviz(model_b, out_file=dot_data,  \n",
        "                filled=True, rounded=True,\n",
        "                special_characters=True,\n",
        "               feature_names=x_train.columns)\n",
        "graph = pydotplus.graph_from_dot_data(dot_data.getvalue())  \n",
        "Image(graph.create_png())"
      ],
      "execution_count": 0,
      "outputs": []
    },
    {
      "cell_type": "code",
      "metadata": {
        "id": "APjlKyiwGYWZ",
        "colab_type": "code",
        "colab": {}
      },
      "source": [
        "from sklearn.externals.six import StringIO  \n",
        "from IPython.display import Image\n",
        "from sklearn.tree import export_graphviz\n",
        "import pydotplus\n",
        "\n",
        "dot_data = StringIO()\n",
        "export_graphviz(model_c, out_file=dot_data,  \n",
        "                filled=True, rounded=True,\n",
        "                special_characters=True,\n",
        "               feature_names=x_train.columns)\n",
        "graph = pydotplus.graph_from_dot_data(dot_data.getvalue())  \n",
        "Image(graph.create_png())"
      ],
      "execution_count": 0,
      "outputs": []
    },
    {
      "cell_type": "code",
      "metadata": {
        "id": "WOgjcnQ_Gu57",
        "colab_type": "code",
        "outputId": "14e67512-e33a-4445-e1f1-c6b68dc34e0c",
        "colab": {
          "base_uri": "https://localhost:8080/",
          "height": 35
        }
      },
      "source": [
        "print(model_a.score(x_test,y_test),\n",
        "      model_b.score(x_test,y_test),\n",
        "      model_c.score(x_test,y_test))"
      ],
      "execution_count": 0,
      "outputs": [
        {
          "output_type": "stream",
          "text": [
            "0.705067059074951 0.6327587308637717 0.6542789290215498\n"
          ],
          "name": "stdout"
        }
      ]
    },
    {
      "cell_type": "markdown",
      "metadata": {
        "id": "iYF1W5x1Hb8i",
        "colab_type": "text"
      },
      "source": [
        "# Mse criterion has the best score out of the three."
      ]
    },
    {
      "cell_type": "code",
      "metadata": {
        "id": "b6Jt6j89IHJg",
        "colab_type": "code",
        "colab": {}
      },
      "source": [
        ""
      ],
      "execution_count": 0,
      "outputs": []
    }
  ]
}