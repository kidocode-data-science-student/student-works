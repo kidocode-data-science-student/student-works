{
 "cells": [
  {
   "cell_type": "code",
   "execution_count": 5,
   "metadata": {},
   "outputs": [],
   "source": [
    "import scipy.stats as st\n",
    "from matplotlib import pyplot as plt\n",
    "import numpy as np"
   ]
  },
  {
   "cell_type": "code",
   "execution_count": 15,
   "metadata": {},
   "outputs": [
    {
     "name": "stdout",
     "output_type": "stream",
     "text": [
      "0.25842754303315896\n",
      "0.25842754303315896\n"
     ]
    }
   ],
   "source": [
    "#1\n",
    "import math\n",
    "lmbda = 1.6\n",
    "x = 2\n",
    "P = (math.exp(-lmbda)*(lmbda**x))/math.factorial(x)\n",
    "P2 = st.poisson.pmf(mu=lmbda,k=2)\n",
    "\n",
    "print(P)\n",
    "print(P2)"
   ]
  },
  {
   "cell_type": "code",
   "execution_count": 26,
   "metadata": {},
   "outputs": [
    {
     "name": "stdout",
     "output_type": "stream",
     "text": [
      "29.0\n"
     ]
    }
   ],
   "source": [
    "power=lambda x,y,z : x**2+y*2*z/2\n",
    "print(power(3,5,4))\n"
   ]
  },
  {
   "cell_type": "code",
   "execution_count": 27,
   "metadata": {},
   "outputs": [
    {
     "name": "stdout",
     "output_type": "stream",
     "text": [
      "Probability of each x [0.20189651799465538, 0.3230344287914486, 0.25842754303315896]\n",
      "\n",
      "Answer= 0.21664151018073707\n"
     ]
    }
   ],
   "source": [
    "#2\n",
    "import math\n",
    "lmbda = 1.6\n",
    "x = [0,1,2]\n",
    "prob = []\n",
    "for i in range(len(x)):\n",
    "    P = (math.exp(-lmbda)*(lmbda**i))/math.factorial(i)\n",
    "    prob.append(P)\n",
    "print (\"Probability of each x \"+str(prob)+\"\\n\")\n",
    "probSum = sum(prob)\n",
    "answer = 1-probSum\n",
    "print (\"Answer= \"+str(answer))"
   ]
  },
  {
   "cell_type": "code",
   "execution_count": 31,
   "metadata": {},
   "outputs": [
    {
     "data": {
      "text/plain": [
       "array([0.20189652, 0.32303443, 0.25842754])"
      ]
     },
     "execution_count": 31,
     "metadata": {},
     "output_type": "execute_result"
    }
   ],
   "source": [
    "x=range(0,3)\n",
    "st.poisson.pmf(k=x,mu=1.6)"
   ]
  },
  {
   "cell_type": "code",
   "execution_count": 40,
   "metadata": {},
   "outputs": [
    {
     "data": {
      "image/png": "[encoded data removed]",
      "text/plain": [
       "<Figure size 576x432 with 1 Axes>"
      ]
     },
     "metadata": {
      "needs_background": "light"
     },
     "output_type": "display_data"
    }
   ],
   "source": [
    "import numpy as np\n",
    "from scipy.stats import poisson\n",
    "from matplotlib import pyplot as plt\n",
    "\n",
    "fig, ax = plt.subplots(figsize=(8, 6))\n",
    "\n",
    "dist = poisson(mu=1.6)\n",
    "x = np.arange(0,11.0)\n",
    "\n",
    "#plt.plot(x, dist.pmf(x),drawstyle = 'steps-mid')\n",
    "#plt.plot(x, dist.pmf(x))\n",
    "plt.bar(x,dist.pmf(x),width=0.05)\n",
    "plt.show()"
   ]
  },
  {
   "cell_type": "code",
   "execution_count": 44,
   "metadata": {
    "scrolled": true
   },
   "outputs": [
    {
     "data": {
      "image/png": "[encoded data removed]",
      "text/plain": [
       "<Figure size 720x504 with 1 Axes>"
      ]
     },
     "metadata": {
      "needs_background": "light"
     },
     "output_type": "display_data"
    }
   ],
   "source": [
    "import numpy as np\n",
    "from scipy.stats import poisson\n",
    "from matplotlib import pyplot as plt\n",
    "from matplotlib import ticker as ticker\n",
    "\n",
    "\n",
    "mu_values = [1.6, 4.8] \n",
    "linestyles = ['-.', '-'] \n",
    "colors = ['blue', 'red']\n",
    "\n",
    "\n",
    "fig, ax = plt.subplots(figsize=(10, 7))\n",
    "\n",
    "for mu, linestyles, colors in zip(mu_values, linestyles, colors):\n",
    "\n",
    "    dist = poisson(mu)\n",
    "    x = np.arange(0, 11.0)\n",
    "\n",
    "    plt.plot(x, dist.cdf(x), ls = linestyles, color= colors, label=r'$\\mu=%0.1f$' % mu, drawstyle = 'steps-mid')\n",
    "    #The change is over here at the plt.plot (dist.cdf)\n",
    "\n",
    "\n",
    "plt.xticks(np.arange(min(x), max(x)+1, 0.5))\n",
    "\n",
    "#ax.yaxis.set_major_formatter(ticker.FormatStrFormatter('%0.2f'))\n",
    "\n",
    "\n",
    "plt.yticks(np.arange(min(x), max(x)+1, 0.05)) \n",
    "\n",
    "    \n",
    "plt.xlim(0, 11) \n",
    "plt.ylim(0, 1.0)\n",
    "\n",
    "plt.xlabel('$x$')\n",
    "plt.ylabel(r'$p(x|\\mu)$')\n",
    "plt.title('Poisson Distribution') \n",
    "\n",
    "plt.legend()\n",
    "plt.show()"
   ]
  },
  {
   "cell_type": "markdown",
   "metadata": {},
   "source": [
    "# Practice\n"
   ]
  },
  {
   "cell_type": "code",
   "execution_count": 12,
   "metadata": {},
   "outputs": [],
   "source": [
    "def pmffunc(lmbda,x):\n",
    "    return(st.poisson.pmf(mu=lmbda,k=x))"
   ]
  },
  {
   "cell_type": "markdown",
   "metadata": {},
   "source": [
    "Questions 1,2,3"
   ]
  },
  {
   "cell_type": "code",
   "execution_count": 46,
   "metadata": {},
   "outputs": [
    {
     "name": "stdout",
     "output_type": "stream",
     "text": [
      "Probality that there are 5 amoebas: 0.1562934518505317\n"
     ]
    }
   ],
   "source": [
    "lmbda = 4\n",
    "\n",
    "print(\"Probality that there are 5 amoebas:\",st.poisson.pmf(mu=lmbda, k=5))"
   ]
  },
  {
   "cell_type": "code",
   "execution_count": 47,
   "metadata": {},
   "outputs": [
    {
     "name": "stdout",
     "output_type": "stream",
     "text": [
      "Probality that there are 0 amoebas: 0.01831563888873418\n"
     ]
    }
   ],
   "source": [
    "lmbda = 4\n",
    "\n",
    "print(\"Probality that there are 0 amoebas:\",st.poisson.pmf(mu=lmbda, k=0))"
   ]
  },
  {
   "cell_type": "code",
   "execution_count": 49,
   "metadata": {},
   "outputs": [
    {
     "name": "stdout",
     "output_type": "stream",
     "text": [
      "Probality that there are 5 amoebas: 0.566529879633291\n"
     ]
    }
   ],
   "source": [
    "lmbda = 4\n",
    "\n",
    "print(\"Probality that there are 5 amoebas:\",1-st.poisson.cdf(mu=lmbda, k=3))"
   ]
  },
  {
   "cell_type": "markdown",
   "metadata": {},
   "source": [
    "Questions 4,5,6"
   ]
  },
  {
   "cell_type": "code",
   "execution_count": 59,
   "metadata": {},
   "outputs": [
    {
     "name": "stdout",
     "output_type": "stream",
     "text": [
      "Probality that there are 0 clicks: 0.006737946999085467\n"
     ]
    }
   ],
   "source": [
    "lmbda = 5\n",
    "x = 0\n",
    "\n",
    "print(f\"Probality that there are {x} clicks:\",pmffunc(lmbda,x))"
   ]
  },
  {
   "cell_type": "code",
   "execution_count": 60,
   "metadata": {},
   "outputs": [
    {
     "name": "stdout",
     "output_type": "stream",
     "text": [
      "Probality that there are 10 clicks: 0.018132788707821854\n"
     ]
    }
   ],
   "source": [
    "lmbda = 5\n",
    "x = 10\n",
    "print(f\"Probality that there are {x} clicks:\",pmffunc(lmbda,x))"
   ]
  },
  {
   "cell_type": "code",
   "execution_count": 75,
   "metadata": {},
   "outputs": [
    {
     "name": "stdout",
     "output_type": "stream",
     "text": [
      "Probality that 1 click(s) happen per minute: 0.03368973499542734\n",
      "Probality that 2 click(s) happen per minute: 0.08422433748856832\n",
      "Probality that 3 click(s) happen per minute: 0.1403738958142805\n",
      "Probality that 4 click(s) happen per minute: 0.17546736976785063\n",
      "Probality that 5 click(s) happen per minute: 0.17546736976785068\n",
      "Probality that 6 click(s) happen per minute: 0.1462228081398754\n",
      "Probality that 7 click(s) happen per minute: 0.10444486295705395\n",
      "Probality that 8 click(s) happen per minute: 0.06527803934815865\n",
      "Probality that 9 click(s) happen per minute: 0.036265577415643714\n",
      "Probality that 10 click(s) happen per minute: 0.018132788707821854\n",
      "Probality that 11 click(s) happen per minute: 0.008242176685373562\n",
      "Probality that 12 click(s) happen per minute: 0.0034342402855723226\n",
      "Probality that 13 click(s) happen per minute: 0.0013208616482970467\n",
      "Probality that 14 click(s) happen per minute: 0.0004717363029632305\n",
      "Probality that 15 click(s) happen per minute: 0.00015724543432107664\n"
     ]
    }
   ],
   "source": [
    "lmbda = 5\n",
    "\n",
    "problist = []\n",
    "for i in range(1,16):\n",
    "    problist.append(pmffunc(lmbda,i))\n",
    "    print(f\"Probality that {i} click(s) happen per minute: {pmffunc(lmbda,i)}\")\n",
    "\n",
    "#plt.bar(problist,range(1,16),width=0.01)"
   ]
  },
  {
   "cell_type": "code",
   "execution_count": 77,
   "metadata": {},
   "outputs": [
    {
     "data": {
      "text/plain": [
       "(array([3., 1., 0., 0., 1., 0., 0., 0., 0., 0., 1., 0., 0., 0., 0., 0., 0.,\n",
       "        0., 0., 1., 1., 0., 0., 0., 0., 0., 0., 0., 0., 0., 0., 0., 0., 0.,\n",
       "        0., 0., 0., 1., 0., 0., 0., 0., 0., 0., 0., 0., 0., 1., 0., 0., 0.,\n",
       "        0., 0., 0., 0., 0., 0., 0., 0., 1., 0., 0., 0., 0., 0., 0., 0., 0.,\n",
       "        0., 0., 0., 0., 0., 0., 0., 0., 0., 0., 0., 1., 0., 0., 0., 1., 0.,\n",
       "        0., 0., 0., 0., 0., 0., 0., 0., 0., 0., 0., 0., 0., 0., 2.]),\n",
       " array([1.57245434e-04, 1.91034668e-03, 3.66344792e-03, 5.41654916e-03,\n",
       "        7.16965041e-03, 8.92275165e-03, 1.06758529e-02, 1.24289541e-02,\n",
       "        1.41820554e-02, 1.59351566e-02, 1.76882579e-02, 1.94413591e-02,\n",
       "        2.11944604e-02, 2.29475616e-02, 2.47006628e-02, 2.64537641e-02,\n",
       "        2.82068653e-02, 2.99599666e-02, 3.17130678e-02, 3.34661691e-02,\n",
       "        3.52192703e-02, 3.69723715e-02, 3.87254728e-02, 4.04785740e-02,\n",
       "        4.22316753e-02, 4.39847765e-02, 4.57378778e-02, 4.74909790e-02,\n",
       "        4.92440802e-02, 5.09971815e-02, 5.27502827e-02, 5.45033840e-02,\n",
       "        5.62564852e-02, 5.80095865e-02, 5.97626877e-02, 6.15157890e-02,\n",
       "        6.32688902e-02, 6.50219914e-02, 6.67750927e-02, 6.85281939e-02,\n",
       "        7.02812952e-02, 7.20343964e-02, 7.37874977e-02, 7.55405989e-02,\n",
       "        7.72937001e-02, 7.90468014e-02, 8.07999026e-02, 8.25530039e-02,\n",
       "        8.43061051e-02, 8.60592064e-02, 8.78123076e-02, 8.95654088e-02,\n",
       "        9.13185101e-02, 9.30716113e-02, 9.48247126e-02, 9.65778138e-02,\n",
       "        9.83309151e-02, 1.00084016e-01, 1.01837118e-01, 1.03590219e-01,\n",
       "        1.05343320e-01, 1.07096421e-01, 1.08849523e-01, 1.10602624e-01,\n",
       "        1.12355725e-01, 1.14108826e-01, 1.15861927e-01, 1.17615029e-01,\n",
       "        1.19368130e-01, 1.21121231e-01, 1.22874332e-01, 1.24627434e-01,\n",
       "        1.26380535e-01, 1.28133636e-01, 1.29886737e-01, 1.31639839e-01,\n",
       "        1.33392940e-01, 1.35146041e-01, 1.36899142e-01, 1.38652244e-01,\n",
       "        1.40405345e-01, 1.42158446e-01, 1.43911547e-01, 1.45664649e-01,\n",
       "        1.47417750e-01, 1.49170851e-01, 1.50923952e-01, 1.52677054e-01,\n",
       "        1.54430155e-01, 1.56183256e-01, 1.57936357e-01, 1.59689459e-01,\n",
       "        1.61442560e-01, 1.63195661e-01, 1.64948762e-01, 1.66701864e-01,\n",
       "        1.68454965e-01, 1.70208066e-01, 1.71961167e-01, 1.73714269e-01,\n",
       "        1.75467370e-01]),\n",
       " <a list of 100 Patch objects>)"
      ]
     },
     "execution_count": 77,
     "metadata": {},
     "output_type": "execute_result"
    },
    {
     "data": {
      "image/png": "[encoded data removed]",
      "text/plain": [
       "<Figure size 432x288 with 1 Axes>"
      ]
     },
     "metadata": {
      "needs_background": "light"
     },
     "output_type": "display_data"
    }
   ],
   "source": [
    "plt.hist(problist,100)"
   ]
  },
  {
   "cell_type": "markdown",
   "metadata": {},
   "source": [
    "Question 7,8,9"
   ]
  },
  {
   "cell_type": "code",
   "execution_count": 82,
   "metadata": {},
   "outputs": [
    {
     "name": "stdout",
     "output_type": "stream",
     "text": [
      "The probality of 10 sold in 7 days is: 0.07098326865041356\n"
     ]
    }
   ],
   "source": [
    "lmbda = 7 #1 per day, 7 per week\n",
    "x = 10\n",
    "\n",
    "print(f\"The probality of 10 sold in 7 days is: {pmffunc(lmbda,x)}\")"
   ]
  },
  {
   "cell_type": "code",
   "execution_count": 83,
   "metadata": {},
   "outputs": [
    {
     "name": "stdout",
     "output_type": "stream",
     "text": [
      "The probality of 7 happening in 1 year is: 0.02160403145248382\n"
     ]
    }
   ],
   "source": [
    "lmbda = 3\n",
    "x = 7\n",
    "\n",
    "print(f\"The probality of 7 happening in 1 year is: {pmffunc(lmbda,x)}\")"
   ]
  },
  {
   "cell_type": "code",
   "execution_count": 84,
   "metadata": {},
   "outputs": [
    {
     "name": "stdout",
     "output_type": "stream",
     "text": [
      "The probality of at least 4 is: 0.566529879633291\n"
     ]
    }
   ],
   "source": [
    "lmbda = 3\n",
    "x = 4\n",
    "\n",
    "print(f\"The probality of at least 4 is: {1-st.poisson.cdf(lmbda,x)}\")"
   ]
  },
  {
   "cell_type": "markdown",
   "metadata": {},
   "source": [
    "Questions 10,11,12"
   ]
  },
  {
   "cell_type": "code",
   "execution_count": 91,
   "metadata": {},
   "outputs": [
    {
     "name": "stdout",
     "output_type": "stream",
     "text": [
      "The probality of 7 patients entering is 0.1171161244529091\n"
     ]
    }
   ],
   "source": [
    "lmbda = 6*(90/60)\n",
    "x = 7\n",
    "\n",
    "print(f\"The probality of 7 patients entering is {pmffunc(lmbda,x)}\")"
   ]
  },
  {
   "cell_type": "code",
   "execution_count": 92,
   "metadata": {},
   "outputs": [
    {
     "name": "stdout",
     "output_type": "stream",
     "text": [
      "The probality of at least 10 is 0.22022064660169907\n"
     ]
    }
   ],
   "source": [
    "lmbda = 6+(90/60)\n",
    "x = 10\n",
    "\n",
    "print(f\"The probality of at least {x} is {st.poisson.cdf(lmbda,x)}\")"
   ]
  },
  {
   "cell_type": "markdown",
   "metadata": {},
   "source": [
    "Now,\n",
    "A patient comes at 11:30.\n",
    "\n",
    "12. Find the probability that the next patient arrives before 11:45am. (You may use Jupyter or normal calculation)"
   ]
  },
  {
   "cell_type": "code",
   "execution_count": 95,
   "metadata": {},
   "outputs": [
    {
     "name": "stdout",
     "output_type": "stream",
     "text": [
      "0.7357588823428847\n"
     ]
    }
   ],
   "source": [
    "#the average patients that come in 15 minutes\n",
    "lmbda = 6*(15/60)\n",
    "x = st.poisson.cdf(lmbda,1)\n",
    "\n",
    "print(x)"
   ]
  },
  {
   "cell_type": "code",
   "execution_count": 11,
   "metadata": {
    "scrolled": true
   },
   "outputs": [
    {
     "name": "stderr",
     "output_type": "stream",
     "text": [
      "No handles with labels found to put in legend.\n"
     ]
    },
    {
     "name": "stdout",
     "output_type": "stream",
     "text": [
      "ppf=0.0\n",
      "ppf=1.0\n",
      "ppf=2.0\n",
      "ppf=3.0\n",
      "ppf=4.0\n",
      "ppf=5.0\n",
      "ppf=6.0\n",
      "ppf=7.0\n",
      "ppf=8.0\n",
      "ppf=9.0\n",
      "ppf=10.0\n",
      "ppf=11.0\n",
      "ppf=12.0\n",
      "ppf=13.0\n",
      "ppf=14.0\n",
      "ppf=14.0\n",
      "ppf=15.0\n",
      "ppf=16.0\n",
      "ppf=17.0\n",
      "18\n"
     ]
    },
    {
     "data": {
      "image/png": "[encoded data removed]",
      "text/plain": [
       "<Figure size 432x288 with 1 Axes>"
      ]
     },
     "metadata": {
      "needs_background": "light"
     },
     "output_type": "display_data"
    }
   ],
   "source": [
    "#Answer #Because it is random. Answers will vary.\n",
    "import numpy as np\n",
    "import matplotlib.pyplot as plt\n",
    "s = np.random.poisson(8,3000)\n",
    "count, bins, ignored = plt.hist(s,20,density = True)\n",
    "\n",
    "sizelist = []\n",
    "indexlist = []\n",
    "\n",
    "labels= [\"low\",\"medium\", \"high\"]\n",
    "\n",
    "for g in range(min(s),max(s)):\n",
    "    sizelist.append(st.poisson.ppf(mu=np.mean(s)*g/10,q=0.777))\n",
    "    indexlist.append(g)\n",
    "    print(f\"ppf={st.poisson.ppf(mu=np.mean(s)*g/10,q=0.777)}\")\n",
    "    \n",
    "print(indexlist[sizelist.index(max(sizelist))])\n",
    "\n",
    "plt.xlabel(\"Frequency\")\n",
    "plt.ylabel(\"Probability\")\n",
    "plt.title(\"Poisson Distribution\")\n",
    "plt.legend()\n",
    "plt.show()"
   ]
  },
  {
   "cell_type": "code",
   "execution_count": 19,
   "metadata": {},
   "outputs": [
    {
     "name": "stdout",
     "output_type": "stream",
     "text": [
      "With lambda of 2.3,\n",
      "Probability is:0.20330822526255884 if looking with x value of 3\n",
      "Probability is:0.053775025581946814 if looking with x value of 5\n",
      "With lambda of 4,\n",
      "Probability is:0.19536681481316454 if looking with x value of 3\n",
      "Probability is:0.1562934518505317 if looking with x value of 5\n",
      "With lambda of 9,\n",
      "Probability is:0.014994291196531574 if looking with x value of 3\n",
      "Probability is:0.06072687934595293 if looking with x value of 5\n"
     ]
    }
   ],
   "source": [
    "lmbda = [2.3,4,9]\n",
    "x = [3,5]\n",
    "probabilitylist = []\n",
    "\n",
    "for o in lmbda:\n",
    "    print(f\"With lambda of {o},\")\n",
    "    for p in x:\n",
    "        print(f\"Probability is:{pmffunc(o,p)} if looking with x value of {p}\")\n",
    "        probabilitylist.append(pmffunc(o,p))      "
   ]
  },
  {
   "cell_type": "code",
   "execution_count": 20,
   "metadata": {},
   "outputs": [
    {
     "data": {
      "image/png": "[encoded data removed]",
      "text/plain": [
       "<Figure size 720x504 with 1 Axes>"
      ]
     },
     "metadata": {
      "needs_background": "light"
     },
     "output_type": "display_data"
    }
   ],
   "source": [
    "#Answer\n",
    "import numpy as np\n",
    "from matplotlib import pyplot as plt\n",
    "from matplotlib import ticker as ticker\n",
    "\n",
    "mu_values = [2.3, 4.0,9.0] \n",
    "linestyles = ['-.', '-', ':'] \n",
    "colors = ['purple', 'blue', 'red'] \n",
    "\n",
    "fig, ax = plt.subplots(figsize=(10, 7))\n",
    "\n",
    "for mu, linestyles, colors in zip(mu_values, linestyles, colors):\n",
    "    dist = st.poisson(mu)\n",
    "    x = np.arange(0, 11.0)\n",
    "\n",
    "    plt.plot(x, dist.pmf(x), ls = linestyles, color= colors, label=r'$\\mu=%0.1f$' % mu, drawstyle = 'steps-mid')\n",
    "    \n",
    "plt.xticks(np.arange(min(x), max(x)+1, 1.0))\n",
    "ax.yaxis.set_major_formatter(ticker.FormatStrFormatter('%0.2f'))\n",
    "plt.yticks(np.arange(min(x), max(x)+1, 0.05)) \n",
    "\n",
    "    \n",
    "plt.xlim(0, 11)\n",
    "plt.ylim(0, 0.3) \n",
    "\n",
    "plt.xlabel('$x$') \n",
    "plt.ylabel(r'$p(x|\\mu)$') \n",
    "plt.title('Poisson Distribution') \n",
    "\n",
    "plt.legend()\n",
    "plt.show()"
   ]
  },
  {
   "cell_type": "code",
   "execution_count": 24,
   "metadata": {},
   "outputs": [
    {
     "ename": "AttributeError",
     "evalue": "'numpy.ndarray' object has no attribute 'pmf'",
     "output_type": "error",
     "traceback": [
      "\u001b[1;31m---------------------------------------------------------------------------\u001b[0m",
      "\u001b[1;31mAttributeError\u001b[0m                            Traceback (most recent call last)",
      "\u001b[1;32m<ipython-input-24-982bd8d055d7>\u001b[0m in \u001b[0;36m<module>\u001b[1;34m\u001b[0m\n\u001b[0;32m     12\u001b[0m \u001b[1;32mfor\u001b[0m \u001b[0mmu\u001b[0m\u001b[1;33m,\u001b[0m \u001b[0mlinestyles\u001b[0m\u001b[1;33m,\u001b[0m \u001b[0mcolors\u001b[0m \u001b[1;32min\u001b[0m \u001b[0mzip\u001b[0m\u001b[1;33m(\u001b[0m\u001b[0mmu_values\u001b[0m\u001b[1;33m,\u001b[0m \u001b[0mlinestyles\u001b[0m\u001b[1;33m,\u001b[0m \u001b[0mcolors\u001b[0m\u001b[1;33m)\u001b[0m\u001b[1;33m:\u001b[0m\u001b[1;33m\u001b[0m\u001b[1;33m\u001b[0m\u001b[0m\n\u001b[0;32m     13\u001b[0m     \u001b[0mdist\u001b[0m \u001b[1;33m=\u001b[0m \u001b[0mst\u001b[0m\u001b[1;33m.\u001b[0m\u001b[0mpoisson\u001b[0m\u001b[1;33m.\u001b[0m\u001b[0mcdf\u001b[0m\u001b[1;33m(\u001b[0m\u001b[0mmu\u001b[0m\u001b[1;33m,\u001b[0m\u001b[0mx\u001b[0m\u001b[1;33m)\u001b[0m\u001b[1;33m\u001b[0m\u001b[1;33m\u001b[0m\u001b[0m\n\u001b[1;32m---> 14\u001b[1;33m     \u001b[0mplt\u001b[0m\u001b[1;33m.\u001b[0m\u001b[0mplot\u001b[0m\u001b[1;33m(\u001b[0m\u001b[0mx\u001b[0m\u001b[1;33m,\u001b[0m \u001b[0mdist\u001b[0m\u001b[1;33m.\u001b[0m\u001b[0mpmf\u001b[0m\u001b[1;33m(\u001b[0m\u001b[0mx\u001b[0m\u001b[1;33m)\u001b[0m\u001b[1;33m,\u001b[0m \u001b[0mls\u001b[0m \u001b[1;33m=\u001b[0m \u001b[0mlinestyles\u001b[0m\u001b[1;33m,\u001b[0m \u001b[0mcolor\u001b[0m\u001b[1;33m=\u001b[0m \u001b[0mcolors\u001b[0m\u001b[1;33m,\u001b[0m \u001b[0mlabel\u001b[0m\u001b[1;33m=\u001b[0m\u001b[1;34mr'$\\mu=%0.1f$'\u001b[0m \u001b[1;33m%\u001b[0m \u001b[0mmu\u001b[0m\u001b[1;33m,\u001b[0m \u001b[0mdrawstyle\u001b[0m \u001b[1;33m=\u001b[0m \u001b[1;34m'steps-mid'\u001b[0m\u001b[1;33m)\u001b[0m\u001b[1;33m\u001b[0m\u001b[1;33m\u001b[0m\u001b[0m\n\u001b[0m\u001b[0;32m     15\u001b[0m \u001b[1;33m\u001b[0m\u001b[0m\n\u001b[0;32m     16\u001b[0m \u001b[0mplt\u001b[0m\u001b[1;33m.\u001b[0m\u001b[0mxticks\u001b[0m\u001b[1;33m(\u001b[0m\u001b[0mnp\u001b[0m\u001b[1;33m.\u001b[0m\u001b[0marange\u001b[0m\u001b[1;33m(\u001b[0m\u001b[0mmin\u001b[0m\u001b[1;33m(\u001b[0m\u001b[0mx\u001b[0m\u001b[1;33m)\u001b[0m\u001b[1;33m,\u001b[0m \u001b[0mmax\u001b[0m\u001b[1;33m(\u001b[0m\u001b[0mx\u001b[0m\u001b[1;33m)\u001b[0m\u001b[1;33m+\u001b[0m\u001b[1;36m1\u001b[0m\u001b[1;33m,\u001b[0m \u001b[1;36m1.0\u001b[0m\u001b[1;33m)\u001b[0m\u001b[1;33m)\u001b[0m\u001b[1;33m\u001b[0m\u001b[1;33m\u001b[0m\u001b[0m\n",
      "\u001b[1;31mAttributeError\u001b[0m: 'numpy.ndarray' object has no attribute 'pmf'"
     ]
    },
    {
     "data": {
      "image/png": "[encoded data removed]",
      "text/plain": [
       "<Figure size 720x504 with 1 Axes>"
      ]
     },
     "metadata": {
      "needs_background": "light"
     },
     "output_type": "display_data"
    }
   ],
   "source": [
    "#Answer\n",
    "import numpy as np\n",
    "from matplotlib import pyplot as plt\n",
    "from matplotlib import ticker as ticker\n",
    "\n",
    "mu_values = [2.3, 4.0,9.0] \n",
    "linestyles = ['-.', '-', ':'] \n",
    "colors = ['purple', 'blue', 'red'] \n",
    "\n",
    "fig, ax = plt.subplots(figsize=(10, 7))\n",
    "x = np.arange(0, 11.0)\n",
    "for mu, linestyles, colors in zip(mu_values, linestyles, colors):\n",
    "    dist = st.poisson.cdf(mu,x)\n",
    "    plt.plot(x, dist.pmf(x), ls = linestyles, color= colors, label=r'$\\mu=%0.1f$' % mu, drawstyle = 'steps-mid')\n",
    "    \n",
    "plt.xticks(np.arange(min(x), max(x)+1, 1.0))\n",
    "ax.yaxis.set_major_formatter(ticker.FormatStrFormatter('%0.2f'))\n",
    "plt.yticks(np.arange(min(x), max(x)+1, 0.05)) \n",
    "\n",
    "    \n",
    "plt.xlim(0, 11)\n",
    "plt.ylim(0, 0.3) \n",
    "\n",
    "plt.xlabel('$x$') \n",
    "plt.ylabel(r'$p(x|\\mu)$') \n",
    "plt.title('Poisson Distribution') \n",
    "\n",
    "plt.legend()\n",
    "plt.show()"
   ]
  },
  {
   "cell_type": "code",
   "execution_count": 26,
   "metadata": {},
   "outputs": [
    {
     "data": {
      "image/png": "[encoded data removed]",
      "text/plain": [
       "<Figure size 720x504 with 1 Axes>"
      ]
     },
     "metadata": {
      "needs_background": "light"
     },
     "output_type": "display_data"
    }
   ],
   "source": [
    "#Answer\n",
    "import numpy as np\n",
    "from scipy.stats import poisson\n",
    "from matplotlib import pyplot as plt\n",
    "from matplotlib import ticker as ticker\n",
    "\n",
    "mu_values = [2.3, 4.0,9.0] \n",
    "linestyles = ['-.', '-', ':'] \n",
    "colors = ['purple', 'blue', 'red'] \n",
    "\n",
    "fig, ax = plt.subplots(figsize=(10, 7))\n",
    "\n",
    "for mu, linestyles, colors in zip(mu_values, linestyles, colors):\n",
    "    dist = poisson(mu)\n",
    "    x = np.arange(0, 21.0)\n",
    "\n",
    "    plt.plot(x, dist.cdf(x), ls = linestyles, color= colors, label=r'$\\mu=%0.1f$' % mu, drawstyle = 'steps-mid')\n",
    "    \n",
    "plt.xticks(np.arange(min(x), max(x)+1, 1.0))\n",
    "ax.yaxis.set_major_formatter(ticker.FormatStrFormatter('%0.2f'))\n",
    "plt.yticks(np.arange(min(x), max(x)+1, 0.05)) \n",
    "\n",
    "    \n",
    "plt.xlim(0, 21)\n",
    "plt.ylim(0, 1.05) \n",
    "\n",
    "plt.xlabel('$x$') \n",
    "plt.ylabel(r'$p(x|\\mu)$') \n",
    "plt.title('Poisson Distribution') \n",
    "\n",
    "plt.legend()\n",
    "plt.show()"
   ]
  },
  {
   "cell_type": "code",
   "execution_count": 42,
   "metadata": {},
   "outputs": [
    {
     "data": {
      "image/png": "[encoded data removed]",
      "text/plain": [
       "<Figure size 720x504 with 1 Axes>"
      ]
     },
     "metadata": {
      "needs_background": "light"
     },
     "output_type": "display_data"
    }
   ],
   "source": [
    "import numpy as np\n",
    "from scipy.stats import poisson\n",
    "from matplotlib import pyplot as plt\n",
    "from matplotlib import ticker as ticker\n",
    "\n",
    "mu_values = [5.4] \n",
    "linestyles = ['-', '-', '-'] \n",
    "colors = ['purple', 'blue', 'red'] \n",
    "\n",
    "fig, ax = plt.subplots(figsize=(10, 7))\n",
    "\n",
    "for mu, linestyles, colors in zip(mu_values, linestyles, colors):\n",
    "    dist = poisson(mu)\n",
    "    x = np.arange(0, 21.0)\n",
    "\n",
    "    plt.plot(x, dist.cdf(x), ls = linestyles, color= colors, label=r'$\\mu=%0.1f$' % mu)\n",
    "    plt.plot(x, dist.cdf(x), ls = linestyles, color= colors, label=r'$\\mu=%0.1f$' % mu, drawstyle='steps-mid')\n",
    "    plt.plot(x, dist.pmf(x), ls = linestyles, color= colors, label=r'$\\mu=%0.1f$' % mu)\n",
    "    \n",
    "plt.xticks(np.arange(min(x), max(x)+1, 1.0))\n",
    "ax.yaxis.set_major_formatter(ticker.FormatStrFormatter('%0.2f'))\n",
    "plt.yticks(np.arange(min(x), max(x)+1, 0.05)) \n",
    "\n",
    "    \n",
    "plt.xlim(0, 21)\n",
    "plt.ylim(0, 1.05) \n",
    "\n",
    "plt.xlabel('$x$') \n",
    "plt.ylabel(r'$p(x|\\mu)$') \n",
    "plt.title('Poisson Distribution') \n",
    "\n",
    "plt.legend()\n",
    "plt.show()"
   ]
  }
 ],
 "metadata": {
  "kernelspec": {
   "display_name": "Python 3",
   "language": "python",
   "name": "python3"
  },
  "language_info": {
   "codemirror_mode": {
    "name": "ipython",
    "version": 3
   },
   "file_extension": ".py",
   "mimetype": "text/x-python",
   "name": "python",
   "nbconvert_exporter": "python",
   "pygments_lexer": "ipython3",
   "version": "3.7.3"
  }
 },
 "nbformat": 4,
 "nbformat_minor": 2
}
