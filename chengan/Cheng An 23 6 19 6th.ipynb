{
 "cells": [
  {
   "cell_type": "code",
   "execution_count": 1,
   "metadata": {},
   "outputs": [],
   "source": [
    "import scipy.stats as st\n",
    "import numpy as np\n",
    "from matplotlib import pyplot as plt\n"
   ]
  },
  {
   "cell_type": "code",
   "execution_count": 30,
   "metadata": {},
   "outputs": [],
   "source": [
    "n, p = 100, 0.4\n",
    "mean, var, skew, kurt = st.binom.stats(n, p, moments='mvsk')"
   ]
  },
  {
   "cell_type": "code",
   "execution_count": 7,
   "metadata": {},
   "outputs": [
    {
     "name": "stdout",
     "output_type": "stream",
     "text": [
      "4.0 2.4 0.12909944487358052 -0.1833333333333334\n"
     ]
    }
   ],
   "source": [
    "print(mean, var, skew, kurt)"
   ]
  },
  {
   "cell_type": "code",
   "execution_count": 47,
   "metadata": {},
   "outputs": [],
   "source": [
    "x = range(1000)\n",
    "plott = st.binom.pmf(x,1000,.5)"
   ]
  },
  {
   "cell_type": "code",
   "execution_count": 48,
   "metadata": {},
   "outputs": [
    {
     "data": {
      "image/png": "[encoded data removed]",
      "text/plain": [
       "<Figure size 432x288 with 1 Axes>"
      ]
     },
     "metadata": {
      "needs_background": "light"
     },
     "output_type": "display_data"
    }
   ],
   "source": [
    "plt.bar(x,plott, align='center')\n",
    "plt.show()"
   ]
  },
  {
   "cell_type": "code",
   "execution_count": 38,
   "metadata": {},
   "outputs": [
    {
     "data": {
      "text/plain": [
       "0.11718750000000014"
      ]
     },
     "execution_count": 38,
     "metadata": {},
     "output_type": "execute_result"
    }
   ],
   "source": [
    "st.binom.pmf(3,10,.5)"
   ]
  },
  {
   "cell_type": "code",
   "execution_count": 53,
   "metadata": {},
   "outputs": [
    {
     "data": {
      "text/plain": [
       "array([0.24609375, 0.20507813, 0.1171875 , 0.04394531, 0.00976563])"
      ]
     },
     "execution_count": 53,
     "metadata": {},
     "output_type": "execute_result"
    }
   ],
   "source": [
    "y = range(5,10)\n",
    "\n",
    "rv=st.binom(10,0.5)\n",
    "rv.pmf(y)"
   ]
  },
  {
   "cell_type": "code",
   "execution_count": 74,
   "metadata": {},
   "outputs": [
    {
     "data": {
      "text/plain": [
       "<matplotlib.legend.Legend at 0xb71b770>"
      ]
     },
     "execution_count": 74,
     "metadata": {},
     "output_type": "execute_result"
    },
    {
     "data": {
      "image/png": "[encoded data removed]",
      "text/plain": [
       "<Figure size 432x288 with 1 Axes>"
      ]
     },
     "metadata": {
      "needs_background": "light"
     },
     "output_type": "display_data"
    }
   ],
   "source": [
    "plt.bar(y,rv.pmf(y),width=0.6,color=(.4,.5,.2),label='N')\n",
    "plt.xlabel('N')\n",
    "plt.ylabel('Probality')\n",
    "plt.title('Discrete: Binomial Distribution PMF')\n",
    "plt.legend()"
   ]
  },
  {
   "cell_type": "code",
   "execution_count": 84,
   "metadata": {},
   "outputs": [
    {
     "data": {
      "image/png": "[encoded data removed]",
      "text/plain": [
       "<Figure size 432x288 with 1 Axes>"
      ]
     },
     "metadata": {
      "needs_background": "light"
     },
     "output_type": "display_data"
    }
   ],
   "source": [
    "prob = st.binom.cdf(range(10),10,.5)\n",
    "#np.allclose(x, st.binom.ppf(prob, 10, .5))\n",
    "plt.bar(range(1,11),prob)\n",
    "plt.plot(range(1,11),prob)\n",
    "plt.show()"
   ]
  },
  {
   "cell_type": "code",
   "execution_count": 98,
   "metadata": {},
   "outputs": [
    {
     "name": "stdout",
     "output_type": "stream",
     "text": [
      "4.0\n"
     ]
    }
   ],
   "source": [
    "prob2 = st.binom.ppf(0.2, 10, .5)\n",
    "print(prob2)"
   ]
  },
  {
   "cell_type": "code",
   "execution_count": 99,
   "metadata": {},
   "outputs": [
    {
     "name": "stdout",
     "output_type": "stream",
     "text": [
      "[6 4 8 5 4 8 4 5 6 3 6 6 4 5 2 5 6 6 5 7 5 5 3 6 3 6 5 5 6 5 4 4 4 6 4 6 4\n",
      " 4 5 8 4 3 5 5 7 6 8 6 2 5 3 4 5 5 5 5 4 6 4 5 6 4 1 5 2 4 4 4 4 7 4 5 7 2\n",
      " 8 7 5 7 4 6 1 5 6 8 4 6 3 5 7 6 6 4 5 1 4 6 7 4 3 6 7 3 7 4 4 6 6 5 6 5 5\n",
      " 5 5 3 8 4 2 5 4 4 7 6 5 4 5 7 5 4 2 4 7 4 4 5 2 3 6 5 6 6 3 5 7 5 5 5 6 3\n",
      " 5 5 4 5 3 7 3 5 7 6 2 4 4 8 6 4 6 5 6 6 5 5 5 5 5 3 7 2 5 3 5 5 8 3 6 6 8\n",
      " 4 8 5 4 4 6 7 4 7 5 4 6 5 4 6 5 7 6 4 4 7 6 5 8 7 4 5 5 5 6 8 9 5 5 6 2 5\n",
      " 7 5 5 7 3 5 5 3 4 5 5 6 8 4 3 5 6 5 1 7 6 6 5 4 7 6 6 7 3 7 8 5 7 6 7 4 2\n",
      " 6 7 5 1 5 5 6 2 3 5 8 5 4 5 4 6 3 7 6 5 8 7 5 4 5 6 6 3 6 5 5 3 6 4 4 7 1\n",
      " 3 5 4 4 7 5 7 4 3 5 5 5 4 6 6 7 6 5 3 5 5 5 5 4 6 3 5 6 6 5 4 8 7 4 5 4 3\n",
      " 5 8 7 5 5 5 5 3 3 4 6 4 4 6 5 7 7 6 7 7 3 7 7 5 6 6 6 6 5 4 7 6 1 5 6 3 6\n",
      " 5 5 4 8 7 6 7 5 6 5 4 7 4 4 6 5 7 7 4 4 5 7 5 6 4 4 5 6 6 7 4 5 4 6 3 7 4\n",
      " 6 2 6 5 6 4 6 5 7 4 4 6 5 5 7 5 5 4 7 6 6 2 7 5 7 5 7 5 6 7 5 7 5 6 6 2 2\n",
      " 7 6 6 7 5 1 5 6 3 5 5 5 4 7 4 9 8 6 5 3 8 5 4 2 4 7 3 6 7 3 4 8 6 5 6 9 5\n",
      " 5 5 2 4 3 6 4 7 6 7 6 5 2 7 3 3 5 6 2 6 8 2 3 4 4 5 4 5 3 5 4 4 4 7 9 5 4\n",
      " 2 5 2 8 7 2 3 8 3 8 2 4 7 5 3 5 6 6 4 6 6 5 4 3 5 5 5 8 5 4 1 3 5 6 5 4 5\n",
      " 5 3 7 7 6 6 7 7 4 4 6 5 5 7 5 5 6 7 7 5 7 4 5 5 4 7 6 6 6 6 5 4 7 6 4 5 5\n",
      " 7 5 5 5 4 6 5 4 4 4 6 6 6 6 4 2 7 5 3 2 4 5 5 8 5 5 3 4 4 6 6 5 7 4 5 3 5\n",
      " 3 6 8 4 4 7 5 6 4 5 2 5 6 4 4 4 3 5 7 4 7 4 4 5 6 4 5 5 2 8 3 6 7 7 4 6 5\n",
      " 7 6 4 3 7 1 5 3 5 7 4 5 4 7 3 4 5 6 8 6 7 6 6 7 5 2 3 5 6 6 5 4 4 5 5 5 4\n",
      " 1 5 4 5 5 7 6 3 3 5 8 6 6 3 7 5 5 8 5 5 4 6 6 4 7 4 4 5 3 8 2 4 8 4 5 5 5\n",
      " 6 4 2 8 3 6 4 7 6 8 4 3 8 4 6 5 4 2 8 3 6 2 5 5 7 3 3 6 3 6 5 5 5 4 6 7 4\n",
      " 4 3 6 4 3 6 5 5 7 4 4 4 5 3 2 5 6 5 5 5 1 3 6 6 5 6 3 4 7 4 8 7 5 6 5 4 4\n",
      " 5 5 5 2 5 6 5 7 4 5 2 1 6 7 4 7 4 3 7 5 3 8 3 6 4 8 6 5 5 4 7 5 4 4 6 7 4\n",
      " 6 5 5 5 8 5 5 4 4 7 6 8 7 5 4 8 6 4 5 7 5 5 5 5 5 4 6 4 5 5 6 2 6 6 3 2 5\n",
      " 3 3 5 8 2 3 5 5 5 5 7 9 5 5 8 7 7 5 5 6 4 4 1 6 5 5 6 7 5 6 7 4 5 3 7 4 5\n",
      " 4 5 7 7 8 7 4 4 4 6 8 2 4 5 7 4 6 2 6 3 7 9 6 5 6 4 2 5 4 5 2 5 6 1 6 7 6\n",
      " 7 5 4 7 2 7 4 6 2 5 6 6 6 6 5 7 8 4 4 6 4 6 5 5 3 6 6 6 7 2 3 6 6 3 7 9 2\n",
      " 5]\n"
     ]
    }
   ],
   "source": [
    "r = st.binom.rvs(10, .5, size=1000)\n",
    "print(r)\n"
   ]
  },
  {
   "cell_type": "code",
   "execution_count": 104,
   "metadata": {},
   "outputs": [
    {
     "data": {
      "text/plain": [
       "(array([ 15.,   0.,   0.,   0.,   0.,   0.,  48.,   0.,   0.,   0.,   0.,\n",
       "          0.,  87.,   0.,   0.,   0.,   0.,   0., 190.,   0.,   0.,   0.,\n",
       "          0.,   0.,   0., 275.,   0.,   0.,   0.,   0.,   0., 194.,   0.,\n",
       "          0.,   0.,   0.,   0., 133.,   0.,   0.,   0.,   0.,   0.,  51.,\n",
       "          0.,   0.,   0.,   0.,   0.,   7.]),\n",
       " array([1.  , 1.16, 1.32, 1.48, 1.64, 1.8 , 1.96, 2.12, 2.28, 2.44, 2.6 ,\n",
       "        2.76, 2.92, 3.08, 3.24, 3.4 , 3.56, 3.72, 3.88, 4.04, 4.2 , 4.36,\n",
       "        4.52, 4.68, 4.84, 5.  , 5.16, 5.32, 5.48, 5.64, 5.8 , 5.96, 6.12,\n",
       "        6.28, 6.44, 6.6 , 6.76, 6.92, 7.08, 7.24, 7.4 , 7.56, 7.72, 7.88,\n",
       "        8.04, 8.2 , 8.36, 8.52, 8.68, 8.84, 9.  ]),\n",
       " <a list of 50 Patch objects>)"
      ]
     },
     "execution_count": 104,
     "metadata": {},
     "output_type": "execute_result"
    },
    {
     "data": {
      "image/png": "[encoded data removed]",
      "text/plain": [
       "<Figure size 432x288 with 1 Axes>"
      ]
     },
     "metadata": {
      "needs_background": "light"
     },
     "output_type": "display_data"
    }
   ],
   "source": [
    "plt.hist(r,50)\n"
   ]
  },
  {
   "cell_type": "code",
   "execution_count": 102,
   "metadata": {},
   "outputs": [
    {
     "name": "stdout",
     "output_type": "stream",
     "text": [
      "5\n"
     ]
    }
   ],
   "source": [
    "print(int(np.mean(r)))"
   ]
  },
  {
   "cell_type": "code",
   "execution_count": 110,
   "metadata": {},
   "outputs": [],
   "source": [
    "x = st.binom.stats(10,0.5,loc=0,moments='mv')"
   ]
  },
  {
   "cell_type": "code",
   "execution_count": 112,
   "metadata": {},
   "outputs": [
    {
     "name": "stdout",
     "output_type": "stream",
     "text": [
      "mean=5.0 npq=2.5\n"
     ]
    }
   ],
   "source": [
    "print(f'mean={x[0]}',f'npq={x[1]}')"
   ]
  },
  {
   "cell_type": "code",
   "execution_count": 113,
   "metadata": {},
   "outputs": [
    {
     "data": {
      "text/plain": [
       "5.0"
      ]
     },
     "execution_count": 113,
     "metadata": {},
     "output_type": "execute_result"
    }
   ],
   "source": [
    "st.binom.median(10,0.5,loc=0)"
   ]
  },
  {
   "cell_type": "markdown",
   "metadata": {},
   "source": [
    "# Poisson Distribution"
   ]
  },
  {
   "cell_type": "code",
   "execution_count": 115,
   "metadata": {},
   "outputs": [
    {
     "name": "stdout",
     "output_type": "stream",
     "text": [
      "<scipy.stats._distn_infrastructure.rv_frozen object at 0x0B5D2C10>\n"
     ]
    }
   ],
   "source": [
    "a = st.poisson(25)\n",
    "print(a)"
   ]
  },
  {
   "cell_type": "code",
   "execution_count": 122,
   "metadata": {},
   "outputs": [
    {
     "data": {
      "text/plain": [
       "array([3.29286982e-01, 9.87860945e-02, 1.97572189e-02, 2.96358283e-03,\n",
       "       3.55629940e-04, 3.55629940e-05, 3.04825663e-06, 2.28619247e-07,\n",
       "       1.52412832e-08, 9.14476989e-10])"
      ]
     },
     "execution_count": 122,
     "metadata": {},
     "output_type": "execute_result"
    }
   ],
   "source": [
    "lambdaa = 0.6\n",
    "st.poisson.pmf(range(1,11),lambdaa)"
   ]
  },
  {
   "cell_type": "code",
   "execution_count": 120,
   "metadata": {},
   "outputs": [
    {
     "name": "stdout",
     "output_type": "stream",
     "text": [
      "0.5 0.5 1.4142135623730951 2.0\n"
     ]
    }
   ],
   "source": [
    "mean, var, skew, kurt = st.poisson.stats(lambdaa, moments='mvsk')\n",
    "print(mean,var,skew,kurt)"
   ]
  },
  {
   "cell_type": "code",
   "execution_count": 135,
   "metadata": {},
   "outputs": [
    {
     "data": {
      "image/png": "[encoded data removed]",
      "text/plain": [
       "<Figure size 432x288 with 1 Axes>"
      ]
     },
     "metadata": {
      "needs_background": "light"
     },
     "output_type": "display_data"
    }
   ],
   "source": [
    "r = np.arange(0,5,1)\n",
    "pr = st.poisson.pmf(r,lambdaa)\n",
    "\n",
    "plt.bar(r,pr,width=0.1)\n",
    "plt.ylabel('Probality')\n",
    "plt.xlabel('r')\n",
    "plt.legend('Prob',loc=9)\n",
    "plt.show()\n"
   ]
  },
  {
   "cell_type": "markdown",
   "metadata": {},
   "source": [
    "Cdf:"
   ]
  },
  {
   "cell_type": "code",
   "execution_count": 141,
   "metadata": {},
   "outputs": [
    {
     "data": {
      "text/plain": [
       "<BarContainer object of 5 artists>"
      ]
     },
     "execution_count": 141,
     "metadata": {},
     "output_type": "execute_result"
    },
    {
     "data": {
      "image/png": "[encoded data removed]",
      "text/plain": [
       "<Figure size 432x288 with 1 Axes>"
      ]
     },
     "metadata": {
      "needs_background": "light"
     },
     "output_type": "display_data"
    }
   ],
   "source": [
    "prob3 = st.poisson.cdf(r,pr)\n",
    "plt.bar(r,prob3,width=0.5)"
   ]
  },
  {
   "cell_type": "markdown",
   "metadata": {},
   "source": [
    "Ppf:"
   ]
  },
  {
   "cell_type": "code",
   "execution_count": 167,
   "metadata": {},
   "outputs": [
    {
     "name": "stdout",
     "output_type": "stream",
     "text": [
      "4.0\n"
     ]
    }
   ],
   "source": [
    "prob4 = st.poisson.ppf(float(0.999),mu=0.6)\n",
    "print(prob4)"
   ]
  },
  {
   "cell_type": "code",
   "execution_count": 177,
   "metadata": {},
   "outputs": [
    {
     "name": "stdout",
     "output_type": "stream",
     "text": [
      "[0 1 0 0 1 0 1 0 0 0 1 0 0 1 0 1 0 0 1 0 0 0 0 0 1 1 0 3 1 2 2 0 0 1 1 1 2\n",
      " 0 0 1 0 0 0 0 1 1 0 0 0 0 0 0 2 0 2 1 0 1 0 0 1 1 0 0 1 0 1 0 2 0 0 0 0 1\n",
      " 1 1 1 1 1 1 1 1 0 2 0 1 1 1 1 0 0 1 2 0 0 0 0 0 0 1 0 0 0 0 0 1 0 0 0 0 0\n",
      " 0 0 0 1 1 0 1 0 0 2 0 0 1 0 0 0 1 0 2 0 0 1 0 2 0 0 0 0 0 0 0 0 0 1 0 0 2\n",
      " 0 0 1 1 0 1 0 0 1 0 0 0 1 0 0 2 0 0 2 0 2 1 0 0 0 1 0 0 0 0 1 2 0 1 1 1 0\n",
      " 0 2 0 1 2 1 0 0 1 0 1 0 0 0 0 0 0 2 0 1 1 1 1 0 0 0 0 0 2 1 0 0 1 0 1 0 1\n",
      " 0 1 3 2 1 1 1 0 0 0 1 0 0 0 0 0 1 2 0 1 1 1 0 0 0 0 0 1 1 0 0 0 0 0 0 2 1\n",
      " 1 1 0 0 0 0 0 0 0 0 0 0 0 1 3 1 0 0 0 0 2 0 0 0 0 1 0 1 0 0 3 1 1 0 1 0 3\n",
      " 2 1 1 1 0 0 0 0 0 0 1 1 0 0 1 1 0 2 1 1 0 0 0 1 0 0 0 1 0 0 1 0 1 0 2 0 3\n",
      " 0 0 1 1 0 0 1 1 1 1 0 1 0 0 1 0 2 0 2 1 1 2 3 0 0 0 0 1 0 0 1 2 0 0 3 0 0\n",
      " 1 0 2 0 0 1 0 1 0 3 1 1 0 0 0 0 2 1 0 0 1 1 3 0 0 2 0 1 1 2 1 1 1 0 0 1 0\n",
      " 1 0 1 1 0 0 0 0 0 0 1 0 0 1 0 2 1 0 1 0 1 1 0 0 1 0 0 0 1 2 1 0 0 0 1 1 0\n",
      " 0 1 1 0 0 1 1 0 0 0 0 0 1 1 0 2 0 1 1 0 1 0 0 1 0 0 0 0 2 0 0 0 1 0 0 0 1\n",
      " 0 1 0 1 0 0 0 0 1 1 1 1 0 1 0 0 0 0 0 1 0 0 1 0 2 1 0 0 0 1 0 1 0 0 3 0 0\n",
      " 1 0 1 1 1 1 1 0 0 1 2 1 1 0 0 0 1 0 2 1 1 1 0 0 1 0 1 1 0 0 1 1 0 1 1 1 0\n",
      " 1 0 0 1 0 0 0 0 0 0 0 1 1 1 1 0 2 1 2 1 0 3 0 0 0 0 0 1 0 2 1 0 1 0 1 0 1\n",
      " 0 0 0 0 1 0 0 1 1 0 1 0 1 0 0 0 0 0 2 1 1 1 0 0 0 0 0 2 1 1 0 2 1 1 1 1 1\n",
      " 0 3 1 0 0 0 0 0 1 1 1 1 1 0 0 1 0 1 1 1 0 1 0 0 2 1 0 0 1 1 2 1 0 1 0 1 0\n",
      " 0 2 0 0 1 1 0 0 0 1 1 1 2 0 0 0 0 0 2 1 2 1 0 0 0 1 0 2 0 0 0 3 2 2 1 1 0\n",
      " 1 2 1 2 0 1 0 0 1 1 1 1 3 0 1 0 0 0 0 0 1 0 1 0 0 1 0 0 0 0 0 1 0 0 0 0 0\n",
      " 1 1 1 0 0 1 2 0 0 1 1 0 0 2 0 0 1 0 3 0 0 0 0 0 0 2 1 1 2 0 1 0 0 2 1 0 0\n",
      " 1 1 1 1 3 1 2 2 0 0 1 2 2 1 0 1 1 1 2 0 0 1 0 0 1 0 0 0 1 0 0 0 1 1 1 1 0\n",
      " 0 2 1 0 3 0 0 0 1 1 0 0 0 1 0 0 0 0 2 0 1 0 0 3 1 1 0 0 0 0 0 1 0 0 0 0 1\n",
      " 3 0 0 0 0 0 1 0 1 2 0 1 0 1 0 0 1 0 0 2 1 1 0 0 0 0 1 1 1 0 0 0 0 0 1 1 2\n",
      " 2 0 2 0 1 2 0 0 0 0 2 0 0 0 0 0 0 3 0 1 2 0 1 1 0 1 0 0 0 2 0 0 1 1 1 0 0\n",
      " 0 2 1 0 0 1 1 0 1 1 1 2 0 1 2 0 0 0 0 1 0 1 1 0 0 0 1 0 0 1 0 1 1 1 0 1 0\n",
      " 0 0 3 1 0 2 2 1 0 1 0 1 0 1 1 1 3 1 1 0 0 2 1 0 0 0 0 0 0 0 1 0 2 0 0 1 1\n",
      " 0]\n",
      "3\n"
     ]
    }
   ],
   "source": [
    "random_poisson = st.poisson.rvs(mu=0.6,size=1000)\n",
    "print(random_poisson)\n",
    "print(max(random_poisson))"
   ]
  },
  {
   "cell_type": "code",
   "execution_count": 181,
   "metadata": {
    "scrolled": true
   },
   "outputs": [
    {
     "data": {
      "text/plain": [
       "(array([550.,   0.,   0., 340.,   0.,   0.,  87.,   0.,   0.,  23.]),\n",
       " array([0. , 0.3, 0.6, 0.9, 1.2, 1.5, 1.8, 2.1, 2.4, 2.7, 3. ]),\n",
       " <a list of 10 Patch objects>)"
      ]
     },
     "execution_count": 181,
     "metadata": {},
     "output_type": "execute_result"
    },
    {
     "data": {
      "image/png": "[encoded data removed]",
      "text/plain": [
       "<Figure size 432x288 with 1 Axes>"
      ]
     },
     "metadata": {
      "needs_background": "light"
     },
     "output_type": "display_data"
    }
   ],
   "source": [
    "plt.hist(random_poisson,width=0.2)"
   ]
  },
  {
   "cell_type": "code",
   "execution_count": 189,
   "metadata": {},
   "outputs": [
    {
     "data": {
      "text/plain": [
       "(array([550.,   0.,   0., 340.,   0.,   0.,  87.,   0.,   0.,  23.]),\n",
       " array([0. , 0.3, 0.6, 0.9, 1.2, 1.5, 1.8, 2.1, 2.4, 2.7, 3. ]),\n",
       " <a list of 10 Patch objects>)"
      ]
     },
     "execution_count": 189,
     "metadata": {},
     "output_type": "execute_result"
    },
    {
     "data": {
      "image/png": "[encoded data removed]",
      "text/plain": [
       "<Figure size 432x288 with 1 Axes>"
      ]
     },
     "metadata": {
      "needs_background": "light"
     },
     "output_type": "display_data"
    }
   ],
   "source": [
    "cdfpos = st.poisson.cdf(range(4),mu=0.6)\n",
    "plt.hist(random_poisson)\n"
   ]
  },
  {
   "cell_type": "code",
   "execution_count": 18,
   "metadata": {},
   "outputs": [
    {
     "data": {
      "image/png": "[encoded data removed]",
      "text/plain": [
       "<Figure size 432x288 with 1 Axes>"
      ]
     },
     "metadata": {
      "needs_background": "light"
     },
     "output_type": "display_data"
    }
   ],
   "source": [
    "import numpy as np\n",
    "import matplotlib.pyplot as plt\n",
    "\n",
    "s = np.random.poisson(5,1000)\n",
    "plt.hist(s,100)\n",
    "plt.show()"
   ]
  },
  {
   "cell_type": "code",
   "execution_count": 34,
   "metadata": {},
   "outputs": [
    {
     "name": "stdout",
     "output_type": "stream",
     "text": [
      "14.0\n"
     ]
    }
   ],
   "source": [
    "import scipy.stats as st\n",
    "\n",
    "x = st.poisson.ppf(mu=5,q=0.9995)\n",
    "print (x) "
   ]
  },
  {
   "cell_type": "code",
   "execution_count": null,
   "metadata": {},
   "outputs": [],
   "source": []
  }
 ],
 "metadata": {
  "kernelspec": {
   "display_name": "Python 3",
   "language": "python",
   "name": "python3"
  },
  "language_info": {
   "codemirror_mode": {
    "name": "ipython",
    "version": 3
   },
   "file_extension": ".py",
   "mimetype": "text/x-python",
   "name": "python",
   "nbconvert_exporter": "python",
   "pygments_lexer": "ipython3",
   "version": "3.7.3"
  }
 },
 "nbformat": 4,
 "nbformat_minor": 2
}
