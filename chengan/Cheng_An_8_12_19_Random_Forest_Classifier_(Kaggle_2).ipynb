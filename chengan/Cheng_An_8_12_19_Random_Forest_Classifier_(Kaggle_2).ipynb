{
  "nbformat": 4,
  "nbformat_minor": 0,
  "metadata": {
    "colab": {
      "name": "Cheng An 8/12/19 Random Forest Classifier (Kaggle 2).ipynb",
      "provenance": [],
      "collapsed_sections": []
    },
    "kernelspec": {
      "name": "python3",
      "display_name": "Python 3"
    }
  },
  "cells": [
    {
      "cell_type": "markdown",
      "metadata": {
        "id": "8xz8454HgjPv",
        "colab_type": "text"
      },
      "source": [
        "### Import"
      ]
    },
    {
      "cell_type": "code",
      "metadata": {
        "id": "0AyQCyicZO14",
        "colab_type": "code",
        "colab": {}
      },
      "source": [
        "import pandas as pd\n",
        "import numpy as np"
      ],
      "execution_count": 0,
      "outputs": []
    },
    {
      "cell_type": "markdown",
      "metadata": {
        "id": "rKjjxrD5gl6A",
        "colab_type": "text"
      },
      "source": [
        "### Data"
      ]
    },
    {
      "cell_type": "code",
      "metadata": {
        "id": "o9tH20pQZiX_",
        "colab_type": "code",
        "colab": {
          "base_uri": "https://localhost:8080/",
          "height": 306
        },
        "outputId": "0b89f771-d32d-4580-8d16-e20ec3f57fde"
      },
      "source": [
        "data = pd.read_excel('dataset.xlsx')\n",
        "data.head()"
      ],
      "execution_count": 2,
      "outputs": [
        {
          "output_type": "execute_result",
          "data": {
            "text/html": [
              "<div>\n",
              "<style scoped>\n",
              "    .dataframe tbody tr th:only-of-type {\n",
              "        vertical-align: middle;\n",
              "    }\n",
              "\n",
              "    .dataframe tbody tr th {\n",
              "        vertical-align: top;\n",
              "    }\n",
              "\n",
              "    .dataframe thead th {\n",
              "        text-align: right;\n",
              "    }\n",
              "</style>\n",
              "<table border=\"1\" class=\"dataframe\">\n",
              "  <thead>\n",
              "    <tr style=\"text-align: right;\">\n",
              "      <th></th>\n",
              "      <th>Date Of Test</th>\n",
              "      <th>Signal (dBm)</th>\n",
              "      <th>Speed (m/s)</th>\n",
              "      <th>Distance from site (m)</th>\n",
              "      <th>Call Test Duration (s)</th>\n",
              "      <th>Call Test Result</th>\n",
              "      <th>Call Test Technology</th>\n",
              "      <th>Call Test Setup Time (s)</th>\n",
              "      <th>MOS</th>\n",
              "    </tr>\n",
              "  </thead>\n",
              "  <tbody>\n",
              "    <tr>\n",
              "      <th>0</th>\n",
              "      <td>2017-07-01 00:00:27</td>\n",
              "      <td>-61.0</td>\n",
              "      <td>68.800003</td>\n",
              "      <td>1048.60</td>\n",
              "      <td>90.0</td>\n",
              "      <td>SUCCESS</td>\n",
              "      <td>UMTS</td>\n",
              "      <td>0.56</td>\n",
              "      <td>2.1</td>\n",
              "    </tr>\n",
              "    <tr>\n",
              "      <th>1</th>\n",
              "      <td>2017-07-01 00:02:57</td>\n",
              "      <td>-61.0</td>\n",
              "      <td>68.769997</td>\n",
              "      <td>1855.54</td>\n",
              "      <td>90.0</td>\n",
              "      <td>SUCCESS</td>\n",
              "      <td>UMTS</td>\n",
              "      <td>0.45</td>\n",
              "      <td>3.2</td>\n",
              "    </tr>\n",
              "    <tr>\n",
              "      <th>2</th>\n",
              "      <td>2017-07-01 00:05:29</td>\n",
              "      <td>-71.0</td>\n",
              "      <td>69.169998</td>\n",
              "      <td>1685.62</td>\n",
              "      <td>90.0</td>\n",
              "      <td>SUCCESS</td>\n",
              "      <td>UMTS</td>\n",
              "      <td>0.51</td>\n",
              "      <td>2.1</td>\n",
              "    </tr>\n",
              "    <tr>\n",
              "      <th>3</th>\n",
              "      <td>2017-07-01 00:08:02</td>\n",
              "      <td>-65.0</td>\n",
              "      <td>69.279999</td>\n",
              "      <td>1770.92</td>\n",
              "      <td>90.0</td>\n",
              "      <td>SUCCESS</td>\n",
              "      <td>UMTS</td>\n",
              "      <td>0.00</td>\n",
              "      <td>1.0</td>\n",
              "    </tr>\n",
              "    <tr>\n",
              "      <th>4</th>\n",
              "      <td>2017-07-01 00:10:30</td>\n",
              "      <td>-103.0</td>\n",
              "      <td>0.820000</td>\n",
              "      <td>256.07</td>\n",
              "      <td>60.0</td>\n",
              "      <td>SUCCESS</td>\n",
              "      <td>UMTS</td>\n",
              "      <td>3.35</td>\n",
              "      <td>3.6</td>\n",
              "    </tr>\n",
              "  </tbody>\n",
              "</table>\n",
              "</div>"
            ],
            "text/plain": [
              "         Date Of Test  Signal (dBm)  ...  Call Test Setup Time (s)  MOS\n",
              "0 2017-07-01 00:00:27         -61.0  ...                      0.56  2.1\n",
              "1 2017-07-01 00:02:57         -61.0  ...                      0.45  3.2\n",
              "2 2017-07-01 00:05:29         -71.0  ...                      0.51  2.1\n",
              "3 2017-07-01 00:08:02         -65.0  ...                      0.00  1.0\n",
              "4 2017-07-01 00:10:30        -103.0  ...                      3.35  3.6\n",
              "\n",
              "[5 rows x 9 columns]"
            ]
          },
          "metadata": {
            "tags": []
          },
          "execution_count": 2
        }
      ]
    },
    {
      "cell_type": "code",
      "metadata": {
        "id": "GdicS4U-aEby",
        "colab_type": "code",
        "colab": {
          "base_uri": "https://localhost:8080/",
          "height": 68
        },
        "outputId": "d0c3f44b-d27f-4d4c-d6f0-3499c47acfce"
      },
      "source": [
        "data['MOS'].unique()"
      ],
      "execution_count": 6,
      "outputs": [
        {
          "output_type": "execute_result",
          "data": {
            "text/plain": [
              "array([2.1, 3.2, 1. , 3.6, 4.4, 3.7, 4.3, 3.8, 1.7, 2. , 3.3, 2.3, 2.7,\n",
              "       3.1, 2.2, 1.4, 1.2, 4. , 2.4, 4.1, 1.3, 1.8, 2.5, 3.4, 4.2, 3. ,\n",
              "       2.6, 3.5, 1.6, 2.9, 2.8, 1.5, 1.9, 3.9, 1.1])"
            ]
          },
          "metadata": {
            "tags": []
          },
          "execution_count": 6
        }
      ]
    },
    {
      "cell_type": "code",
      "metadata": {
        "id": "czeyeGstaPCW",
        "colab_type": "code",
        "colab": {
          "base_uri": "https://localhost:8080/",
          "height": 187
        },
        "outputId": "7af253f6-9742-4062-dafc-bf9e592e4bd1"
      },
      "source": [
        "data.isnull().any()"
      ],
      "execution_count": 63,
      "outputs": [
        {
          "output_type": "execute_result",
          "data": {
            "text/plain": [
              "Date Of Test                False\n",
              "Signal (dBm)                 True\n",
              "Speed (m/s)                 False\n",
              "Distance from site (m)       True\n",
              "Call Test Duration (s)      False\n",
              "Call Test Result            False\n",
              "Call Test Technology        False\n",
              "Call Test Setup Time (s)    False\n",
              "MOS                         False\n",
              "dtype: bool"
            ]
          },
          "metadata": {
            "tags": []
          },
          "execution_count": 63
        }
      ]
    },
    {
      "cell_type": "code",
      "metadata": {
        "id": "9Am8SHN8dTYS",
        "colab_type": "code",
        "colab": {}
      },
      "source": [
        "# Take 10k random samples from the dataset\n",
        "\n",
        "data2 = data.sample(n=10000, random_state=1)"
      ],
      "execution_count": 0,
      "outputs": []
    },
    {
      "cell_type": "markdown",
      "metadata": {
        "id": "rMFMRpOxgqp6",
        "colab_type": "text"
      },
      "source": [
        "### Split x and y"
      ]
    },
    {
      "cell_type": "code",
      "metadata": {
        "id": "ef8YARIZavCe",
        "colab_type": "code",
        "colab": {
          "base_uri": "https://localhost:8080/",
          "height": 419
        },
        "outputId": "656016a6-fea4-485e-a005-0413aedc8bfe"
      },
      "source": [
        "x_features = data2.iloc[:,1:-1]\n",
        "x_features"
      ],
      "execution_count": 65,
      "outputs": [
        {
          "output_type": "execute_result",
          "data": {
            "text/html": [
              "<div>\n",
              "<style scoped>\n",
              "    .dataframe tbody tr th:only-of-type {\n",
              "        vertical-align: middle;\n",
              "    }\n",
              "\n",
              "    .dataframe tbody tr th {\n",
              "        vertical-align: top;\n",
              "    }\n",
              "\n",
              "    .dataframe thead th {\n",
              "        text-align: right;\n",
              "    }\n",
              "</style>\n",
              "<table border=\"1\" class=\"dataframe\">\n",
              "  <thead>\n",
              "    <tr style=\"text-align: right;\">\n",
              "      <th></th>\n",
              "      <th>Signal (dBm)</th>\n",
              "      <th>Speed (m/s)</th>\n",
              "      <th>Distance from site (m)</th>\n",
              "      <th>Call Test Duration (s)</th>\n",
              "      <th>Call Test Result</th>\n",
              "      <th>Call Test Technology</th>\n",
              "      <th>Call Test Setup Time (s)</th>\n",
              "    </tr>\n",
              "  </thead>\n",
              "  <tbody>\n",
              "    <tr>\n",
              "      <th>70677</th>\n",
              "      <td>-105.0</td>\n",
              "      <td>4.290000</td>\n",
              "      <td>582.63</td>\n",
              "      <td>60.0</td>\n",
              "      <td>SUCCESS</td>\n",
              "      <td>LTE</td>\n",
              "      <td>1.26</td>\n",
              "    </tr>\n",
              "    <tr>\n",
              "      <th>42450</th>\n",
              "      <td>-81.0</td>\n",
              "      <td>0.000000</td>\n",
              "      <td>512.91</td>\n",
              "      <td>90.0</td>\n",
              "      <td>SUCCESS</td>\n",
              "      <td>UMTS</td>\n",
              "      <td>4.29</td>\n",
              "    </tr>\n",
              "    <tr>\n",
              "      <th>59832</th>\n",
              "      <td>-71.0</td>\n",
              "      <td>0.000000</td>\n",
              "      <td>341.47</td>\n",
              "      <td>60.0</td>\n",
              "      <td>SUCCESS</td>\n",
              "      <td>UMTS</td>\n",
              "      <td>4.12</td>\n",
              "    </tr>\n",
              "    <tr>\n",
              "      <th>40660</th>\n",
              "      <td>-55.0</td>\n",
              "      <td>0.514004</td>\n",
              "      <td>42.24</td>\n",
              "      <td>90.0</td>\n",
              "      <td>SUCCESS</td>\n",
              "      <td>UMTS</td>\n",
              "      <td>3.17</td>\n",
              "    </tr>\n",
              "    <tr>\n",
              "      <th>47888</th>\n",
              "      <td>-81.0</td>\n",
              "      <td>-1.000000</td>\n",
              "      <td>497.16</td>\n",
              "      <td>90.0</td>\n",
              "      <td>SUCCESS</td>\n",
              "      <td>UMTS</td>\n",
              "      <td>3.75</td>\n",
              "    </tr>\n",
              "    <tr>\n",
              "      <th>...</th>\n",
              "      <td>...</td>\n",
              "      <td>...</td>\n",
              "      <td>...</td>\n",
              "      <td>...</td>\n",
              "      <td>...</td>\n",
              "      <td>...</td>\n",
              "      <td>...</td>\n",
              "    </tr>\n",
              "    <tr>\n",
              "      <th>79353</th>\n",
              "      <td>-61.0</td>\n",
              "      <td>1.126144</td>\n",
              "      <td>549.26</td>\n",
              "      <td>90.0</td>\n",
              "      <td>SUCCESS</td>\n",
              "      <td>UMTS</td>\n",
              "      <td>3.89</td>\n",
              "    </tr>\n",
              "    <tr>\n",
              "      <th>65782</th>\n",
              "      <td>-71.0</td>\n",
              "      <td>0.000000</td>\n",
              "      <td>424.23</td>\n",
              "      <td>90.0</td>\n",
              "      <td>SUCCESS</td>\n",
              "      <td>UMTS</td>\n",
              "      <td>3.39</td>\n",
              "    </tr>\n",
              "    <tr>\n",
              "      <th>89563</th>\n",
              "      <td>-65.0</td>\n",
              "      <td>0.000000</td>\n",
              "      <td>634.23</td>\n",
              "      <td>90.0</td>\n",
              "      <td>SUCCESS</td>\n",
              "      <td>UMTS</td>\n",
              "      <td>3.42</td>\n",
              "    </tr>\n",
              "    <tr>\n",
              "      <th>22529</th>\n",
              "      <td>-75.0</td>\n",
              "      <td>0.000000</td>\n",
              "      <td>482.38</td>\n",
              "      <td>900.0</td>\n",
              "      <td>SUCCESS</td>\n",
              "      <td>UMTS</td>\n",
              "      <td>3.61</td>\n",
              "    </tr>\n",
              "    <tr>\n",
              "      <th>15566</th>\n",
              "      <td>-89.0</td>\n",
              "      <td>0.000000</td>\n",
              "      <td>369.36</td>\n",
              "      <td>60.0</td>\n",
              "      <td>SUCCESS</td>\n",
              "      <td>UMTS</td>\n",
              "      <td>3.27</td>\n",
              "    </tr>\n",
              "  </tbody>\n",
              "</table>\n",
              "<p>10000 rows × 7 columns</p>\n",
              "</div>"
            ],
            "text/plain": [
              "       Signal (dBm)  Speed (m/s)  ...  Call Test Technology  Call Test Setup Time (s)\n",
              "70677        -105.0     4.290000  ...                   LTE                      1.26\n",
              "42450         -81.0     0.000000  ...                  UMTS                      4.29\n",
              "59832         -71.0     0.000000  ...                  UMTS                      4.12\n",
              "40660         -55.0     0.514004  ...                  UMTS                      3.17\n",
              "47888         -81.0    -1.000000  ...                  UMTS                      3.75\n",
              "...             ...          ...  ...                   ...                       ...\n",
              "79353         -61.0     1.126144  ...                  UMTS                      3.89\n",
              "65782         -71.0     0.000000  ...                  UMTS                      3.39\n",
              "89563         -65.0     0.000000  ...                  UMTS                      3.42\n",
              "22529         -75.0     0.000000  ...                  UMTS                      3.61\n",
              "15566         -89.0     0.000000  ...                  UMTS                      3.27\n",
              "\n",
              "[10000 rows x 7 columns]"
            ]
          },
          "metadata": {
            "tags": []
          },
          "execution_count": 65
        }
      ]
    },
    {
      "cell_type": "code",
      "metadata": {
        "id": "RyT_5FCNcBGR",
        "colab_type": "code",
        "colab": {
          "base_uri": "https://localhost:8080/",
          "height": 221
        },
        "outputId": "25cf49a9-feff-4b54-a662-1b26f89aeae5"
      },
      "source": [
        "y = data2['MOS']\n",
        "y"
      ],
      "execution_count": 66,
      "outputs": [
        {
          "output_type": "execute_result",
          "data": {
            "text/plain": [
              "70677    4.3\n",
              "42450    2.1\n",
              "59832    4.4\n",
              "40660    2.1\n",
              "47888    2.1\n",
              "        ... \n",
              "79353    4.4\n",
              "65782    2.7\n",
              "89563    2.1\n",
              "22529    2.0\n",
              "15566    3.4\n",
              "Name: MOS, Length: 10000, dtype: float64"
            ]
          },
          "metadata": {
            "tags": []
          },
          "execution_count": 66
        }
      ]
    },
    {
      "cell_type": "markdown",
      "metadata": {
        "id": "PTUGMiGMgtbg",
        "colab_type": "text"
      },
      "source": [
        "### Fill null values"
      ]
    },
    {
      "cell_type": "code",
      "metadata": {
        "id": "ZW6zOcufeqF4",
        "colab_type": "code",
        "colab": {
          "base_uri": "https://localhost:8080/",
          "height": 153
        },
        "outputId": "1784f3ed-e5a4-4474-d4c7-5ed2bed484a8"
      },
      "source": [
        "x_features.isnull().any()"
      ],
      "execution_count": 67,
      "outputs": [
        {
          "output_type": "execute_result",
          "data": {
            "text/plain": [
              "Signal (dBm)                 True\n",
              "Speed (m/s)                 False\n",
              "Distance from site (m)       True\n",
              "Call Test Duration (s)      False\n",
              "Call Test Result            False\n",
              "Call Test Technology        False\n",
              "Call Test Setup Time (s)    False\n",
              "dtype: bool"
            ]
          },
          "metadata": {
            "tags": []
          },
          "execution_count": 67
        }
      ]
    },
    {
      "cell_type": "code",
      "metadata": {
        "id": "4gnumRPPcHAX",
        "colab_type": "code",
        "colab": {}
      },
      "source": [
        "# Fill null values in Signal\n",
        "x_features['Signal (dBm)'].describe()\n",
        "\n",
        "x_features['Signal (dBm)'].fillna(np.mean(x_features['Signal (dBm)']), inplace=True)"
      ],
      "execution_count": 0,
      "outputs": []
    },
    {
      "cell_type": "code",
      "metadata": {
        "id": "gSgnMa4-curI",
        "colab_type": "code",
        "colab": {}
      },
      "source": [
        "# Same for distance\n",
        "x_features['Distance from site (m)'].describe()\n",
        "\n",
        "x_features['Distance from site (m)'].fillna(np.mean(x_features['Distance from site (m)']), inplace=True)"
      ],
      "execution_count": 0,
      "outputs": []
    },
    {
      "cell_type": "markdown",
      "metadata": {
        "id": "6PHEepGSf5fn",
        "colab_type": "text"
      },
      "source": [
        "### Call Test Results"
      ]
    },
    {
      "cell_type": "code",
      "metadata": {
        "id": "BaNuLMh7e1Nu",
        "colab_type": "code",
        "colab": {
          "base_uri": "https://localhost:8080/",
          "height": 51
        },
        "outputId": "4c0419d8-5ab1-4120-a33a-91cf6e89745e"
      },
      "source": [
        "x_features['Call Test Result'].unique()"
      ],
      "execution_count": 70,
      "outputs": [
        {
          "output_type": "execute_result",
          "data": {
            "text/plain": [
              "array(['SUCCESS', 'FAILURE - DROP CALL', 'FAILURE - SETUP FAIL'],\n",
              "      dtype=object)"
            ]
          },
          "metadata": {
            "tags": []
          },
          "execution_count": 70
        }
      ]
    },
    {
      "cell_type": "code",
      "metadata": {
        "id": "kj9L59cffKBf",
        "colab_type": "code",
        "colab": {}
      },
      "source": [
        "x_features['Call Test Result'].replace('SUCCESS', 2, inplace=True)\n",
        "x_features['Call Test Result'].replace('FAILURE - DROP CALL', 1, inplace=True)\n",
        "x_features['Call Test Result'].replace('FAILURE - SETUP FAIL', 0, inplace=True)"
      ],
      "execution_count": 0,
      "outputs": []
    },
    {
      "cell_type": "code",
      "metadata": {
        "id": "nCDp24jef1wr",
        "colab_type": "code",
        "colab": {
          "base_uri": "https://localhost:8080/",
          "height": 34
        },
        "outputId": "802b5475-b171-47d3-ae82-e4d9f4152494"
      },
      "source": [
        "x_features['Call Test Result'].unique()"
      ],
      "execution_count": 72,
      "outputs": [
        {
          "output_type": "execute_result",
          "data": {
            "text/plain": [
              "array([2, 1, 0])"
            ]
          },
          "metadata": {
            "tags": []
          },
          "execution_count": 72
        }
      ]
    },
    {
      "cell_type": "markdown",
      "metadata": {
        "id": "wOwOLaEegfHp",
        "colab_type": "text"
      },
      "source": [
        "### Call Test Tech."
      ]
    },
    {
      "cell_type": "code",
      "metadata": {
        "id": "yZSnRGXIgDY4",
        "colab_type": "code",
        "colab": {
          "base_uri": "https://localhost:8080/",
          "height": 34
        },
        "outputId": "71b11042-6a2b-40d7-b308-9bf1a9dbfbc6"
      },
      "source": [
        "x_features['Call Test Technology'].unique()"
      ],
      "execution_count": 73,
      "outputs": [
        {
          "output_type": "execute_result",
          "data": {
            "text/plain": [
              "array(['LTE', 'UMTS', 'GSM'], dtype=object)"
            ]
          },
          "metadata": {
            "tags": []
          },
          "execution_count": 73
        }
      ]
    },
    {
      "cell_type": "code",
      "metadata": {
        "colab_type": "code",
        "id": "Q7LIXMkegRTj",
        "colab": {}
      },
      "source": [
        "x_features['Call Test Technology'].replace('LTE', 2, inplace=True)\n",
        "x_features['Call Test Technology'].replace('UMTS', 1, inplace=True)\n",
        "x_features['Call Test Technology'].replace('GSM', 0, inplace=True)"
      ],
      "execution_count": 0,
      "outputs": []
    },
    {
      "cell_type": "code",
      "metadata": {
        "id": "WPUpmtsdgcDP",
        "colab_type": "code",
        "colab": {
          "base_uri": "https://localhost:8080/",
          "height": 34
        },
        "outputId": "f67f55e4-aea7-4a3b-bed5-ff8fa2df8ec6"
      },
      "source": [
        "x_features['Call Test Technology'].unique()"
      ],
      "execution_count": 75,
      "outputs": [
        {
          "output_type": "execute_result",
          "data": {
            "text/plain": [
              "array([2, 1, 0])"
            ]
          },
          "metadata": {
            "tags": []
          },
          "execution_count": 75
        }
      ]
    },
    {
      "cell_type": "markdown",
      "metadata": {
        "id": "Jv6_PukCg0kI",
        "colab_type": "text"
      },
      "source": [
        "### Y"
      ]
    },
    {
      "cell_type": "code",
      "metadata": {
        "id": "LVlXfCFCgwKv",
        "colab_type": "code",
        "colab": {
          "base_uri": "https://localhost:8080/",
          "height": 68
        },
        "outputId": "8479c514-672a-4e3a-9b2c-6365e091bb06"
      },
      "source": [
        "y.unique()"
      ],
      "execution_count": 76,
      "outputs": [
        {
          "output_type": "execute_result",
          "data": {
            "text/plain": [
              "array([4.3, 2.1, 4.4, 2.7, 3.6, 4.2, 1.3, 1.6, 1.7, 1. , 2.2, 2.3, 3.1,\n",
              "       3.2, 1.8, 1.5, 2.9, 3.3, 1.2, 3.4, 2.6, 3.8, 3. , 1.4, 3.7, 3.9,\n",
              "       2.4, 2.8, 1.9, 2. , 4. , 2.5, 4.1, 1.1, 3.5])"
            ]
          },
          "metadata": {
            "tags": []
          },
          "execution_count": 76
        }
      ]
    },
    {
      "cell_type": "code",
      "metadata": {
        "id": "lmLen_7SiyE9",
        "colab_type": "code",
        "colab": {}
      },
      "source": [
        "y2 = y.astype('str')"
      ],
      "execution_count": 0,
      "outputs": []
    },
    {
      "cell_type": "markdown",
      "metadata": {
        "id": "xt8ThpVyhG3S",
        "colab_type": "text"
      },
      "source": [
        "### TTS"
      ]
    },
    {
      "cell_type": "code",
      "metadata": {
        "id": "_Jdu-I81g3jQ",
        "colab_type": "code",
        "colab": {}
      },
      "source": [
        "from sklearn.model_selection import train_test_split"
      ],
      "execution_count": 0,
      "outputs": []
    },
    {
      "cell_type": "code",
      "metadata": {
        "id": "6zb_u1HahGaI",
        "colab_type": "code",
        "colab": {}
      },
      "source": [
        "x_train, x_test, y_train, y_test = train_test_split(x_features, y2, random_state=1, test_size=.2)"
      ],
      "execution_count": 0,
      "outputs": []
    },
    {
      "cell_type": "markdown",
      "metadata": {
        "id": "Ndm64u8lhYlQ",
        "colab_type": "text"
      },
      "source": [
        "### Random Forest Classifier"
      ]
    },
    {
      "cell_type": "code",
      "metadata": {
        "id": "_HLLXtJehdLj",
        "colab_type": "code",
        "colab": {}
      },
      "source": [
        "from sklearn.ensemble import RandomForestClassifier as rfc"
      ],
      "execution_count": 0,
      "outputs": []
    },
    {
      "cell_type": "code",
      "metadata": {
        "id": "pyDbRg45hyLn",
        "colab_type": "code",
        "colab": {
          "base_uri": "https://localhost:8080/",
          "height": 419
        },
        "outputId": "671566c9-be4e-4f95-fa91-97046384f8e0"
      },
      "source": [
        "x_train"
      ],
      "execution_count": 81,
      "outputs": [
        {
          "output_type": "execute_result",
          "data": {
            "text/html": [
              "<div>\n",
              "<style scoped>\n",
              "    .dataframe tbody tr th:only-of-type {\n",
              "        vertical-align: middle;\n",
              "    }\n",
              "\n",
              "    .dataframe tbody tr th {\n",
              "        vertical-align: top;\n",
              "    }\n",
              "\n",
              "    .dataframe thead th {\n",
              "        text-align: right;\n",
              "    }\n",
              "</style>\n",
              "<table border=\"1\" class=\"dataframe\">\n",
              "  <thead>\n",
              "    <tr style=\"text-align: right;\">\n",
              "      <th></th>\n",
              "      <th>Signal (dBm)</th>\n",
              "      <th>Speed (m/s)</th>\n",
              "      <th>Distance from site (m)</th>\n",
              "      <th>Call Test Duration (s)</th>\n",
              "      <th>Call Test Result</th>\n",
              "      <th>Call Test Technology</th>\n",
              "      <th>Call Test Setup Time (s)</th>\n",
              "    </tr>\n",
              "  </thead>\n",
              "  <tbody>\n",
              "    <tr>\n",
              "      <th>46189</th>\n",
              "      <td>-71.0</td>\n",
              "      <td>6.500000</td>\n",
              "      <td>230.680000</td>\n",
              "      <td>60.0</td>\n",
              "      <td>2</td>\n",
              "      <td>1</td>\n",
              "      <td>0.00</td>\n",
              "    </tr>\n",
              "    <tr>\n",
              "      <th>95506</th>\n",
              "      <td>-104.0</td>\n",
              "      <td>-1.000000</td>\n",
              "      <td>7142.691922</td>\n",
              "      <td>90.0</td>\n",
              "      <td>2</td>\n",
              "      <td>2</td>\n",
              "      <td>0.83</td>\n",
              "    </tr>\n",
              "    <tr>\n",
              "      <th>85257</th>\n",
              "      <td>-81.0</td>\n",
              "      <td>0.200000</td>\n",
              "      <td>187.580000</td>\n",
              "      <td>90.0</td>\n",
              "      <td>2</td>\n",
              "      <td>2</td>\n",
              "      <td>0.80</td>\n",
              "    </tr>\n",
              "    <tr>\n",
              "      <th>204</th>\n",
              "      <td>-106.0</td>\n",
              "      <td>0.000000</td>\n",
              "      <td>828.650000</td>\n",
              "      <td>90.0</td>\n",
              "      <td>2</td>\n",
              "      <td>2</td>\n",
              "      <td>0.47</td>\n",
              "    </tr>\n",
              "    <tr>\n",
              "      <th>29089</th>\n",
              "      <td>-69.0</td>\n",
              "      <td>0.000000</td>\n",
              "      <td>228.880000</td>\n",
              "      <td>90.0</td>\n",
              "      <td>2</td>\n",
              "      <td>1</td>\n",
              "      <td>3.07</td>\n",
              "    </tr>\n",
              "    <tr>\n",
              "      <th>...</th>\n",
              "      <td>...</td>\n",
              "      <td>...</td>\n",
              "      <td>...</td>\n",
              "      <td>...</td>\n",
              "      <td>...</td>\n",
              "      <td>...</td>\n",
              "      <td>...</td>\n",
              "    </tr>\n",
              "    <tr>\n",
              "      <th>8943</th>\n",
              "      <td>-94.0</td>\n",
              "      <td>0.000000</td>\n",
              "      <td>7142.691922</td>\n",
              "      <td>90.0</td>\n",
              "      <td>2</td>\n",
              "      <td>2</td>\n",
              "      <td>0.51</td>\n",
              "    </tr>\n",
              "    <tr>\n",
              "      <th>76805</th>\n",
              "      <td>-93.0</td>\n",
              "      <td>0.500000</td>\n",
              "      <td>7142.691922</td>\n",
              "      <td>90.0</td>\n",
              "      <td>2</td>\n",
              "      <td>2</td>\n",
              "      <td>0.63</td>\n",
              "    </tr>\n",
              "    <tr>\n",
              "      <th>9141</th>\n",
              "      <td>-75.0</td>\n",
              "      <td>1.160000</td>\n",
              "      <td>556.440000</td>\n",
              "      <td>60.0</td>\n",
              "      <td>2</td>\n",
              "      <td>1</td>\n",
              "      <td>4.02</td>\n",
              "    </tr>\n",
              "    <tr>\n",
              "      <th>104295</th>\n",
              "      <td>-53.0</td>\n",
              "      <td>21.730057</td>\n",
              "      <td>3639.820000</td>\n",
              "      <td>90.0</td>\n",
              "      <td>2</td>\n",
              "      <td>1</td>\n",
              "      <td>4.70</td>\n",
              "    </tr>\n",
              "    <tr>\n",
              "      <th>51950</th>\n",
              "      <td>-53.0</td>\n",
              "      <td>75.460518</td>\n",
              "      <td>1692.030000</td>\n",
              "      <td>90.0</td>\n",
              "      <td>2</td>\n",
              "      <td>1</td>\n",
              "      <td>4.15</td>\n",
              "    </tr>\n",
              "  </tbody>\n",
              "</table>\n",
              "<p>7500 rows × 7 columns</p>\n",
              "</div>"
            ],
            "text/plain": [
              "        Signal (dBm)  ...  Call Test Setup Time (s)\n",
              "46189          -71.0  ...                      0.00\n",
              "95506         -104.0  ...                      0.83\n",
              "85257          -81.0  ...                      0.80\n",
              "204           -106.0  ...                      0.47\n",
              "29089          -69.0  ...                      3.07\n",
              "...              ...  ...                       ...\n",
              "8943           -94.0  ...                      0.51\n",
              "76805          -93.0  ...                      0.63\n",
              "9141           -75.0  ...                      4.02\n",
              "104295         -53.0  ...                      4.70\n",
              "51950          -53.0  ...                      4.15\n",
              "\n",
              "[7500 rows x 7 columns]"
            ]
          },
          "metadata": {
            "tags": []
          },
          "execution_count": 81
        }
      ]
    },
    {
      "cell_type": "code",
      "metadata": {
        "id": "i067lRhvhixL",
        "colab_type": "code",
        "colab": {
          "base_uri": "https://localhost:8080/",
          "height": 190
        },
        "outputId": "697befd6-427c-44d3-d8e4-b0672b5d5d08"
      },
      "source": [
        "classifier = rfc(max_depth=11)\n",
        "\n",
        "classifier.fit(x_train, y_train)"
      ],
      "execution_count": 100,
      "outputs": [
        {
          "output_type": "stream",
          "text": [
            "/usr/local/lib/python3.6/dist-packages/sklearn/ensemble/forest.py:245: FutureWarning: The default value of n_estimators will change from 10 in version 0.20 to 100 in 0.22.\n",
            "  \"10 in version 0.20 to 100 in 0.22.\", FutureWarning)\n"
          ],
          "name": "stderr"
        },
        {
          "output_type": "execute_result",
          "data": {
            "text/plain": [
              "RandomForestClassifier(bootstrap=True, class_weight=None, criterion='gini',\n",
              "                       max_depth=11, max_features='auto', max_leaf_nodes=None,\n",
              "                       min_impurity_decrease=0.0, min_impurity_split=None,\n",
              "                       min_samples_leaf=1, min_samples_split=2,\n",
              "                       min_weight_fraction_leaf=0.0, n_estimators=10,\n",
              "                       n_jobs=None, oob_score=False, random_state=None,\n",
              "                       verbose=0, warm_start=False)"
            ]
          },
          "metadata": {
            "tags": []
          },
          "execution_count": 100
        }
      ]
    },
    {
      "cell_type": "code",
      "metadata": {
        "id": "28v32toNjaqK",
        "colab_type": "code",
        "colab": {
          "base_uri": "https://localhost:8080/",
          "height": 34
        },
        "outputId": "01caf0cb-d182-4aa5-d176-834c6d7e94b3"
      },
      "source": [
        "classifier.score(x_test, y_test)"
      ],
      "execution_count": 101,
      "outputs": [
        {
          "output_type": "execute_result",
          "data": {
            "text/plain": [
              "0.472"
            ]
          },
          "metadata": {
            "tags": []
          },
          "execution_count": 101
        }
      ]
    },
    {
      "cell_type": "code",
      "metadata": {
        "id": "Fjy19lFAjsBq",
        "colab_type": "code",
        "colab": {
          "base_uri": "https://localhost:8080/",
          "height": 581
        },
        "outputId": "b70aacbe-e56b-418c-c282-6d7e6c849ba9"
      },
      "source": [
        "accuracy_list = []\n",
        "\n",
        "for loop in range(5,21):\n",
        "\n",
        "  classifier = rfc(max_depth=loop)\n",
        "\n",
        "  classifier.fit(x_train, y_train)\n",
        "  accuracy_list.append((classifier.score(x_test, y_test), loop))"
      ],
      "execution_count": 98,
      "outputs": [
        {
          "output_type": "stream",
          "text": [
            "/usr/local/lib/python3.6/dist-packages/sklearn/ensemble/forest.py:245: FutureWarning: The default value of n_estimators will change from 10 in version 0.20 to 100 in 0.22.\n",
            "  \"10 in version 0.20 to 100 in 0.22.\", FutureWarning)\n",
            "/usr/local/lib/python3.6/dist-packages/sklearn/ensemble/forest.py:245: FutureWarning: The default value of n_estimators will change from 10 in version 0.20 to 100 in 0.22.\n",
            "  \"10 in version 0.20 to 100 in 0.22.\", FutureWarning)\n",
            "/usr/local/lib/python3.6/dist-packages/sklearn/ensemble/forest.py:245: FutureWarning: The default value of n_estimators will change from 10 in version 0.20 to 100 in 0.22.\n",
            "  \"10 in version 0.20 to 100 in 0.22.\", FutureWarning)\n",
            "/usr/local/lib/python3.6/dist-packages/sklearn/ensemble/forest.py:245: FutureWarning: The default value of n_estimators will change from 10 in version 0.20 to 100 in 0.22.\n",
            "  \"10 in version 0.20 to 100 in 0.22.\", FutureWarning)\n",
            "/usr/local/lib/python3.6/dist-packages/sklearn/ensemble/forest.py:245: FutureWarning: The default value of n_estimators will change from 10 in version 0.20 to 100 in 0.22.\n",
            "  \"10 in version 0.20 to 100 in 0.22.\", FutureWarning)\n",
            "/usr/local/lib/python3.6/dist-packages/sklearn/ensemble/forest.py:245: FutureWarning: The default value of n_estimators will change from 10 in version 0.20 to 100 in 0.22.\n",
            "  \"10 in version 0.20 to 100 in 0.22.\", FutureWarning)\n",
            "/usr/local/lib/python3.6/dist-packages/sklearn/ensemble/forest.py:245: FutureWarning: The default value of n_estimators will change from 10 in version 0.20 to 100 in 0.22.\n",
            "  \"10 in version 0.20 to 100 in 0.22.\", FutureWarning)\n",
            "/usr/local/lib/python3.6/dist-packages/sklearn/ensemble/forest.py:245: FutureWarning: The default value of n_estimators will change from 10 in version 0.20 to 100 in 0.22.\n",
            "  \"10 in version 0.20 to 100 in 0.22.\", FutureWarning)\n",
            "/usr/local/lib/python3.6/dist-packages/sklearn/ensemble/forest.py:245: FutureWarning: The default value of n_estimators will change from 10 in version 0.20 to 100 in 0.22.\n",
            "  \"10 in version 0.20 to 100 in 0.22.\", FutureWarning)\n",
            "/usr/local/lib/python3.6/dist-packages/sklearn/ensemble/forest.py:245: FutureWarning: The default value of n_estimators will change from 10 in version 0.20 to 100 in 0.22.\n",
            "  \"10 in version 0.20 to 100 in 0.22.\", FutureWarning)\n",
            "/usr/local/lib/python3.6/dist-packages/sklearn/ensemble/forest.py:245: FutureWarning: The default value of n_estimators will change from 10 in version 0.20 to 100 in 0.22.\n",
            "  \"10 in version 0.20 to 100 in 0.22.\", FutureWarning)\n",
            "/usr/local/lib/python3.6/dist-packages/sklearn/ensemble/forest.py:245: FutureWarning: The default value of n_estimators will change from 10 in version 0.20 to 100 in 0.22.\n",
            "  \"10 in version 0.20 to 100 in 0.22.\", FutureWarning)\n",
            "/usr/local/lib/python3.6/dist-packages/sklearn/ensemble/forest.py:245: FutureWarning: The default value of n_estimators will change from 10 in version 0.20 to 100 in 0.22.\n",
            "  \"10 in version 0.20 to 100 in 0.22.\", FutureWarning)\n",
            "/usr/local/lib/python3.6/dist-packages/sklearn/ensemble/forest.py:245: FutureWarning: The default value of n_estimators will change from 10 in version 0.20 to 100 in 0.22.\n",
            "  \"10 in version 0.20 to 100 in 0.22.\", FutureWarning)\n",
            "/usr/local/lib/python3.6/dist-packages/sklearn/ensemble/forest.py:245: FutureWarning: The default value of n_estimators will change from 10 in version 0.20 to 100 in 0.22.\n",
            "  \"10 in version 0.20 to 100 in 0.22.\", FutureWarning)\n",
            "/usr/local/lib/python3.6/dist-packages/sklearn/ensemble/forest.py:245: FutureWarning: The default value of n_estimators will change from 10 in version 0.20 to 100 in 0.22.\n",
            "  \"10 in version 0.20 to 100 in 0.22.\", FutureWarning)\n"
          ],
          "name": "stderr"
        }
      ]
    },
    {
      "cell_type": "code",
      "metadata": {
        "id": "4g8LdV_vkb8q",
        "colab_type": "code",
        "colab": {
          "base_uri": "https://localhost:8080/",
          "height": 289
        },
        "outputId": "6d61a87e-f857-4413-92ec-982623e0111c"
      },
      "source": [
        "accuracy_list"
      ],
      "execution_count": 99,
      "outputs": [
        {
          "output_type": "execute_result",
          "data": {
            "text/plain": [
              "[(0.4605, 5),\n",
              " (0.4575, 6),\n",
              " (0.4605, 7),\n",
              " (0.469, 8),\n",
              " (0.48, 9),\n",
              " (0.4835, 10),\n",
              " (0.4855, 11),\n",
              " (0.4635, 12),\n",
              " (0.4755, 13),\n",
              " (0.4715, 14),\n",
              " (0.4605, 15),\n",
              " (0.4555, 16),\n",
              " (0.4635, 17),\n",
              " (0.46, 18),\n",
              " (0.454, 19),\n",
              " (0.4435, 20)]"
            ]
          },
          "metadata": {
            "tags": []
          },
          "execution_count": 99
        }
      ]
    },
    {
      "cell_type": "code",
      "metadata": {
        "id": "gCdjiGrgkrFB",
        "colab_type": "code",
        "colab": {
          "base_uri": "https://localhost:8080/",
          "height": 419
        },
        "outputId": "398d4db7-69d8-46ab-c22f-fa53c93694e0"
      },
      "source": [
        "x_features"
      ],
      "execution_count": 102,
      "outputs": [
        {
          "output_type": "execute_result",
          "data": {
            "text/html": [
              "<div>\n",
              "<style scoped>\n",
              "    .dataframe tbody tr th:only-of-type {\n",
              "        vertical-align: middle;\n",
              "    }\n",
              "\n",
              "    .dataframe tbody tr th {\n",
              "        vertical-align: top;\n",
              "    }\n",
              "\n",
              "    .dataframe thead th {\n",
              "        text-align: right;\n",
              "    }\n",
              "</style>\n",
              "<table border=\"1\" class=\"dataframe\">\n",
              "  <thead>\n",
              "    <tr style=\"text-align: right;\">\n",
              "      <th></th>\n",
              "      <th>Signal (dBm)</th>\n",
              "      <th>Speed (m/s)</th>\n",
              "      <th>Distance from site (m)</th>\n",
              "      <th>Call Test Duration (s)</th>\n",
              "      <th>Call Test Result</th>\n",
              "      <th>Call Test Technology</th>\n",
              "      <th>Call Test Setup Time (s)</th>\n",
              "    </tr>\n",
              "  </thead>\n",
              "  <tbody>\n",
              "    <tr>\n",
              "      <th>70677</th>\n",
              "      <td>-105.0</td>\n",
              "      <td>4.290000</td>\n",
              "      <td>582.63</td>\n",
              "      <td>60.0</td>\n",
              "      <td>2</td>\n",
              "      <td>2</td>\n",
              "      <td>1.26</td>\n",
              "    </tr>\n",
              "    <tr>\n",
              "      <th>42450</th>\n",
              "      <td>-81.0</td>\n",
              "      <td>0.000000</td>\n",
              "      <td>512.91</td>\n",
              "      <td>90.0</td>\n",
              "      <td>2</td>\n",
              "      <td>1</td>\n",
              "      <td>4.29</td>\n",
              "    </tr>\n",
              "    <tr>\n",
              "      <th>59832</th>\n",
              "      <td>-71.0</td>\n",
              "      <td>0.000000</td>\n",
              "      <td>341.47</td>\n",
              "      <td>60.0</td>\n",
              "      <td>2</td>\n",
              "      <td>1</td>\n",
              "      <td>4.12</td>\n",
              "    </tr>\n",
              "    <tr>\n",
              "      <th>40660</th>\n",
              "      <td>-55.0</td>\n",
              "      <td>0.514004</td>\n",
              "      <td>42.24</td>\n",
              "      <td>90.0</td>\n",
              "      <td>2</td>\n",
              "      <td>1</td>\n",
              "      <td>3.17</td>\n",
              "    </tr>\n",
              "    <tr>\n",
              "      <th>47888</th>\n",
              "      <td>-81.0</td>\n",
              "      <td>-1.000000</td>\n",
              "      <td>497.16</td>\n",
              "      <td>90.0</td>\n",
              "      <td>2</td>\n",
              "      <td>1</td>\n",
              "      <td>3.75</td>\n",
              "    </tr>\n",
              "    <tr>\n",
              "      <th>...</th>\n",
              "      <td>...</td>\n",
              "      <td>...</td>\n",
              "      <td>...</td>\n",
              "      <td>...</td>\n",
              "      <td>...</td>\n",
              "      <td>...</td>\n",
              "      <td>...</td>\n",
              "    </tr>\n",
              "    <tr>\n",
              "      <th>79353</th>\n",
              "      <td>-61.0</td>\n",
              "      <td>1.126144</td>\n",
              "      <td>549.26</td>\n",
              "      <td>90.0</td>\n",
              "      <td>2</td>\n",
              "      <td>1</td>\n",
              "      <td>3.89</td>\n",
              "    </tr>\n",
              "    <tr>\n",
              "      <th>65782</th>\n",
              "      <td>-71.0</td>\n",
              "      <td>0.000000</td>\n",
              "      <td>424.23</td>\n",
              "      <td>90.0</td>\n",
              "      <td>2</td>\n",
              "      <td>1</td>\n",
              "      <td>3.39</td>\n",
              "    </tr>\n",
              "    <tr>\n",
              "      <th>89563</th>\n",
              "      <td>-65.0</td>\n",
              "      <td>0.000000</td>\n",
              "      <td>634.23</td>\n",
              "      <td>90.0</td>\n",
              "      <td>2</td>\n",
              "      <td>1</td>\n",
              "      <td>3.42</td>\n",
              "    </tr>\n",
              "    <tr>\n",
              "      <th>22529</th>\n",
              "      <td>-75.0</td>\n",
              "      <td>0.000000</td>\n",
              "      <td>482.38</td>\n",
              "      <td>900.0</td>\n",
              "      <td>2</td>\n",
              "      <td>1</td>\n",
              "      <td>3.61</td>\n",
              "    </tr>\n",
              "    <tr>\n",
              "      <th>15566</th>\n",
              "      <td>-89.0</td>\n",
              "      <td>0.000000</td>\n",
              "      <td>369.36</td>\n",
              "      <td>60.0</td>\n",
              "      <td>2</td>\n",
              "      <td>1</td>\n",
              "      <td>3.27</td>\n",
              "    </tr>\n",
              "  </tbody>\n",
              "</table>\n",
              "<p>10000 rows × 7 columns</p>\n",
              "</div>"
            ],
            "text/plain": [
              "       Signal (dBm)  ...  Call Test Setup Time (s)\n",
              "70677        -105.0  ...                      1.26\n",
              "42450         -81.0  ...                      4.29\n",
              "59832         -71.0  ...                      4.12\n",
              "40660         -55.0  ...                      3.17\n",
              "47888         -81.0  ...                      3.75\n",
              "...             ...  ...                       ...\n",
              "79353         -61.0  ...                      3.89\n",
              "65782         -71.0  ...                      3.39\n",
              "89563         -65.0  ...                      3.42\n",
              "22529         -75.0  ...                      3.61\n",
              "15566         -89.0  ...                      3.27\n",
              "\n",
              "[10000 rows x 7 columns]"
            ]
          },
          "metadata": {
            "tags": []
          },
          "execution_count": 102
        }
      ]
    },
    {
      "cell_type": "code",
      "metadata": {
        "id": "Fmes0CQmlQGZ",
        "colab_type": "code",
        "colab": {}
      },
      "source": [
        "array_ = [-100,4,500,60,2,2,1]\n",
        "datafr = pd.DataFrame(np.array([[-100,4,500,60,2,2,1]]), columns=x_features.columns)"
      ],
      "execution_count": 0,
      "outputs": []
    },
    {
      "cell_type": "code",
      "metadata": {
        "id": "xdwvGFz5ktQB",
        "colab_type": "code",
        "colab": {
          "base_uri": "https://localhost:8080/",
          "height": 34
        },
        "outputId": "1ab6501d-fb88-4013-fc20-2130c8a0c518"
      },
      "source": [
        "classifier.predict(datafr)"
      ],
      "execution_count": 147,
      "outputs": [
        {
          "output_type": "execute_result",
          "data": {
            "text/plain": [
              "array(['4.4'], dtype=object)"
            ]
          },
          "metadata": {
            "tags": []
          },
          "execution_count": 147
        }
      ]
    }
  ]
}